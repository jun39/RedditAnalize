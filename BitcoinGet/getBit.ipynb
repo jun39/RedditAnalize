{
 "cells": [
  {
   "cell_type": "code",
   "execution_count": 23,
   "metadata": {},
   "outputs": [],
   "source": [
    "from datetime import datetime\n",
    "import pandas as pd\n",
    "import requests #Pushshift accesses Reddit via an url so this is needed\n",
    "import json #JSON manipulation\n",
    "import csv #To Convert final table into a csv file to save to your machine\n",
    "import time\n",
    "import datetime\n"
   ]
  },
  {
   "cell_type": "code",
   "execution_count": 24,
   "metadata": {},
   "outputs": [
    {
     "name": "stdout",
     "output_type": "stream",
     "text": [
      "https://min-api.cryptocompare.com/data/v2/histohour?fsym=BTC&tsym=USD&limit=2000&toTs=-1&api_key=3cd35a30a6ff506c1809f844f470f9115b405d3927a0d576f5d2916c16b07e94\n"
     ]
    }
   ],
   "source": [
    "url='https://min-api.cryptocompare.com/data/v2/histohour?fsym=BTC&tsym=USD&limit=2000&toTs=-1&api_key=3cd35a30a6ff506c1809f844f470f9115b405d3927a0d576f5d2916c16b07e94'\n",
    "    #Print URL to show user\n",
    "print(url)\n",
    "    #Request URL\n",
    "r = requests.get(url)"
   ]
  },
  {
   "cell_type": "code",
   "execution_count": 26,
   "metadata": {},
   "outputs": [],
   "source": [
    "data = json.loads(r.text)"
   ]
  },
  {
   "cell_type": "code",
   "execution_count": 49,
   "metadata": {},
   "outputs": [
    {
     "data": {
      "text/plain": [
       "{'time': 1639980000,\n",
       " 'high': 46439.31,\n",
       " 'low': 46364.86,\n",
       " 'open': 46435.56,\n",
       " 'volumefrom': 57.1,\n",
       " 'volumeto': 2647926.57,\n",
       " 'close': 46376.74,\n",
       " 'conversionType': 'direct',\n",
       " 'conversionSymbol': ''}"
      ]
     },
     "execution_count": 49,
     "metadata": {},
     "output_type": "execute_result"
    }
   ],
   "source": [
    "data['Data']['Data'][2000]"
   ]
  },
  {
   "cell_type": "code",
   "execution_count": 35,
   "metadata": {},
   "outputs": [
    {
     "name": "stdout",
     "output_type": "stream",
     "text": [
      "2021-09-28 07:00:00から2021-12-20 15:00:00\n"
     ]
    }
   ],
   "source": [
    "print(str(datetime.datetime.fromtimestamp(data['Data']['TimeFrom']))+'から'+str(datetime.datetime.fromtimestamp(data['Data']['TimeTo'])))"
   ]
  },
  {
   "cell_type": "code",
   "execution_count": 29,
   "metadata": {},
   "outputs": [
    {
     "name": "stdout",
     "output_type": "stream",
     "text": [
      "2021-12-20 15:00:00\n"
     ]
    }
   ],
   "source": [
    "print(datetime.datetime.fromtimestamp(data['Data']['TimeTo']))"
   ]
  },
  {
   "cell_type": "code",
   "execution_count": 14,
   "metadata": {},
   "outputs": [
    {
     "name": "stdout",
     "output_type": "stream",
     "text": [
      "失敗しました\n"
     ]
    }
   ],
   "source": [
    "if data['Response']=='Success':\n",
    "    print(\"成功しました\")\n",
    "else:\n",
    "    print(\"失敗しました\")"
   ]
  },
  {
   "cell_type": "code",
   "execution_count": 33,
   "metadata": {},
   "outputs": [
    {
     "name": "stdout",
     "output_type": "stream",
     "text": [
      "1635692400\n",
      "1628492400\n",
      "1621292400\n",
      "1614092400\n",
      "1606892400\n",
      "1599692400\n",
      "1592492400\n",
      "1585292400\n",
      "1578092400\n",
      "1570892400\n",
      "1563692400\n",
      "1556492400\n",
      "1549292400\n",
      "1542092400\n",
      "1534892400\n"
     ]
    }
   ],
   "source": [
    "\n",
    "for i in range(15):\n",
    "        #Build URL\n",
    "        query = 1635692400-(i*7200000)\n",
    "        print(str(query))"
   ]
  },
  {
   "cell_type": "code",
   "execution_count": 56,
   "metadata": {},
   "outputs": [],
   "source": [
    "# getする関数\n",
    "def getPushshiftData(queryNum):\n",
    "        # 2021/11/01 00:00:00　1635692400\n",
    "    query = 1635692400-(queryNum*7200000)\n",
    "        # toTsにどこまでのタイムスタンプを入れるかでそこから前のlimitのかずだけ時間データがとれる\n",
    "    url='https://min-api.cryptocompare.com/data/v2/histohour?fsym=BTC&tsym=USD&limit=2000&toTs='+str(query)+'&api_key=3cd35a30a6ff506c1809f844f470f9115b405d3927a0d576f5d2916c16b07e94'\n",
    "        #Print URL to show user\n",
    "    print(url)\n",
    "        #Request URL\n",
    "    r = requests.get(url)\n",
    "    data = json.loads(r.text)\n",
    "    if data['Response']=='Success':\n",
    "        print(\"成功しました\")\n",
    "    else:\n",
    "        print(\"失敗しました\")\n",
    "    \n",
    "    print(str(datetime.datetime.fromtimestamp(data['Data']['TimeFrom']))+'から'+str(datetime.datetime.fromtimestamp(data['Data']['TimeTo'])))\n",
    "        #Load JSON data from webpage into data variable\n",
    "    #return the data element which contains all the submissions data\n",
    "    return data['Data']['Data']"
   ]
  },
  {
   "cell_type": "code",
   "execution_count": 60,
   "metadata": {},
   "outputs": [
    {
     "name": "stdout",
     "output_type": "stream",
     "text": [
      "https://min-api.cryptocompare.com/data/v2/histohour?fsym=BTC&tsym=USD&limit=2000&toTs=1635692400&api_key=3cd35a30a6ff506c1809f844f470f9115b405d3927a0d576f5d2916c16b07e94\n",
      "成功しました\n",
      "2021-08-09 16:00:00から2021-11-01 00:00:00\n",
      "https://min-api.cryptocompare.com/data/v2/histohour?fsym=BTC&tsym=USD&limit=2000&toTs=1628492400&api_key=3cd35a30a6ff506c1809f844f470f9115b405d3927a0d576f5d2916c16b07e94\n",
      "成功しました\n",
      "2021-05-18 08:00:00から2021-08-09 16:00:00\n",
      "https://min-api.cryptocompare.com/data/v2/histohour?fsym=BTC&tsym=USD&limit=2000&toTs=1621292400&api_key=3cd35a30a6ff506c1809f844f470f9115b405d3927a0d576f5d2916c16b07e94\n",
      "成功しました\n",
      "2021-02-24 00:00:00から2021-05-18 08:00:00\n",
      "https://min-api.cryptocompare.com/data/v2/histohour?fsym=BTC&tsym=USD&limit=2000&toTs=1614092400&api_key=3cd35a30a6ff506c1809f844f470f9115b405d3927a0d576f5d2916c16b07e94\n",
      "成功しました\n",
      "2020-12-02 16:00:00から2021-02-24 00:00:00\n",
      "https://min-api.cryptocompare.com/data/v2/histohour?fsym=BTC&tsym=USD&limit=2000&toTs=1606892400&api_key=3cd35a30a6ff506c1809f844f470f9115b405d3927a0d576f5d2916c16b07e94\n",
      "成功しました\n",
      "2020-09-10 08:00:00から2020-12-02 16:00:00\n",
      "https://min-api.cryptocompare.com/data/v2/histohour?fsym=BTC&tsym=USD&limit=2000&toTs=1599692400&api_key=3cd35a30a6ff506c1809f844f470f9115b405d3927a0d576f5d2916c16b07e94\n",
      "成功しました\n",
      "2020-06-19 00:00:00から2020-09-10 08:00:00\n",
      "https://min-api.cryptocompare.com/data/v2/histohour?fsym=BTC&tsym=USD&limit=2000&toTs=1592492400&api_key=3cd35a30a6ff506c1809f844f470f9115b405d3927a0d576f5d2916c16b07e94\n",
      "成功しました\n",
      "2020-03-27 16:00:00から2020-06-19 00:00:00\n",
      "https://min-api.cryptocompare.com/data/v2/histohour?fsym=BTC&tsym=USD&limit=2000&toTs=1585292400&api_key=3cd35a30a6ff506c1809f844f470f9115b405d3927a0d576f5d2916c16b07e94\n",
      "成功しました\n",
      "2020-01-04 08:00:00から2020-03-27 16:00:00\n",
      "https://min-api.cryptocompare.com/data/v2/histohour?fsym=BTC&tsym=USD&limit=2000&toTs=1578092400&api_key=3cd35a30a6ff506c1809f844f470f9115b405d3927a0d576f5d2916c16b07e94\n",
      "成功しました\n",
      "2019-10-13 00:00:00から2020-01-04 08:00:00\n",
      "https://min-api.cryptocompare.com/data/v2/histohour?fsym=BTC&tsym=USD&limit=2000&toTs=1570892400&api_key=3cd35a30a6ff506c1809f844f470f9115b405d3927a0d576f5d2916c16b07e94\n",
      "成功しました\n",
      "2019-07-21 16:00:00から2019-10-13 00:00:00\n",
      "https://min-api.cryptocompare.com/data/v2/histohour?fsym=BTC&tsym=USD&limit=2000&toTs=1563692400&api_key=3cd35a30a6ff506c1809f844f470f9115b405d3927a0d576f5d2916c16b07e94\n",
      "成功しました\n",
      "2019-04-29 08:00:00から2019-07-21 16:00:00\n",
      "https://min-api.cryptocompare.com/data/v2/histohour?fsym=BTC&tsym=USD&limit=2000&toTs=1556492400&api_key=3cd35a30a6ff506c1809f844f470f9115b405d3927a0d576f5d2916c16b07e94\n",
      "成功しました\n",
      "2019-02-05 00:00:00から2019-04-29 08:00:00\n",
      "https://min-api.cryptocompare.com/data/v2/histohour?fsym=BTC&tsym=USD&limit=2000&toTs=1549292400&api_key=3cd35a30a6ff506c1809f844f470f9115b405d3927a0d576f5d2916c16b07e94\n",
      "成功しました\n",
      "2018-11-13 16:00:00から2019-02-05 00:00:00\n",
      "https://min-api.cryptocompare.com/data/v2/histohour?fsym=BTC&tsym=USD&limit=2000&toTs=1542092400&api_key=3cd35a30a6ff506c1809f844f470f9115b405d3927a0d576f5d2916c16b07e94\n",
      "成功しました\n",
      "2018-08-22 08:00:00から2018-11-13 16:00:00\n",
      "https://min-api.cryptocompare.com/data/v2/histohour?fsym=BTC&tsym=USD&limit=2000&toTs=1534892400&api_key=3cd35a30a6ff506c1809f844f470f9115b405d3927a0d576f5d2916c16b07e94\n",
      "成功しました\n",
      "2018-05-31 00:00:00から2018-08-22 08:00:00\n"
     ]
    }
   ],
   "source": [
    "getData={}\n",
    "for i in range(15):\n",
    "    getData[i]=getPushshiftData(i)\n",
    "    time.sleep(3)\n"
   ]
  },
  {
   "cell_type": "code",
   "execution_count": 75,
   "metadata": {},
   "outputs": [
    {
     "data": {
      "text/plain": [
       "{'time': 1527692400,\n",
       " 'high': 7402.46,\n",
       " 'low': 7330.21,\n",
       " 'open': 7401.85,\n",
       " 'volumefrom': 6143.74,\n",
       " 'volumeto': 45274362.7,\n",
       " 'close': 7345.98,\n",
       " 'conversionType': 'direct',\n",
       " 'conversionSymbol': ''}"
      ]
     },
     "execution_count": 75,
     "metadata": {},
     "output_type": "execute_result"
    }
   ],
   "source": [
    "getData[14][0]"
   ]
  },
  {
   "cell_type": "code",
   "execution_count": 91,
   "metadata": {},
   "outputs": [
    {
     "data": {
      "text/plain": [
       "89"
      ]
     },
     "execution_count": 91,
     "metadata": {},
     "output_type": "execute_result"
    }
   ],
   "source": [
    "# ここから本番のコード\n",
    "headers = [\"time\",\"high\",\"low\",\"open\",\"volumefrom\",\"volumefrom\",\"volumeto\",\"close\",\"conversionType\",\"conversionSymbol\"]\n",
    "filename=\"Bitcoin_Hour_from2018Aprilto2021Oct.csv\"\n",
    "file = open(filename, 'w', newline='', encoding='utf-8')\n",
    "a = csv.writer(file, delimiter=',')\n",
    "a.writerow(headers)\n"
   ]
  },
  {
   "cell_type": "code",
   "execution_count": 92,
   "metadata": {},
   "outputs": [],
   "source": [
    "def collectSubData(queryNum,hour):\n",
    "    subData = list() #list to store data points\n",
    "    time = datetime.datetime.fromtimestamp(getData[queryNum][hour]['time'])\n",
    "    high=getData[queryNum][hour]['high']\n",
    "    low=getData[queryNum][hour]['low']\n",
    "    openPrice=getData[queryNum][hour]['open']\n",
    "    volumefrom=getData[queryNum][hour]['volumefrom']\n",
    "    volumeto=getData[queryNum][hour]['volumeto']\n",
    "    close=getData[queryNum][hour]['close']\n",
    "    conversionType=getData[queryNum][hour]['conversionType']\n",
    "    conversionSymbol=getData[queryNum][hour]['conversionSymbol']\n",
    "    #Put all data points into a tuple and append to subData\n",
    "    subData.append((time,high,low,openPrice,volumefrom,volumeto,close,conversionType,conversionSymbol))\n",
    "    a.writerow(subData[0])"
   ]
  },
  {
   "cell_type": "code",
   "execution_count": 83,
   "metadata": {},
   "outputs": [],
   "source": [
    "# 余りの15回のやつ\n",
    "\n",
    "def getLastData():\n",
    "        # toTsにどこまでのタイムスタンプを入れるかでそこから前のlimitのかずだけ時間データがとれる\n",
    "    url='https://min-api.cryptocompare.com/data/v2/histohour?fsym=BTC&tsym=USD&limit=1440&toTs=1527692400&api_key=3cd35a30a6ff506c1809f844f470f9115b405d3927a0d576f5d2916c16b07e94'\n",
    "        #Print URL to show user\n",
    "    print(url)\n",
    "        #Request URL\n",
    "    r = requests.get(url)\n",
    "    data = json.loads(r.text)\n",
    "    if data['Response']=='Success':\n",
    "        print(\"成功しました\")\n",
    "    else:\n",
    "        print(\"失敗しました\")\n",
    "    \n",
    "    print(str(datetime.datetime.fromtimestamp(data['Data']['TimeFrom']))+'から'+str(datetime.datetime.fromtimestamp(data['Data']['TimeTo'])))\n",
    "        #Load JSON data from webpage into data variable\n",
    "    #return the data element which contains all the submissions data\n",
    "    return data['Data']['Data']\n"
   ]
  },
  {
   "cell_type": "code",
   "execution_count": 84,
   "metadata": {},
   "outputs": [
    {
     "name": "stdout",
     "output_type": "stream",
     "text": [
      "https://min-api.cryptocompare.com/data/v2/histohour?fsym=BTC&tsym=USD&limit=1440&toTs=1527692400&api_key=3cd35a30a6ff506c1809f844f470f9115b405d3927a0d576f5d2916c16b07e94\n",
      "成功しました\n",
      "2018-04-01 00:00:00から2018-05-31 00:00:00\n"
     ]
    }
   ],
   "source": [
    "getData[15]=getLastData()"
   ]
  },
  {
   "cell_type": "code",
   "execution_count": 93,
   "metadata": {},
   "outputs": [],
   "source": [
    "for i in range(15):\n",
    "    for j in range(2001):\n",
    "        collectSubData(i,j)\n",
    "for j in range(len(getData[15])):\n",
    "    collectSubData(15,j)"
   ]
  },
  {
   "cell_type": "code",
   "execution_count": 94,
   "metadata": {},
   "outputs": [],
   "source": [
    "file.close()"
   ]
  },
  {
   "cell_type": "code",
   "execution_count": 99,
   "metadata": {},
   "outputs": [],
   "source": [
    "\n",
    "import pandas as pd\n",
    "\n",
    "#読み込むファイルのリストを走査\n",
    "df=pd.read_csv(\"/Users/manbubble/Downloads/RedditAnalize/BitcoinGet/Bitcoin_Hour_from2018Aprilto2021Oct.csv\",encoding=\"ISO-8859-1\")\n"
   ]
  },
  {
   "cell_type": "code",
   "execution_count": 100,
   "metadata": {},
   "outputs": [],
   "source": [
    "# 時間順を降順で揃える\n",
    "df.sort_values(by = 'time', ascending = True, inplace = True) \n",
    "\n",
    "df.to_csv(\"timesortBitcoin.csv\",index=False)\n",
    "\n"
   ]
  }
 ],
 "metadata": {
  "interpreter": {
   "hash": "aee8b7b246df8f9039afb4144a1f6fd8d2ca17a180786b69acc140d282b71a49"
  },
  "kernelspec": {
   "display_name": "Python 3.9.4 64-bit",
   "language": "python",
   "name": "python3"
  },
  "language_info": {
   "codemirror_mode": {
    "name": "ipython",
    "version": 3
   },
   "file_extension": ".py",
   "mimetype": "text/x-python",
   "name": "python",
   "nbconvert_exporter": "python",
   "pygments_lexer": "ipython3",
   "version": "3.9.4"
  },
  "orig_nbformat": 4
 },
 "nbformat": 4,
 "nbformat_minor": 2
}
