{
 "cells": [
  {
   "cell_type": "code",
   "execution_count": 1,
   "id": "35815160",
   "metadata": {},
   "outputs": [],
   "source": [
    "import pandas as pd\n",
    "import glob\n",
    "csv_files='/Users/manbubble/Downloads/RedditAnalize/2021Oct_2018April/2021Oct2018April.csv'\n",
    "\n",
    "comments_df=pd.read_csv(csv_files,encoding=\"ISO-8859-1\")\n",
    "comments_df=comments_df[0:38499]"
   ]
  },
  {
   "cell_type": "code",
   "execution_count": 2,
   "id": "5e686f91",
   "metadata": {},
   "outputs": [],
   "source": [
    "comments_df.set_index('Publish Date',inplace=True)"
   ]
  },
  {
   "cell_type": "code",
   "execution_count": 3,
   "id": "7e9c63cd",
   "metadata": {},
   "outputs": [],
   "source": [
    "import numpy as np\n",
    "sentencesList=[]\n",
    "for i in range(0,len(comments_df)):\n",
    "    string=str(comments_df.iat[i,1])\n",
    "    string=string.replace('\\n','')\n",
    "    string=string[0:512]\n",
    "    sentencesList.append(string)"
   ]
  },
  {
   "cell_type": "code",
   "execution_count": 4,
   "id": "a1e65d81",
   "metadata": {},
   "outputs": [
    {
     "data": {
      "text/plain": [
       "['Bitcoin will rise in Easter like Jesus himself',\n",
       " \"She's going to end up with one of those chad bitcoin miners that's just going to treat her like shit. \",\n",
       " 'Man with bitcoin asks how he can ensure his soon-to-be ex-wife gets her share of the marital assets. ',\n",
       " \"The clocks may lag a bit because they're also mining bitcoin.\",\n",
       " 'The branch of feminism and identity politics that rejects rationality, coherence and the law of non-contradiction is also too stupid to recognize the distinction between equality of opportunity and equality of outcome.Women can buy bitcoin just like men, always could. equality of opportunity has been there the whole time.',\n",
       " \"I've heard Jesus is bullish on Bitcoin.\",\n",
       " \"nah it's one of them new-fangled ones, gotta put in a bitcoin.\",\n",
       " \"Unbelievable. So that's how all these Bitcoin billionaires are living nowadays, huh? While the rest of us are barely scraping by, they're dining on lentils *and* cigarette butts?\",\n",
       " \"It's unfortunately been repurposed into a Bitcoin mining rig.\",\n",
       " 'Where do I donate?  Church of Bitcoin boys, lets do this!',\n",
       " '&gt; crypto sleepGoodnight Bitcoin, goodnight ethereum, goodnight dogecoin, goodnight ripple.',\n",
       " \"Anyone who is a serious investor (ie the people who become millionaires) will have their own exit strategy. A lot of people will possibly sell half of their XRP and keep the rest of it as a constant flow of value to be tapped in future. What might be your point of becoming a millionair might be someone else's point of making $10,000, so the curve of people hitting that point is different for everyone. If you have 10,000xrp then your millionaire point is $100. 5000xrp and it's $200, etc.Additionally, this is\",\n",
       " 'Ah yes Easter Sunday, where I will see all my relatives from Christmas who I told to buy bitcoin. This is going to be fun.',\n",
       " \"Bitcoin is dead. It's time to buy.Bitcoin can't go any lower. It's time to sell.\",\n",
       " 'All over the internet, I notice you churlish cretins lauding the supposedly intellectual television program known as Rick and Morty to make yourselves appear more intelligent by extension, as you are ardent watchers of the aforementioned show. However, you piddling planarians only succeed in illustrating how vapid you really are, as Rick and Morty has the intellectual depth of a petri dish. Truly, the most noetic show is neither Rick and Morty, the Big Bang Theory, Jimmy Neutron, nor any other deluge of dri',\n",
       " \"Resident Riot API guy here.I'll be honest.. this shit is entirely true... I mean, come on... the amount of RP and untraceable Bitcoin they offered us was just too much to pass up. I just *HAD* to give them an unlimited rate limit API key...But it's okay! They promised me the data is ONLY going to be used for good, and that they will follow our API policies to the letter. These guys seemed legit, I mean, they have CAMBRIDGE in their name! How bad can it be? I'm sure the results will be great for us all!\",\n",
       " 'Fun fact: Go 1.12 will utilize all available CPU cycles that have been freed up due to optimizations over 1.10, to mine Bitcoin. ',\n",
       " 'All over the internet, I notice you churlish cretins lauding the supposedly intellectual television program known as Rick and Morty to make yourselves appear more intelligent by extension, as you are ardent watchers of the aforementioned show. However, you piddling planarians only succeed in illustrating how vapid you really are, as Rick and Morty has the intellectual depth of a petri dish. Truly, the most noetic show is neither Rick and Morty, the Big Bang Theory, Jimmy Neutron, nor any other deluge of dri',\n",
       " 'Truly, the most noetic show is neither Rick and Morty, the Big Bang Theory, Jimmy Neutron, nor any other deluge of drivel you deludable dimwits bombard your brains with. Rather, it is Johnny Test, a pinnacle of animation, sound design, acting, and plot. Despite this, most of you sniveling sub-10000s (someone with an IQ under 10000: for the record, my IQ is several orders of magnitude higher than this; my reason for my usage of this term is simply because I am partial to the number 10000) will dismiss Johnny',\n",
       " 'Well play, smart..I am sure there is a shit load of bots that will downvote post with Ã\\x82Â«Ã\\x82Â\\xa0Bitcoin CashÃ\\x82Â\\xa0Ã\\x82Â» and upvote one with Ã\\x82Â«Ã\\x82Â\\xa0bcashÃ\\x82Â\\xa0Ã\\x82Â»...',\n",
       " 'Bytcoin for fanden! Bytcoin. Bitcoin er so last year, Der er langt mere potentiale i Bytcoin efter min mening.',\n",
       " 'And a \"Disable bitcoin miner\" button to the top right.',\n",
       " 'Truly, the most noetic show is neither Rick and Morty, the Big Bang Theory, Jimmy Neutron, nor any other deluge of drivel you deludable dimwits bombard your brains with. Rather, it is Johnny Test, a pinnacle of animation, sound design, acting, and plot. Despite this, most of you sniveling sub-10000s (someone with an IQ under 10000: for the record, my IQ is several orders of magnitude higher than this; my reason for my usage of this term is simply because I am partial to the number 10000) will dismiss Johnny',\n",
       " 'Bitcoin, since nearly a decade ago. ',\n",
       " 'Bitcoin-Staatsanleihen ',\n",
       " 'Bitcoin now has a class system. They now node-shame you if you arenÃ¢Â\\x80Â\\x99t the equivalent of a ham radio operator. ',\n",
       " 'My 78 year old uncle just asked me to help him short \"Bit-Coins\". Im done.UPDATE: Apparently, he has joined a Facebook group called \"The Bitcoin Bearz\" to help him \"make money on the way down\".',\n",
       " 'Oh great. More stupid jo-&gt; ***Boom and Bust!***&gt; *Good news for miners! You can now use rock-chain mining technology to mine a new geo-currency: Critcoin. Critcoin sits in your currency tab, appreciating and depreciating at a rate that will make your head spin. One Critcoin can be worth 15,000 gold one day and three Interesting Rocks the next. Use it to buy things. That is, if you can find a vendor who accepts geo-currency. ItÃ¢Â\\x80Â\\x99s very new, all this.*Oooh, savage, Blizz. I wonder if this gets cross',\n",
       " \"We don't have to talk about Own Coin, but I think it's a really exciting opportunity, and I'm told it will overtake BitCoin some day.\",\n",
       " 'As a recent investor in bitcoin, I am unfamiliar with this concept. Money can... INCREASE in value over time?',\n",
       " 'So this is good for Bitcoin, right? Ã°Â\\x9fÂ¤Â\\x94',\n",
       " 'Like Bitcoin? Oh wait. ',\n",
       " \"This is a good discussion point. What are some ways the community can work towards this? Vertcoin started a #FairMining movement to bring awareness and get other crypto projects onboard with forking away from ASICs. I thought this was a really good concept that addresses some of the core problems being faced in crypto right now. The Bitcoin ecosystem is toxic, unsustainable, and not actually very decentralized. It was a good concept at first, but now it's monopolized by big players like Bitmain. The absurd \",\n",
       " \"I think that bots are almost equally destructive to the crypto market. And it ties in with BTC, in that whenever the price of Bitcoin fluctuates the bots almost immediately adjust for all other crypto, causing this almost 1:1 fluctuation across all crypto whenever Bitcoin goes up or down. The issue is that the exchanges don't care about bots or there affect on the market, as they're still making fees on every trade, so they have no reason to limit their use on their platforms. The dangers of a completely un\",\n",
       " \"The crash back then was waaaay longer, but it was also off the heels of a 100x year for bitcoin, not the 16x or whatever we had this year. And the bubble popped after a 1-month 10x, not the 3 months 6x we experienced. This boom was much slower, but crashed much faster. 2014 crash took 16 months so or to reach the trough of -85% returns. We're at -75% for alt coins already, which is probably the best thing to compare to 2014. Keep in mind, the difference between -85% and -75% is another -40%. The lesson i le\",\n",
       " 'All over the internet, I notice you churlish cretins lauding the supposedly intellectual television program known as Rick and Morty to make yourselves appear more intelligent by extension, as you are ardent watchers of the aforementioned show. However, you piddling planarians only succeed in illustrating how vapid you really are, as Rick and Morty has the intellectual depth of a petri dish. Truly, the most noetic show is neither Rick and Morty, the Big Bang Theory, Jimmy Neutron, nor any other deluge of dri',\n",
       " '    Last True Believers    Clutch copies of Atlas Shrugged    As Bitcoin price tanks',\n",
       " 'Go look at old posts from 2011-2016 after crashes.  People saying things like, Ã¢Â\\x80Â\\x9csell now, this will never go back over $1,000 (or insert appropriate price)Ã¢Â\\x80Â\\x9d.   Other people said hold and were laughed at.  Those people are still up 600% or more even right now.  Hang in there brother.  Bitcoin isnÃ¢Â\\x80Â\\x99t dying anytime soon. ',\n",
       " 'This has been said before and does not need to be said over and over again. - When Bitcoin increases in price compared to USD and, as a result, other cryptocurrencies increase in price as well, no one complains. These posts somehow only appear when the market goes down and people look for a scapegoat.- Maybe the prices are less coupled to Bitcoin than you think but the market sentiment for cryptocurrencies as a whole is simply negative right now. This is a young and relatively small market. Many coins are t',\n",
       " 'These types of people typically watch a 10 min video on youtube made by a 15 year old about \"The Blockchain\" and how it\\'s gonna revolutionize *everything*. They then become \"crypto entrepreneurs\" on Facebook and Twitter and start trying to shill bitcoin and whatever other shitcoin they\\'re invested in. Dont worry though, they definitely aren\\'t just in it for the money. It\\'s, like, gonna change the world, maaaaaaan.  ',\n",
       " \"Use crypto. Choose Satoshi-era blockchains. Choose immutable public ledger with no KYC/AML. Ignore drug trafficking, money laundering, and child porn sharing your block confirmations. Choose getting rekt by uninsured exchanges that allow kindergarten-level manipulative trading. Choose the Motherfuckers who don't give a shot about shotcoin shiners and loot them of their stuff proudly.Pro tip : Choose Tether, which claims to be holding your redeemable fiat for every USDT, but ostensibly have no banking relati\",\n",
       " \"To be fair, you have to have a very high IQ to buy bitcoin. The value is extremely high, and without a solid grasp of theoretical economics most of the tricks will go over a typical investorÃ¢Â\\x80Â\\x99s head. ThereÃ¢Â\\x80Â\\x99s also bitcoin exchange value which is deftly woven into it's characterization ,it's market value draws heavily from John Hicks literature, for instance. The miners understand this stuff; they have the intellectual capacity to truly appreciate the depths of the coin's value to realize that it is \",\n",
       " \"Here's some advice:  Start a college fund and invest that money into a low fee unmanaged index fund.  Bitcoin is not an investment-it produces no dividend, rent, etc.  You're not making a sound investment decision by taking 12K and buying bitcoin with it for your daughter.n \",\n",
       " 'This needs more upvotes. According to Reddit, when a coin goes down itÃ¢Â\\x80Â\\x99s because BTC is dragging them down. But when it goes up it has nothing to do with Bitcoin, itÃ¢Â\\x80Â\\x99s just good tech getting the attention it deserves.',\n",
       " \"Also included:* How to use /biz/, reddit and other sources of investment advice.* Setting up your child's very first margin lending account.* Two free spins of the shitcoin roulette wheel.Not included: * Basic understanding of financial instruments and concepts.* An actual mining pickaxe and protective headwear.* Any actual bitcoin.\",\n",
       " 'Too bad itÃ¢Â\\x80Â\\x99s an ad for Bitcoin Cash...',\n",
       " 'OP has an agenda. IÃ¢Â\\x80Â\\x99ve had arguments with him about the other aspects of Ã¢Â\\x80Â\\x98whatÃ¢Â\\x80Â\\x99s wrong with bitcoin.Ã¢Â\\x80Â\\x99 He doesnÃ¢Â\\x80Â\\x99t like bitcoin and is invested in a few coins I wonÃ¢Â\\x80Â\\x99t mention. All crypto is tied to bitcoin because whales, traders and market makers want and need liquidity. There is not enough trading volume for 90 percent of coins to survive.The reason the (almost every single coin) price pumped last year is because of this. Take a step back and think about it. Many of the coins t',\n",
       " 'The Bitcoin community should be above personal attacks. This posts make us look childish. ',\n",
       " 'I am a bitcoin supporter. But we donÃ¢Â\\x80Â\\x99t really need this. LetÃ¢Â\\x80Â\\x99s focus on better things, eh? Roger is lame for promoting bch, but let him focus on what he wants to focus on. ',\n",
       " \"Jokes on her, you're on full Bitcoin now. \",\n",
       " \"Because the drop in eth is indicative of people taking money out of *crypto*.  The fact that it's done through bitcoin doesn't really matter - if the eth price was separated from bitcoin it'd still fall.  Crypto had a bubble-esque run and crash and now people are sensitive to prices going down the drain, so they're looking to get money out if things look bad.    Eth holders aren't being manipulated into anything, they're just looking to trade as successfully as they can.  Nothing right now is based on value\",\n",
       " 'A lot more times that I can see. Other words are repeated as well. List of time the word \"removed\" appears:1. The big one 2. On the right bottom eye.3. A small one right next to the big one above it. 4. Then above that removed is yet another removed. 5. Another just above likely top right hand corner.6. Another below original middle/top left.7. Another in between one and want bottom left.8. Another between say and today middle bottom left.9. Bottom right below assist10. Below Bitcoin middle right11. Top mid',\n",
       " 'I always laugh at this graph.Why should I search \"bitcoin\" in google when I already know what is bitcoin?',\n",
       " 'All over the internet, I notice you churlish cretins lauding the supposedly intellectual television program known as Rick and Morty to make yourselves appear more intelligent by extension, as you are ardent watchers of the aforementioned show. However, you piddling planarians only succeed in illustrating how vapid you really are, as Rick and Morty has the intellectual depth of a petri dish. Truly, the most noetic show is neither Rick and Morty, the Big Bang Theory, Jimmy Neutron, nor any other deluge of dri',\n",
       " 'Arent macs the worst kind of computer to mine Bitcoin? ',\n",
       " '&gt;Arent macs the worst kind of computer Yeup &gt;to mine Bitcoin?See above.',\n",
       " 'You should be free to make irreversible monetary mistakes with the clock of a mouse without your meddling bank getting in your way. What you need is bitcoin.',\n",
       " '*monero, not bitcoin',\n",
       " \"**Breaking news:** Man breaks Bitcoin after posting all existing private seed passwords online. Police suspect the same man might alto have published all possible four-digit credit card pin codes on the Internet last June. More at eleven - Here's Tom with the weather. \",\n",
       " 'Bitcoin.',\n",
       " \"All he's have to do is invest in bitcoin. \",\n",
       " 'The ups, the downs, the swings, the bubbles, the busts, the speculation. . . is all necessary for price discovery and slow, eventual, decline of the volatility.  There is no other way. There is no shortcut.  Every single decentralized cryptocurrency, is and will be going through this process.  You\\'re late to the party; we\\'ve all done the \"community push to spend instead of just hold\" thing, several times.  It tends to just create a somewhat artificial (if small) uptick in the number of vendors accepting bit',\n",
       " 'Hey there Bitcoin',\n",
       " \"Bitcoin will be $1 million by the end of 2020 or John McAfee will eat his own dick. Either way it's win-win really.https://diegorod.github.io/WillMcAfeeEatHisOwnDick/\",\n",
       " 'Only printing normal quality? How you gonna ~~mine Bitcoin~~ get all the FPS with that?',\n",
       " \"BITCOIN IS THE FUTURE! IT'S A LONG TERM PLAY!*checks BTC prices every second*\",\n",
       " 'This is good for bitcoin',\n",
       " 'This is good for bitcoin. ',\n",
       " 'Everyone can be rich with Bitcoin, apparently. (note: I am being sarcastic, before you pump your favorite coin).',\n",
       " \"JP quite possibly has the most to lose from Ripple's success due to most of the other regional and local banks, and payment providers, having to go through JP's extensive worldwide network of Nostro accounts for local fiat liquidity. JP are the folks who charge all the other banks fees to route through them.Ripple are providing a solution to all of those smaller providers to completely bypass JP. There isn't really much they can do about it either. If they were to develop their own system they would have to\",\n",
       " \"No matter if you're for or against ASICs, it should still be concerning that bitmain has 35% of the hashrate. It's important to realize that hashrate is basically ownership of a crypto, such as owning stocks can give you majority shareholder positions. If bitmain gains 16% more hashrate then they essentially own Bitcoin and can change the network in ways that would benefit them. \",\n",
       " \"This is not a bitcoin-hate group! It's a buttcoin-love group!\",\n",
       " \"I can't think of a worse time to build a powerful rig with all the bitcoin miners driving up the prices of video cards. Pre-built could be the way to go for the next year or 2.\",\n",
       " \"I don't even want your bitcoin, yo. I just want the novel experience of being in a circle that lasts longer than 30 minutes\",\n",
       " 'Prebuilt is absolutely better for now.Bitcoin mining has killed building your own PC',\n",
       " 'Damnit bitcoin do something!',\n",
       " \"*woosh*I don't agree with what the dude is saying but he means investing in Bitcoin is like giving your money away \",\n",
       " 'This is good for Bitcoin. ',\n",
       " 'Bitcoin mining, double charging, shitty admins, and they got hacked never forgetti, and they tried to hide it by lying',\n",
       " 'Child then converts to bitcoin and buys Cannabis and Heroin off the Dark Web.',\n",
       " 'What else should it be? Bitcoin?',\n",
       " \"Though the Craig Wright bits were funny (the [negative gamma](https://twitter.com/VitalikButerin/status/981081916731371520?s=20) parts [in particular](https://twitter.com/VitalikButerin/status/981082253949202432?s=20)), Vitalik apparently [doesn't understand a few things about the Lightning Network](https://twitter.com/VitalikButerin/status/981073361714364417?s=20); entering a channel can be totally free for the recipient; the sending party simply funds it. Also, it's pretty obvious that he is trying to leg\",\n",
       " 'The fact that Faketoshi Hoaxamoto is still speaking and is *accepted* by some as muh Satoshi is beyond me. That part of Bitcoin community needs to wake the fuck up.Craigomoto needs serious help btw. He seems rather troubled.',\n",
       " '\"Craig Steven Wright is an Australian computer scientist and businessman. He has publicly identified himself as the main part of the team that created bitcoin, and has claimed he is the identity behind the pseudonym Satoshi Nakamoto Wright\\'s claims were debunked by experts within hours, who noted that his Satoshi signature was actually a 2009 signature he copied from the blockchain. \"https://www.ccn.com/technical-proof-craig-wright-not-satoshi-nakamoto/I am a bot, please upvote or downvote and help me learn',\n",
       " 'Are fidget spinners bitcoin?',\n",
       " \"Two things that baffle me about Craig Wright1. He continues to promote himself as a blockchain expert and innovator even though he's universally accepted to be fraud by technical crypto heavyweights.  2. Craig Wright exposes himself as a fraud every time he speaks or presents something because it's technical gibberish but Bitcoin Cash supporters still support him which makes them look like a religious cult of the Fake Satoshi.BTW, wtf was he saying about the Lightening Network that made Joseph Poon  jump up\",\n",
       " \"at this point, investing in bitcoin is probably also the opposite of investing.Also, depending on the charities, one could argue that you're investing in society? idk\",\n",
       " \"Craig Wright is a serial fabricator and liar. Here's just some of the evidence:1. He faked [blog posts](https://www.reddit.com/r/btc/comments/80ryvc/craig_wright_2008_august_26_blog_post_i_have_a/duxwsyk/)2. He faked [PGP keys](https://medium.com/@tbrice/wrights-appeal-to-authority-paper-disproved-its-own-thesis-8f2d45e5df24)3. He faked [contracts and emails](http://blog.wizsec.jp/2018/02/kleiman-v-craig-wright-bitcoins.html)4. He faked [threats](https://www.reddit.com/r/btc/comments/80o2xf/its_time_for_ano\",\n",
       " \"Craig Wright is a serial fabricator and liar. Here's just some of the evidence:1. He faked [blog posts](https://www.reddit.com/r/btc/comments/80ryvc/craig_wright_2008_august_26_blog_post_i_have_a/duxwsyk/)2. He faked [PGP keys](https://medium.com/@tbrice/wrights-appeal-to-authority-paper-disproved-its-own-thesis-8f2d45e5df24)3. He faked [contracts and emails](http://blog.wizsec.jp/2018/02/kleiman-v-craig-wright-bitcoins.html)4. He faked [threats](https://www.reddit.com/r/btc/comments/80o2xf/its_time_for_ano\",\n",
       " \"He's definitely getting paid because he's pretending to be Satoshi. He's stealing all our time. He's making a fool out of the entire Bitcoin Cash effort. Don't pretend there are no victims here. \",\n",
       " \"I'd rather watch Bitcoin go down on me to be honest. \",\n",
       " '\"I\\'ve never experienced this thing so therefore it doesn\\'t exist\"That other shitty stand up from yesterday had the same type of premise.  \"I can\\'t get high on adderall so therefore nobody can\" /r/ThatsNotHowThingsWork Good jokes have a meaningful commentary on life and are funny.  Bitcoin and a mansplainging joke in one line damn dude you\\'re trying too hard',\n",
       " 'No worries, smart investors like them obviously put a majority of their money in bitcoin. ',\n",
       " 'This just shows they don\\'t even understand the fundamental concept of bitcoin: decentralization.If it\\'s patented, it means it\\'s controlled by a central entity.A \"blockchain\" that isn\\'t decentralized is just a database. It\\'s no different from having a USD balance on your Paypal account.',\n",
       " 'And I was told bitcoin will make me a millionaire. ',\n",
       " '*David Attenborough narrates*\"The ETH traders are scared, but the thunder of a months long bear market becomes quieter and there\\'s less talk of Bitcoin as the ratio improves. One of the males begins working on a Chappelle meme, but the female of the group isn\\'t ready. He\\'s quickly downvoted, but he starts anew. Sometimes life is about second chances.\"',\n",
       " \"Cash is a wonderful low tech way to trade that is very robust. Nothing electronic could ever truly replace it. In fact, if everything was electronic people would pay a premium to buy a token that is a low tech and robust way to trade. It's reverse Bitcoin with the same selling angle, except that it has much more utility.\",\n",
       " 'Atleast the scammer was kind enough to give you some tips on where to purchase bitcoin. Good guy',\n",
       " 'Ã¢Â\\x80Â\\x9cI get blood clots if I donÃ¢Â\\x80Â\\x99t explain Bitcoin to a woman.Ã¢Â\\x80Â\\x9d  Had me crying at my desk. Lol.',\n",
       " \"FYI, there is a Twitter account that tracks bitcoin expenditures involving prominent Neo-Nazis, if you're at all interested in things related to their money.https://twitter.com/neonaziwallets\",\n",
       " 'Investing? Nope, Gambling. Even as a lover (and owner of a certain amount) of Cryptocurrency, it has always been a huge gamble. Bitcoin was at best a speculation and other coins are (in my opinion) a a huge gamble.',\n",
       " \"&gt; Also anytime you make money(gain) you owe taxes on it. The larger the amount the more likely the government knows about it, especially if it isn't done in cash.In OP's defense, it is much less obvious to uninformed investors when they trigger the need to pay taxes, when it comes to crypto. The IRS ruled that you realize gains *every* time you convert crypto - so if you invest $100 in bitcoin, it jumps to $1000, and then you convert that $1000 into a scamcoin, you now are on the hook for $900 worth of s\",\n",
       " \"Well it *is* more interesting. I think Bitcoin is great at what it does but it's like comparing a calculator &amp; a smart phone. \",\n",
       " 'Good question! Let me tell you why I use Monero everywhere that accepts it:The year is 2038 and everyone is using Crypto. I go to the store and I pay with crypto, I go to my friends house and he tosses me some coin. Everything is great.But one day, my wife comes back home. She\\'s in *tears*! I say \"Honey, what\\'s wrong?\" and she shows me her palm-phone. It\\'s my Bitcoin wallet from when I was a kid in 2023, and it has all my past transactions. I gulp in fear, as she scrolls through the list to the one I hoped ',\n",
       " 'Jesus Christ ... what a cringe-fest. Samson just repeats the same old bullshit excuses that we hear from all the /r/bitcoin Lambo kids. He presents his opions as fact with absolutely no substance. He lacks argumentative skills of any kind. Every time he makes a rebuttal to Ver\\'s points he just spits out buzzword soup.His responses are of the caliber that I would normally expect from a child; he resorts to name-calling on more than one occasion, makes retorts like \"good for you\" when Ver provides a lengthy e',\n",
       " \"I put that 'Murican in the [Reddit User Analyser](https://atomiks.github.io/reddit-user-analyser/#t_bptm).The results were unsurprising (he is a bitcoin ancap).\",\n",
       " 'Here is why I personally believe Cryptocurrency is gonna fucking fail:* Loads of exchanges getting Fiat pairings will eventually lead to shit ton of regulations to deal with.* Adoption is seemingly going up, but when you look into the majority of announcements, everything revolves around partnerships, alpha versions of untested apps and systems, and so on* Everyone knows that Bitcoin is a cash grab for greedy people, supported by unstable and manipulated marked and it is a hassle to use compared to simple g',\n",
       " \"It's bold of you to post here, considering how many people seem to totally hate you. But your statement comes off as pretty fair.Bitcoin got really popular, really fast while gox was under your control. Considering the increase in attack attempts that must have happened while you were in charge and the nature of bitcoin being what it is and how new it was then, it's not Terribly surprising how it went down. When I was your age, I don't think I could have handled it any better. It's easy to critique in hinds\",\n",
       " \"When buying MtGox I should have had people around me to advise me and help with the management starting with the MtGox transfer contract.I'm a tech guy, and bitcoin was a tech thing at the time. In April 2011 there was an article in Forbes which changed Bitcoin forever, and I found myself managing emergencies everyday without any time to do the work that'd need to be actually done.\",\n",
       " 'Your trustee is destroying bitcoin with the sell offs. You should give customers their bitcoin back. ',\n",
       " 'Hi Mark,First off I\\'m glad you survived all the personal attacks and managed to stay sane and relatively active on reddit and IRC despite all the memes and hatred.I have had a few questions on my mind for years some of which you may be able to answer here.1. Who wrote/managed the \"Willy bot\" &amp; what was it\\'s intended purpose? 2. Pior to the closing of withdraws at Mt Gox at what point were you aware that the BTC had gone missing? 3. Chain analysis seems to show that the hacker/hackers were stealing coins',\n",
       " '1. Why did you not monitor your cold wallets and match them with balances to ensure you had not lost any bitcoin? A simple list of all bitcoin addresses with a script to calculate total bitcoin balance and SUM(amount) in db...?2. Who did you tell that mtgox was insolvent before it was announced. There were people in the know, and 10k BTC dump on bitstamp shortly before you announced it.3. The leaked [mtgox crises draft](https://www.scribd.com/doc/209050732/MtGox-Situation-Crisis-Strategy-Draft) mentions a 2',\n",
       " 'my favorite observation of the bitcoin era was \"let them live and watch them learn why regulations and laws are a good idea on their own\".',\n",
       " \"I think right now Bitcoin fails both as a settlement system and as electronic cash. For now I feel Bitcoin is more of a wild horse traders are trying to ride and end up either very high or very low. Bitcoin's volatility isn't helping making it useful for any kind of financial transaction other than high volatility trading.Luke Dash Jr didn't write any of the MtGox code, nor did he ever had any role within MtGox. MtGox only worked with his mining pool Eligius because it was a rather large pool at the time an\",\n",
       " 'This really but bitcoin is mined through my cpu ',\n",
       " '**Because less people know what Ethereum is then what bitcoin is** thats why more searches. Also this is NOT flippening.',\n",
       " \"It was savage. As someone who has been for big blocks since 2012 and banned from r/bitcoin when they started banning people, I'm so thankful to Roger for annihilating him.\",\n",
       " 'no u guyz everyones buying now bitcoin only gonna go up up up!',\n",
       " 'One of the more intriguing aspects of bitcoin is how a wave of merchants announced that they would accept payment in it a few years back... only for many to quietly drop it later. To me, that suggests that not only is bitcoin failing to catch on as a currency, itÃ¢Â\\x80Â\\x99s not even worth it for businesses to have it as an option. ThatÃ¢Â\\x80Â\\x99s pretty bad for bitcoin at least in the sense of it being a currency.',\n",
       " 'Talking about playoff seeds in the West is like talking about the price of bitcoin.',\n",
       " 'This Ã¢Â\\x80Â\\x9ccollectiveÃ¢Â\\x80Â\\x9d that you become a slave to... is honestly the group of pushers that seem to be in desperation mode here. I rode SunEdison down after it dropped from $33/share to $8, eating up all the garbage people posted about them winning this contract, and delivering this solar project... in the end it went belly up.Do not take this advice to buy now. Step back and detach emotionally before you invest, and youÃ¢Â\\x80Â\\x99ll see bitcoin is on its way down still. Your red flag was when your buddies c',\n",
       " \"Amazing how it's always good for bitcoin.\",\n",
       " \"This might sound off topic, but I believe it's worth thinking about.Have you ever heard the story of why Armistice Day / Veteran's Day is November 11th?  The ceasefire that ended WWI went into effect at the eleventh hour of the eleventh day of the eleventh month of the year, which is why that day is celebrated.The sad fact is that the ceasefire could've gone into effect earlier, but the signers chose that moment because the numbers were neat.I don't remember the specific numbers, but some time back I saw fi\",\n",
       " 'Was asked to steal a couple bitcoin from a customers associate back when BTC and altcoins were booming, got access to his wallet fairly easily, being curious as I am, checked how he got so much coin. had tons of small sum payments with links attached to the transactions, checked one and it was just child porn. Lots and lots of child porn. Told the guy I was working for his associate was a fucking pedo and quickly dropped a line to the relevant authorities. Shit like that fucks you up manTLDR was asked to ga',\n",
       " 'So I should be able to use this to send bitcoin using lightning network on mainnet?',\n",
       " \"It's always important to mention that Sweden has relatively high rape statistics because their legal definition of rape is different, it just means that rape is more likely to be reported in Sweden, which is ~~good for bitcoin~~ a good thing\",\n",
       " '\"Now Is The Perfect Time To Buy Bitcoin\" Says Increasingly Nervous Man For Seventh Time This Year',\n",
       " 'Thanks /u/MemoryDealers for showing just how damaging Blockstream has been to Bitcoin!',\n",
       " \"To participate in the future economy you need electronic payment.That's modern banking, or crypto.Modern banking isn't going to serve the poor.That leaves cryptocurrency.Samson, if you're reading this: before you ever heard about Bitcoin, we were talking about how it could transform and modernize third world economies not served by banking. This was always ground zero of adoption.You proved your inexperience with the project when you laughed at Roger. He was repeating the first, and still *best* case for ho\",\n",
       " \"If  the adoption hinges on people not being 'cringey assholes' it's all doomed to fail anyway, REAL adoption is people being forced to use your product or face being outcompeted. I didn't want to buy my first Bitcoin, I was forced to because I wanted acid and it was buy Bitcoin or pay a premium to people outcompeting me locally, that is real adoption.Edit: thx for the upvotes people, now go buy drugs, do it for crypto!\",\n",
       " 'I bought my gtx970 right after that whole 3.5 vs 4GB debacle and right before the crypto boom, I feel like I hit the jackpot.You know, not as much as those people that got rich with bitcoin, but I still probably saved dozens of Euros! Dozens!',\n",
       " 'It wasn\\'t 9 years of \"Oooooh new tech! Let\\'s embrace it and give it a try!\"It was 1-2 years of a very tiny percentage of people mining it and using/developing the network purely as a geek hobby.Then it was another couple years of \"Oh that\\'s just drug money.\"Then it was 2 years of /r/buttcoin on parade, as I call it, where there was as much effort out there to dismiss it, discourage it\\'s adoption, and shame people who had adopted it or who had interest in it, pointing to the 2013 bubble collapse as the sole ',\n",
       " '\"Chines New Year guys, Bitcoin is always dropping around this time, just wait 2 weeks and we\\'re back at 12k\" 5000 points on the frontpage of this sub.Two months later. \"Nah dude I\\'m not nervous, I knew that long dip was coming all along.\"Nothing more amusing than self claimed Bitcoin experts.',\n",
       " 'lol1) start a fake website2) Collect membership fees in ethereum/bitcoin3) close the website4) profit???Prolly donate the bitcoin to charity helping girls.',\n",
       " \"(speaking about the manufacturing delay of the hockey jerseys)&gt;Ben: those fucking bitcoin miners, they jacked up the price of the jerseys!&gt;Rorie: That's not true at all.&gt;Ben: ... oh.lmao\",\n",
       " 'Holy fucking shit&gt;Sorry to mess up this thread and topic a bit, but after i do not get for hours an answer on twitter, neither does the email function on the Verge homepage work, nor does someone respond on the Verge Bitcoin thread i have to try my luck here.&gt;I visited some hours ago the official Verge Twitter profil to read the news about the hash hack. While reading the tweed i noticed several messages offering a compensation for the attack by Verge. Send x Eth and you get some bonus back. Sounded l',\n",
       " 'Interesting. I really do hope Bitcoin makes an impact on history. The symbolism and dedication of the crypto community speaks volumes.',\n",
       " 'So now banks and RBI decide what I can or canÃ¢Â\\x80Â\\x99t buy? This is why CryptoCurrencies were created. Damn governments shitting themselves cause they canÃ¢Â\\x80Â\\x99t control bitcoin. ',\n",
       " 'What are your thoughts on bitcoin cash? Its development and user community? What should we be looking out for? What are we doing right/wrong?Bonus: do you think Craig Wright is bonkers?',\n",
       " 'Surely he has some bitcoin squirreled away that can be used to purchase the services of a new lawyer. ',\n",
       " \"Yes, I'm afraid I think there's a lot to do and that's one reason I agreed to do this. Some things are being overlooked. If history repeated itself that would be a crying shame.Hard forking is an implementation mechanism, not a governance mechanism. Governance is a process, and often an institution, for arriving at a decision. A hard fork is just the software event that makes it real.I note with some alarm that Bitcoin Cash is planning a timed hard fork in just one month, with no attempt to measure support \",\n",
       " \"Thanks Mike for doing this AMA and for all your past contributions to Bitcoin. I vividly remember many of the events you described, it's a shame that much of the later events helped to drive you away from Bitcoin. I know you said you aren't 'coming back' but just being a part of the community discussions, maybe even lending some advice here or there, would go a long way and would be much appreciated if you have the time. Thanks. \",\n",
       " \"Hi Mike, I'm glad to see you around here.I do wish you'd reconsider your decision to not return to coin dev but I certainly understand it! You fought the good fight and for that you'll be remembered fondly.When you wrote your exit blogpost, it appears that you were prophetic in understanding that the upgrade path chosen by BCH (minority hard fork chain split) would be doomed to second class citizenship.  This was before even the eth/etc split. But you didn't really explain *why* this approach wouldn't succe\",\n",
       " 'This is a tough one.My view is that Bitcoin Cash strongly resembles the Bitcoin community of 2014. This is not good. That experiment was tried and it didn\\'t work. It\\'s tempting to think that what happened was a freak one-off occurrence, but I don\\'t think it was. I think it was inevitable given the structure and psychological profile of the community at the time. So just trying to \"get back on track\" as I see it, is nowhere near radical enough.If I could get one message across to you in this session it\\'s thi',\n",
       " \"No. The causes were complex and essentially psychological. Let's say that the miners didn't behave in the way they should, and nor did most of the community, and that left an opening that a small minority of developers were able to exploit to take it over.In such a situation, who is at fault? Was the problem the weakness of the community? Or those who exploited it? Or both?The most critical problem for cryptocurrency in general is that Bitcoin's design rests on three assumptions that have been invalidated:1\",\n",
       " \"Darn. I guess now I have to do something with it.I discovered yours.com today. At first I thought it was some conventional Valley startup because the tips seemed to be measured in dollar-cents, and because it looked so clean and professional. Then I noticed it was specific to Bitcoin Cash.Yours.com is the sort of thing that got me excited about Bitcoin back in the day. It's that sort of unique application that makes cryptocurrency such a powerful concept. I don't want to waste this gift so when I get time I\",\n",
       " \"There are 2 things that are certain in crypto space: bitcoin has a limited supply of 21 million. Nick Szabo is a f...g genius.If you don't know one of those facts, you should punish yourself.\",\n",
       " \"Indeed. Coordination was rather handwaved away as a problem that could be solved through the block chain itself. The white paper says:&gt;  Any needed rules and incentives can be enforced with this consensus mechanism.So Satoshi understood that his invention could be generalised, but didn't do so.Perhaps the top priority for the Bitcoin Cash community should be to find a replacement for reddit. It doesn't have to be fully peer to peer or decentralised, but a forum which had a different approach to community\",\n",
       " \"SS. Satoshi Nakamoto chose today as his fake birthday. Today, April 5, was the day they confiscated people's gold. He also embedded a times of London article with the heading&gt;chancellor on brink of second bail out for banksIn the first bitcoin block aka genesis block. It will be there for ever. \",\n",
       " \"To whatever authority presented itself. In Bitcoin there is no state. So instead, the core developers became the authority.I don't know if you were around back then, but there were a few moments that crystallised this for me.The first was when we (myself and Gavin) launched Bitcoin XT. This made the news and there was a TV segment on Bloomberg. I was speaking at a conference in Sweden at the time so I couldn't take part and wasn't sure I wanted to anyway. Instead they ended up with a Core supporter on their\",\n",
       " '&gt; It\\'s very interesting that you say that. What are the key similarities in your opinion?* It still uses reddit to coordinate the community.* There is no formalised governance mechanism. Old Bitcoin used \"rule by obscure IRC chats between Core devs\" and the different Cash devs coordinate .... how?* It still uses proof of work and miners still don\\'t care about the health of the network.* The community still appears somewhat opposed the idea of voting in any kind of formalised governance procedure (e.g. AB',\n",
       " 'And yet, bitcoin is crashing but 1 doge is always 1 doge',\n",
       " 'Is this good for Bitcoin?',\n",
       " \"NDP's new taxes must be why toronto and american real estate are falling too. Also bitcoin and stocks too./u/jellysandwith has 9 days of intensive daily activity after letting the account hang for 4 months. It was created on the same day as /u/preelectionby, who stopped being active 8 days ago only to comeback with this account. /u/preelectionby is an alt account of /u/vanslumlord who was banned for vote manipulation and is top mod of /r/vanhousinga group of people are generating inorganic social media acti\",\n",
       " \"&gt;So that was why we didn't consider it back then. If the situation reached the point of requiring it, that was the same thing as saying that Bitcoin's decentralisation had failed. So then why bother?Because turning monolithic Bitcoin into two competing variants isn't a failure of decentralization but rather it is a success of permissionlessness.I think what failed is the vision of monolithic Bitcoin.BTW I hope you don't find my disagreements too combative. I'm not trying to change your mind, but rather t\",\n",
       " 'Does anyone realize the irony of saying this in r/bitcoin?',\n",
       " 'America in 2033: Alright guys time to hand over your bitcoin ',\n",
       " 'This is good for bitcoin',\n",
       " 'Words cannot describe how good this is for Bitcoin ',\n",
       " 'Meanwhile on r/bitcoin:*FUD FUD FUD FUD FUD FUD FUD FUD FUD FUD FUD FUD FUD FUD FUD FUD FUD FUD FUD FUD FUD FUD FUD FUD FUD FUD FUD FUD FUD FUD FUD FUD FUD FUD FUD FUD FUD FUD FUD FUD FUD FUD FUD FUD FUD FUD FUD FUD FUD FUD FUD FUD FUD FUD FUD FUD FUD FUD FUD FUD FUD FUD FUD FUD FUD FUD FUD FUD FUD FUD FUD FUD FUD FUD FUD FUD FUD FUD FUD FUD FUD FUD FUD FUD FUD FUD FUD FUD FUD FUD FUD FUD FUD FUD FUD FUD FUD FUD FUD FUD FUD FUD FUD FUD FUD FUD FUD FUD FUD FUD FUD FUD FUD FUD FUD FUD FUD FUD FUD FUD FUD FUD ',\n",
       " 'But this is good for bitcoin',\n",
       " 'Yes. The speed with which Bitcoin Cash has recovered infrastructure and rebuilt community is impressive.',\n",
       " 'Ok, but does it accept bitcoin?',\n",
       " 'This is bad for Bitcoin.',\n",
       " 'It accepts bitcoin, but does not give anything in return. ',\n",
       " 'OOOOOOOOOOOOOOOOOH NOW I CAN FINALLY TRADE BITCOIN GOLD, BITCOIN DIAMOND, BITCOIN SHIT, BITCOIN DIARRHEA!!!!1 THANKS COINBULLSHIT!',\n",
       " 'Bitcoin super platinum gold diamond etc etc etc ',\n",
       " 'This is good for bitcoin.',\n",
       " \"First off, let me say that I'm a software engineer and I've been in crypto since 2013. I first discovered Bitcoin and after some research, realized that it had huge potential to change the word. Not too long after that, I discovered Ethereum and formed the same opinion when it was only a few dollars each. Not everybody buying EOS is clueless, new or chasing a pump. Your posts mentions nothing about the technology, the economics, the use cases or the governance of the project. Rather, it's a personal attack \",\n",
       " 'Just keep in mind this ETF comes in two forms: long and short, and both use futures. Neither ETF will purchase or hold actual bitcoin; it is cash settled. Institutional investors can as easily short BTC as they buy the futures. ',\n",
       " 'Do you take bitcoin?',\n",
       " 'No way am I giving direct links, but someone with enough bitcoin and dedication could find their way through the [Tor darkweb](https://www.torproject.org/projects/torbrowser.html) and hire a hitman. Last I checked it ran $10k-$100k per hit depending on who you go to and how hard the job is.',\n",
       " 'This is good for bitcoin',\n",
       " 'About time mainstream media started calling out crypto.\" But the main factor driving down the price of bitcoin is likely to be a realization that it is simply not a credible long-run alternative to conventional currencies,\"Whhhaaatttt??  Come on, I use bitcoin all the time to buy things.  It\\'s way easier than fiat and accepted all over the place..... said nobody ever.',\n",
       " \"There's actually a post in the nano subreddit where someone showed that even with the latency and bandwidth limitations, sending Nano to Mars and back would be quicker than a Bitcoin transaction.\",\n",
       " '&gt; Bitcoin is not only \"trading\". This is a wrong approach.Reminder: Satoshi\\'s papers, stated: Abstract. A purely peer-to-peer version of electronic cash would allow online payments to be sent directly from one party to another without going through a financial institution. &gt; So just USE BTC as money. Is not hard, just a bit of more brain.Just a bit of more brain.',\n",
       " '1. Post \"Bitcoin will be worth xxxxx by end of 2018\", xxxxx being a random number.2. Repeat every day, on a different crypto sub, until the end of 2018.3. At the end of 2018, delete all inaccurate predictions and keep the closest one.4. Post \"I told you so\" with link on /r/CryptoCurrency/.5. Bask in glory.',\n",
       " 'Bought 100 bitcoin in 2011, sold it for 20k a pop prolly',\n",
       " \"HODL is the reason that the bitcoin ecosystem works at all. It artificially constricts the liquidity, and combined with a little shilling, some libertarian paranoia and a little FOMO can result in increases in price, which creates a feedback loop into the FOMO and becomes a self perpetuating rocket of price increases and creates paper millionaires out of the participants. At that point it's just a Mexican standoff to see who has the cajones to sell out and risk immediate profits for potential paper gains.I \",\n",
       " \"They finally caught on that faggy bitcoin stocks shouldn't be listed on the same market as real companies.Send that shit back to the OTC markets for the RH plebs\",\n",
       " '1.) Successfully deposit 100$ on your Coinbase account2.) Buy Bitcoin3.) Find any coin cheaper than BitcoinCongratulations, you are now self-proclaimed cryptocurrency expert with a PhD in blockchain science... or something',\n",
       " 'I love electrum because they are little talk and all action. Other wallet developers run scammy icos and make all sorts of never fulfilled promises while electrum just keeps delivering over and over.Electrum has remained a positive ray of light in the wallet developer Bitcoin wars. ',\n",
       " 'How does the government know they have bitcoin? I thought the whole point was it was anonymous and easily used for black market purchases. ',\n",
       " 'Well I definitely did the steps above and let me tell you this is not enough, you need one more ingredient to be an crypto expert, or as I like to call them: \"crypto magician\". You need experience... believe me I know that. With 4 months of field experience behind me back we could say I am quiet an expert myself. Let me tell you I only lost 85% value of my portfolio, did 4 trades with 50% success rate and I built these supercomputers called \"mining rigs\" or as I like to call them \"money printing machines\". ',\n",
       " 'My grandma die of aids Ã°Â\\x9fÂ\\x98ÂªÃ°Â\\x9fÂ\\x98Â¢Ã°Â\\x9fÂ\\x98ÂµRIP Ã°Â\\x9fÂ\\x98ÂµÃ°Â\\x9fÂ\\x92Â\\x80Ã°Â\\x9fÂ\\x99Â\\x8fÃ°Â\\x9fÂ\\x99Â\\x8cÃ¢Â\\x9cÂ\\x9dÃ¯Â¸Â\\x8f1 like = 1 prayer1 comment = 5 likes on ur profile pic1 share = 10 extra followersThoughts and prayers +SUBSCRIBE!!!Ã°Â\\x9fÂ\\x92Â¯Ã°Â\\x9fÂ\\x91Â\\x8cÃ°Â\\x9fÂ\\x91Â\\x8cÃ°Â\\x9fÂ\\x91Â\\x8dÃ°Â\\x9fÂ\\x92Â¯Ã°Â\\x9fÂ\\x92Â¯Her funeral is tomorrow &gt;&gt;&gt;&gt;**PM FOR LIVESTREAM AND PICS I ACCEPT PAYPAL AND BITCOIN!!!!!!!**Ã°Â\\x9fÂ\\x8eÂ\\x9aÃ°Â\\x9fÂ\\x92Â¸Ã°Â\\x9fÂ\\x92Â°Ã°Â\\x9fÂ\\x92Â³Ã°Â\\x9fÂ\\x92ÂµÃ¢Â\\x9aÂ°Ã¯Â¸Â\\x8fÃ°Â\\x9fÂ\\x8eÂ\\x89',\n",
       " 'did better than Andries, that nigga made 2 cents in bitcoin',\n",
       " 'this is good for bitcoin ',\n",
       " 'She\\'s a good representative for Bitcoin.Also, much respect for throwing in that \"hodl\" is not an acronym, just a funny misspelling.',\n",
       " \"Pfft...    $ ls -d .* | sed 's/^/    /g'    .    ..    .bash_history    .bash_profile    .bashrc    .bitcoin    .bitcoin-abc    .bitcoin-core    .cache    .config    .dashcore    .dbshell    .dbus    .dropbox    .dropbox-dist    .esd_auth    .ethereum    .factorio    .filezilla    .fonts    .gdbinit    .gitattributes    .gitconfig    .gitignore    .gnome    .gnome2    .gnome2_private    .gnupg    .gstreamer-0.10    .gsutil    .gvfs    .hashcat    .ICEauthority    .irssi    .java    .john    .klei    .lesshs\",\n",
       " 'MattÃ¢Â\\x80Â\\x99s confused about where the money comes from but itÃ¢Â\\x80Â\\x99s obvious that the OASIS is a massive bitcoin mining rig powered by the entire human population ',\n",
       " 'I was referring to bitcoin being $20k then and at $6k now. ',\n",
       " 'Wot if the Matrix, but Bitcoin?',\n",
       " \"Wait... Bitcoin exchanges are backed by organised crime?I simply won't believe it!\",\n",
       " \"&gt; I started smoking cigs at 13 and quit at 27. I was a fucking idiot.Still a smoker here. Started at 17. 32 now. I often daydream: If I could go back in time and change *just one thing*, it wouldn't be preventing 9/11. It wouldn't be buying Bitcoin at .40 cents. It wouldn't be investing into Apple.It'd be going back to 17 year old me and jumping him from behind, whipping the shit out of him, and telling him never to smoke again. And maybe to floss more often.\",\n",
       " 'If you bought bitcoin at .40 cents you could afford to get new lungs every year until you die, though.',\n",
       " \"To further press the point that this selfish mining nonsense is only the latest thing in a pattern, it's also worth discussing Craig's other blunders. Here's him claiming that the bitcoin secp256k1 curve is pairing-compatible:https://twitter.com/ProfFaustus/status/924242722810195968Here's Andrew Poelstra rebutting him, and myself confirming: https://np.reddit.com/r/btc/comments/799xlz/csw_many_wonder_why_secp256k1_was_used_in/And here's his reply to Andrew:https://twitter.com/ProfFaustus/status/924276066222\",\n",
       " 'He is a master con man, able to make competent people believe that he is actually more competent then them, just a bit deep and cryptic.  He says vague stuff, or he uses the wrong language ... and the people that give him the benefit of the doubt start thinking about it: Maybe he means this, maybe he means that ... ah yes then it would make sense. And of course the more you belief he is Satoshi or was involved with the creation of Bitcoin the more you will think in this way. On the other side of the spectru',\n",
       " 'Coinbase, a leading cryptocurrency firm, has approached U.S. regulators about registering as a licensed brokerage firm and electronic-trading venue, a move that comes as regulators have waged an aggressive campaign to supervise the fledgling industry.  The San Francisco-based startup, one of the worldÃ¢Â\\x80Â\\x99s largest platforms for trading bitcoin and other cryptocurrencies, has met with Securities and Exchange Commission officials in recent weeks about registering its business with the agency, according to p',\n",
       " \"I only found out the other day that one of my good buddies that I've know for 7-8 years now has a trust fund. I didn't ask how big it was, he just said he had it while we were drunk at the bar talking about Bitcoin. To Bo honest, if I had one I wouldn't talk about it either\",\n",
       " '&gt; The paper you are referring to has deeper fallacies, for example it considers honest miners stupid and incapable of reacting.How would honest miners react? Are you actually suggesting that miners should engage in active strategizing among each other to reject blocks from specific miners that they deem to be unkosher? If so, that seems like a very easy political gateway toward censorship. The default strategy (mining and insta-publishing on the head) should be a Nash equilibrium, full stop, so consensus',\n",
       " \"So what you're saying is..pull all my money out of Bitcoin in put it straight into Pokemon go.\",\n",
       " \"Not a party, but [a Bitcoin conference decided to rent out a strip club](https://www.bloomberg.com/news/articles/2018-02-01/a-bitcoin-conference-rented-a-miami-strip-club-regrets-ensued)&gt;WeÃ¢Â\\x80Â\\x99re a bunch of dudes with a lot of money in our 20s. We like naked girls [...] If you donÃ¢Â\\x80Â\\x99t like it, thatÃ¢Â\\x80Â\\x99s fine, but youÃ¢Â\\x80Â\\x99re not going to expect us to change.Real quote, by a guy attending it. They didn't actually have any nudity during the conference, but yeah, no. I guess in a way, crypto bros are\",\n",
       " '&gt; 33%+ of hashpower cannot be small, if any node is hacked to propagate the hidden blocks then the damage is doneYou do realize that mining pooling allows miners to mine a block without having most of the contents themselves, right?&gt; There is a thing in business known as risk management. SMing is full of uncertainties, therefore by definition uncertainty = risk. That also makes it extremely unlikely from a business point of view. Mining is already too risky on its own due to price fluctuations etc for',\n",
       " \"He's the kind of insane that's funny to stand on the sidelines and laugh at, though. Like when he came out back in 2016 and said he'd decrypt the San Bernardino shooter iPhone himself. Or a couple months later he said there was a vulnerability in WhatsApp, mailed several Android phones to Gizmodo to demonstrate, the phones turned out to have malware on them, and John then announced that it was actually a low-level vulnerability in Android he was exposing that let him install the malware to begin with.He's a\",\n",
       " 'I don\\'t want to be right but, I think there are people that don\\'t understand what a hard-fork is but they know the term from Bitcoin.  When Bitcoin does a hard-fork it usually gains value (because people want the free coins), so they think \"hard-fork = positive news = price pump\".',\n",
       " 'How many people currently use Bitcoin?',\n",
       " 'Newbies:I have sold all my coins after crash, waiting for Bitcoin to reach ATH again so I can buy more ',\n",
       " 'This! I am happy crypto adds are blocked. I was going nuts on them \"this bitcoin thing ...\" adds. Or any of those scammy ico adds. Jeesh, still have flashbacks thinking about them. Good riddance i say.',\n",
       " 'Ã¢Â\\x80Â\\x9cBitcoin is at $18k, you should buy now!Ã¢Â\\x80Â\\x9d People looking for quick, guaranteed gains on short term investments is where they usually go wrong...YouÃ¢Â\\x80Â\\x99re totally right, when you invest consistently for the long term (in a strong, proven investment) the 3-4 month adjustment that just resulted in a 0% gain in the stock market for that period is hardly a blip and not worth fretting over. With the long term perspective comes the thinking that when the market is down your dollar has more buying power',\n",
       " 'My best friend for 6+ years was having an affair with my then girlfriend behind my back. I then forgave him under the condition heÃ¢Â\\x80Â\\x99d seek psychiatric help (Ã¢Â\\x80Â\\x9cIÃ¢Â\\x80Â\\x99m depressedÃ¢Â\\x80Â\\x9d was his excuse) and he claimed he made an appointment. He never did and instead invested money into bitcoin. I basically told him fuck off then and there and he sent me all the messages of my ex girlfriend talking shit and playing me for a fool behind my back. Left me with severe self confidence issues but IÃ¢Â\\x80Â\\x99m slo',\n",
       " 'lets Sue Bitcoin for MT.gox hack :v ',\n",
       " \"So that's what a Bitcoin looks like. \",\n",
       " \"Actually false.  Nobody has more than 1 bitcoin.  That's a lot of money.  I know, because my dad has one. \",\n",
       " 'This is probably the most retarded idea IÃ¢Â\\x80Â\\x99ve ever heard. It would only be slightly less retarded than if your suggested to buy bitcoin with the dues. ',\n",
       " \"I'm sorry this happened to you, but the Bitcoin part cracked me up.  It wouldn't be Reddit without bitcoin being involved.\",\n",
       " \"So what you're actually saying is that Bitcoin has made its way to 58% of the world?#Adoption\",\n",
       " 'Coming soon: \"How bitcoin pays my reckless driving tickets\"',\n",
       " \"This doesn't really answer their question. Let's be honest here, what you are doing has been done before and what you're offering can 100% be done and *is* done today without it. This AMA is pure advertisement for someone trying to cash in on the bitcoin hype. Trying to force tech into a product just for the hype is a surefire way to end up with a terrible piece of software you're gonna need to rewrite once your customers start using it (if ever, or your company goes under before an usable product even arri\",\n",
       " 'This is good for bitcoin',\n",
       " 'I love how we went from start using bitcoin to \"be your own bank and avoid all those transaction fees\" to \"they charge 6.5% per transaction with a shadowy btc market value.\"You are going backwards.',\n",
       " \"&gt; It's just like ATMs that charge 3 bucks to take out 20 bucks.Let's have an honest discussion shall we?  Point A) that's $3/transaction.  Sure if you take out $20 and pay $3 you are paying 15%.  That $3 is fixed though.  If you take out $100 the fee is 3%.  If you take out $300 the fee is now 1%.Point B) there are lots of fee free ATMs out there.  My ATM cards work at thousands of ATMs and I pay zero fees.   You can avoid fees if you want to.  Where are the 0% bitcoin ATMs at?  That's right they don't e\",\n",
       " \"Nah that kind of crash means society is fucked as a whole. Bitcoin isnt much use when there's no power or internet.This is good for silver.\",\n",
       " 'ItÃ¢Â\\x80Â\\x99s not secure protection of the 4 characters either way. My laptop can crack all possible 4-character hashes in minutes. Say there are ~100 possible characters (letters+nums+symbols), thatÃ¢Â\\x80Â\\x99s 100^4 possible hashes. ThatÃ¢Â\\x80Â\\x99s 1 billion. Not a huge number of hashes to compute.If salts are used, each password would take seconds for one of those powerful gpu bitcoin mining computers to crack.If salts are not used, you could produce all hashes in seconds and map every userÃ¢Â\\x80Â\\x99s first-4-character h',\n",
       " '**Overall Record 21-3-1** *Bank* : **100u** *Profit:* **+33.1u***Average Value:* **1.90***Streak:* **1W****WWWWWWLWWWWWCWLWWWWWWWWLW***Yesterdays Pick:*  **North ML (-113)** vs Hellraisers*Todays Pick:*  **Imperial -1.5(+105)** vs MINLATE**CSGO Dreamhack Open Qualifier 06:00 AM EST**Imperial has been on a tear recently against all types of competition. Winning against Heroic, Sprout and North at CPG. Here is another chance for them to make progress as a team by qualifying for Dreamhack and getting more lan ',\n",
       " 'One quote from Andreas himself:\"All hail our new overlords. They\\'re not just coders, they are press directors and OWN bitcoin. As they often say, if you don\\'t like it... fork. \"u/andreasma what happened to you man? You were a beacon of light in the community, calling out correctly, spreading bitcoin, etc. WTF?!?! Can\\'t believe you are not here in BCH with us!!',\n",
       " \"I felt like I walked into a mirror and I'm in a world where everything is inverted reading that thread!!It is crazy to see how at that time people were asking you to be a spokes person and one guy in the thread even said, correctly, that your absurd 10 months in prison was actually a badge of honor. Feels like completely different community, except for gmaxwell, seems that he was always the same.BTW Roger, since you are here, it is because of [things like this](https://bitcointalk.to/index.php?topic=181168.\",\n",
       " 'Everyone at some point during that time frame seemed to have an opportunity to buy Bitcoin and blew it off.. ',\n",
       " 'DUMB JOCK GET OUT!!!1! IÃ¢Â\\x80Â\\x99ll have you know that I bear an IQ so toweringly high no known test can measure it (that is to say, no known test for humans can measure it: when using the scale with which computer processing power is evaluated, I clock in at over 8.3 trecentillion yottaflops). I have memorized every facet of human knowledge and only used 32.8% of my potential intelligence (my remaining neurons I allocate towards personal use, research, and wealthy companies for use as server farms and bitcoin',\n",
       " \"Agreed.  My friends and I used to be very serious about competitive CS in NA but quit because the only way to do it was through ESEA and just didn't want to deal with them anymore.  The issues have been innumerable.  Shit, I've forgotten more incidents with ESEA than the ones I can remember.  I remember when a friend of mine was charged $200 to his checking account and they told him they would credit him in MONTHS instead of refunding him.  I remember getting banned for website abuse or malicious activity w\",\n",
       " '@bitcoin was owned by Bitcoin Cash team right? ',\n",
       " '&gt;I know that there are people like you out there that will likely never look back and that bums me out.HereÃ¢Â\\x80Â\\x99s the thing Boq, I did look back. Even after the whole bitcoin shit I still came back to ESEA, I guess because I liked cs so much. I guess because I figured since theyÃ¢Â\\x80Â\\x99d been caught, they wouldnÃ¢Â\\x80Â\\x99t pull any more shit and I could just play pugs and not worry about it.Then you find out theyÃ¢Â\\x80Â\\x99re reading peoples steam messages and double charging them and you think, yeah fuck this. Fu',\n",
       " 'r/btc was created 2 years before bch forked. Created for members of the bitcoin community who were banned for voicing suppport for issues such as big blocks in r/bitcoin. Now it just so happens the BTC community who moved to r/btc are in support of bch',\n",
       " \"The hilarity of it all is that account was almost strictly only posting anti-bitcoin propaganda. Its what I don't understand about many BCH proponents, instead trying to stand on its own merrits and speaking on why they believe its a good coin, the account set out to only bash Bitcoin. It screamed snake oil.E: word(2)\",\n",
       " \"So bitcoin is permissionless and not a company trademark.... Until that's inconvenient for a handful of people who complain and the biggest cesspool of online discussion steps in and blocks free speech. Reeks of desperation from the Core developers and BTC maximalists.There's no evidence the account was bought or sold as far as I have seen..Also still not one person can give an example where someone bought Bitcoin Cash instead of BTC.... in many threads that I've seen.Don't believe the terrible one line cra\",\n",
       " 'It was pretty obvious that Roger bought this account. R. Ver account and @Bitcoin were liking the same stuff at the same time lol.  ',\n",
       " 'Trademark abuse? Bitcoin is a trademark now? Who knew?',\n",
       " 'Bitcoin: becomes slightly more stable, can be used as a currency.Reddit: Bitcoin, y u no fluctuate more?',\n",
       " 'It\\'s a joke. McAfee has famously made a bet to \"eat his dick on national televisionÃ¢Â\\x80Â\\x9d if bitcoin wasn\\'t worth more than $1M per coin by the end of 2020.',\n",
       " \"&gt; six monthsSold out when Bitcoin hit $20K didn't you? \",\n",
       " 'Waiit so Twitter closed the account, then some random Turkish guy registered with @Bitcoin before everyone else?',\n",
       " ' &gt;A BCH supporter owned the ~~BTC~~ @bitcoin account.fixed that for you.',\n",
       " 'I like how the bitcoin graph goes backwards after the peak',\n",
       " 'The guys face goes from malicious cruelty to \"I bought bitcoin in December 2017\" in a flash.Serious though the guy looks like he is mean to dogs. ',\n",
       " \"Miners in October: Bitcoin is on the rise with no end in sight.Miners in November: Bitcoin is unstoppable.Miners in December: Bitcoin is $20K, I'm going to be a millionaire at this rate.Miners in January: It's just a dip. Time to buy Bitcoin for cheap.Miners in February: It's still dipping. Don't panic.Miners in March: Stop panicking.Miners now: PANIC!!!!!\",\n",
       " 'Misleading and emotive title..  Mr Scotty321 did you even read the article?Dorsey did not make a 2.5 Million investment, he was just one of many investors and it was his own private investment, not an investment made on behalf of or by Twitter. He did not steal the @Bitcoin handle, it was suspended. Dorsey made a private investment into Lightning Labs and not specifically Lightning for Bitcoin. Any inference that Dorseys investment is related to the suspension of the Bitcoin twitter handle is quite juvenile',\n",
       " \"Amazing, I'm so glad somebody reported on the event. I hated so much about the crappy designed subway posters and thought it was ironic that for a conference talking so highly of Bitcoin, they didn't accept that as a form of payment to attend. \",\n",
       " 'Is this good?All over the internet, I notice you churlish cretins lauding the supposedly intellectual television program known as Rick and Morty to make yourselves appear more intelligent by extension, as you are ardent watchers of the aforementioned show. However, you piddling planarians only succeed in illustrating how vapid you really are, as Rick and Morty has the intellectual depth of a petri dish. Truly, the most noetic show is neither Rick and Morty, the Big Bang Theory, Jimmy Neutron, nor any other ',\n",
       " 'Can we talk about the secret fortune ESEA has probably amassed from secretly mining bitcoin off their users circa 2015. They got like a 60k fine.',\n",
       " 'Oh my god you went you saint you. Saw the absolute shit design work on the ads, knew none of them were bitcoin experts and wondered whoÃ¢Â\\x80Â\\x99d take financial advice from a crummy pop star on the down side of his 15 seconds, a fake tough guy, and a retired baseball player.',\n",
       " 'Ã¢Â\\x80Â\\x9cThey work for intangible coinsÃ¢Â\\x80Â\\x9dIsnÃ¢Â\\x80Â\\x99t that what we do now with our debit cards?I donÃ¢Â\\x80Â\\x99t think that this guy realizes that the digital money in the oasis could buy real world shit. It was like bitcoin except useful.',\n",
       " 'You have to wait a little bit, it takes some time to install a bitcoin-miner.',\n",
       " 'make sure you enable bitcoin miner /s',\n",
       " \"Let's see...Boris Epstein is doing must-run segments for Sinclair Media.Paul Manafort is spending his ukranian blood money as quickly as he can before the government convicts him and seizes it.Michael Flynn is selling his townhouse and also having 'go fund me' sessions to pay his legal fees.The Mooch is losing everything in a divorce.Spicer appeared on the Emmys, which was a fucking travesty.  He's also been on talk shows complaining that no one will hire him.  I imagine it's because no one believes anythin\",\n",
       " 'you talking about that bitcoin mining thing?',\n",
       " 'It was actually a bunch of different scripts. Bitcoin no doubt was one of em.',\n",
       " '\"...Bitcoin is **REALLY** volatile today.\"',\n",
       " 'As awesome as \"You Suffer\" by Napalm Death is as a notification sound, why wouldn\\'t the application that triggers the notification just enable or disable the bitcoin miner?It\\'s startled me a few times, and it was funny as fuck, but damn, that\\'s a big plot hole.',\n",
       " 'But Fiat has more car sales than Bitcoin. Checkmate atheists.',\n",
       " \"The Dow's more volatile than Bitcoin right now. And all because of a stupid asshole's twitter account.\",\n",
       " 'A lot of people donÃ¢Â\\x80Â\\x99t seem to get that bitcoin isnÃ¢Â\\x80Â\\x99t (usually) mines with graphics cards. ItÃ¢Â\\x80Â\\x99s all the altcoins that use them. ',\n",
       " 'Correct. CBÃ¢Â\\x80Â\\x99s ui made it so my grandma could buy bitcoin. ',\n",
       " 'Altcoin prices are normally directly related to BTC prices.  Lots of markets only let you buy altcoins with bitcoin.',\n",
       " 'Do it now. Advertise with something along the lines of \"The site that doesn\\'t use your computer to mine bitcoin\" or something like that.',\n",
       " 'All over the internet, I notice you churlish cretins lauding the supposedly intellectual television program known as Rick and Morty to make yourselves appear more intelligent by extension, as you are ardent watchers of the aforementioned show. However, you piddling planarians only succeed in illustrating how vapid you really are, as Rick and Morty has the intellectual depth of a petri dish. Truly, the most noetic show is neither Rick and Morty, the Big Bang Theory, Jimmy Neutron, nor any other deluge of dri',\n",
       " 'Bought Bitcoin at $10',\n",
       " \"&gt;The Dow's more volatile than Bitcoin right now. Let's not go crazy here. \",\n",
       " 'And all if r/bitcoin would have a fucking meltdown over this lmao. Spot on though. Wish we could short this shit accurately ',\n",
       " 'PoS it not \"nearby\" as some of you say. The cryptocurrency scene never saw a project that successfully implemented a PoS algorithm that was mass adopted -- really, literally NO ONE can say PoS algorithms work flawlessly. PoW is the only path that we know for sure it works and we\\'re currently risking the decentralization aspect of Ethereum\\'s blockchain.Blockchains only exist because they\\'re decentralized and have consensus. **if this is not the case then it doesn\\'t make any sense. Go use a RMDBS instead**.I ',\n",
       " 'Better than bitcoin mining',\n",
       " \"I might argue Linux is the most used OS in the world. It runs most home network routers, almost every web site you ever visit, Android phones (tablets, Chromebooks), F'ing Bitcoin miners. Ever use a virtual machine? It has a high chance it was hosted on Linux or a specialized form of it. But given the open source and decentralized nature of the OS it is hard to say what it's saturation level is. To be fair I wouldn't be surprised if the three major OS's each had a third of the market at this point. Windows \",\n",
       " \"Bitcoin needs to die and will never be a widely accepted means of commerce:* When Bitcoins were at 20000$, each transaction cost about 20$. (Now about 1$)* The Bitcoin Network can handle about 10 transactions per second, compared to VISAs 24000* The energy consumption of the BitCoin network is about 60TWH per year, which close to the energy consumption of Colombia, a country with 50 million citizens.So it's great for gambling on when the bubble with burst, but nothing else.\",\n",
       " 'thanks bitcoin value bot.',\n",
       " \"Bitcoin.  Governments won't tolerate a money transmitting system that doesn't leave a paper trail to monitor.\",\n",
       " \"Note: I'm not a LN fan, but it doesn't do us any good when we don't stick to the facts.&gt; It makes no economic sense to lock up your own money with a poorly connected node, just in case you need to receive money from them. In LN, you don't lock up any money with someone who opens a channel with you.  They provide 100% of the funds and it will remain this way until a payment routes through you to them (or through them to elsewhere).As a new lightning node, they can't be paid without resorting to an onchain\",\n",
       " '&gt; All it takes is one bad article, real or fake, to affect market prices. So everyone must remain vigilant against social media trying to manipulate you. (hint: /r/bitcoin is compromised)  Feels very different to me. Good news, bad news, Bitcoin price does whatever the fuck it wants...',\n",
       " 'In other news, 73% of millennials would choose stocks over bitcoin.',\n",
       " 'Bitcoin subreddit is a joke.',\n",
       " 'That\\'s the long and short of it, really.&gt;\"This is not Bitcoin, right? Miners are not in control here. If there comes a day when they have majority hashpower and try to use it for evil, then it will basically just speed up Casper development.Ã¢Â\\x80Â\\x9d',\n",
       " 'Internet hype back then =/= The hundreds of shitcoins passing off as legitimate \"cryptocurrencies\" and the countless projects that don\\'t even need a token to begin with. So yes, the claim that most of the cryptocurrency community is full of delusional idiots is true. However, there will be a few cryptocurrencies that will emerge as the standard alongside Bitcoin. ',\n",
       " \"IMPORTANT:&gt;This survey took place in fall of 2017 Gee, when the price of bitcoin was fucking mooning beyond belief who would've thought young people would be more interested in lambo land than traditional stocks?Take that same survey today and see what results you get. \",\n",
       " 'Yeah they bottle the water from the water cooling systems at the Bitcoin farms. All that bitcoin taste with none of the calories!',\n",
       " 'What does this mean for bitcoin? ',\n",
       " \"What *doesn't* it mean for bitcoin??\",\n",
       " 'The troll cited this article:https://cointelegraph.com/bitcoin-cash-for-beginners/what-is-bitcoin-cash#story-of-the-hard-forkWhere it is clearly written that BTC has those fees (not BCH).Corrected.',\n",
       " 'Adam Back was right. They seems to have a big team full time job to waste their money doing these dirty stuff because they knew Bitcoin Cash will win based on its merits. They are so scared they had to spend money hiring people doing all these dirty tricks.',\n",
       " \"I want to laugh at these types of folk, but I know they're ultimately fucking their own lives, so I just feel bad for them. Kind of like the bitcoin cultists. \",\n",
       " 'Want to get a free promo code for a pizza place? Super mega MFA with biometric eye scans and a password with extremely stringent complexity requirements. Want to access your bitcoin wallet? We will send you your password in plaintext if you forgot it!',\n",
       " \" &gt; I'm going to say something that is unpopular:&gt; This article is spot on. Bitcoin will be basically dead in a about 6 months. Post from 6 years ago on the 90% drop. I loled.\",\n",
       " \"https://np.reddit.com/r/Bitcoin/comments/ka3mo/its_the_perfect_time_to_buy_bitcoins/c2ixnef/&gt;Wow, lmao.&gt;Bitcoin didn't catch on when it had the chance to which was back in may-June. people got way to greedy since it was basically free money for just running your computer and created a bubble.&gt;For the past 3 month the price of bitcoin has gone down consistently and is showing no signs of ever going up. No political or socioeconomic factors have yet done anything to effect the price.&gt;Bitcoins are \",\n",
       " 'Had a friend who was early in the Bitcoin game, he had a site where you could buy btc with fiat. This was something like 6 years ago. At a party he was going on and on about how he wanted me to invest, \"just buy a couple of bitcoins, they will be worth atleast double your money in a couple of years!\".. I was stupid, didnt buy any, just laughed at him..',\n",
       " \"**Overall Record 22-4-1** *Bank* : **100u** *Profit:* **+34.69***Average Value:* **1.90***Streak:* **1W****WWWWWWLWWWWWCWLWWWWWWWWLWLW***Yesterdays Pick*: **Glockoma ML (-135)** vs fam123*Todays Pick:*  **Mousesports Map 2 -3.5 (+103)** vs Navi**ESL Pro League 02:20 PM EST**Decided to buy up and get some extra value. Mousesports is easily the best Nuke team in CSGO. Navi going through roster turmoil not to mention Nuke is hard for Simple to carry. Overall I'll take the good value on mouse. Weak write up but\",\n",
       " 'You can Ã¢Â\\x80Â\\x9cloanÃ¢Â\\x80Â\\x9d money by margin trading. For example, if you have $100 to invest and you use 10x margin, itÃ¢Â\\x80Â\\x99s lke if you had $100 x 10 = $1,000. In other words you asked for a loan of $900 ! So if BTC price is $5000 and it doubles to $10000, you wonÃ¢Â\\x80Â\\x99t double your $100.  You will double your $900 loan + $100 , so you just won $1,000 ( 10x more). If it goes to 15,000, you wont win 3x but 30x! and so on...BUT... if BTC price goes down, and you have 10x margin, you will lose your money if it ',\n",
       " 'I approve this Fatwa. &gt; Salman Hasan Khan Qadri of Jamat Raza-e-Mustafa, which organised the conference, said, Ã¢Â\\x80Â\\x9cAs the government is not supporting Bitcoins as a legal tender, uncertainty is involved for those who are dealing with it. There is high chance that people might suffer huge losses in it. Bitcoins is not even physical currency or coins. Purchasing them is risky and similar to indulging in gambling and hence, the clerics have termed it as un-Islamic. We will ask people to stay away from dea',\n",
       " '#Yes ok, IÃ¢Â\\x80Â\\x99ll admit it. When crypto was in its mega hype stage I did think BTC was just going to continue climbing to 100k within pretty quick succession and make me a millionaire from a few grand.Yes ok, I did believe that old fucker about bitcoin going to $1million without this huge breakdown in sentiment.Yes ok, I did enter on the way up thinking it was just going to be easy money, so I could later tell all my niggaz that IÃ¢Â\\x80Â\\x99m the big cock of the gang now and for them to follow me and my money e',\n",
       " 'I believe that this is the worst case scenario. Even if im wrong i know Bitcoin will recover long term. Honestly I like Bitcoin being down for a bit so I can buy more now.',\n",
       " 'Found the guy that owns bitcoin :-)',\n",
       " 'I messaged BMO directly on Twitter and Facebook asking them if this is true. Will post updates on our conversation when/if they respond.**edit**: 30 minutes later, only bots giving me the run-around. I apparently do have a human on FB Messenger, but they haven\\'t answered me yet either.**edit 2**: took about an hour to get a response: \"That is correct, Bryden. ^TO\"I\\'ll be moving my BMO business to a bank that allows cryptocurrency exchanges/purchases.**edit 3**: Conversation history, condensed but direct quo',\n",
       " \"I'm going to be popping champagne the day bitcoin just deletes itself and takes all these autistic children's money with it\",\n",
       " \"It's funny that I can take my credit card and go get a $10,000 cash advance to do who knows what. But I use it to buy $10,000 in Bitcoin and they throw a shit fit.\",\n",
       " \"Raise block size = people stop moving to SegWit and LN becomes useless.LN is Blockstream/Bitcoin Core's flagship product which is supposed to make them the money to pay back tens of $M in investor money they seem to be spending at a breakneck pace. They destroyed and split the community over a simple 1MB increase, raising the limit will only legitimize BCH that much more.\",\n",
       " \"If only he'd bought bitcoin when he was born he'd be the worlds richest male too\",\n",
       " 'Bitcoin mining kappa',\n",
       " 'There was a guy from like 4 years ago that was like him posting from the future and saying btc did this and that. He was pretty damn close on everything. \"On average, every year so far, the value of Bitcoin has increased by about a factor ten. From 0.1 dollar in 2010, to 1 dollar in 2011, to 10 dollar in 2012, to 100 dollar in 2013. From now on, there\\'s a slight slowdown, as the value increased by a factor ten every two years, to 1,000 dollar in 2015, to 10,000 in 2017, 100,000 in 2019, and 1,000,000 in 202',\n",
       " \"Bitcoin mining on cpus wouldn't even pay them back the amount had to pay an swe to integrate a bitcoin miner into the client.\",\n",
       " 'One Bitcoin will be equal to one Jeff Bezos',\n",
       " '&gt;An ESEA rep replies to a thread and people just reply with bitcoin mining jokes Wonder why that is',\n",
       " \"Still reading this sub because some users post interesting shilling but yeah mods here are pretty much a bunch of sold out pieces of shit. They'll act as if their bitcoin bullshit should interest everybody, everybody come and care about some cryptoshit but we're not shills we swear.Edit : Probably gonna get banned because I called mods pieces of shit, which they are. This sub allows you to shill here, but don't call the shills pieces of shit.\",\n",
       " 'Well this is not true.  I just quit my job and my last day is May 2nd, and since I wanted to survive on bitcoin/litecoin, I am pretty sure we are going to drop down to $4k/$13 so that Jesus can get his final revenge on this sad sad Jew. ',\n",
       " '\"Grandpa, what was the best decision of your life? Grandma says it\\'s probably when you decided to ask her out.\"\"Sorry dear, that\\'s not it...\"\"When you cashed out of Bitcoin in 2017?\"\"Not quite...\"\"When you noticed the dog getting sleepy for no reason and acted on gut instinct to check for a gas leak thus saving the entire family?\"\"Nah.\"\"Then what??\"\"One time I copied a file on my computer so I didn\\'t have to redownload 20 gigabytes, allowing me to play Overwatch an hour sooner than my peers.\"',\n",
       " \"Dude was getting paid for fights in bitcoin back in 2015. Thats' kinda crazy.\",\n",
       " 'Like being a bitcoin shill?',\n",
       " 'This type of statement only further proves that the Status Quo is still unable to grasp the tech behind Bitcoin and are living in denial. One of the fundamental concept powering Bitcoin is \"trustless\" itself, yet these guys keep making statement about trusting Satoshi. Satoshi has no control over Bitcoin, its the people powering the network ffs.',\n",
       " 'The only parts of bitcoin that have grown in these 9 years are + Number and bizarreness of cryptocurrencies+ Ugliness and complexity of code+ Discord and hatred of the community+ Scammers, swindlers, and charlatans swirling around it+ Number and variety of crimes using it+ Bogus startups and projects based on it+ People miserable and bankrupt because of itWhat else?',\n",
       " 'Eh, the steam engine was invented in the 1st century CE, but nobody found a way to put it into productive use until about 1700 years later. [(link)](https://en.wikipedia.org/wiki/History_of_the_steam_engine)So maybe someone will find a practical use for Bitcoin in the next 1700 years.',\n",
       " 'On a similar note: &gt; In December, LendEDU polled 672 active bitcoin investors and discovered that 18 percent of them had used a credit card to pay for a bitcoin purchase. Of those, 22 percent indicated they hadnÃ¢Â\\x80Â\\x99t paid off the credit card debt after buying bitcoin.[Source](https://www.creditcards.com/credit-card-news/bitcoin-credit-card-issuers-bar-purchases.php)',\n",
       " \"That's probably how bitcoin started..\",\n",
       " 'That is bitcoin ',\n",
       " \"And that's of Bitcoin investors. Not random University students. That's like saying 1 in 5 men has been to space. To find men we surveyed NASA employees in space suits. \",\n",
       " 'What is the going rate to exchange Karma to BitCoin? ',\n",
       " 'I was wondering why he needs an Bitcoin alert to toggle his mining rig at home. He is a coder, he can automate the whole process.',\n",
       " 'Before and after investing in Bitcoin.Left is before right is after.',\n",
       " 'Corporate shills, advertising a crypto currency for a guy named Roger Ver:/u/Pravusmentis/u/zcc0nonA/u/Civics/u/Skitrel/u/ruach137/u/KingContext/u/jscoppe/u/cojoco/u/TheGhostOfDustyShameful sell outs. What did your integrity cost?Sidebar advertisement for fake bitcoin:&gt; }&gt;/r/HailCorporate condemns the moderators of r\\\\bitcoin for working to break the functionality of btc, forcing early adopters and people who want to use bitcoin to upgrade to Bitcoin Cash&lt;{The hover over alt-text for the link sugges',\n",
       " \"That's the all point with decentralizing something... of course, they won't want it. That's why bitcoin was created for. Take the power from the governments, banks or big corporations and give it back to us.\",\n",
       " 'Guy on the left is drowning in mortgage, credit card and car debt and has negative net worth and must work to pay the interest to keep the banks happy. Guy on right invested in bitcoin in 2010, is retired, and lives a nomadic non-consumerist minimalist lifestyle.',\n",
       " \"**Overall Record 23-4-1** *Bank* : **100u** *Profit:* **+36.69u***Average Value:* **1.90***Streak:* **2W****WWWWWWLWWWWWCWLWWWWWWWWLWLWW***Yesterdays Pick*: **Mousesports Map 2 -3.5 (+103)** vs Navi*Todays Pick:*  **EnvyUS Map 1 ML (-110)** vs AGO**ESL Pro League 01:00 PM EST**Today we're in for the battle of last place in pro league. Everything has gone to shit for EnvyUS this season but they do have their pro league spot to fight for. This match will likely decide which team gets relegated. That being sai\",\n",
       " 'Things like that will give Bitcoin maximalists a hard time to come up with arguments against Ripple. At least they do something to develop the ecosystem instead of just filling up their own pockets and raging war against each other.',\n",
       " \"What if ESEA's bitcoin mining was actually rewarding us by giving our GPUs thermal issues and granting us wallhax?[6]\",\n",
       " \"Just part of the ESEA anticheat. If you've got a defective GPU, their bitcoin miner will just destroy it outright by melting it away.\",\n",
       " \"This actually describes this sub pretty well. On the one hand we want bitcoin / cryptos to become a mainstream way to pay for goods and services but we don't want to spend them because we are afraid we will lose out on gains. At one point will the hodlers be satisfied with the price and start using them as currencies?\",\n",
       " 'Odd than, that most of the people who keep bragging about bitcoin have absolutely no idea how it works...',\n",
       " 'Jared has stolen the show since the start for me. I had already seen Woods as \"Gabriel Susan Lewis\" on *The Office* where he was hilarious while playing a far less-likable character.                 Considering none of the other main characters are very likable (by design) he really is the saving grace and the shows moral compass. Woods\\' performance is incredibly moving and uplifting. His never-ending optimism, mixed with his ***extremely dark past***, make Jared such a compelling and hilarious character. I',\n",
       " \"about the bitcoin thing, I'm no coder but couldn't he just have it automatically mine or not based on the price? Seems like a weird thing to do manually.Shit was hilarious though but I just assumed that is an extra step which someone like Gilfoyle would automate.\",\n",
       " \"That's not the point, its that /r/hailcorporate is now doing the thing it intends to document and bring to attention.Not just advertising bitcoin, but advertising the company-safe clone.\",\n",
       " 'Some context: 1. Ice was friends with a guy called \"DJ\" who was one of many stream-snipers that showed up at his apartment.2. Ice is dumb as fuck and can\\'t spot a liar. DJ has free reign to lie about how cool he is.3. DJ was mentally unstable and lied a lot, he could get \"any celebrity on a phone with Ice\"4. basically he wanted to make himself useful for the stream so he could remain on it.5. Although he consistently lied, and everyone saw through this, Ice wanted to give him the benefit of the doubt.6. DJ ',\n",
       " \"Yes, it does. It's people being disingenious. The mods of this subreddit must obviously be aware of what they are doing in terms of advertising for a company (bitcoin.com).I read the links, they refer to Bitcoin Cash as an upgrade. Bitcoin Cash is run by the people behind bitcoin.com not bitcoin.org. Eitherway its advertisements on hailcorporate. Ridiculous.\",\n",
       " '&gt; bitcoin is in no way bitcoin.comNo, but \"Bitcoin Cash\" is, that\\'s what is being advertised.&gt; where do you get these ideas? Roger Ver owns bitcoin.com, proof:https://www.whois.com/whois/bitcoin.com',\n",
       " \"I don't give a toot what /r/bitcoin is doing.  This sub isn't about censorship, it's about advertisement.  You are advertising on a sub that is against advertising.  And you are abusing your power as a mod to do it.  If you want to take up a crusade against /r/bitcoin, make a different subreddit.  \",\n",
       " 'bitcoin.com is owned by Roger Ver. Its the Bitcoin Cash website.',\n",
       " \"bitcoin.com is owned by Roger Ver CEO of Bitcoin Cash. Bitcoin Cash patched rather than scaled. Changing a limit is easy (and foolish) developing layer 2 solutions is proper scaling.That's besides the point, the point is HailCorporate is being used to shill a corporate centrally controlled alt coin and the mods are happy with it.\",\n",
       " '    Our 1080Ti who art in SLI,    Hallowed be thy cores.    Thy Kingdom Come.    Thy will be done    in PUBG as it is in Crysis.    Give us this day our daily frames,    and forgive us our stutters,    as we forgive those who mine against us,    and lead us not into bitcoin,    but deliver us from consoles.',\n",
       " 'and their jackass ceo called bitcoin a fraud',\n",
       " \"&gt;I don't see what bitcoin.com has to do with any of this or why you keep bringing it upHe says, whilst looking at his bitcoin cash wallet\",\n",
       " 'I think the idea of the inventor\\'s anonymity is to have a decentralized currency in every sense of the word. Satoshi is Japanese for \"clear\\\\-minded\" and Nakomoto literally means \"one who comes from the center\".There\\'s more at stake than compromising the creator \\\\- by having a \"face of Bitcoin\", the project itself could be compromised. The media would latch on to the creator, and any slip up or past discretion would be connected to the project and could affect the market. They could be framed by any governme',\n",
       " '&gt;if r/bitcoin wanted to be not about bitcoin it should have taken a different subreddit, reddit/com showed mods can cahnge sub from what the users want to what the mods want so we are doing the very same thing in protest. The old Reddit protest-shillaroo',\n",
       " \"This is kinda messed up. So most people who have invested in BTC think Lightning is the only thing that can save Bitcoin scaling problem (and maybe sidechain, but same same).And here's this guy who's one of the most notable Lightning advocates out there, basically telling people to use lightning without using Bitcoin, saying you don't even need Bitcoin for lightning to work.The future of BTC is in the hands of these people. I say this as someone who own same amount of BTC and BCH, this is messed up.(EDIT)P.\",\n",
       " \"&gt;I don't give a toot what /r/bitcoin is doing. This sub isn't about censorship, it's about advertisement. You are advertising on a sub that is against advertising. And you are abusing your power as a mod to do it.[/r/HailCorporate mods advertising something](http://www.reactiongifs.com/r/mshckd.gif)\",\n",
       " '#BEN SIMMONS bought Bitcoin at the top. ',\n",
       " 'Let me start by saying that I don\\'t know anything beyond the absolute basics about Bitcoin. I don\\'t know anything about Bitcoin cash or this apparent dispute on r/bitcoin.What I do know is that under the comment box it says, in red letters mind you, \"Please treat people with respect.\" Yet we have a mod, u/zcc0nonA, putting disrespectful flair on a post: \"salty salty ignorance\". We have the same mod hurling insults at anyone who respectfully disagrees with him: butthurt, troll, child, ignorant, trash.Name ca',\n",
       " '**Overall Record 24-4-1** *Bank* : **100u** *Profit:* **+38.99u***Average Value:* **1.90***Streak:* **3W****WWWWWWLWWWWWCWLWWWWWWWWLWLWWW***Yesterdays Pick*: **EnvyUS Map 1 ML (-110)** vs AGO*Todays Pick:*  **Space Soldiers -1.5(+115)** vs Heroic**CSGO GG.Origin 09:00 AM EST**Final match before deciding who qualifies for IEM Sydney. Both teams are in good form but SS are peaking at the moment. They are easily top ten team and have some impressive wins against top teams in pro league. Space soldiers are bett',\n",
       " 'You can\\'t shill for an Open Source project. You can shill for a corrupt corporate hostile takeover though, which is what Ver\\'s \"bitcoin\" cash is.  BCH has nothing to do with Bitcoin at all, except as another of Ver\\'s attacks on it.The mods here are the very thing this sub is designed to point out.',\n",
       " \"I remember early summer in 2017. Got my 1070 FTW for $460 back then. No Bitcoin bump in price, but a recently released 'fee' Edit: might have been 2016. I don't even remember. Had it for for a while now Edit2: July 2016. Just the early release high demand period \",\n",
       " \"IMO it was never seriously going to replace dollars. There's very very few things that bitcoin does that real money doesn't do already\",\n",
       " 'And people should use Bitcoin as it was designed, as P2P currency, to dismantle the corrupt and putrid banksters world... I refuse to pay with fiat. Only BTC!',\n",
       " \"/u/zcc0nonA can I just say that, regardless of whatever is going on with the crypto subs, it was expressly *your* decision to bring that drama over to this sub. I keep seeing you defend your decision by saying that the people calling you out are shills for some other crypto bull, but in the end you're the one that decided to drag this sub into your other sub drama.Hail Corporate never had anything to do with crypto, and 99% of us couldn't care less about it. We come here to talk about reddit shilling with o\",\n",
       " 'In essence, when a lot of people bet against an asset on margin a small move up against their bets will clean house, wash their margin. Money goes to whoever bets against those betting against the asset, which means whoever is betting in favor of the asset.Bitcoin shorts (bets against it) were at an all time high since a few days ago. So either whales (people with large amounts of money) and/or exchanges started going long (betting in favor of Bitcoin and against those who were shorting). Since they have en',\n",
       " 'You have $10,000.  You borrow $30,000 from the broker using your $10k as collateral.  You buy 6 bitcoin with this $40,000 ($6666.66 per BTC).You are hoping the price of bitcoin will go up.   Say it goes up to $8000, you can sell your 6 bitcoin for $48k, pay back the $30k, and are left with $10k + $8000 in profit.  (Compared to not using margin, you buy 1.5 BTC @ $6666 with your $10k and sell for $12,000 (@$8k) and only made $2k.)However, if bitcoin goes down you could be \"liquidated.\"  You still owe $30,000',\n",
       " 'Damn you. You just made me lose $4.2 million in Bitcoin.',\n",
       " 'How does it feel losing $37 in bitcoin?',\n",
       " \"Honestly, losing $18.61 in Bitcoin ain't so bad.\",\n",
       " 'How would he have even spent $3.4 million in Bitcoin?',\n",
       " \"Yeah, bitcoin users don't need elaborate scams to lose $30k, all they have to do is wait.\",\n",
       " \"Yes, in the past was a good client (I actually use a old version of uTorrent) but since the developers add bundles, ads, hidden bitcoin miner and more malware, it's 99% virus and 1% torrent client.\",\n",
       " 'It is actually a Bitcoin Cash supporting ATM, and the Bitcoin.com team sold it to them.',\n",
       " 'Bitcoin = mathematical. Woz = mathematical. So: Woz = Bitcoin!',\n",
       " '\"THEY USED TO USE BITCOIN\"https://imgur.com/a/etoB5',\n",
       " 'They advertise for Bitcoin cash on community info, which is conflicting to the purpose of the sub.',\n",
       " \"I'll give you my unofficial opinion. I'm no longer an official team member, though I'm still an active community member and Komodo believer. (I left the team to resume my MBA program, which I was in before I discovered blockchain, and had always planned on finishing my degree.)Komodo is built to be used. As such, it requires people use it for its value to go up.On the BarterDEX side of our progress, we're lacking in Bob-users providing liquidity to the network. There are things being done in the background \",\n",
       " 'When you loot a safe first and you get a bitcoin...',\n",
       " 'Well, not any more, now you have to buy your fat people haters on the dark-web, assuming you have enough BitCoin.',\n",
       " 'This suspension is good for bitcoin',\n",
       " 'I know you are joking but since this news broke bitcoin has begun rebounding.',\n",
       " 'Awesome! Bitcoin is going to blow up now!',\n",
       " '&gt;The memory that I ~~almost bought Bitcoin in 2012~~ spent my Bitcoin on drugs in 2013.',\n",
       " 'Nothing screams louder that I support Bitcoin then a Bitcoin tie...',\n",
       " '\"Ion know how y\\'all niggas do this 9 to 5 shit. You could of invested in bitcoin like me but instead you chose to fail at life\"',\n",
       " 'Crazy to think that the difference in time between when this video was shot and when Bitcoin was created is the same amount of time as from Bitcoins creation to now. ',\n",
       " 'I was downloading mp3s in high school and making mix cds for my friends. Talking with another friend of mine, who would literally buy the cds from me, chatted about how now I own this mp3 and anyone can own it on this sharing network. I eventually deduced that if you could send a song, but delete it on the original computer once it is received, that you could do an exchange that way with buying things. Then we deduced you could do it with money and when something like that comes out we should get in on it, ',\n",
       " '\"So how much you got?\"\"Half a bitcoin that I bought together with the squad. We gon\\' be rich\"',\n",
       " 'This is good for bitcoin',\n",
       " 'Wow, looks like the Bitcoin chart!',\n",
       " '\"also invest in bitcoin\" ',\n",
       " \"Buying because a guy predicted the price in the future is really lame and idiotic.  Any person that makes predictions is making them to manipulate the minds of sheeple to act in his own interest.  Make your own predictions, expectations and calculations and set your own goals. For you, not for others.  Who is buying BTc because in x years the price will be xxx is an idiot. You buy BTC because is the only way to get rid of all these bastards banksters and start over with your own money.  I don't believe in g\",\n",
       " '**Bitcoin always crashes u^p^p^p^p^p^p^p**',\n",
       " 'Fuck you bitcoin.I backed the bear And the bull is tearing me to pieces.Congrats to hodlers and believers.',\n",
       " 'The original team behind The Pirate Bay hosted the servers themselves in their own data center. They have a hosting company called [PRQ](https://prq.se/). They acted as their own ISP peering directly with upstream ISPs through an open interchange (IX). To do this all you need is facilities, a fiber cable to the IX and know how to announce your routes with BGP.They relied (and still relies) heavily on net neutrality: that other companies will treat their IP packets exactly the same as all other IP packets. T',\n",
       " \"Doesn't this mean that the /r/Bitcoin mod should be closed, per the Reddit rules?\",\n",
       " 'Load up a save from 5 years ago. Put my entire saving at that time into bitcoin. ',\n",
       " \"&gt;Anyone else less patriotic after getting into crypto?&gt;40 comments in one hourHmm this looks like an interesting discussion&gt;Bitcoin and blockchain technology shows that we don't need countries.I give up.\",\n",
       " 'Bitcoin exploding',\n",
       " '21M is the maximum supply for bitcoin. ',\n",
       " 'Ah, yes. A fresh new meme of Bitcoin and friends. ',\n",
       " 'The story is seven years long. HereÃ¢Â\\x80Â\\x99s the most possible condensed version: Bitcoin was intended to scale on chain. Transactions on a worldwide ledger. Decentralized through nodes. Peer to peer.  A corporation came in and bought off the top bitcoin developers. Convinced them to force transactions off-chain into their own for-profit transaction processing hubs. So they can get filthy rich off of bitcoins usage. The community mutinied. Bitcoin cash was created to restore peer to peer decentralized on-chai',\n",
       " 'Bitcoin. Buy high sell low',\n",
       " '&gt; **the definition of a money transmitter does not have any exclusions for whether the transmitter has \"control\" over the transmitted money or not**and that is the beauty of Bitcoin, **it requires no 3rd parties for transactions** and you do not need to be online to receive payments **any time, anywhere**LN is **NOT** in any way peer to peer cash, and it removes **multiple** features from Bitcoin **and completely damages the foundation of Bitcoin**, just like every change to Bitcoin the past few yearsits',\n",
       " '*Storing your files on the Bitcoin blockchain.*',\n",
       " 'Must have been 13k of Bitcoin',\n",
       " \"As a Dogecoin dev, I'm following in amazement at the:1. Dogecoin Dark launches2. Dogecoin Dark rebrands as Verge3. Suddenly Verge is a credible currency: https://www.theverge.com/2017/12/30/16796716/dogecoin-litecoin-altcoin-bitcoin-coinye-west4. ???5. Everyone looks amazed it wasn't a credible currency.\",\n",
       " '\"I\\'m thinking $8,008,135 by 2021\"- /u/Tyrantt_47 reveals new bitcoin price target ',\n",
       " \"All of this is such a waste of time and resources.I honestly can't believe it really.So much theoretical debate and arguments which gain us nothing. Nobody actually making anything tangible, usable, and real.So glad Satoshi never sat around mulling this crap over, otherwise he never would have launched Bitcoin to begin with.\",\n",
       " 'Bitcoin was released in 2009.  \"Early Adopters\" mined it on their shitty Dell laptops at the rate of 20 BTC/Day.',\n",
       " 'Ã¢Â\\x80Â\\x9cguy who owns a fuck ton of bitcoin thinks it will become more valuableÃ¢Â\\x80Â\\x9d',\n",
       " 'This is just in... Bitcoin has broken the toilet on the international space station ',\n",
       " \"Reddit User Strategist /u/Tyrantt_47 'Confident' Bitcoin Price Will Reach $69k in 2018\",\n",
       " \"Wait people brag about not voting?...also, the vegan. Bitcoin traders are introverts where I am unless they've had success or seen firsthand success with it.\",\n",
       " 'Hey guys this is organic growth we just need bitcoin to mature 9 years more okayGet your pickaxe and shovels ready in minecraft! We are going to mine new comedy gold!',\n",
       " 'Why does Charlie Lee have any respect at all? All he did is copy bitcoin and some people act like heÃ¢Â\\x80Â\\x99s a crypto genius',\n",
       " 'LPT: Bitcoins also have ridges. If anyone ever tries to sell you a Bitcoin with smooth ridges, they are scammers.',\n",
       " \"he cloned bitcoin and was only popular for first mover advantagehe pumped his own shitcoin with total lies and fake companies and dumped it all at ATHhe was going to be caught for insider trading from his old company where he only got a job there to squeeze his shitcoin onto the platform and quit as soon as it was therehe pumped and dumped on fake China shut down news multiple times,he plays the nice guy image, when in reality, he's a con artist much like the other idiots he associates with\",\n",
       " \"**Overall Record 24-5-1** *Bank* : **100u** *Profit:* **+36.0u***Average Value:* **1.90***Streak:* **1L****WWWWWWLWWWWWCWLWWWWWWWWLWLWWWL***Previous Pick*: **Space Soldiers -1.5(+115)** vs Heroic*Todays Pick:*  **North -1.5 (-151)** vs Alternate Attax**ESL One Belo Qualifier 06:00 AM EST**Today we have a lower bracket match for the ESL One Belo Qualifier. Attax goes into this match off the back of some big upset wins online but I'm not convinced it was due to them playing great. The team overall is really s\",\n",
       " '/r/bitcoin',\n",
       " 'The past 3 months every single mid 30s engineer / office worker coworker has asked me over and over about bitcoin.Can you buy some bitcoin with your US account and sell it here and I\\'ll give you 5%? Can you trade this for me next trip to the US? Can you open a wallet for me? etc etc etcThese guys are in deep and every single time I told them \"this shit is stupid man I want nothing to do with it\" and they couldn\\'t see anything but dollar signs as it kept climbing. I bet these fuckers bought high even, at lik',\n",
       " 'Go back to when bitcoin was created and invest all 200 dollars.',\n",
       " 'January 9th, 2009. The day Bitcoin first went online.',\n",
       " 'Well, private tracker is a small world. I\\'m one of the \"big guy\" in there and I can tell you, it\\'s always the same people everywhere. We collect and reshare and rip and encode everything. All you see getting down to your public sites, we\\'re making this stuff exist... all of it, except scene stuff.I\\'m one of the founders of PTP. That came as an extension of what we were already trying to achieve on KG, branching into the mainstream... and restricting it to movies alone. It works well, we are all collecting m',\n",
       " \"The first person to notice was a man, standing in his garage. His name would not be recorded in history, but he was nonetheless the first person to realize the apocalypse.His name was Jeremy Schmidt, but he went by Jerry, and he had (just yesterday!) purchased a brand-new kayak. Now, he was having a sort of conundrum: he didn't really have room in his garage to just leave the kayak on the ground, and his backyard had just recently been sprayed. So he had been considering a somewhat genius idea: use zip-ties\",\n",
       " 'The hell is going on with those tags.   \\\\#bitcoin \\\\#thot',\n",
       " \"Damn, nice work, congrats man! My best advise, even if it feels like monopoly money, still treat it very seriously for investing, and don't get cocky. I lost a lot of money after my initial Bitcoin gains many years ago, because of how surreal it all felt and I just got cocky/greedy and loose with my investments. Always work to be better at investing/trading/risk management. Especially when you get a large portfolio like you have, risk management becomes extremely important. Best luck to ya!\",\n",
       " 'Really, do you? Change the title at least, if you repost https://www.reddit.com/r/Bitcoin/comments/75r3fz/i_always_carry_around_a_10_trillion_dollar_bill/  ',\n",
       " 'The amount of people who thinks this is actual \"money printing\" is sad. It\\'s an adjusted monetary base. Look at the damn [wikipedia page](https://en.wikipedia.org/wiki/Monetary_base) before you start commenting on it.&gt;The monetary base should not be confused with the money supply which consists of the total currency circulating in the public plus the non-bank deposits with commercial banks.Furthermore, this graph means [basically nothing](http://www.slate.com/blogs/moneybox/2012/08/03/the_monetary_base_i',\n",
       " 'There is already too much arguing about who Satoshi is, and what would they think about scaling,  but we already know what the person Satoshi turned the project over to thinks about Bitcoin Cash.',\n",
       " \"It's almost like they're trying to *pump* up good news so they can *dump* their Bitcoin at a higher price...\",\n",
       " \"You're not just fun at parties, you ARE the party lol. What a sweet collection. What do you do with them during downtime? Mine Bitcoin? Model black holes? Watch entire seasons of a show at the same time?[I love those Slotted Steel Angles. All kinds of great uses.](https://imgur.com/a/frCI1) \",\n",
       " 'I imagine him sitting there with his blackout curtains drawn in the middle of a sunny day typing out reddit posts about how Warren Buffet is a hack who doesnÃ¢Â\\x80Â\\x99t know anything about Bitcoin Ã°Â\\x9fÂ\\x98Â\\x82',\n",
       " \"It was oversold. Went from being around half of the BTC market cap to around a third. At a minimum, I expect it to return to it's previous standings in relation the Bitcoin due to the numerous protocol upgrades slated for later this year. \",\n",
       " \"&gt; You think it's a bitcoin hater spamming the network?No, we know exactly who it is, and probably why they are doing it, which is to game the network to maximize fee revenue. This is a exploit not envisioned by satoshi, because it creates a perverse incentive where those who are supposed to be working for the *good* of the network with greed are instead working against it.From the [LaruentMT article posted by OP, see part 2](https://medium.com/@laurentmt/good-whale-hunting-d3cc3861bd6b) -&gt;These charts\",\n",
       " 'IÃ¢Â\\x80Â\\x99m not even subscribed to this subreddit, and IÃ¢Â\\x80Â\\x99ve seen this same exact post on this subreddit from r/all 3 times now.this subreddit is populated by people who are so invested in bitcoin that theyÃ¢Â\\x80Â\\x99ll do/say anything to project that itÃ¢Â\\x80Â\\x99s succeeding ',\n",
       " 'Why is there not a Bitcoin reddit where an up vote is equal to a fraction of a Bitcoin?Ã¢Â\\x80Â¦This would totally solve the Buttcoiners plagueSnapshots:1. *This Post* - [archive.org](https://web.archive.org/20180414193623/http://www.businessinsider.com/cryptocurrency-startup-pocketful-of-quarters-12-year-old-ceo-trying-to-solve-common-gaming-frustration-2018-4), [_megalodon.jp\\\\*_](http://megalodon.jp/pc/get_simple/decide?url=http://www.businessinsider.com/cryptocurrency-startup-pocketful-of-quarters-12-year-o',\n",
       " 'This is good for bitcoin.',\n",
       " \"But it doesn't really matter what you think. Bitcoin has come to destroy all governments and bring about the libertarian utopia of my dreams. This is inevitable and you will have no choice in the matter. Your ability to oppress other people via government thugs is coming to an end very soon. Hail BitcoinSnapshots:1. *This Post* - [archive.org](https://web.archive.org/20180414210752/https://i.redd.it/2iwpv20svxr01.png), [_megalodon.jp\\\\*_](http://megalodon.jp/pc/get_simple/decide?url=https://i.redd.it/2iwpv20\",\n",
       " 'So unfortunately for you your tax accountant is wrong. I am an accountant and talked to the IRS directly and for 2017 you are fine reporting only \"cash out\" to fiat. In the tax year for 2018 you will need to do every transaction from lets say bitcoin to ripple, or ripple to ethereum. This is the wild west right now and there are really no official rulings until 2018 so if you do \"your best\" and make a \"reasonable\" attempt you will be fine. I personally did treat everything as a taxable event and would encou',\n",
       " 'Ok IÃ¢Â\\x80Â\\x99ve got some intel on this.  Both addresses in question belong to the same person.ItÃ¢Â\\x80Â\\x99s an Australian lad who (while I wonÃ¢Â\\x80Â\\x99t dox his IRL identity) online uses the nym Ã¢Â\\x80Â\\x9cpondseaÃ¢Â\\x80Â\\x9d.He is very involved with [KOMODO](https://www.reddit.com/r/komodoplatform) (a fork of Zcash) as well as the intimately related, soon-to-launch, Ã¢Â\\x80Â\\x9cdecentralized atomic swaps exchangeÃ¢Â\\x80Â\\x9d (smh) called [barterDEX](https://komodoplatform.com/decentralized-exchange/) (formerly known as [Ã¢Â\\x80Â\\x9cBitcoin Dark',\n",
       " 'This is Aladeen for bitcoin',\n",
       " \"and which one is hacking again? Warrior is lagging all over the place cause your frames are dropping harder than bitcoin and the DH is not hacking, that is old bug which doesn't correctly update characters position after a blink if they do not move \",\n",
       " 'You know how I discovered IOTA?A programing exercice at university had a function called \"iota\". I got curious about that name and looked it up a bunch of months ago.The first results were about IOTA (the cryptocurrency) and that was around the time I had been getting curious about Bitcoin. Reading about the project, I thought \"this can only surpass everything else out there\" and it is the reason why I entered this market.Fast forward a bunch of months later, I made great profit, still am super confident ab',\n",
       " 'Step one: Buy a fuck ton of bitcoin.Step two: Announce to Muslims worldwide that Bitcoin is now Halal.Step three: Profit.',\n",
       " 'IÃ¢Â\\x80Â\\x99m muslim, and IÃ¢Â\\x80Â\\x99ve never heard anyone ever discussing whether Bitcoin is halal. ItÃ¢Â\\x80Â\\x99s not like some dude said itÃ¢Â\\x80Â\\x99s halal and suddenly 1.6 billion Muslims are like Ã¢Â\\x80Â\\x9cwooo letÃ¢Â\\x80Â\\x99s investÃ¢Â\\x80Â\\x9d. Muslims arenÃ¢Â\\x80Â\\x99t a hive mind.',\n",
       " 'This is really creative. You see, once the blocksize debate goes away, all these imaginative people can come up with all the amazing use cases to grow the ecosystem.The shackles were removed... full steam ahead for Bitcoin Cash! Cheers to all the creative people!',\n",
       " '2 fingers inside fist is the universal Bitcoin hand gesture.',\n",
       " \"OP: Here is some tough love my friend.   Reread the disclaimer on the side of the subreddit like others have done.  I was asked for a personal prediction and thatÃ¢Â\\x80Â\\x99s what I made.  I always advise that if you are going to buy XRP, do it by dollar cost averaging.  Don't mortgage the house, sell the family car, or cash in the kid's tuitions to buy XRP.  If my prediction is right then I'm right and if I'm wrong, then I'm wrong, but it is ultimately up to you to buy or sell XRP.  Do you understand that?If yo\",\n",
       " 'Like my friend who\\'s deep into Bitcoin mining.  When I asked him what his total layout was he said he\\'d break even in 9 months.  Then I asked him how much electricity his rig was using per month and he just went blank.  Unless there\\'s another crypto boom he\\'s probably not gonna make that money back.But all he can see is \"I made $55 this month doing NOTHING!\"... Err... no...EDIT: Oh, and he keeps adding at least one 1080ti per month to his mining rig (cycling out the 1070ti\\'s he\\'s been using), setting him an',\n",
       " 'Funny thing is how the BÃ¢Â\\x80Â\\x99s are angled like the Bitcoin logo.',\n",
       " 'Bitcoin value always flip flops.',\n",
       " \"Point and Figure https://i.imgur.com/3IDlia3.png  We have confirmed a column of 5 O's.  Our last column of X's was a long column of 22 X's.  A 50% retrace of this column would put under 7399 and now that our O column has confirmed this is more likely to happen before we can continue upward.Let's look back at our chart drawings from 4 days ago https://www.tradingview.com/x/vDDIAO6U/  Both the smaller kumo break out and the larger higher high break out played out very nicely.  A strong move up without very li\",\n",
       " \"Don't forget when you send 1 Bitcoin you're actually sending 100 million Satoshis\",\n",
       " \"Thing is, there are so many parallels to 2014 being drawn and so many people expecting things to play out like in 2014 that I'm pretty confident it won't happen. Just too darn obvious.Also, TA is great and everything, I'm not saying it isn't a useful tool. Just make sure it isn't the only one in your arsenal.Don't forget about:1) crypto-specific fundamentals: adoption, legislative environment, stuff like that2) broader economic fundamentals, anything from interest rate trends to exogenous shocks like the on\",\n",
       " 'The difference is that Facebook takes your private info and monetizes it, whereas banks take your money and monetizes it. Huge difference.Banks are legally responsible for taking care of your money, so even if you don\\'t \"own\" your own money when you save it to bank, that doesn\\'t really matter, because banks have obligation to pay back to you. Compare that to Facebook situation where you have nothing to win against Facebook if you sue them because it\\'s all in their TOS that they will use your data for their ',\n",
       " 'lol, I miss those days. It was so fun waking up and seeing the price doubled overnight.Forget about price for now. If we want to make Bitcoin Cash as Cash for the world, we got lots of work to do. It is a sacrifice worth doing because we are ushering in a new era of economic freedom to all. We need to do this for future generations. They are depending on us.',\n",
       " 'Best case scenario, bitcoin reaches $999.999,99 at the day of his prediction. Best of both worlds, I can sacrifice those $.001 gains for a bit of fun.',\n",
       " '&gt;The amount of money circulating in Bitcoin, which topped $ 11,500, is $ 185 billion.Bitcoin seems to be rather bad at actually circulating.',\n",
       " \"Please tell me people don't actually believe Bitcoin will one day have a market cap higher than every single first-world currency combined. That's plain delusion. \",\n",
       " 'And this is why my dear friends, why owners of Mastodons like Zcash of Matthew Green and Bitcoin LNÃ¢Â\\x80Â\\x99s Neha Narula, Peter Todd and their ilk fear IOTA. They see their Blackberry moment. Then theyÃ¢Â\\x80Â\\x99ll be out of a job. Then theyÃ¢Â\\x80Â\\x99ll have to beg CfB for a job. Then CfB will just trollface them.',\n",
       " 'Mine started farming bitcoin for them',\n",
       " \"This is a deflection.  Block chain size is a real issue, even today.It's an issue with Bitcoin, and slightly moreso with Monero.  Don't get me wrong, I'm an XMR fan &amp; miner, but let's not pretend it's not a major issue.\",\n",
       " \"Yes I'd buy Bitcoin and drop out of school\",\n",
       " 'I know of only one user that has been banned because he messaged me. [PraiseTheGClassStar messaged me too](https://i.imgur.com/wqQYepJ.png), does that mean I must be him as well? You have literally lost your rocker if you\\'re going to move from \"everyone who disagrees with me is a bitcoin shill\" to \"all the users against me are just one user on multiple accounts.\"&gt;actual moderation It\\'s censorship and you know it.',\n",
       " \"I don't think we know what FOMO is until we reach 1 trillion market cap.   1 trillion will turn to 2-3 trillion very quickly. I have been doing a random survey.Out of around 300 - 350 people I interact with on a yearly basis I personally know of 5 that currently invest into crypto.I have had crypto discussions with 45 people since November,  (Mostly Family).-28 of them told me they will take bitcoin serious when it reaches a new ATH again. (They don't think it will ever happen) (They think the top is in)-10\",\n",
       " 'Bitcoin is freedom, and we will soon be free.Snapshots:1. *This Post* - [archive.org](https://web.archive.org/20180415202742/https://imgur.com/a/shRSe), [_megalodon.jp\\\\*_](http://megalodon.jp/pc/get_simple/decide?url=https://imgur.com/a/shRSe \"could not auto-archive; click to resubmit it!\"), [archive.is](https://archive.is/zOYLh)*^(I am a bot.) ^\\\\([*Info*](/r/SnapshillBot) ^/ ^[*Contact*](/message/compose?to=\\\\/r\\\\/SnapshillBot))*',\n",
       " 'I wrote down some Verge history in an earlier thread about Verge the other day. I\\'ll just repost it here since you seem curious. Here is a copy of my post:To understand how Verge works, just look at \"Wraith protocol\" that does not exist, it was just a hypeword for optional stealth adresses from 2014. Something that any coin can use. It\\'s a wallet level feature, not protocol level. They are also worthless for privacy, especially if they are optional.\"So the only difference with stealth addresses is essential',\n",
       " 'Low quallity, /r/bitcoin tier content. Please move these posts to /r/moonero',\n",
       " \"Why won't you just remove the bit from the sidebar? What does bitcoin have to do with /r/HailCorporate ?\",\n",
       " 'Bitcoin',\n",
       " '\"15 years experience in bitcoin required.\"',\n",
       " 'Bitcoin = GilGil is the currency of the worlds in the FF universe. Bitcoin confirmed to be universal currency. Accepted anywhere in the universe, through time and space.Also... is Ver = Kefka?',\n",
       " \"Don't look now but bitcoin falling to 8100 all of crypto is anticipating verge to be a exit scam\",\n",
       " \"I'm looking at you Bitcoin (Ã£Â\\x83Â\\x8eÃ\\xa0Â²Â\\xa0Ã§Â\\x9bÂ\\x8aÃ\\xa0Â²Â\\xa0)Ã£Â\\x83Â\\x8eÃ¥Â½Â¡Ã¢Â\\x94Â»Ã¢Â\\x94Â\\x81Ã¢Â\\x94Â»\",\n",
       " 'Bitcoin.',\n",
       " 'WhatÃ¢Â\\x80Â\\x99s the price of bitcoin?',\n",
       " \"Bitcoin isn't even the cause of graphics-card shortages.  It's all the altcoins that can still be mined profitably with a GPU.\",\n",
       " 'If the galaxy ran on bitcoin, the price of a bitcoin would be a bitcoin',\n",
       " \"What's a bitcoin? The price for your cryo freeze will be .032 satoshis.\",\n",
       " 'You certainly donÃ¢Â\\x80Â\\x99t get to decide what the real Bitcoin is. The majority of the network does, and they disagree with you.',\n",
       " \"Bitcoin island -&gt; what a fucking joke. Well, I guess it does make sense in one of the most corrupt tax havens in the world where journalists get blown in broad daylight for exposing government-level corruption.Check out what's really going on in Malta [here](https://www.timesofmalta.com/articles/view/20180416/local/mock-movie-posters-to-mark-caruana-galizia.676541) and [here](https://lovinmalta.com/news/from-washington-to-berlin-vigils-to-mark-six-months-since-caruana-galizias-assassination). \",\n",
       " 'Obviously this can be done without bitcoin butSnapshots:1. *This Post* - [archive.org](https://web.archive.org/20180416103153/https://i.redd.it/6x1yl0w409s01.png), [_megalodon.jp\\\\*_](http://megalodon.jp/pc/get_simple/decide?url=https://i.redd.it/6x1yl0w409s01.png \"could not auto-archive; click to resubmit it!\"), [archive.is](https://archive.is/XCZkp)*^(I am a bot.) ^\\\\([*Info*](/r/SnapshillBot) ^/ ^[*Contact*](/message/compose?to=\\\\/r\\\\/SnapshillBot))*',\n",
       " \"Hummm, isn't the wealth distribution in bitcoin holdings worse than the wealth distribution of North Korea?\",\n",
       " 'https://en.wikipedia.org/wiki/Wealth_inequality_in_the_United_StatesIn the US at least the top 4% only own 62%.  So Bitcoin has us beat.',\n",
       " 'Some of those could be exchanges, I suppose, holding coins that are technically Ã¢Â\\x80Â\\x9cownedÃ¢Â\\x80Â\\x9d by more people. But it still highlights the intense wealth inequality that would exist in a bitcoin economy. ',\n",
       " 'Qualcuno avverta De Magistris che negli accordi Italia/NATO/USA il suo parere conta come 0.000000001 bitcoin in mezzo alla foresta del Borneo. Grazie.',\n",
       " 'If you ever felt shitty about your trades. A friend of mine got a 100k loan to buy bitcoin at 19k. ',\n",
       " 'Bitcoin Mining',\n",
       " \"It's also quite a lot of work to use them. First you have to register at a crypo currency exchange, verify your identity, buy crypto, set up a wallet, send it to your wallet. Then preferably you want to send it to a mixer, then to a second wallet, then to a darknet market. Then you have to trust the seller, then you have to hope your packet is not intercepted.I started this process last October, but chickened out halfway through and just got into crypto instead.Edit: If anyone *is* interested in getting int\",\n",
       " 'This is exactly what kept me from investing in Bitcoin back when it was at $100. This is the most glaring issue with cryptocurrencies and mass adoption.',\n",
       " 'Core supporting liars are [busy on Twitter](https://twitter.com/WhalePanda/status/985892724493647873) trying to claim no one was there for Bitcoin Cash or myself. People literally lined up for nearly an hour to take Bitcoin Cash photos with me, their BCH stickers, and wallets., and the reception desk had BCH signs, and handed out BCH stickers to every single person who attended. [Here](https://i.imgur.com/JwlNuI1.jpg) is one of the flyers that most people received to inform them of the event. (Clearly BCH r',\n",
       " 'If whalepanda or any of them were ever honest, Bitcoin Core wouldnÃ¢Â\\x80Â\\x99t have been commandeered into a banking-led lightning network abomination. Wagons drive by as dogs bark. Keep on doing what youÃ¢Â\\x80Â\\x99re doing and thank you! ',\n",
       " 'So far 4.17 Bitcoin has been sent or the equivalent of Ã\\x82Â£23k... a happy day for the scammer.https://blockchain.info/address/1Hb5FWGa4Fe33NMXrt5Ddr5Sc2o7NuuamiWatch the pile add up.',\n",
       " 'This shows only one perspective as IPO investments are priced very differently from pre-IPO investments.i.e., one investor bought 10% of Facebook for 0.5m pre-IPO. That share of the company later grew to 50.000 million (50b). In other words, the investment appreciated by 100 thousand fold. A $10k investment would be worth $1 billion, which is similar to bitcoin.Secondly, not including dividends is a really bad idea. Reinvested dividends with compound interest make a huge difference. For example, $1 on the S',\n",
       " 'Breaking news:&gt;Man who manages crypto funds believes bitcoin will go up in value',\n",
       " 'Crypto Rider! A 2D racing game, where the tracks are historical price charts of popular Cryptocurrencies!I was fed up of watching the charts during the bear market, so I thought I would make something a bit light hearted, to cheer myself and (hopefully) others up.The game is easy to play, but hard to master. Also, no audio in the game as I imagined most people will be playing whilst travelling and listening to their own music.** The game is free for iOS and Android devices. **Download links:[Crypto Rider An',\n",
       " '/r/Bitcoin',\n",
       " \"Extremely paraphrased version because I'm on mobile.Basically, the mods started advertising an alternate to bitcoin in their sidebar and left snd extremely poor taste in the community's mouth. It felt extremely hypocritical that a sub dedicated to pointing out corporate shill like behaviour had a moderation team following the exact same policy they were trying to raise awareness for. Cue some poorly thought out arguments from the mods in question, and now everyones jumping ship.\",\n",
       " \"It appears mod is using the subreddit for to promote Bcash.I'm a stranger to hailcorporate but not to Bitcoin and Bitcoin Cash. Long story short, Bitcoin Cash is led by developers and community who think Bitcoin Core (original Bitcoin, the most valuable one in the market right now) has deviated from the goal/is being managed poorly/is being used for a certain group's own gains etc... So they forked the bitcoin and went their way.But obviously it didn't end there. Since the Bcash community thinks they are th\",\n",
       " 'Au the contraire, my friend. I was bashing on Bitcoin DURING the bullrun. 50$ tx fees to be confirmed quickly? That was fucking attrocious and caused loss of adoption.',\n",
       " 'Everyone thinks that Fiat pairÃ¢Â\\x80Â\\x99s whit every Alt will do the job. But every fiat/alt pair dropped alongside bitcoin.The real decoupling will come when the market is worth trillions, other Coins find their niche market and tokens have working products making profits to sustain the price.I also agree, almost 100% of people coming into the space is thanks to Bitcoin.',\n",
       " 'Coastlines, the Bitcoin of the Earth.',\n",
       " 'I only see 1 Bitcoin? ',\n",
       " 'The only thing bad about this information is that itÃ¢Â\\x80Â\\x99s going to convince some people that bitcoin is a good investment.',\n",
       " 'Then why doesn\\'t [the event page](https://www.eventbrite.com/e/tokyo-free-the-blockchain-coinfirm-trustedhealth-mobilum-seasteading-tickets-43886324177#) or [the meetup page](https://www.meetup.com/tokyo-cryptocurrencies/events/249630816/) say anything about you or Bitcoin Cash?You being at an event and *promoting* it as a Bitcoin Cash event *doesn\\'t make it a Bitcoin Cash event*.&gt;DESCRIPTION&gt;Tokyo Free The Blockchain Conference featuring great speakers:&gt;RITZ CARLTON&gt;2F&gt;Grand Ballroom&gt;1) \"',\n",
       " \"We cannot permit this ecosystem to reflect the existing traditional landscape. Companies like Coinbase and Bitpay, regardless of how much adoption they enable, are a poison to the community. Their strategies of acquisition will lead to monopolies in the bitcoin space, their historical tendency to use their size and money to influence protocol development is disturbing and could be the end of our decentralized model if we aren't careful. We must be vigilant in ushering users away from using these services an\",\n",
       " 'Some of the marketcap is tied to coins that cannot be dumped. For example, I had some bitcoin on coinbase during the bitcoin diamond fork I.e., IÃ¢Â\\x80Â\\x99m a forced hodler. ',\n",
       " 'I resent the titles insinuation that Bitcoin is going to go down as one of histories greatest investments. ',\n",
       " 'This is almost the most correct answer I hear. When a coin forks, it duplicates all existing coins. It inherits the lost coins. There are no holders, it is only lost coins that appear as holders, which artificially inflates the coin and bitcoin fork.',\n",
       " 'People in the crypto space need to realise that NANO isn\\'t another ERC20 or bitcoin fork (not directed at you op but others laying the boot in to NANO). The growing pains NANO is experiencing is the same thing others will experience when they try to swap their tokens. ICX have said they are \"waiting on exchanges\" which is code for \"we were supposed to swap it on Jan 26th but we need more time and don\\'t know how we are going to set it up on exchanges\". NANO is getting slammed for having bugs with an actual p',\n",
       " 'Quick everyone, google bitcoin!',\n",
       " 'All over the internet, I notice you churlish cretins lauding the supposedly intellectual television program known as Rick and Morty to make yourselves appear more intelligent by extension, as you are ardent watchers of the aforementioned show. However, you piddling planarians only succeed in illustrating how vapid you really are, as Rick and Morty has the intellectual depth of a petri dish. Truly, the most noetic show is neither Rick and Morty, the Big Bang Theory, Jimmy Neutron, nor any other deluge of dri',\n",
       " 'I always believed in bitcoin, but when I had a discussion with people and they asked me \"So what\\'s the problems\" I always responded that the biggest trouble bitcoin was facing was the randomness of getting into a block, and I couldn\\'t give a good explanation of how it would be solved. Standing around in a shop waiting for confirms obviously isn\\'t viable. I\\'m glad to say I can answer my own question now.',\n",
       " 'Paxful is the next biggest p2p marketplace. Easiest to use and their support is 24/7Also doing some cool stuff in Africa.Just found this and donated a bit. https://www.zamzamwater.org/news/builtwithbitcoinCrypto needs ALOT more of this, giving back, rather than just shills, pump n dump trolls and slime.Props to the pax guys for sticking to the ORIGINAL MISSION OF BITCOIN. anyone remember that?',\n",
       " 'He openly compromised the professional integrity of his company and product to support his own personal feelings against Bitcoin Cash.',\n",
       " 'Who cares? Trezor sux, ledger is far better. Let them call whatever they want.Slush is a hypocrite, spent so much twitter trolling to call bitcoin cash a scam and asicboost a cancer and now is using asicboost. Guy has no shame.This \"bcash\" name is childish and petty, let it there.',\n",
       " '... for Bitcoin.',\n",
       " \"The point is you don't have to trust Satoshi.  Bitcoin protocol code is open source.\",\n",
       " 'Siis u/Rankkikotka:han kÃ\\x83Â¤vi juurikin tuossa kahviossa koiron kanssa pari pÃ\\x83Â¤ivÃ\\x83Â¤Ã\\x83Â¤ sitten, eikÃ\\x83Â¤ kahvi maksanut senttiÃ\\x83Â¤kÃ\\x83Â¤Ã\\x83Â¤n yli 3 kiloeuroa. #inflaatio #hyperinflaatio #bitcoin ',\n",
       " 'Pornhub never accepted bitcoin or any other cryptocurrency. ',\n",
       " 'Bitcoin, obviously.....',\n",
       " 'After the August 2017 fork, when BTC changed to something that no longer resembles bitcoin.Most of us here are long time bitcoiners, and we were driven here when the original bitcoin subreddit banned us for trying to discuss scaling the block size. Most of us here agree that BCH is the better bitcoin.Also: welcome to the sub! Ã°Â\\x9fÂ\\x99Â\\x82',\n",
       " 'And personally my response would have been-Perfect. You can be my ATM. I would prefer to start withdrawing now? You can pay me in bitcoin, online amazon gift cards, Ulta cards, etc. k thanks bye!',\n",
       " 'masterluc is back!! https://www.tradingview.com/chart/BTCUSD/pmV1uLC7-Bitcoin-Longterm-update/',\n",
       " 'Claims and advertising differ frequently, but here\\'s some from the past year.  They will use vague or subjective terms like \"privacy coin\", \"private\", or \"anonymous\" which can be hard to argue.  When they make claims like that it can imply sender privacy or transaction unlinking, but they do not have any of that.&gt; Tor integration/private networkingThis has been claimed for around a year, but was not accurate until about late January 2018.  What they based this on was running some of their electrum server',\n",
       " 'It costs 362 bitcoin to fire this weapon... For 12 seconds.',\n",
       " 'So I was just diggin around tonight after talking to my man /u/ii_OiO_ii . After discussing this in the newly created OmiseGO community telegram channel I thought I\\'d post it in here as well.There\\'s this guy called Stephen Mc Namara added to the advisory list on the Omisego website. He is described: \"Stephen McNamaraFounder of Bitnet, Head of Blockchain R&amp;D Strategy at Huawei Technologies\"First of all, this guy wasnt on the website at least a few weeks ago when I last checked the website. I did a little',\n",
       " 'Thanks /u/BobAlison for posting this link -- we were just about to!We were inspired by a [prior Reddit post](https://www.reddit.com/r/Bitcoin/comments/2n205b/an_area_chart_showing_the_distribution_of/) by /u/jratcliff63367 to redo the analysis of the Bitcoin UTXO age distribution but up through the present day.We found some very interesting patterns such as the  \"HODL Waves\", we present in Part 1 of this series of Bitcoin data science blog posts.Stay tuned for Part 2 (\"How much Bitcoin is lost?\") and Part 3',\n",
       " \"[They](https://www.sciencemag.org/news/2016/03/why-criminals-cant-hide-behind-bitcoin) can [trace](https://siliconangle.com/blog/2015/07/14/hacking-team-found-a-way-to-track-and-trace-bitcoin-transactions-and-the-software-is-now-in-the-wild/) bitcoin [transactions](https://www.coindesk.com/danish-police-claim-breakthrough-bitcoin-tracking/).  All bitcoin transactions are a matter of public record.  That's how bitcoin works.  There are a [number](https://darkwebnews.com/bitcoin/snowden-revealed-nsa-btc-track\",\n",
       " 'AllenÃ¢Â\\x80Â\\x99s draft stock is like bitcoin, nobody really understands it but for some reason itÃ¢Â\\x80Â\\x99s allegedly very valuable',\n",
       " 'Data source: https://blog.unchained-capital.com/bitcoin-data-science-pt-1-hodl-waves-7f3501d53f63 ',\n",
       " \"Buy Bitcoin, also don't buy Bitcoin.\",\n",
       " '\"Pantera Capital (est. 2013) is a San Francisco-based investment firm focused on blockchain technologies.[1][2]Pantera was founded by CEO Dan Morehead, a former chief financial officer and head of macro trading at hedge fund Tiger Management.[3][2][4] Pantera announced in March 2014 that it had shifted its focus to bitcoin and other digital currencies, having previously been primarily working with global macro hedge-fund investments.[5]\"Holy Shit! Are you telling me a bitcoin company is recommending investi',\n",
       " 'So weÃ¢Â\\x80Â\\x99re talking 15-20% of bitcoin hasnÃ¢Â\\x80Â\\x99t been transacted with in at least 3 years? And this percentage is growing. ThatÃ¢Â\\x80Â\\x99s a lot of lost bitcoins. ',\n",
       " \"**Overall Record 25-5-1** *Bank* : **100u** *Profit:* **+38.39u***Average Value:* **1.90***Streak:* **1W****WWWWWWLWWWWWCWLWWWWWWWWLWLWWWLW***Previous Pick*: **North -1.5 (-151)** vs Alternate Attax*Todays Pick:*  **Team Liquid -3.5(-127)** vs Gambit**Dreamhack Marseille 09:00 AM EST**Been waiting for this event for two months now. Let's fucking go boys. The first event since the huge influx of roster changes throughout the scene. Team Liquid coming up huge recently with the additional of Naf and now finall\",\n",
       " '&gt;Does anyone know if this is common practice at Starbucks? The one time I was in a Starbucks in San Francisco there was a minor kerfuffle between a barista and a black guy about the bathroom. Guy asks if he can get the code for the bathroom. Barista said it was only for paying customers.  He said he\\'d buy something after he got out. Barista still refused, said he could buy it now. He got indignant, raising his voice, \"how dare you question my honor\" type of thing. Barista relented. He used the bathroom a',\n",
       " 'This NOT good for ~~bitcoin~~ baseball.',\n",
       " \"It's not a common thing to see one being so passionate about something. I believe, his strong affection to bitcoin and his ideological background, is precisely the reason he is such a controversial figure.It's because his strong will to help establish a global currency that is not manipulated by any government gets him either the extremist, or the hero label. I used to think that he was exaggarating a lot in his speeches, but I can see, just by watching this video, that the passion is indeed real.Hopefully \",\n",
       " 'Roger has been consistent since day 1.Basically all the characters in BCore chop and change their statements and ideologies on a monthly basis.Example #1 - ASICBoost.  \"ASICBoost is bad\" -&gt; \"ASICBoost is good\"Example #2 - \"Always keep your Bitcoin offline for security\" -&gt; \"Keep your Bitcoin hot on your Lightning Network node\"',\n",
       " 'Um ehrlich zu sein, man muss einen sehr hohen IQ haben um Bitcoin zu verstehen. ',\n",
       " 'Dude invest in Bitcoin and Facebook ',\n",
       " '   And im mining bitcoin with the computer i turned onwith my hands',\n",
       " 'Salivating at the prospect of $33K Bitcoin by July with a 0.1 ETH ratio.  Imagine.',\n",
       " \"Yeah, see all those people vigorously attacking bitcoin gold/diamond/god/private etc? That's what things would be like with cash if it were honestly just a shitty knockoff; crickets. \",\n",
       " 'There have been problems in the past.  In August 15 2010, it was discovered that block 74638 contained a transaction that created over 184 billion bitcoins for two different addresses.  The block chain had to be forked. https://en.bitcoin.it/wiki/Common_Vulnerabilities_and_Exposures#CVE-2010-5139And in 2013 there were big problems with the 0.7 to 0.8 upgrade where there were two forks of bitcoin for hours and most bitcoin operators shut down for a period until it could be resolved..  https://bitcoinmagazine',\n",
       " 'is that a bitcoin symbol in the middle of the pool?',\n",
       " 'And people with annoying friends who bought Bitcoin',\n",
       " 'lmao his website looks really promising. Seems to be a bad attempt at finitism, following his own intuition without being aware of finitism.[This](http://steve-patterson.com/cantor-wrong-no-infinite-sets/) is a good introduction to the article linked by OP.&gt; I am a philosopher and author working outside of academia &gt; In my own research, I have discovered a remarkably consistent truth: orthodox opinions are almost always wrong. The Ã¢Â\\x80Â\\x9cmainstream consensusÃ¢Â\\x80Â\\x9d on any given topic Ã¢Â\\x80Â\\x93 whether abou',\n",
       " \"And not to mention Amazon's own IoT department head, Joanna PeÃ\\x83Â±a-Bickley, has [retweeted several Iota articles several times from 2017 to 2018](https://twitter.com/jojobickley/status/941442173924343809) saying very positive things about Iota.  Specifically about Iota having zero fees (which would be a big deal to Amazon's low prices). and it's unique ability to scale up in speed as the network traffic increases, which again would be a big deal for Amazon's enormous traffic.  We should be excited for such\",\n",
       " 'This is how Roger gets public support for his projects, he buys influential people and places of discussion. @bitcoin and r/btc are prime examples of this.I love that \"free speech\" is when you buy everything related to a discussion so it has to happen on the terms you describe.',\n",
       " \"I'm convinced that the main reason Roger and his disciples have been attacking this subreddit since at least 2016 is because Roger knows he will never be able to own /r/Bitcoin for himself. Roger owns the bitcoin.com domain, which he uses to run his own cloud mining operation, store, forum, news outlet, casino, and more. He has fully monetized the /r/btc subreddit as well, and even has the @Bitcoin twitter account farting out his idiotic Bcash scam. Hell, **he even has his own currency now.** So why can't h\",\n",
       " \"Mining centralization was always easily predictable.  Anything that is profitable will ultimately centralize because of economies of scale.  We see this with virtually all large industries, phone, internet, cell phone carriers, etc.  Total centralization between a very small handful of companies is the end game for bitcoin, it always was.  And that'll be the last bitcoin selling point that finally gets crossed off the list as a lie:* ~~Fast~~* ~~Cheap~~* ~~Micro transactions~~* ~~Secure~~* ~~De~~centralized\",\n",
       " \"Why can't this fucktard focus on his shitcoin instead of attacking bitcoin like a mad dog?\",\n",
       " 'Bad move imo. Roger is just reinforcing the narrative r/bitcoin has about him bribing everyone under the sun.',\n",
       " \"The proof if literally in the tweet. If Roger is offering 100k for r/bitcoin what makes you think he didn't do the same for @Bitcoin on twitter? Only an idiot wouldn't accept this as a possibility.\",\n",
       " 'Hey /u/memorydealersThis message would of been better had you offered $100,000 USD to a children\\'s hospital had the community of /r/bitcoin opened up their moderation logs. That\\'s all people need to see - the moderation logs. This would go hand-in-hand with their narrative regarding the \"saving babies\" thing they use to attack you after you owned Samson Maw. You would be offering them the chance to save babies by just demanding their moderators open up the logs.You could pay every month for 10 months - $10,',\n",
       " 'This is massively inaccurate. Firstly; in the months following the hard-fork the emergency difficulty adjustment algorithm was completely fucked. It was actively gamed by some of the miners resulting in block intervals oscillating wildly from 40 blocks an hour to periods with virtually zero blocks for half a day. Secondly; if youÃ¢Â\\x80Â\\x99re going to lay claim to the entire history of Bitcoin then you have to lay claim to the *entire* history of Bitcoin. That includes highlights like a bug that allowed anyone t',\n",
       " 'Classic middle school statements:-\"what are toes?\"-\"aren\\'t male fairies called furries?\"-\"wait, is Disney World a suburb?\"-\" Do you want to invest in bitcoin with me? I\\'ll pay you back once you make money\"That\\'s within this week.',\n",
       " \"Source is: &lt;Hentai Elf to Majime Orc&gt;*Ring Ring.* Hello? What's that? It isn't porn?Congratulations. You've just been bamboozled. What a life changing moment for you and your desire to drool over delicious dreamy double-Ds. If you would like to be un-bamboozled, simply send over a payment of 1 self esteem and a lengthy line of lavishing literature listing how amazing my super-original prank was.If not, we also take bitcoin.\",\n",
       " 'You are in an echo chamber of people who barely tolerate bitcoin and who all think Bitcoin Cash is a scam coin. What differing opinions could you expect?Bitcoin cash is a perfectly functional altcoin. It is widely accepted on almost every exchange, is relatively fast and is relatively cheap.Say what you will about the actors behind it, whether you like jihan or roger or any of the other nuts, it is a perfectly fine cryptocurrency and does exactly what it needs to do.I have an eth stash and a bch stash for w',\n",
       " 'This is good for ~~Bitcoin~~ Napoli!',\n",
       " 'One of those Ã¢Â\\x80Â\\x9cstupid at the time, but hindsight is a motherfuckerÃ¢Â\\x80Â\\x9d decisions. Like somewhere thereÃ¢Â\\x80Â\\x99s a kid who liquidated his college fund in 2009 and just bought bitcoin with in instead. That kid is a fuckinÃ¢Â\\x80Â\\x99 idiot. A *very rich* idiot. ',\n",
       " 'A week later the hitman realizes he killed somebody for $140 when Bitcoin drops. ',\n",
       " \"[Whistleblower and subsequent investigation: Paid trolls on /r/Bitcoin](https://np.reddit.com/r/Bitcoin/comments/34m7yn/professional_bitcoin_trolls_exist/cqwjdlw)I wish there was a gofundme or something for a group of people who use shill tactics against shills just for the comedic value.[The Gentleperson's Guide to Forum Spies](https://www.dailykos.com/stories/2012/7/21/1112509/-The-Gentleperson-s-Guide-to-Forum-Spies)\",\n",
       " 'Yes Bitcoin will cause the greatest redistribution of wealth this planet has ever seen. FACT from the future.Snapshots:1. *This Post* - [archive.org](https://web.archive.org/20180418232649/https://pbs.twimg.com/media/DbFAzU2XcAEJ7ex.jpg), [_megalodon.jp\\\\*_](http://megalodon.jp/pc/get_simple/decide?url=https://pbs.twimg.com/media/DbFAzU2XcAEJ7ex.jpg \"could not auto-archive; click to resubmit it!\"), [archive.is](https://archive.is/cl6Jw)*^(I am a bot.) ^\\\\([*Info*](/r/SnapshillBot) ^/ ^[*Contact*](/message/com',\n",
       " '1 sat/byte. Always and forever. Welcome to Bitcoin before 2015.',\n",
       " \"It's actually worse than what OP mentioned:Think about the precedent this sets.  Here's why this paid partnership is bad for crypto:1. Alt already know the bullshit that is exchange listing fees.  These can range from $1,000 to several million.  Every merchant adoption is going to want their own payday now too.  This will be terrible for crypto adoption2. If anyone does try to pay with the shitcoin that is verge, they have to deal with the exchanges to get bitcoin first, then they have to experience the shi\",\n",
       " '**Overall Record 25-6-1** *Bank* : **100u** *Profit:* **+35.39u***Average Value:* **1.90***Streak:* **1L****WWWWWWLWWWWWCWLWWWWWWWWLWLWWWLWL***Previous Pick*: **Team Liquid -3.5(-127)** vs Gambit*Todays Pick:*  **Fnatic ML (-140)** vs Navi**Dreamhack Marseille 10:00 AM EST**Probably the best match all day imo going between arguable the best player in the world and a Fnatic squad who finally is finding their groove. Despite recent online results I do edge Fnatic here in a bo3 especially due to how shallow Na',\n",
       " \"my father works in bitcoin and he confirmed it's a bull market. no need to worry.\",\n",
       " 'why would a respected league/pugging system add a bitcoin miner to its client',\n",
       " \"Don't sweat this. It is inevitable.As Vinay Gupta has pointed out, government is not going to be excluded from crypto. On the contrary, they will demand their slice of the pie, and they are able to get it. There is no point in fighting this. If crypto is ever going to be mainstream, it WILL be just as transparent as existing banking, and for the same reasons. All sorts of firms will devise all sorts of ways to attach identity data to transactions - very possibly retrospectively.  The big win here, it we can\",\n",
       " 'I donÃ¢Â\\x80Â\\x99t care about anonymity in the block chain for the big players like bitcoin, but I do appreciate that people who need anonymity (for example rebels in an oppressive regime or health practitioners who want to protect their patients identities) will have options for that as well (such as Monero). ',\n",
       " 'Det kÃ\\x83Â¶r runt en Tesla i Stockholm med registreringsskylten \"BITCOIN\". Man behÃ\\x83Â¶ver nog inte sÃ\\x83Â¤rskilt mÃ\\x83Â¥nga gissningar fÃ\\x83Â¶r att klura ut hur personen hade rÃ\\x83Â¥d med den bilen..',\n",
       " \"Sounds as if they treat it like every bitcoin user has 1 address. With HD wallets you actually have an endless chain of addresses. So a real users wallet will likely contain several addresses. If I send a friend bitcoin for a beer, some goes to the friend's new address, some goes to a new change address of mine. To the outside observer you cannot tell which is which, you've got a 50% chance at being right. After a few real case uses like this the chain of who's coins are who's becomes more and more uncertai\",\n",
       " 'this, if you truly believe bitcoin is anti-fragile, attacks like this will only cause the network to evolve counter-measures and strengthen',\n",
       " \"That's the kind of response I expect from todays BTC supporter. They only interested in what bitcoin can do for them and how much fiat they can rinse out of it.  One of the things I most hate about that community is that for years I used the coin I had to promote it, I spent literally thousands of $ worth of BTC getting BTC established and to a position it was only for it to get hijacked by the wankers there now.\",\n",
       " \"It is ironic that they are accusing the people who did most to promote the Bitcoin brand of 'stealing' it for BCH.  In reality, they have stolen our brand for a coin that is drifting further and further from Nakamoto-san's white paper.\",\n",
       " 'The very first paragraph of the whitepaper explains how legacy banking is incompatible with micropayments due to the reversible and centralized nature of the system.  People seem to have completely forgotten this is one of the core purposes of bitcoin, to allow micropayments for virtually no cost.',\n",
       " \"Remove all tape painting, remove all bots, remove criminal activity such as narcs, terrorists, money laundering, bribery and child trafficking, remove the 2-3 million coins that will never be spendable and are lost.Then, Bitcoin is worth very little and the 'fundamentals' are the same as any shit fork.\",\n",
       " 'No picture of cooler or inards (except an MXM board anybody can get a hand on.) The render of the cooler looks hilarious, and definitely insufficient. has three I/O ports.- an HDMI 4k 60z Port,- a \"laptop connector\" port (whatever it is)- and a \"high speed 4k monitor connector\" (lol)is power by the laptop (so will drain the battery despite plugging it in.) And yeah, claims that it\\'s faster than a the desktop 1050 because it\\'s OC\\'d to 1680Mhz, and because it uses \"High GDDR5 VRAM Bandwidth\" (whatever that is',\n",
       " 'Preity zinta feeling like early bitcoin investors',\n",
       " 'This kind of thing happens a *lot*.  As a company grows, the thought shifts from \"we can displace our competitor by offering a better service\" to \"our customers trust our brand and will stick with us no matter what.\"  That latter part eventually becomes untrue, even if it takes years or decades.  You can see this pattern everywhere, if you look hard enough.For what it\\'s worth, Bitcoin has gone through the same thing.  At the beginning, the goal was to create a better economy than the banks and governments p',\n",
       " 'Nice tits, have you heard of Bitcoin though? Join my team.',\n",
       " 'The cryptocurrency community has long relied on Bitcoin as the main gateway to enter the market, and just about every coin in existence is eager to gain its own USD trading pair.',\n",
       " 'This data stream would end at \"this user uses Monero\". With Bitcoin they could tag an actual wallet including all transactions. This is why Monero is private, and Bitcoin not.',\n",
       " '4/19/18 UPDATE. We exited to the upside of the channel from my last chart on [4/11/18] (https://www.reddit.com/r/BitcoinMarkets/comments/8beaek/daily_discussion_wednesday_april_11_2018/dx62nhh/). Please note: that old channel is still in grey on my new chart.Building on that, I have now come up with four short-term scenarios.     HereÃ¢Â\\x80Â\\x99s the [zoomed out, macro view](https://www.tradingview.com/x/m9SY9iz2/).     HereÃ¢Â\\x80Â\\x99s the [channel changeover](https://www.tradingview.com/x/qoUlK0uz/).     HereÃ¢Â\\x80Â\\x99',\n",
       " 'Looks like you paid top Medieval Bitcoin for that. Looks good',\n",
       " 'I wonder what people will start to bitch about when they realize their shitcoins are not losing value because of bitcoin.',\n",
       " 'Talking about young girls, and bitcoin? r/justneckbeardthings',\n",
       " 'Exactly. I joined crypto to buy ADA and IOTA in December. It was quite a struggle to buy coins from coinbase, after a week, move them to binance and bittrex, and buy my coins, and pay 30$ for each transaction for bitcoin. It was stressful.',\n",
       " 'Bitcoin has never been anonymous.  The block chain is the opposite of cash.  Every transaction is recorded and freely viewable.  You can literally trace a \"penny\" through every transaction it has ever been used in.  Once you discover who a wallet is tied to you can go find everything they\\'ve ever done with that wallet.  Sure it may seem anonymous if no one knows your wallet but once a wallet is tied to someone you _retroactively_ can go see everything they did with that wallet.',\n",
       " 'Stop mining bitcoin and start mining coal!',\n",
       " 'I can almost hear the conference call...  \"Everyone wants bitcoin.  how can we capitalize on that\".\"We can have the Art Dept mock up some posters that make it sound like we\\'ll help clients invest in bitcoin.\"\"Great, I didn\\'t know we could help clients invest in bitcoin.\"\"Oh no, we 100% can\\'t.  we\\'ll just say BITCOIN in the ads, but then steer clients to our mutual funds.\"https://www.manulife.ca/support/search-results.html?query=bitcoin',\n",
       " 'This is good for Bitcoin.',\n",
       " 'Also, how fucking patronising to say, Ã¢Â\\x80Â\\x9cI donÃ¢Â\\x80Â\\x99t want to overwhelm you if you havenÃ¢Â\\x80Â\\x99t heard of BitcoinÃ¢Â\\x80Â\\x9d while asking if sheÃ¢Â\\x80Â\\x99d take payment in crypto? To me it just reads like asking her to join his Web 3.0 (wet)dream team was an excuse to reach out and talk tits, and there was never any job. What a gross and entitled way to waste another personÃ¢Â\\x80Â\\x99s time. ',\n",
       " 'I feel like Ã¢Â\\x80Â\\x9cnice tits, have you heard of bitcoin thoughÃ¢Â\\x80Â\\x9d, is the startup bro equivalent of Ã¢Â\\x80Â\\x9canyway, hereÃ¢Â\\x80Â\\x99s wonderwall.Ã¢Â\\x80Â\\x9d',\n",
       " '\"Might want to look into that.\"\"\\'Cause I know your mom wouldn\\'t be happy about it.\"\"If I post this to Facebook your whole family will know. About you. And that other woman.\"\"Might want to chip in a little Bitcoin to keep my mouth shut about all this.\"\"Peace out bro.\"',\n",
       " 'Just donated 27 bitcoin episodes of rick and morty sauce',\n",
       " '90% of the all the orders on exchanges are people trying to buy bitcoin. 10% of all orders on exchanges are people trying to sell. This is good for the price if we want it to go up since effectively 90 people are trying to buy 10 peopleÃ¢Â\\x80Â\\x99s worth of bitcoin. More demand for bitcoin than supply',\n",
       " \"They are driving all the critical thinking, smart people away from the Bitcoin community with all the censorships. What's left are the zombies. A crypto is only as good as the community of people behind it so it's totally game over for Bitcoin now. =)\",\n",
       " \"What does bitcoin have to do with /r/HailCorporate ? Why are you willing to censor and fragment the community you're suppose to moderate so you can have an unrelated 'anticensorship' message in the sidebar? And, just a simple reminder, it's a message you claimed you didn't place there.\",\n",
       " 'I think they had something else in mind... a centrally controlled world currency. Looks like Bitcoin torpedoed a multi-century old plan.',\n",
       " 'This is good for Bitcoin.',\n",
       " 'And what is that skillset, canÃ¢Â\\x80Â\\x99t find a solid course or tutorial where blockchain/distributed systems are explained in depth. Looking for this for ages. I have read Ã¢Â\\x80Â\\x9cmastering bitcoinÃ¢Â\\x80Â\\x9d and have some good knowledge of golang.',\n",
       " \"Yeah this kind of confrontational nonsense is nonsense. Bitcoin Cash will do fine on its own. But for right now it's still called Bitcoin Cash and should be called that wherever it is used. Anything else is just confusing bullshit.Over time, perhaps, the Bitcoin name can be moved where it belongs, but for right now there is a specific thing called Bitcoin, with the BTC ticker, and that's something that needs to be respected. I for one want to know if I'm dealing in Bitcoin Cash or Bitcoin. Just so I can avo\",\n",
       " 'Wow. Ethereum.Not Bitcoin, not Litecoin.  Not Ripple.Ethereum.&gt; And he saw that it was good.',\n",
       " 'Indeed. Bitcoin price is pegged to the meme economy.',\n",
       " 'and a neural network with machine learning made out of bitcoin',\n",
       " \"&gt; I'm not here to argue whether the blocksize limits or fees are intentional on BTC, or any other conspiracy theories.It's not a conspiracy theory, it's a fact. Greg Maxwell himself stated it that it was a good thing that fees were high:https://lists.linuxfoundation.org/pipermail/bitcoin-dev/2017-December/015455.htmlOther Blockstream employees have made similar statements before then.&gt; My point is, BCH works, as it is, right now. BTC does not.Right... and if BCH stopped working as currency I'd be look\",\n",
       " 'bitcoin mining. ',\n",
       " \"&gt;I have a net worth about 100x my partners.Let's guess how much of that net worth is based in bitcoin.\",\n",
       " 'Only in a topsy turvy Orwellian dystopian 1984 nightmare can Charlie Lee be seen as good guy of crypto (dumps his Litecoin at ATH to screw-over all Lite HODLers) whereas the bad guy - Jihan Wu instructs his Antpool to burn Bitcoin (Cash) and thus give something back to all loyal HODLers.',\n",
       " 'Bitcoin fracking is just as bad',\n",
       " \"I'm not 100% sure, but I believe it was when bit coin was skyrocketing, people were bulk buying graphics cards to farm it? And now that Bitcoin is falling in value considerably, people are selling them off again.\",\n",
       " \"Being libertarian is like being the only sober person in the car, except you aren't sober and you're the only one in the car and you haven't gotten out or eaten in three days but you still half a ziplock of meth to smoke and 4 pounds of carfentanyl in the glove box after you cashed 4.9 million dollars worth of bitcoin on tuesday and you invested half of it towards new machines for your child-labour textile factory and the other half for high quality hentai.\",\n",
       " \"it's the worst for some random accounts online that are throwaways. I get having a secure pw if it's a bank or Bitcoin wallet or something important. but that Linux forum you joined to ask one basic question then never read again? fuck you let me use qwertyuiop\",\n",
       " 'Probably bought a bitcoin at 17k ',\n",
       " 'Virtually all the add to the total market cap has come from *non*-Bitcoin. Which is, quite frankly, about fucking time. Bitcoin has huge issues and is being actively mismanaged - watching the market rally almost independently of it is pretty darn intriguing. Tons of coins *aside* from Bitcoin hit -80% or more during these months. I think the market as a  whole is ready to shake off the bears and get back to business. ',\n",
       " 'Anybody that mined crypto will have pushed the GPU to its limits and shortened its lifespan, would not buy a pre owned one after the fall of bitcoin. ',\n",
       " \"Amburka is incorrect. These are returned graphics cards because when cryptocurrencies skyrocketed people bought high end GPU's to mine cryptocurrencies, but now that the price has dropped significantly people are returning them because it isn't nearly, if at all, cost efficient to mine anymore.Edit: replaced the word bitcoin with cryptocurrencies\",\n",
       " \"Oh hey, I get to do this again:Bitcoin gpu threads:Hey I can finally get one!Man I wish they'd stop jacking up the prices cause of bitcoinWhy is the price so high?Bitcoin!Bitcoin is not responsible for gpu prices, alternate coins are.Why? Because bitcoin doesn't use gpus and hasn't for many years. Alt coins still do./thread\",\n",
       " 'Despite internal squabblings, it is nice to see unity on the success of Bitcoin Cash.',\n",
       " \"You must have killed the motherfucker that has been swiping all the GPU and CPU's out of the PCs in Tarkov to bitcoin farm ;)\",\n",
       " 'Be very very careful.This is very risky as it is possible to lose a lot very quickly in any crypto.Bitcoin cash is no exception.',\n",
       " 'Are you kidding? Lol I gotta wait for it (bitcoin) to get back up to $11,000 again before I see green.',\n",
       " 'As master Zentoshi approached, monks bowed their heads. \"Master, will you honor us with one of your riddles on this fine evening?\" one of the monks spoke, his voice quivering in the presence of such an astounding authority. Master Zentoshi nodded and said, \"Those who can answer this question can sit beside me on top of the Bart Staircase Ã¢Â\\x80Â\\x93 what is the value of unspent Bitcoin?\" ',\n",
       " 'This is very exciting. With the help of analytics, now the exchanges and financial institutions are black listing users, and addresses. If this thing does not get implemented ASAP, we will lose \"permissionlessness\"  of bitcoin. Then bitcoin will become like any other commodity controlled by central authority. Only draw back is; it requires soft fork. All the mining and exchanges are doing their best to centralise this protocol. They will do their best not to get bulletproof implemented, which they will turn',\n",
       " \"I'd love for there to be an entire season of Kramer trying to get his laptop only for him to finally get it back as Bitcoin crashes and is worthless.\",\n",
       " 'Bulletproofs is a general technology to implement zero-knowledge proofs.Bitcoin does not use zero-knowledge proofs. There is no way you can just \"plug in\" Bulletproofs anywhere in Bitcoin.Perhaps you are talking about confidential transactions (CT). This is a technique to permit a public ledger that makes the amounts hidden while still permitting everyone to verify the balances adds up. If that sounds like magic, that\\'s because it is.CT rely on zero-knowledge proofs. They could use Bulletproofs. They could ',\n",
       " 'When did Colonel Sanders become the bitcoin spokescolonel?',\n",
       " \"As someone who was around Bitcoin before Coinbase existed, there were many fears about what it meant to have a corporation that has so many ties to existing regulatory and banking systems. Would they be supporters of the decentralized vision? Or would they quickly succumb to the type of control typical of most centralized entities either by forced compliance or by greed?It didn't take long to know the answer to that.First, was their inclusion of a phishing scheme called BCash as if it was legitimate. They e\",\n",
       " 'This is good for bitcoin.',\n",
       " 'Led me to [here](https://www.reddit.com/r/Bitcoin/comments/3vkytm/multinational_organization_interested_in/cxp4nhg/) with this quote.  *Our leader, Keith, has been established to have the highest I.Q. in the world. He is one of the most generous and intelligent people I have ever known*.   That is some Trump level bullshit right there.',\n",
       " \"If you were really grateful you'd have bitcoin logo weels and paint the fuel tank Bitcoin orange.\",\n",
       " 'SpÃ\\x83Â¸rsmÃ\\x83Â¥let er bare hvor det kommer til Ã\\x83Â¥ feile fÃ\\x83Â¸rst. De kan ikke sette opp sÃ\\x83Â¥ mye som et skur uten kommunens tillatelse. Hvis de mot all formodning skulle klare Ã\\x83Â¥ fÃ\\x83Â¥ gjennom en reguleringsplan vil de fortsatt mÃ\\x83Â¥tte forholde seg til kommunale og statlige regler. Kommunen kan stenge hele anlegget hvis to campingvogner stÃ\\x83Â¥r for nÃ\\x83Â¦r hverandre, de kan stenge serveringssteder dersom det er for mÃ\\x83Â¸kkete, de kan ilegge eiendomsskatt, de kan nekte seksjonering av eiendom osv. Hvis pr',\n",
       " \"Any US based or US influenced fiat on or off ramp is going to go nowhere near Wikileaks. It's the same reason why Visa and Mastercard won't touch them.They'll have to just hold Bitcoin and spend it if they want to keep accepting it. \",\n",
       " \"I just got a cool idea for a scam. Take those terrorist donation ads and use photoshop to change the bitcoin address. Then spread it on the internet and watch idiots donate. Bonus style points if you use a bitcoin address of a charity. Now that's a war on terror.\",\n",
       " \"Bitcoin Cash is simply unstoppable nowadays. Every week I see people come up with great ideas and nice discussions. We're really changing the world; so much exciting stuff happening!\",\n",
       " 'Finally - a leader!  You go Jessie Powell! Love this from one of the comments under the article in Bitcoin News:\"Every time they say they want to protect the investors, what they really mean is they want to help the Big And Powerful Well Connected Wall Street Crooks and Banksters. They never care about the investors, **just like the SEC**. They only care about the Too Big to Succeed Wall Street firms.\"Bingo!',\n",
       " \"Rule 2 of the sub that you linked &gt;2- Images should include something both cyber and punk. What's that really mean? Is a photo of Chinatown at night with some fog and neon cyber? Not really. Is it punk? Maybe. Is there a panhandler with a bitcoin QR code? That's cyberpunk.Wouldn't that be great to have similar guidelines plus some moderation over here too? Ahh, a man can dream.\",\n",
       " \"I mean we do that too. We way overproduce things that people can't buy/don't need. One of the worst examples is how we produce more food than we need but people are still starving. We have millions of unoccupied houses built solely for profit. The equivalent of Serbia's electrical consumption is used on bitcoin mining. I never understand how people think the Soviet Union was unique in their production failures, while encountering examples of us doing the exact same thing every day.\",\n",
       " '&gt; I gave him cash and he game me that amount in bitcoin. So you had the bitcoin?',\n",
       " \"Just like everything else these incel salt-right Nazi pieces of shit do: hour+ late, disorganized because no more bitcoin funding from Russians, and reduced to press conferences far away later in the evening. I bet Spencer won't even come to collect his customary punch in his now-morbidly obese face.\",\n",
       " \"Oof, this is a really hard one.  It feels like I've made so many mistakes and wasted so much time... but I'm also almost EXACTLY where I want to be in life, and I have to wonder whether all those mistakes really helped me to get to where I am now.  I do wish I'd invested in Bitcoin early, though.\",\n",
       " 'Telling people how much Bitcoin you own is like posting on Facebook that you withdrew 100k from your back account and hid it under your mattress. ',\n",
       " 'I own 1 bitcoin',\n",
       " 'Around the same time everyone active on /r/Bitcoin had received several months worth of spam messages urging individuals to switch from Bitcoin to Ethereum. Obviously, Ethereum has proven its worth, but back then, the legitimacy of the project was questionable.',\n",
       " 'This one will cost you. Send Bitcoin.',\n",
       " 'I used to own some Bitcoin but unfortunately I lost it all in a tragic boating accident.',\n",
       " 'Greek also talked about taking 10k a month to promote a scam bitcoin betting website to his viewers LUL',\n",
       " 'Thought it was a Bitcoin graph.',\n",
       " 'You are probably shit out of luck. you paid for bitcoin and your friend scammed you and never sent you the coins. Somehow you thought you had them though and never did due diligence at all to make sure you actually got what you paid for for 4 years and only when bitcoin takes off do you actually try to figure it out. You might be able to take him to court. i would definitely at the very least treat this as lesson learned. ',\n",
       " \"I don't understand why Tony Vays has any following.  He's clearly not very smart.And to hear Jimmy Song debunk the Economist article was laughable.  The Economist is a quality publication and this coder doesn't understand economics like he thinks he does.  BCore continue to sing the virtues of Bitcoin, they always focus on its core characteristics (which exist in BCH).  They rarely talk about its utility because they have no understanding of this.  It's like they have this great toy and don't know how to pl\",\n",
       " \"It can't be done digitally. Good luck.If it could be done digitally, bitcoin would have no value because anyone could steal anyone else's funds.\",\n",
       " 'just have the guy that paid him write another check for 100 Bitcoin.  Easy ',\n",
       " 'If you think BCH is truly Bitcoin, why do you have to add the (BCH) at the end? Just call it Bitcoin.Oh yeah, cause everyone outside of this sub knows what the real Bitcoin is.',\n",
       " 'I had some bitcoin in a banana stand but it went up in flames. ',\n",
       " 'Offer her a bitcoin for it. She will more than likely not know what that is and do a quick Google search to see what they are worth. After a hasty decision to take you up on it you give her a chuck e cheese token and call it a bit coin.',\n",
       " 'Wow, thatÃ¢Â\\x80Â\\x99s crazy. Not me! I make sure to invest all my money in trustworthy secure investments like BTOs, Mutual Funds, subprime mortgage loans and other great banking investments.  Always give my hard earned tax money to the government so they can in turn give it to others who know how to abuse the system and live on my dime while my family loses their health insurance due to impossible to afford monthly premiums and deductables and struggle to stay afloat, line the pockets of corrupt politicians and',\n",
       " \"Considering Bitcoin.com is owned by Roger, who is supporting Bitcoin Cash, this isn't all that suprising/telling isnt it? I mean, this has been his opinion all this time. So nothing really changed has it? \",\n",
       " 'Technical correction of an overheated market - corrected 70%, more than enough in my opinion.Tax selling is over.  That was a real thing.  I personally sold quite a large percentage of a significant stack of coins at prices I would not otherwise have sold at for this very reason.  I know of others as well.  Maybe not the main reason for the correction, but it accelerated it in my opinion.We know of additional selling from certain ICOs, and while some of this will continue, a large amount was completed.  The',\n",
       " \"How can one person be such scum as Ver is? Lee sold for a good reason. God, how I just hate this man. Brand stealing, shit talking, original vision. Litecoin is the true transactional champion and they're not going to be bested by BCH. There's other candidates and competition along LTC for cheap transactions.Definitely not scam coin BCH. Fucking marketing coin. Essentially it's the same thing as Bitconnect in a better costume. So sad to see people fall for his bullshit. I mean honestly, if you're looking at\",\n",
       " \"The best part about this run this time is it looks sustainable because people are backing great projects again like Dentacoin, and anything with Bitcoin in the name that isn't bitcoin. Also, coins like LeaCoin which has been around since May 2015 ~~but still doesn't have a website~~ whose last update on their shitty website was a tweet from May 12 2017 is pumping 250%. Good solid organic growth to sink our hard earned investment money into in a responsible and sustainable way.Great job everyone, this is how\",\n",
       " \"What on earth has a forum on a centralized platform anything to do with bitcoin? Most people in my country don't even know what Reddit is.\",\n",
       " \"BCH is part of the same chain. There was disagreement with the community and an appropriate split occurred. Far from being an altcoin. If you've been in Bitcoin more than a year you'd see why it occured and wouldn't be so negativeEdit: occurred\",\n",
       " 'So let me get this right ...The @btc handle on Twitter is r/bitcoin and the @bitcoin handle is r/btc ?',\n",
       " 'This is good for Bitcoin',\n",
       " 'Reverse the situation.Imagine the dominant bitcoin had 32mb blocks with a fleshed out scaling plan including successful testing of GB+ blocks , support by every major crypto business, project, and service, guaranteed sub-cent fees and a more the merrier growth strategy for true global adoption.Now imagine some upstart devs forked off and reduced block size to 1mb, heavily restricting transactional capacity to create a fluctuating fee market intended to produce long term fees in excess of $100+ driving users',\n",
       " 'some kids get into a dead mall overnight and put up a bunch of CRTs showing glitched out reruns of anime classics, on the mainstage theres a huge projector providing amazing visuals. The air smells like weed and green tea. Some guy goes around searching for 10 bitcoin that fell out of his pocket. The wifi signal is the best imaginable and you can watch a livestream of the show thats currently playing on the provided VR headsets. ',\n",
       " 'It\\'s undervalued. That simple. The coin offers many technical improvements compared to the original Bitcoin. It has assimilated the best features from both Bitcoin Cash and Bitcoin Gold, and it offers real zkSNARKs shielded transactions for privacy. This is completely unique for a bitcoin branded product. Not even the big \"privacy\" coins that are actively in use on the net (Monero, Verge, etc) offers true privacy like this, and proof exist that their privacy is compromised. There are other zkSNARKs currenci',\n",
       " '\"Learn about bitcoin, btc\"RIP in pieceTrying to throw as many key words in there as possible',\n",
       " \"its a different use case. Smart contract is used for sending of data from point A to point B. Nano fits all of its data inside a UDP packet, so it can't put smart data in there because its not meant for it. It fits all the info it needs inside a UDP packet so it can send person to person instantly with no fees.Thats the use case. If we ever are going to buy coffee with crypto, it'll be with NANO, and not ETH or Bitcoin. If you think thats the future than buy it, if you think currency coins aren't the future\",\n",
       " '6/10No medieval Bitcoin.',\n",
       " 'Out of nowhere. My aunt asked if I still own bitcoin. That means we gonna moon more. ',\n",
       " 'Lol Ã¢Â\\x80Â\\x9caccepting bitcoinÃ¢Â\\x80Â\\x9d is the easiest free marketing gimmick on Earth.  You donÃ¢Â\\x80Â\\x99t have to do squat, you maybe get one butter a months who actually Ã¢Â\\x80Â\\x9cspendsÃ¢Â\\x80Â\\x9d it, and theyÃ¢Â\\x80Â\\x99ll spend like $5 worth, and you donÃ¢Â\\x80Â\\x99t even really need to accept if you want, just claiming you accept it is enough.  Then when someone comes in just say youÃ¢Â\\x80Â\\x99re having technical problems that day or that you no longer accept it.  The butters will never admit that you stopped accepting it.',\n",
       " 'Coinbase is still a great place for someone new to Bitcoin (and not too tech savvy) to get a start (with a small amount of money) and begin to use this wonderful technology.',\n",
       " \"&gt; If lightning can't get widespread use before the next explosion it will be a nail biting moment for people like myself who sold all their BCH immediately after the fork on principle of solidarity.Therein lies the problem. Solidarity to whom? Many of the core idiots actually hold bitcoin cash, because they are not fools. Meanwhile they shilled litecon for transactions if you recall and Tada! Charlie dumpster lee sells everything (with greg maxwell and other blockstream)!!You gotta realize, as many of us\",\n",
       " '...so itÃ¢Â\\x80Â\\x99s like when your grandpa, who can barely use his iPad, gives you advice on buying Bitcoin; you know the crypto currency market is inflated. ',\n",
       " \"I mean, it's a mainstream, easy way to get Bitcoin.  It operates in the US under our financial laws though.  I wish people would stop bashing them.  What exactly do people expect them to do?  Not follow laws and get shut down?  They've added so many people to the Bitcoin space.\",\n",
       " 'Thank you for continuing this work with XT. We need more independent bitcoin clients! Would you be willing to do an AMA thread on r/btc sometime?',\n",
       " 'Having always wanted to visit Alaska, it took me and my not-unobtainably-gorgeous-but-rather-girl-next-door-cute girlfriend 18 months working retail to save up enough money to get this Earthporn shot of these endangered smiling seals. Bitcoin.',\n",
       " 'Why people are taking this so negatively ?the only difference between\"excuse me, do you accept bitcoin ?\"and \"excuse me, do you accept credit card?\"is that bitcoin is better !he is not saying he will try to convince anyone to accept bitcoin.. he will just ask',\n",
       " 'On the flip side, I tell all of my clients that they can pay me in Bitcoin. No one has yet. ',\n",
       " \"Scott Adams is on record admitting he owns some Bitcoin. He's talked about it before on his Periscope broadcasts.\",\n",
       " 'All over the internet, I notice you churlish cretins lauding the supposedly intellectual television program known as Rick and Morty to make yourselves appear more intelligent by extension, as you are ardent watchers of the aforementioned show. However, you piddling planarians only succeed in illustrating how vapid you really are, as Rick and Morty has the intellectual depth of a petri dish. Truly, the most noetic show is neither Rick and Morty, the Big Bang Theory, Jimmy Neutron, nor any other deluge of dri',\n",
       " \"Doug, I know you're gonna check this thread sometime.I'm an Upswing Lab member, I purchased Educa's course, I've watched all your videos on both channels in youtube. Please reconsider your stance with proper education on crypto. Do more research. We'd be happy to help and provide a different angle. Research what happened to Bitcoin XT client. Research the censorship on r/bitcoin.  I've never seen you talk about things that you clearly don't know and act like you know a lot. Not knowing who Gavin Andresen fo\",\n",
       " 'Gold? What good will that do after societal collapse? Go all in on *bitcoin*',\n",
       " \"For the inflation nuts out there...ETH inflation will go to 2% in a few months with Hybrid Casper.Bitcoin is currently 4% and won't go to 2% until 2020.By then Casper CBC will be out and inflation should be 0 to 0.5%.*Suck it Bitcoin.*\",\n",
       " \"Yes, there's technical and fundamental analysis. Bitcoin has no underlying fundamentals, so all you can do is technical analysis. Or just allocate a fixed portion of your portfolio and volatility pump it.\",\n",
       " 'His track Ã¢Â\\x80Â\\x9cSatoshi NakamotoÃ¢Â\\x80Â\\x9d is amongst the best Bitcoin songs released to date.https://youtu.be/HAwC0swp96I',\n",
       " 'This is good for bitcoin',\n",
       " 'My dad is an accordHe says that if you have a 401k by all means invest in bitcoin ',\n",
       " \"This is happening in Venezuela also. The govt shutdown trading platforms, arresting miners and jailing cryptocurrency's owners, despite the propaganda about the government being crypto-friendly.The true is that bitcoin, ethereum, litecoin, bitcoin cash and many others cryptocurrencies have helped a lot of venezuelans to save their income, savings and wealth from govt-induced hyperinflation. This blockchain technology is allowing venezuelans to get some monetary freedom, allowing many of us to surpass econom\",\n",
       " 'bitcoin account? what happened to just, idk, accepting bitcoin?',\n",
       " 'unfortunately the address format that **actually** has a problem with loss of funds is SegWit address confusion, so this is not a problem with Bitcoin Cash, this is a problem with the BTC frankenstein confusing everything so I think it would be good to add a warning **only** to Bitcoin Cash clients even if they do not want to support the new address format (and warn on SW addresses)all clients should remain compatible with all formats if they are still usable, end user confusion is a UI issue',\n",
       " 'Someone lost at the BitCoin casino. Probably a relative who is pressuring the family about the celebration as a way to extract funds with the plan to take a lot for themselves. Who is the money going to? Following that rabbit hole would open up a lot of your fiancÃ\\x83Â©Ã¢Â\\x80Â\\x99s familyÃ¢Â\\x80Â\\x99s issues which she may not even be aware of. Regardless, hell no. ',\n",
       " 'This post really triggered the shit out of the desperate anti-bitcoin shills. Noice!/u/chaintip',\n",
       " 'I\\'m a Bitcoin developer.  Both chains are forks--segwit was a fork: it literally changed the way blocks are structured.  It seems confusing, but it\\'s true.  The only misconception here is your misappropriation that \"fork\" is a derogatory term.',\n",
       " 'This and VeChains announcement proves that pretty much every project that is not just a payment coin needs oracles. This is gonna be the buzzword of 2018. Like there were 100 payment coins like bitcoin created after bitcoin and 100 ethereum/smart contract clones after ethereum. But superior platform/implementation has higher chance for market dominance. Dont forget ChainLink is first mover, also focused on institutional money/banks and blockchain agnostic. You can apply ChainLink on ANY platform. VeChain or',\n",
       " \"It's not a story the Bitcoin miners would tell you.\",\n",
       " 'its not true because if bitcoin reaches 100k this guy and all the whales will be richer than bill gates and the elite wont want the 1% club being overrun',\n",
       " \"Trust me, the 1% will long buy in before Bitcoin ever gets to 100k. There will come a point where not having exposure will be costly. They all undoubtedly have savvy financial investors who are looking at the sector already. Possibly already have a small stack. So the 1% won't be overrun like you think. They, of all people, are watching where the world's wealth is flooding into because it affects their own economic power. You think the 1% will be asleep while Bitcoin keeps going up? Think again\",\n",
       " 'Is this setting him up for a lawsuit? ItÃ¢Â\\x80Â\\x99s obvious that this is not in good faith. I donÃ¢Â\\x80Â\\x99t care for BCH, but I respect the idea of people wanting to fork btc because when there isnÃ¢Â\\x80Â\\x99t consensus thatÃ¢Â\\x80Â\\x99s just how it works. But when you list bitcoin cash as bitcoin, itÃ¢Â\\x80Â\\x99s clearly deceitful and you could be leading people to invest in something they donÃ¢Â\\x80Â\\x99t want. ',\n",
       " '*Investor in Bitcoin predicts Bitcoin will be big',\n",
       " 'If bitcoin hits 100k by the end of the year, I will eat my dick live on television. No salt either. ',\n",
       " '*WhatÃ¢Â\\x80Â\\x99s the point of NANO when we have BTC Lightning, Litecoin and Bitcoin Cash?*ItÃ¢Â\\x80Â\\x99s consumers that will drive adoption and economic usage. If one is free and instant, and the others cost money, which do you think will gain the greater traction?This isnÃ¢Â\\x80Â\\x99t another ERC20 token or bitcoin clone, this is the real deal.',\n",
       " \"*Guy that doesn't hold bitcoin says it will crash to $0\",\n",
       " '+ says it will go to zero, but doesnÃ¢Â\\x80Â\\x99t have any short positions. I love it when nocoin television educated aquaintences tell me bitcoin is going to go out of business. Ã°Â\\x9fÂ\\x98Â\\x82',\n",
       " \"I can respect Bitcoin Cash fork, just like forking into any other Altcoin.I just can't respect the misleading, blatent lies that are going to hurt the Crypto community as a whole.\",\n",
       " \"Once you have seen Nano's speed there is no going back.Using Bitcoin now feels like dial-up internet.\",\n",
       " \"This is how you know it's an awesome time to be involved with bitcoin lol\",\n",
       " 'I never really understood these Ã¢Â\\x80Â\\x9cdonÃ¢Â\\x80Â\\x99t buy *name of cryptoÃ¢Â\\x80Â\\x9d as a means to get people to buy it. A lot of people donÃ¢Â\\x80Â\\x99t realize that this sign is attempting to advocate for bitcoin, especially the Ã¢Â\\x80Â\\x9caverageÃ¢Â\\x80Â\\x9d consumer.',\n",
       " 'Said bitcoin. ',\n",
       " \"You don't have to buy bitcoin in whole numbers...\",\n",
       " 'DonÃ¢Â\\x80Â\\x99t buy bitcoin.... But do take out these credit cards and these student loans!  Have fun paying them off bro!',\n",
       " \"**Overall Record 26-6-1** *Bank* : **100u** *Profit:* **+37.34u***Average Value:* **1.90***Streak:* **1W****WWWWWWLWWWWWCWLWWWWWWWWLWLWWWLWLW***Previous Pick*: **Fnatic ML (-140)** vs Navi*Todays Pick:*  **Heroic Map 1 ML (-103)** vs EnVyUs**ESL Pro League 11:00 EST**Back from my temp ban. Note to anyone don't get baited into insulting anyone. Not really worth the ban especially if you enjoy the subreddit. That being said I do see major value in Heroic map 1 Train. It is NV map choice but overall I think he\",\n",
       " 'Looking forward to \"Crypto\", the Sorkin / Fincher movie with Jessie Eisenberg playing Vitalik Buterin and Justin Timberlake playing Satoshi Nakamoto. I joke, but expect an A-list director doing a Bitcoin movie in the next couple years.',\n",
       " \"Isn't this against reddit rules (brigading)? How can we report that to reddit, so they clear the mess in r/bitcoin. this is becoming ridicoulos. \",\n",
       " 'Ok guys, as someone who is invested 50/50 in BTC/BCH, these little pissing contests are getting old as fuck. Let me share with you the top comment from the thread in question:&gt;This kind of behavior is childish and I\\'m ashamed this shit even reaches the front page. Scam website? Misleading at the most, but scam? Just like all those coinbase transactions are \"spam\"So, despite the sensationalist title of u/MemoryDealers post, the r/bitcoin community did not support the post.&gt; It\\'s sad that BTC supporters',\n",
       " 'I spent 45 minutes typing a thoughtful post on that sub about why I wanted to invest more cash in NANO and asking what the community thought about it in the short term due to the recent market resurgence and alts continuing decoupling from bitcoin.  I was asking for constructive feedback only to realize I didnÃ¢Â\\x80Â\\x99t have enough karma to post there. So I came here to beg for karma. Thank you.Just asking for a little help from the fam. ',\n",
       " 'Ok I have a financial incentive to say this is true, but no, fucking no. The internet is bigger than Bitcoin. The End. ',\n",
       " 'How much is that in Bitcoin?',\n",
       " \"Well you shouldn't be able to buy bitcoin with a credit card just like you can't buy stocks. Not allowing debt card on the other hand is unacceptable.\",\n",
       " 'see also: malvertising and running bitcoin miners in the background',\n",
       " \"...Or you'll get scammed by bitcoin judas Roger Ver.\",\n",
       " 'Another prime example of when Core supporters tried to use the government to get their way was when Core Dev and Blockstream cofounder BlueMatt wrote to the SEC asking for federal regulations in Bitcoin around the time of the SegWit2X fork. Another fun time was when Core Dev Peter Todd tried contacting state governments to try to regulate Bitcoin. These guys are not bitcoiners. [Relevant comment link.](https://www.reddit.com/r/btc/comments/793dus/desperation_adam_back_threatens_jihan_wus/doyst7g/?context=3)',\n",
       " 'It\\'s neither good nor bad. This is what permissionless environment is. It means brands are not protected and any jackass can fork your coin and claim he is following the original vision and the others aren\\'t and if enough jackasses follow him then the network decides that this \"brand\" has value. There is no such thing as real bitcoin. The people decide individually. In case of bcash it has less value than bitcoin (core) but it is much more than zero so some people are fine with that vision which means to th',\n",
       " 'Bch claims to be the real Bitcoin. Roger Ver (the biggest impulsor) makes multiple claims a day and all he does is whine about how his coin is the real Bitcoin. He also claims bch to be the fastest growing crypto ever, witch makes no sense, either bch is the real original Bitcoin that was born in 2009 as he claims, (meaning the price crashed 90% when the fork occurred) or it was born that day, so it CanÃ¢Â\\x80Â\\x99t be the real Bitcoin. He and his entourage owns Bitcoin.com and controls /r/btc, and also the twitt',\n",
       " 'BTC is BitcoinBCH is Bitcoin CashWhat the fuck is wrong with Ver?',\n",
       " \"This might be valid if he didn't then try to rebrand Bitcoin as Bitcoin core.\",\n",
       " \"Ethereum is Litecoin, which is actually Bitcoin.You have to believe me, because I'm Satoshi Nakamoto, who is actually Craig Wright, who is literally Celene Dion. \",\n",
       " \"Basically, bitcoin cash uses an unlimited block size to achieve what bitcoin achieves with segwit and the lightning network: faster transaction times. Each has merits and drawbacks and most hate for the other is undue and stems from the coin's respective echo chamber (r btc and r bitcoin).Edit: I may have misread your comment. However, I'll leave this up for other passers-by.\",\n",
       " 'I know the feeling. For a while there I was very disillusioned with Bitcoin. Now my faith is restored.',\n",
       " 'Except virtually no businesses accept it as currency and no employers pay in bitcoin so calling it money is a stretch. Almost everyone treats it as an investment that pays no dividends or generates any revenue. They just hope some schmuck will pay more than they did for it.    Edit: Thank you for my first gold kind sir/miss!',\n",
       " 'Agreed.  This btc vs bitcoin subreddit battle is just a bunch of assholes calling each other names.  I see it on both sides.  Just quit it.  Its not my coin versus your coin.   ',\n",
       " 'Yep. You don\\'t get to love bitcoin for these traits and then declare OP\\'s screenshot as being \"NOT OK\". Says who? The whole allure of bitcoin is that no single force gets to decide what IS and ISN\\'T OK. Cryptocurrencies are as close to a pure meritocracy as you can get.',\n",
       " \"Since I didn't know myself, looked it up. 1 Bitcoin is around US $9,400. Just posting since others might not.\",\n",
       " 'Because nobody uses it as currency. Sure a couple people actually spend their Bitcoin, but the vast majority just buy it and hold. ',\n",
       " 'I thought pennies were some type of bitcoin',\n",
       " 'Lol. If thereÃ¢Â\\x80Â\\x99s anything Roger gets itÃ¢Â\\x80Â\\x99s that nobody cares. ThatÃ¢Â\\x80Â\\x99s why he must convince people that he has the real bitcoin.If he canÃ¢Â\\x80Â\\x99t convince people, and he stops pumping it, itÃ¢Â\\x80Â\\x99s just one of the thousand other altcoins that are worth nothing. His coin isnÃ¢Â\\x80Â\\x99t even an improvement over Litecoin.',\n",
       " '\"...an investment that pays no dividends or generates any revenue.\"Also known as a commodity like gold or oil. In March a district judge in Brooklyn ruled that Bitcoin and other virtual currencies should be regulated like commodities which coincides with the 2015 determination from the CTFC. Obviously, given that this is a decentralized currency, a handful of determinations made purely in the US aren\\'t a binding ultimatum or anything but it\\'s the most definitive position we have at the moment.https://www.cn',\n",
       " 'This should be ignored, same as the billionaire bitcoin investors saying bitcoin will be worth millions in years, bullrun has begun again etc.They are not objective, they are loud because they have much to gain or lose. This goes both ways people.',\n",
       " \"People are praising him, but you're absolutely correct. Technology moves so fast, Bitcoin will be irrelevant in a few years. This is just a very expensive memento.\",\n",
       " 'Bitcoin (DOGE)',\n",
       " 'To celebrate buying my son a Bitcoin IÃ¢Â\\x80Â\\x99m giving away 100 Bitcoin. Simply send 0.25 BTC to this address and receive 5-10 BTC instantly.....Twitter probably.',\n",
       " 'Not true! My friend got paid in bitcoin for a dev job from a large company!',\n",
       " 'Such vision. Much true Bitcoin. Wow!',\n",
       " \"Coinbase is a bank. For now, since most wealth is tied up in traditional banking there is a need for an onramp. Considering how badly the traditional banking system is trying to block these onramps, Coinbase is a necessity evil for the time being. I'm no fan of the way they handled the BCash rollout but they've done more for Bitcoin so far then they've done to hurt it.\",\n",
       " \"If he's gonna play *that* game, he might as well just use the roll to buy some bitcoin.\",\n",
       " 'I for one will not miss Bitcoin Core, Blockstream, or their censorship and deceit.',\n",
       " 'They made a joke about it in the Bitcoin episode where Penny was making an apology video on a laptop and Sheldon assumed she was camming',\n",
       " 'A Bitcoin episode about people who should know what Bitcoin are, written by people who heard it on the news once.I hid the Bitcoin on a flash drive. Bazooper!',\n",
       " \"Red - Would mine bitcoin as soon as it came into existence and become a very rich teen. I'd also know that all the bullies in high school either OD or have children in their late teens.\",\n",
       " 'Good job, you posted this exactly as Bitcoin dominance is going up.',\n",
       " \"NEW SECRET CLUTCH GOLDEN BURST ASSAULT RIFLE! NINJA AND MYTH REACT SIMULTANEOUSLY, SIT ON POKIMANE'S ROOF TO WATCH METEOR HIT TILTED TOWERS. POKIMANE TWERKS LIVE ON STREAM IS NINJA PREGNANT? 6000 VBUCKS 1000 BITCOIN GIVEAWAY YOU WONT BELIEVE WHAT HAPPENED AFTER MYTH FOUND OUT! WHOSE PREGNANCY TEST IS THIS, IS MYTH SCARED OF GOAT SEMEN? TILTED TOWERS METEOR IS ACTUALLY HAGRID'S TESTICLE, HARRY POTTER THEMED SEASON 4 COMING? IS POKIMANE NINJA'S DAUGHTER? ARE NINJA AND JESS DIVORCED AND MYTH IS THEIR SECOND ST\",\n",
       " \"I don't get why females can't appreciate my loving 272.727 kg body. Clearly my superior intellect should woo any female, but they only go for sub Ã°Â\\x9fÂ\\x92Â¯ iq chads.I have better hand to eye coordination than other gamers and normies. But yet, I get rejected a proper romantic relationship by a Stacy whore super slut who only eats raw Chad eggplants. I guess nice guys always finish last.Oh yeah, to those who disagree with me, you are just normies who sex females. Luckily, my waifu is extremely loyal to me, an\",\n",
       " 'This would basically be the biggest news since satoshi invented Bitcoin.',\n",
       " 'This would be the biggest news since satoshi invented Bitcoin.',\n",
       " 'Even after 40 years people still will be early adopters because my predictions shows that Bitcoin will moon to 9999999999999999$ by the year of 2069.',\n",
       " '\"The more than 1,300 percent rise of bitcoin prices last year certainly caught the attention of regulators.\"They are upset they can\\'t get a cut of the profits somehow.',\n",
       " 'No one would do such a thing; it\\'d be against their self interests.Snapshots:1. *This Post* - [archive.org](https://web.archive.org/20180425173348/http://www.reddit.com/r/Buttcoin/comments/8evf7b/bitfinex_appears_to_be_insolvent_popcorn_futures/), [_megalodon.jp\\\\*_](http://megalodon.jp/pc/get_simple/decide?url=http://www.reddit.com/r/Buttcoin/comments/8evf7b/bitfinex_appears_to_be_insolvent_popcorn_futures/ \"could not auto-archive; click to resubmit it!\"), [removeddit.com](https://www.removeddit.com/r/Buttc',\n",
       " 'About 111 bitcoin.',\n",
       " \"I saw this and got really excited. Then I saw the article that Nasdaq would be open to considering listing crypto currency on their exchange... If they list bitcoin on Nasdaq I don't even want to think what will happen to card prices.Edit: I get it guys, TIL: no one mines bitcoin anymore. The point still stands, mainstream institutional acceptance of crypto currency will crush gpu supplies and drive prices way up. \",\n",
       " 'It is stopping for a while, but it will return in full force when bitcoin starts climbing again.',\n",
       " 'Will it climb back though? Cryptos have been in the shitter this year. Anyway even if bitcoin and ether start rising sharply, mining with GPUs wonÃ¢Â\\x80Â\\x99t be efficient any more. Most Ã¢Â\\x80Â\\x98professionalÃ¢Â\\x80Â\\x99 miners use special hardware (canÃ¢Â\\x80Â\\x99t remember the name) that is designed for the purpose of mining. ',\n",
       " 'This is just one more reason why all this crypto currency hype is ridiculous.  There are no goods or services being produced that justify the economics of the situation.  The IRS can track your transactions just fine, and there is zero fraud protection.THIS IS GOOD FOR BITCOIN... LOL',\n",
       " \"&gt; Anyway even if bitcoin and ether start rising sharply, mining with GPUs wonÃ¢Â\\x80Â\\x99t be efficient any more.People didn't use GPUs to mine bitcoin, they mined other coins, which will still be effective if bitcoin rises again.The entire market is like an ocean. If bitcoin rises, the tide follows.\",\n",
       " \"&gt; The entire market is like an ocean. If bitcoin rises, the tide follows.Which is it? The ocean doesn't work that way. When it's high tide somewhere on Earth it's low tide somewhere else.\",\n",
       " 'The phrase they were looking for is \"a rising tide lifts all boats.\" They\\'re saying that if Bitcoin goes up, so will other cryptocurrencies.',\n",
       " 'I mean, Bitcoin is doing pretty well right now. The real reason demand is going way down is because people started making ASICs for Ethereum and Monero, so GPUs are gonna become worthless for those soon.',\n",
       " \"Bitcoin mining isn't done with GPUs, it's other altcoins. Bitcoin has ASICs going for years which make GPU mining ridiculously unprofitable.\",\n",
       " 'Yeah but bitcoin price movement affects the price of other gpu-minable coins, which in turn affect mining profitability.',\n",
       " \"I asked this question in reverse in September? Why does Bitcoin Cash people just not move to Litecoin? Then I did my own research and bought my first BCH.Litecoin is a testnet. Litecoin is a spare tire. The only reason Core isn't attacking Litecoin is because they go out of their own way to lick balls of Core guys at the slightest opportunity and this makes them feel good so far. \",\n",
       " 'But is it good for Bitcoin?',\n",
       " \"For your amusement here's an article discussing the profitability of including a javascript bitcoin miner (that's what it sounds like it is) on a website.https://medium.com/@MaxenceCornet/coinhive-review-embeddable-javascript-crypto-miner-806f7024cde8tldr: The author made 39 cents a day during his test.It's not particularly super-harmful besides slowing down your computer.\",\n",
       " \"I remember stopping mining because it started taking me two days to mine a bitcoin instead of one. I'd say that was a couple of months before your screenshot on a 5870.\",\n",
       " 'Sometimes I think *I wish I bought bitcoin back then*. But then I think *nigga you would have spent all 10,000BTC long before today and be in a spiral of depression*',\n",
       " \"&gt;Would be a good way of increasing your stack but you run the risk of it never coming down to these levels again and you'd be like the guy who sold all his bitcoin at $25!If you've already made millions and your immediate thought it to try and make more, you've got a gambling problem.If I made millions off crypto you bet your ass I'd cash everything out and put it in safer investments and just chill the rest of my life. Going from modest lifestyle to 3m+ is absolutely life changing, going from 3-10m is c\",\n",
       " 'The 21st millionth bitcoin will mathematically never be mined',\n",
       " \"Regardless of your take on what the real bitcoin is... Anyone supporting this confusion tactic is against crypto as a whole. It's fraud and it's that simple. \",\n",
       " \"There's a guy in Newport South Wales who's still looking for a HDD with (approx) 4mill of Bitcoin on it.......https://www.theguardian.com/technology/2013/nov/27/hard-drive-bitcoin-landfill-site\",\n",
       " 'You donÃ¢Â\\x80Â\\x99t need to improve the dollar. IÃ¢Â\\x80Â\\x99m a bitcoin supporter but this seems like a really stupid point. ',\n",
       " 'What would actually happen when all the bitcoin become mined? ',\n",
       " \"Today on Youtube-NEW CUSTOMISED DARK VOYAGER ALIEN SUIT! NINJA AND MYTH REACT SIMULTANEOUSLY, SIT ON POKIMANE'S ROOF TO WATCH METEOR HIT TILTED TOWERS. POKIMANE TWERKS LIVE ON STREAM IS NINJA PREGNANT? 6000 VBUCKS 1000 BITCOIN GIVEAWAY YOU WONT BELIEVE WHAT HAPPENED AFTER MYTH FOUND OUT! WHOSE PREGNANCY TEST IS THIS, IS MYTH SCARED OF GOAT SEMEN? TILTED TOWERS METEOR IS ACTUALLY HAGRID'S TESTICLE, HARRY POTTER THEMED SEASON 4 COMING? IS POKIMANE NINJA'S DAUGHTER? ARE NINJA AND JESS DIVORCED AND MYTH IS THEI\",\n",
       " 'I just bought 10 bcc and 50 eth because you said they are going to follow Bitcoin over 10,000 in the coming week.  You better be right.',\n",
       " \"It's querying the bitcoin price and showing it on the progress bar.EDIT: The mad lad delivered, thanks a ton bro :-)\",\n",
       " \"Why don't you invest into bitcoin instead? You'll be able to get like 2 reddit golds. Do you know what you can do with 4 golds?\",\n",
       " 'No one mines bitcoin with GPUs anymore. However they do mine ethereum and trade it for BTC.',\n",
       " \"There's a lot of political debate about whether Bitcoin is BTC or BCH. Is the original chain Bitcoin???? Did Core corrupt the original chain and the new chain continues Satoshi's vision????#All BS.Bitcoin is about **consensus** (not about the actions or opinions of Core or Satoshi or anyone else). If the consensus had gone to BCH = Bitcoin then that would be the truth. BCH would be Bitcoin.But in fact, BTC kept 10x the hash power and 10x the market cap. The exchanges, the merchants, most of the users etc. s\",\n",
       " \"God fucking damn Reddit is absolutely up it's own collective ass with trying to call out 'bubbles' when in reality, they know fuck all about finance. For the past 5 years I've seen everyone on this site call out anything from another housing bubble, to commercial real estate, to student loans, to bitcoin. And the even more annoying shit is when they tried to say they 'saw' the housing bubble happening in 2007. NO ONE saw the whole picture until they unraveled all the strings after it happened. Everyone here\",\n",
       " 'The premiere bitcoin \"bank\" started as a Magic trading platform. lolMTGGOX',\n",
       " \"Nah, you're fine--it's just a joke that bitcoin is so volatile it probably fluctuated that much between your post and his.\",\n",
       " \"Coindesk is Satan's anus of cryptoland. Biased, Corrupt, Boring.  Considering their financiers are the digital currency group, they could even run around and teabag Z\\\\-cash and Bitcoin symbols with a ballsack\\\\-stamp onto the heads of their readers. They write hit pieces against IOTA, praise the coins they invested in and act as the best, independent source for cryptocurrencies.People are reading tinfoil\\\\-shit on facebook, they throw their microwave away and they cheer for Edward Snowden, but they visit Coin\",\n",
       " \"Even if you support bch, don't you think its misleading calling bch bitcoin? I think more people could get behind bch if roger wasn't one of the main guys behind it...\",\n",
       " \"Not only is the next halving in 2020, but it appears that it will fall somewhere within the month of July. The 2020 Summer Olympics will be held in Tokyo from Jul 24th - August 9th. Japan has long been at the forefront of cryptocurrency adoption, having termed the currency a 'legally accepted method of payment' It's possible that these two events coinciding will propel Bitcoin into the forefront of mainstream acceptance and use. \",\n",
       " \"LTC isn't claiming to be Bitcoin, so there's that.\",\n",
       " 'Your school is selling bitcoin too ',\n",
       " \"Yeah just a few more bitcoin forks and we're there.\",\n",
       " \"I feel like you've done minimal research into the project of REQ and just made this thread.Request is a network, so it's not really what the dev team does but moreso what the community does. As of now there's also only Eth allowed for the network. I do believe there's been coding for both bitcoin oracle and ERC-20 tokens both being worked on. That is the true main door opener for REQ to be live and working. Then once that's working it's entirely up to the community and devs to make the project explode. Simi\",\n",
       " \"Universal Composability: https://eprint.iacr.org/2000/067. Tl;dr PoS without checkpoints. Come to EuroCrypt in Israel. Happy to discuss in person. &gt;That said, there are limits to this kind of heuristic. If there's any point in the blockchain's history where less than &gt;some portion p of validators are online, and you can get your hands on old private keys for q &gt; p of coins active &gt;then, then you can create a new history that appears to outperform the original.Notice the assumption since Praos is\",\n",
       " 'For those of you who donÃ¢Â\\x80Â\\x99t know, Nick Szabo is one of the most Influential Ã¢Â\\x80Â\\x98CypherphunksÃ¢Â\\x80Â\\x99 of the late 1990s and early 2000s, creating the bitgold protocol and contributing to bitcoinÃ¢Â\\x80Â\\x99s creation. Having said that, from an investment perspective it makes sense to follow the dumb money if you are looking for a pump and dump. The coins that have the heaviest marketing to normies are likely to pump. Evidently, a lot of retail investors see bitcoin cash as a Ã¢Â\\x80Â\\x98discount bitcoinÃ¢Â\\x80Â\\x99. Keep ',\n",
       " 'Highly doubt it. He\\'s been in this space before this space even existed. He created the term \"smart contract\" and created the precursor to Bitcoin called \"Bit Gold\".Just because he disagrees with you doesnt mean he was \"bought by the banks\".',\n",
       " \"A lot of people are mentioning businesses, but that's usually for low-level, small time crime. Let's say someone makes $100k, but also makes $50k illegally somehow on top of that (maybe selling something illegal on the side), this is common with EU truckers for example, who often smuggle cigarettes on top of their normal stuff across borders. Now this $50k is 100% illegal income, they can't really pay taxes on it otherwise the government might ask questions (how did you make $150k when every other trucker m\",\n",
       " \"funny thing is these PNC dirtbags closed my account and refused to supply a reason and that was way before i got involved with bitcoin. pnc is about the worst i've come across.\",\n",
       " 'Seriously. Korean shit, ISIS, Trump, Clowns, Ebola, Russia, Bitcoin, Memes, etc. I started this decade as but a boy, but I shall finish it as a woman. The future is weird.',\n",
       " \"&gt;Seriously. Korean shit, ISIS, Trump, Clowns, Ebola, Russia, Bitcoin, Memes, etc.We didn't start the fire, it was always burning since the world's been turning\",\n",
       " '[Bitcoin is not ruled by miners](https://en.bitcoin.it/wiki/Bitcoin_is_not_ruled_by_miners). Bcash isn\\'t Bitcoin because it broke the consensus rules. In fact, Bcash is a good example of why \"most PoW\" often doesn\\'t even make sense, since Bcash has a totally different way of *measuring* PoW.',\n",
       " 'Bcash price feeds on newcomers thinking they are dealing with bitcoin. This is the definition of fraud and deception.',\n",
       " \"Obama's back, yes we can,Water in Flint, Michigan,Bitcoin crash, mainstream memes,Trump tweets and centipedes,Nestle's draining all the lakes,North and South Korea shake,Refugees turned away,What else do I have to say?Edit: Added another syllable by suggestion. And less US-centric stuff. Puerto Rico with no power,Mars cars, eclipse hour,ISIS blows up everyone,Robin Williams's laughter gone,Ebola spread, email files,The Queen's alive but pedophiles,Mayan's ancient prophesy, Malasian flight 370,Brexit, Curios\",\n",
       " \"all things considered if they have children they will be at a significant disadvantage and their grandchildren will inherit nothing.The monetary cost of the tattoo + removal, if invested in bitcoin and sold at the height, then invested more, he's deprived his family of tens of thousands of dollars. This isn't even counting the social cost, the rejection, the psychological consequences due to people calling him a retarded faggot. It all adds up.\",\n",
       " \"He's got a fucking point, what is so wrong about calling it Bitcoin Cash? Who fucking cares. Even if you think it is better, call it what it is. Bitcoin is oldschool. Bitcoin Cash is modern. So be it. Let the greater technology win.\",\n",
       " 'Roger Ver went from Bitcoin Jesus to Bitcoin Judas.',\n",
       " 'The Bitcoin Cash is Bitcoin thing is total P.R. disaster that has done more harm to BCH than anything else ',\n",
       " \"It's a japanese bitcoin enthusiast's mating call.\",\n",
       " \"Today on Youtube:NEW SECRET TV MESSAGE CODE HACKED! NINJA AND MYTH REACT SIMULTANEOUSLY, SIT ON POKIMANE'S ROOF TO WATCH METEOR HIT TILTED TOWERS. POKIMANE TWERKS LIVE ON STREAM IS NINJA PREGNANT? 6000 VBUCKS 1000 BITCOIN GIVEAWAY YOU WONT BELIEVE WHAT HAPPENED AFTER MYTH FOUND OUT! WHOSE PREGNANCY TEST IS THIS, IS MYTH SCARED OF GOAT SEMEN? TILTED TOWERS METEOR IS ACTUALLY HAGRID'S TESTICLE, HARRY POTTER THEMED SEASON 4 COMING? IS POKIMANE NINJA'S DAUGHTER? ARE NINJA AND JESS DIVORCED AND MYTH IS THEIR SEC\",\n",
       " 'This. Bitcoin Cash is a totally fine name IMO as it contains the main keywords of the whitepaper\\'s title.Roger has done an excellent job especially when it comes to fighting the censorship, but with these silly naming games and unnecessary confusion he is burning his reputation.By all means, market BCH as \"Satoshi\\'s vision\" or \"the original vision of Bitcoin\" and point to the whitepaper if you like. But namings like Bitcoin (BCH) vs Bitcoin Core (BTC) are nonsensical as creating excess confusion doesn\\'t hel',\n",
       " 'Why was bitcoin cash created in the first place ?',\n",
       " 'I agree that RVer is trying to mislead. It is a classic bait and switch. ItÃ¢Â\\x80Â\\x99s fine if you support bitcoin cash, but donÃ¢Â\\x80Â\\x99t mislead. This tactic he is using to increase the bitcoin cash user/investor base is definitely along the lines of a scam. IÃ¢Â\\x80Â\\x99m not saying BCH is a scam, but the methods RVer is using is misleading and wrong. I own BCH, but only by way of fork. I have no interest in this chain outside of holding the free fork drop atm. In all honesty, if I were to adopt the idea of using bot',\n",
       " 'lol same. I watched a 30 minute debate on bitcoin and I had zero idea what the fuck anyone was talking about. Really mesmerizing.',\n",
       " 'This is good for bitcoin.',\n",
       " \"Because Bitcoin avoiding ASICboost has somehow changed the mining landscape and everything is decentralized now? Yeah, no - it was primarily an ideological disagreement on scaling solutions and there were people on both sides who stood to gain from either decision - that doesn't mean supporters of one side or the other we're doing it for personal gain (or padding the pockets of whoever your ideological boogyman is whether that's Jihan or Blockstream or whoever)\",\n",
       " \"I was going through my crypto and someone came to the front door.  I left my laptop on the table with the chair pulled out.  When I came back everything seemed normal.About 20 minutes later I wonder what that little black bit of string is on the floor.... I get up and see its the loop from my TREZOR.  Okay... must have fallen off.  Strange.  So I go back to my desk to put it back on.My TREZOR isn't on the desk.At that point I realise my dog isn't on the sofa. I start looking for him and he's in the hallway \",\n",
       " 'Oh...for a long time I thought bitcoin mining was the computer generating bitcoins....',\n",
       " 'open it up, desolder the microcontroller (ARM Cortex M) chip from the device, get another Trezor, replace the microcontroller in it with the one you desoldered from the broken Trezor...enjoy your Bitcoin :)https://i.imgur.com/TYRgufE.png   &lt;= The microcontroller is marked in orange*this description applies in case you lost the recovery seed sheet, otherwise you can just use it to recover the funds*',\n",
       " 'I mean, if I run a cord from my house out to the street so people can charge their phone on the go, you certainly could hook up your bitcoin miner to it and exploit the \"free\" electricity.  At the same time, you\\'re making it so that others can\\'t use the service, and making it so that I need to implement some security measure to make sure that this doesn\\'t happen again.   Sure, you found an attack vector, but you exploited a free service for personal gain and made it more inconvenient for people in the futur',\n",
       " \"I'm reading a lot of stupid comments from people that think if Bitgrail ever reopens you'll eventually get money for your Bitgrail shares. It will never happen.What idiot would use Bitgrail again after they lost millions and millions of dollars in Nano?Do you think people would rush to line up and buy Bitcoin on Mt Gox if they reopened?In my opinion, the best situation would be we get our 20% back and then he gets sued and we get a share of his personal assets as well (because Francesco ran the business und\",\n",
       " 'Maybe this isn\\'t the right place to ask, but wasn\\'t the bitcoin cash fork shot down during the August 2017 vote? Why does Ver keep shilling \"BCH is the real bitcoin\" then? I am confused... Appreciate the meme though.',\n",
       " 'What would I do with a hard drive with 7.3 billion dollars worth of bitcoin on it?',\n",
       " 'Had someone try to run a similar scam on my trying to buy a website I own. The first tip off was that they offered something stupid like 200 Bitcoin. Actually had to email them back to figure out the scam, they wanted me to run some kind of \"domain certification\" and of course they have a site that meets their qualifications.Anyway, you can report them to the FTC: https://www.ftc.gov/faq/consumer-protection/submit-consumer-complaint-ftcOr just forward the email you got directly to spam@uce.govEdit: I should',\n",
       " \"Why are you fucking retards wasting everyone's time with anti-BCH shitposting? And how the fuck does this garbage keep getting upvoted?Correct me if I'm wrong, but this subreddit is supposted to be about BITCOIN. *How the fuck do any of us benefit from idiotic circlejerk attacks on another cryptocurrency??*\",\n",
       " \"Might actually be a breakdown to be honest, last stream I watched of his, he was talking about how he had invested a bunch in some crypto and was going to be rich, so if it took the same route as Bitcoin and crashed substantially AND he lost his job, I'm guessing he'd probably not be in a great place right now.\",\n",
       " \"&gt;so if it took the same route as Bitcoin    They legit all crashed after the normies pulled out, so he's fucked unless he was smart and sold at a profit.\",\n",
       " 'Nice idea. Sends a powerful message without being pushy. *Ã¢Â\\x80Â\\x9cTo reinforce his faith in bitcoin, Mr Pfeffer donated 10 bitcoins to the Sohn Foundation on the condition they did not cash them in for five years, saying: Ã¢Â\\x80Â\\x9cBuy the ticket, take the ride.Ã¢Â\\x80Â\\x9d*',\n",
       " 'Btc isnt Bitcoin core. Its BitcoinBCH is Bcash or Bitcoin cash',\n",
       " 'article plagiarized from bitcoinist.com http://bitcoinist.com/bitcoin-lawsuit-bitcoin-com-ceo-roger-ver/',\n",
       " \"No, this is the REAL Bitcoin (BCH) article.  It is more true to the ripped-off author's original vision.\",\n",
       " 'Buy Bitcoin you little shit ',\n",
       " 'The FUD does make a lot of sense at first glance but the more you look into it, the more you go further into the rabbit hole, the design decisions start to make a lot of sense. Specifically:    &gt;EOS will be extremely centralised. 21 nodes is a paltry sum. Non-full-nodes will not have any way to do lightweight verification, thus multiplying its degree of centralisation.    It is actually 121 full nodes, 21 of which mine blocks. Non full nodes can verify unless public key cryptography is broken(still going',\n",
       " \"The craziest thing is how this information can be out there, and it literally doesn't matter. That's how little research people do on the thing they are investing thousands of dollars in.The sad thing is, when it finally comes to pass, it's going to leave such a sour taste in the average investor (and you have to assume it's the avg Joe who is trading in something like this, when all this info is out there and available). It's those idiots that are going to talk to their idiot friends about how crypto is su\",\n",
       " 'Top tier shitposting like this is just too easy when you are dealing with the level of complete hysteria in /r/bitcoin. ',\n",
       " 'I\\'m about 95% positive I just sold bitcoin to two backpage pimps.Snapshots:1. *This Post* - [archive.org](https://web.archive.org/20180428115412/https://finance.yahoo.com/news/warren-buffett-buying-bitcoin-not-investing-110702015.html), [_megalodon.jp\\\\*_](http://megalodon.jp/pc/get_simple/decide?url=https://finance.yahoo.com/news/warren-buffett-buying-bitcoin-not-investing-110702015.html \"could not auto-archive; click to resubmit it!\"), [archive.is](https://archive.is/XqNzo)*^(I am a bot.) ^\\\\([*Info*](/r/Sn',\n",
       " 'The entire fucking world has a vested interest in bitcoin not succeeding. Anyone whose economics knowledge goes beyond&gt;holy shit the government can just print more money?????is aware of this.Also you should read the article, he explains his reasoning for the title statement very clearly.',\n",
       " \"&gt; Now, if you buy something like bitcoin or some cryptocurrency, you donÃ¢Â\\x80Â\\x99t really have anything that has produced anything. YouÃ¢Â\\x80Â\\x99re just hoping the next guy pays more.He's just mad he missed out\",\n",
       " \"The thing they're afraid of isn't being caught not holding or being unable to buy a dominant asset, it's that many of the institutional advantages they've depended on disappear in a cryptocurrency world. For example, the CEO of Citi group can't just call the CEO of Bitcoin (lol) to increase federal lending or decrease interest rates to his liking like he does today. In a world with fully decentralised trustless exchanges dominated by transactions that lack numerous middle men, there's no one to pressure, no\",\n",
       " 'Ha, even when they are in a room of computers the AI locks all the doors and tries to cook them alive by mining for bitcoin.',\n",
       " 'So they are trying to be Bitcoin Cash now? Maybe a lawsuit should be filed. /s',\n",
       " 'The title is misleading. We did not \"win\" anything, nor has the threat been eliminated. The reason GPU prices are going down is because of the crash in the cryptocurrency market, which is due to people selling their coins on exchanges (we had nothing to do with this).Let\\'s not get carried away here. If crypto prices recover then it will be right back to the apocalypse. The risk of another mining boom still exists, and declaring victory at this stage is premature (Bitcoin has already rebounded from $6500 to ',\n",
       " \"Give me .3 Bitcoin and let's fucking party\",\n",
       " \"In a publicity war like this I think Bitcoin Cash benefits the most, because it's lesser-known. Any mention of Bitcoin Cash by BTC will help spread knowledge of Bitcoin Cash. [Streisand effect](https://en.wikipedia.org/wiki/Streisand_effect).\",\n",
       " \"So last weekend the wife, her sister and me, visited a flea market. WeÃ\\x82Â\\xa0had our own little stall to sell some stuff that was sitting in theÃ\\x82Â\\xa0cellar for quite some time. I figured, hey, why not make a little signÃ\\x82Â\\xa0and allow potential customers to pay in crypto.I wasn't expecting much, but thought it would be a fun little idea.As I expected no one would pay in crypto that day, but I had some niceÃ\\x82Â\\xa0talks with interested visitors. I think I educated a few people, and weÃ\\x82Â\\xa0at least had gathered some att\",\n",
       " 'Wow this article is barely in English&gt; With regard to the possibility of accepting admission, the industry expects a high degree of agreement.&gt; The digital currency trading platform CoinTiger CEO Frank Ling stated to Huntercloud that there is a high possibility that Nasdaq will enter the game. The Chicago Mercantile Exchange, which has a very high market position, has advanced to the field and obtained comparison through Bitcoin futures trading. Special currency pricing power has laid the first step i',\n",
       " 'Tfw you sucked dick for bitcoin when it was at $19,000',\n",
       " \"Yeah I have a lot of coworkers who are Korean here in Canada. 2 of them are a Korean couple that came over about a year ago, probably in their late 20s. His mother is dead and she is so happy about it. His sister tries to meddle now, but she made them a ton of money on Bitcoin so thats ok. I don't know where I'm going with this. \",\n",
       " '**GLORIOUS MEDIEVAL BITCOIN**',\n",
       " 'All over the internet, I notice you churlish cretins lauding the supposedly intellectual television program known as Rick and Morty to make yourselves appear more intelligent by extension, as you are ardent watchers of the aforementioned show. However, you piddling planarians only succeed in illustrating how vapid you really are, as Rick and Morty has the intellectual depth of a petri dish. Truly, the most noetic show is neither Rick and Morty, the Big Bang Theory, Jimmy Neutron, nor any other deluge of dri',\n",
       " \"I don't know whether it was THE reason, but it seems that the SW2X sponsors realized, too late in the game, that their head developer was totally incompetent.  If any miner had tried to use his SW2X implementation, they would have been unable to mine any block after the scheduled fork date -- because the code had, not one, but two embarrassing off-by-one bugs.Other possible reasons may have been the largely unexpected survival of Bitcoin Cash, the loss of many key SW2X backers (perhaps because of the intens\",\n",
       " 'Did he talk about bitcoin too?',\n",
       " \"well, I'm pro bitcoin but this statement is true. Apart from food, water, shelter and heat nothing has intrisic value.And if you remove humans from the equation really nothing has intrisic value. The universe just don't care about gold or food or whatever\",\n",
       " 'The physical cash you carry is essentially worthless, but it is nonetheless \"backed\" by the strength of country\\'s economy in which it is printed. Bitcoin is not backed by anything, so it does not have an intrinsic price floor or ceiling. Of course, the irony is that Bitcoin is valued in fiat, which defeats its purpose. You have to go way back in history to when we were still using gold as a currency to see how Bitcoin would work in an economy. I don\\'t think anyone has ever said that fiat printing is perfect',\n",
       " 'It just seems like Buffet is splitting hairs and its been taken out of context to make a sensational headline.His point was that purchasing bitcoin is speculation which is correct - title makes it sound like buying bitcoin is a bad idea.',\n",
       " 'This is a question that constantly comes up and I wanted to clarify a few things that many may not know about exchanges in the industry. While we often here things like, \"It\\'s easy to get listed, just contact them, ABC coin got listed on XYZ and they are half the volume of ARK\". Let me explain why this is misleading. Cryptocurrency exchanges have become vastly successful extortionists in the past two years. When I first started in this industry, exchanges were clamoring to add any new token that had even a ',\n",
       " 'So the *master* gaybros karma post:PSA: I am a 45 year old dad and have a crush on me straight best cousin, generic white celebrity #463747, he is fem and he is beautiful. Today he caught me shaving, and he said *this*! Ã°Â\\x9fÂ\\x98Â\\x8d||||||||||Send me 35 upvotes by Russia bots or Ã¢Â\\x82Â¬20 by bitcoin and you can find out',\n",
       " \"bitcoin is also super useful for ransomware, which produces value for their authors! it's also useful for cputime theives who inject bitcoin mining code whereever they can to make a buck off other people's machines!\",\n",
       " 'Does no one in the bitcoin community know where money gets its value??? The goverment backs it with the GDP of the nation.',\n",
       " 'Bitcoin is not especially useful for CPU mining thieves, these tools mine mainly Monero. Mining BTC on the CPU is pretty much pointless even if you get CPU time for free.',\n",
       " \"&gt; Something like Bitcoin works much differently than that system.No doubt, but that doesn't mean it works **better**.In fact given its track record in its existence I'd say that it somehow manages to work worse.Society survived the 2008 crash, but if we'd instead had the disasters and volatility that have affected Bitcoin instead be applied at the size of the real economy, society actually *would* have collapsed.\",\n",
       " 'The issue here is that banks and financial institutions actually are amazingly trustworthy with all of the issues that bitcoin claims to solve. If I send 50 million via Wells Fargo I am guaranteed to have it show up at its destination with the same amount of trust as I would via bitcoin. The difference is that if I get scammed over bitcoin then IÃ¢Â\\x80Â\\x99m out the bitcoin, meanwhile if I get scammed via a chase bank transfer then I can get a court order to have those funds reverted back to my account. ',\n",
       " \"Marrying a rich husband to financial planning is what trading bitcoin is to investing. It's a big gamble you have no control over that could see you lose everything if the market gets scared.\",\n",
       " 'Even got a satellite dish for receiving the Blockstream bitcoin blockchain satellite transmission.',\n",
       " \"Bitcoins are divisible up to 8 decimal places. You do not need to have a whole bitcoin. If you wanted, you could have 0.00000001 BTC in a wallet. You can store such partial bitcoins however you'd like, including on a paper wallet.\",\n",
       " 'I do love this argument line.  My family was French thrown out of of Canada by the king of England.   We moved to a pirate, mosquito and alligator infested area at the time owned by France.  Slavery and indentured servants were legal.  There was no law.  No concept of social services or civil rights.  Later we were hunted by the KKK to boot.  We busted our Ass and tamed the insanity over hundreds of years.Now.  Is that what your comparison has these folks walking into?  I think not.  In modern terms we boug',\n",
       " 'When bitcoin mining took off, GPU availability evaporated. There are still shops that haven\\'t been able to keep stock.Meanwhile not once during this RAM \"shortage\" has anyone ever been unable to buy RAM. ',\n",
       " 'Hi /u/MemoryDealers - As a developer, I want to point out that you missed one extremely important aspect of Bitcoin whose weight will be 5 (or even more) according to your measure.And that is \"developer friendliness\" (or \"programmable money\"). I\\'ve been watching what memo.cash has been doing and how supportive the community was towards the developers. And when I say \"community\", it\\'s not just Reddit, but basically the core philosophy of the BCH chain itself in every way is very developer friendly. As a deve',\n",
       " 'Sooooo dump everything into Bitcoin?',\n",
       " '\"Stealing the Bitcoin Brand\".What Bitcoin brand? Bitcoin^TM ?How much more pathetic can all this get?',\n",
       " \"I was just watching [this](https://www.youtube.com/watch?v=LszOt51OjXU&amp;feature=youtu.be&amp;t=618) video and it is stunning how wrong he is about everything.  He thinks Bitcoin has intrinsic value when in reality all value is in the mind of the beholder, not in the item itself.  He then goes on to basically claim Marx's labor theory of value applies to Bitcoin because it has the best developers...... Just wow....\",\n",
       " 'Funniest crash since Bitcoin.',\n",
       " 'Top left fantasizes about controlling the means of productionTop right is a cop harassing a minorityBottom left is an anarchist being tazed while protestingBottom right is a private police officer on patrol waiting for bitcoin snatchers to assault',\n",
       " 'Yep, although not a grandmaÃ¢Â\\x80Â\\x94IÃ¢Â\\x80Â\\x99m a 32yo male with no kids. But after seeing one of his posts, I did a Facebook search of his name and got dozens of results in a variety of finance/investing and bitcoin/crypto related groups. But then I saw him going in on this group of grandmas and the record scratched. Fortunately it was a public post that anybody could comment on (because /r/oldpeoplefacebook canÃ¢Â\\x80Â\\x99t figure out privacy settings).',\n",
       " \"I've read that Bitcoin Cash in their fork will have 2.5 minute block time and reduce the average fee which is 1/2 a cent to try to compete with Doge.Sadly Doge shits on that and has - 1 minute average block time-  $0.0026 average feeBig empty bollocks.  Nice try but fork harder.\",\n",
       " 'Bitcoin (DOGE) is the true vision of Satoshi Ã°Â\\x9fÂ\\x90Â¶ ',\n",
       " 'Bitcoin (DOGE) will always be the #1 cryptocurrency!',\n",
       " \"The tax theory fit pretty well with the dates, so now that everyone has paid taxes, we should be lined up for a good solid, if slow, growth over the rest of the year.But, of course, as soon as bitcoin gets north of 10k, the crypto FUD train will fire up and we'll start hearing about the impending Tether Collapse and how the third minister for trade in the Repulic of Banglidesh is considering a ban.  And then some guy will preclaim to be the second coming of Bitcoin Jesus and tell us that Litecoin Cash will \",\n",
       " 'Maybe we should have reverted to that for Bitcoin Cash. After all it says BC...',\n",
       " 'Give him a bitcoin and tell him to wait for it to raise ',\n",
       " 'The best cure to loving Bitcoin core is using it. Hodlers not affected because they only plan to cash it back out someday, not use it day to day.',\n",
       " 'Ã¢Â\\x80Â\\x9cPremiumÃ¢Â\\x80Â\\x9d Ã¢Â\\x80Â\\x9cfeaturesÃ¢Â\\x80Â\\x9dPeople should just put their bitcoin or PayPal addresses in their bios. $4 is better spent on creators than Reddit.',\n",
       " 'Pay with bitcoin? Isnt it bitcoin cash? Seems like u try to piggy back on btc name. Pretty misleading because people think you mean bitcoin but get forwarded to a different coin bitcoin cash. This only pisses people off and drives them away. ',\n",
       " 'IÃ¢Â\\x80Â\\x99m not against BCH or any other coin. People can support whatever they want, and every coin should have a fair chance at moving to the top... BUT... these efforts to mislead people by prematurely calling BCH Ã¢Â\\x80Â\\x9cBitcoinÃ¢Â\\x80Â\\x9d in public advertising and on websites is really in poor taste. You canÃ¢Â\\x80Â\\x99t get people to support something if theyÃ¢Â\\x80Â\\x99re basically being lied to right from the start. BCH would need to actually replace BTC before it can be fairly called Ã¢Â\\x80Â\\x9cBitcoinÃ¢Â\\x80Â\\x9d. I donÃ¢Â\\x80Â\\x99t pa',\n",
       " 'I passionately do support Bitcoin Cash - and I do believe its wrong to call it \"Bitcoin\" and not \"Bitcoin (BCH)\" at least.And the color should be green as well - Bitcoin Cash is its own brand.',\n",
       " \"He's a demon, so kill him and tell the other filthy peasants you just saved their asses, demanding sweet medieval bitcoin.\",\n",
       " 'I like how you made Bitcoin Core the North Korea in this picture.',\n",
       " 'Bitcoin Gold... lol',\n",
       " 'Next comes the Anarcho Capitalist phase. Watch as he starts getting *super* in to bitcoin ',\n",
       " 'Context: https://www.reddit.com/r/Bitcoin/comments/8fffo5/the_ceo_of_binance_a_company_with_200m_yearly/?utm_source=reddit-android',\n",
       " \"**PART III**Why? Why did they go through all this effort? Why did they pick me? Out of all the people in this world, why did they pick *me*?Then, as my brain ran through its mantra again, it hit me. I didn't know anyone. I lived alone. I worked at a gas station. I had no family, no friends. I was gone for two years, and I already knew. *No one had missed me.***You have seen a lot of things happen today, Alex. This leaves you with two choices.**My heart sank even further, because I already had a feeling that\",\n",
       " 'It is lacking one metric: Salt. No other coin mooned so hard in salt than bitcoin core. Plz be impartial.',\n",
       " \"**PART IV (FINAL)**Over the next few years, I saw and did a lot of things I now regret. I tried to justify it. I convinced myself that I was making the world a better place. That I was helping people make peace with their trauma, and helping criminals make peace, even if forcibly so, with their actions. The dark web is a vast alternate reality. A reality where unspeakable acts are the universal language, and bitcoin is the universal currency. The world governments know it's there. They all know. They just c\",\n",
       " 'Thank you for the honest question. I will try and help you as a fellow investor as to why it is one of the most solid long term investment choices in entire crypto space right now. For starters I would really like you to actually put everything you have heard aside, including \"Bitcoin for banks\", \"Bankers coin\" etc. There are a lot of interesting facts you may not even know, e.g. the chain being as old almost as BTCs? some argue even older. Who is David and the role Jed played later formed Stellar. Start wi',\n",
       " 'Look, there are plenty of great pro-BCH arguments. It has a place (as does Bitcoin).Choosing some random, arbitrary block of time to compare Bitcoin price vs BCH is straight up dumb. Anyone who doesn\\'t recognize the absolute absurdity of this is a fucking idiot.Roger \"skew the facts\" Ver',\n",
       " '&gt; Bitcoin BCH forked back to being bitcoin after the Segwit fork I think this is slightly innaccurate. The BCH fork was *after* Segwit was locked in, but *before* it activated.',\n",
       " 'Wow bitcoin has gradually lost a lot of dominance over the past month while the overall marketcap has climbed considerably! ',\n",
       " \"I don't understand this at all.  None of the companies in the lawsuit hold a copyright or registered trademark on the name Bitcoin.  They have no legal grounds to sue anyone.I hope Ver counter-sues for court costs.\",\n",
       " \"This is comment exemplifies the typical **LIBERAL BIAS** trying to infiltrate **RAP MUSIC**. **RAP** and **POLITICS** should be kept **SEPERATE**. **LIBERALS** are trying to take **OUR RAPPERS GUNS AWAY**. Do you even know why they're carrying guns? Do you? It's to protect themselves from bad people with guns. Its to protect themselves from the government who is trying to take away their and **OUR** guns away. Do you know why they have cash? Its because they rightfully **DON'T TRUST** the corrupt and kabali\",\n",
       " \"I tried for a while to find the transaction ID so I could look up everything but I couldn't. But because I was annoyed that I couldn't pay using bitcoin myself due to mine being in cold storage, that night I transferred some to a hot wallet for future use, and the default fee of 3.4 sat/byte (~7 cents) got it in the next block 2 minutes later. So assuming bitFlyer's fee estimation is up to scratch, probably around that.\",\n",
       " \"&gt;Instead of trying to sue Ver, we should be using all this energy and time to make bitcoin better. They're not overlapping skill sets. Casual users and lawyers are not going to be upgrading the protocol.\",\n",
       " 'Hi Ryan. IÃ¢Â\\x80Â\\x99m a software engineer of over 25 years (most of those in C++). I can write beautiful code, although plenty of time I write garbage. I can smell my own shit though and this does thus qualify me to pass judgement. Regardless, it is not the code itself that is garbage (I have not even looked at the code), but rather the *design* of segwit given the goals to be achieved. We could talk for a long time about contentious soft forks, the community split, 4mb weighted blocks, tx malleability, scaling',\n",
       " 'I don\\'t think they will \"pump\" it. SBI is a serious business and not some shady crypto startup or Bitcoin maximalist. But they\\'ll open XRP to a whole new market and this will most probably reflect in the price. :)',\n",
       " \"I'm not sure exactly how it works with these bitFlyer terminals, but the actual bitcoin transaction is wrapped up behind the scenes, so I don't think it would be possible to double spend. With these terminals the merchant accepts 0-conf because I imagine that bitFlyer is taking that risk on itself.\",\n",
       " 'Yes in that many people did own parts of one rock. Yes also in the sense that multiple people can claim ownership of one dollar or lump of gold or bitcoin.',\n",
       " '&gt; February 20, Petro is the worldÃ¢Â\\x80Â\\x99s first state-backed cryptocurrency tied to VenezuelaÃ¢Â\\x80Â\\x99s oil reserves. I.e. they got their own cryptocurrency.&gt; A team of experts from VenezuelaÃ¢Â\\x80Â\\x99s blockchain department was in India last month. It has also reported that they signed a pact with Coinsecure, a Delhi based bitcoin trading company to sell Petro in India.',\n",
       " 'And some dude talking about Bitcoin ',\n",
       " \"The same way bitcoin works. Everyone on the island had a copy of the ledger memorized in their oral history. If you claimed a stone, or part of a stone, your oral history had to match with everyone else's, if it did not, you had no legitimate claim. \",\n",
       " \"The benefits of cryptocurrency mainly involve decentralization (as long as the benefits of decentralizing said network outweigh the inefficiencies of removing centralization), but also immutability of a ledger. So as long as you trust that central authority not to tamper with the blockchain records, then it's an improvement because all their orders will be easily auditable.I personally don't think this is an improvement though because the point of decentralizing is so you don't have to inherently trust any \",\n",
       " 'This is good for bitcoin.',\n",
       " 'how else am I supposed to sell 600k and immediately jump into bitcoin during midday earnings?',\n",
       " '&gt; I have a computer that I want try bitcoin mining onIt will probably cost you more in electricity than you get back.',\n",
       " \"In this specific case the point of blockchain is the fact that it secures the bitcoin which makes bitcoin a trusted source of money which in turn becomes accepted money for other payment methods such as this.  Also in this specific case when accepted in its bitcoin form the sender does not need to convert their bitcoin to the local currency.  Just like with any other kind of money you can spend bitcoin in more than one way so in this specific case off-chain, for something that doesn't require an on-chain tr\",\n",
       " \"This is why people call crypto a bubble.  There are some great projects that have done things not previously possible (bitcoin of course, smart  contracts), but there are probably billions of dollars in market cap of companies that distribute their own coins/tokens that don't even have a functioning product yet.  \",\n",
       " 'Holy shit! The very first sentence is&gt; Bitcoin, and other blockchain based systems, are inherently limitedin their scalability.when you never try ...',\n",
       " 'Crypto grows amidst volatility, which means it spikes way up and doesnÃ¢Â\\x80Â\\x99t come all the way back down. So, 6500 was the bottom...a level unthinkable just 1 year ago. The next bubble will dwarf the last. It too will burst, and bring bitcoin down 70 percent or so...and yet...that bottom will be higher than the last. And so on. ThatÃ¢Â\\x80Â\\x99s what happens with world changing technology. ',\n",
       " 'This is GOOD for Bitcoin.In the good old days, the extortionists would at least have the courtesy of visiting you and \"putting the frighteners\" on you before demanding money.  Now Bitcoin and co allow any asshole anywhere in the world to give it a good try.You\\'ve got to hand it to something that allows people to remotely commit tax fraud, money laundering, sex trafficking, child pornography, illegal drugs, illegal weapons, prostitution, hit men / murder-for-hire, paying corrupt lawyers helping you break the',\n",
       " '&gt;Bitcoin, and other blockchain based systems, are inherently limited\\rin their scalability. On-chain payments must be verified and stored by\\revery node in the network, meaning that the node with the least resources limits the overall throughput of the system as a whole.I stopped reading right here. Can someone please translate small blocker religious dogmas into computer science? How on Earth is the network limited by the throughput of the node with the least resources? The network is *indifferent* to the',\n",
       " 'Drug trafficking is a gateway to Bitcoin investments.',\n",
       " 'Unfortunately, we are financially not able to fulfil the repayment of 10% at this point in time. The main reason is falling price of Bitcoin in March and first half or April. Bitcoin price correlates heavily with the demand for hashing power. Last two weeks days gave us a positive trend upwards on the global markets and if that trend continues in the near future, weÃ¢Â\\x80Â\\x99ll be able to repay 10% with our next reimbursement. We are committed to fully reimburse all users that were affected by the breach and we',\n",
       " 'Since when is there a cryptocurrency called \"Bitcoin Core\"?   Last I checked, BTC was the ticker for Bitcoin.  ',\n",
       " 'Why does it list Bitcoin as the name of the client \"Bitcoin Core\" when Bitcoin Cash is not listed as the name of it\\'s client \"BitcoinABC\" ?',\n",
       " '+1, But at least now BCH is named \"Bitcoin Cash\" instead of just \"Bitcoin\". I guess that\\'s a step forward.',\n",
       " \"Sometimes dreams are real. You'll know it for truth the first time you linger in the dream through the night, and in to the next morning, then beyond. You'll know when you wake, and sleep, and dream while dreaming, living your life one interminable breath at a time, each moment seeming as real as your moments before the moment you began this decade dream. Eventually you wake.You go from wherever you were on your twentieth birthday back to where you went to sleep on your tenth. A complete reset.No questions \",\n",
       " 'The lawsuit remains valid because he did it in the first place and there are affected people, they don\\'t just disappear now. The fact he persists in calling Bitcoin \"Bitcoin Core\" and places it under \"Bitcoin Cash\" still makes his intentions clear.',\n",
       " '+1. Still deceptive. Bitcoin is Bitcoin. You would not create a new piece of paper called USC - US Dollar Cash and then call USD - US Dollar Core. ',\n",
       " 'Bitcoin ABC 0.17.0 (BCH)Bitcoin Core Satoshi Client 0.16.1 (BTC)At least be consistent Roger.',\n",
       " 'someone needs to make a fork of bitcoin and call it bitcoin core, then he cant call bitcoin \"bitcoin core\"',\n",
       " 'It was never call Bitcoin Core, the only person that calls it that is Ver trying to mislead people.ItÃ¢Â\\x80Â\\x99s called Bitcoin, get used to it Roger, stop dividing the community to benefit you own back pocket.If Bitcoin cash proves to be successful, let that be from the merits it holds.',\n",
       " 'Actually, when i started in cripto i was in btc reddit for a while. I did not understand because they were bitching about bitcoin all the time. It took me a couple of weeks to join r/bitcoin and get the fuck out of r/btc straigh away.',\n",
       " 'anyone buying eos right now is going to have his ass torched by a primitive human rubbing two stones together, its the same as buying bitcoin at 20k execpt bitcoin was a tried and tested platform for around 10 years while eos has been live for exactly zero days. the platform itself may have potential but it is too immature and untested to have such a massive valuation, and just not disruptive enough to merit the hype.  ',\n",
       " \"&gt;I had one event to reference if what i dreamed was indeed the future... Barrack Obama becoming the president of the U.S and the financial crash of 08... and it happened. &gt;I'm convinced what i dreamed had to be real, and tgis finally gave me the motivation to do better. I studied hard, took more advanced classes and managed to pass them. Then graduation.Motivation to do better is pretty cute but why not invest in bitcoin?\",\n",
       " '&gt;Interesting. So why did Satoshi choose to reduce the block size instead of increase it to combat spam? This is a common misunderstanding.There are two different attacks under discussion.The first is a \"poison block\" attack. This is the attack the block size limit was created to prevent. At the time it was created the level of \"spam\" on the network was zero, and the coin had no real established market value, very few miners, and extremely low mining difficulty. It cost almost nothing at all to mine at ho',\n",
       " 'ThatÃ¢Â\\x80Â\\x99s about how much bitcoin I own. ',\n",
       " \"This is a great clip. I just watched the entire thing. (upvoted) It's important to note that while this clip is started exactly where he says bitcoin needs to be evolved, nowhere in this video does he mention bch (pro or con). It's also worth noting that what he claims is the biggest flaw of bitcoin - the public ledger - is the exact same as bch so therefore both coins share the exact same flaw in his mind. \",\n",
       " \"If Bitcoin Cash is truly better it doesn't need to be called Bitcoin.  This obsession with being named after what they consider to be an inferior product is strange.\",\n",
       " \"Naww howld on mistewr! Ã\\x83Â²wÃ\\x83Â³ lemme twell you awwl abouwt Bit coiwn! nwn ish a good wei 2 maek easy pweasy monie monies on the interwebs!!! \\\\*tackwle-gwomps chur tail and notices ur bitcoin investment\\\\* OwO What's this? Chu haev stawrted without me? ;w; \\\\*cwies and wets diaper\\\\* n-n-nyuuuuuh!^^^this&amp;nbsp;physically&amp;nbsp;hurt&amp;nbsp;to&amp;nbsp;type\",\n",
       " \"Perhaps December 19th. The day Bitcoin rekted people's lives lol\",\n",
       " 'why not 31th October when white paper was published?  or \\t3 January  when bitcoin started. Or that day that Satoshi stated as his birthday? ',\n",
       " 'Well stated:Ã¢Â\\x80Â\\x9cAccording to globalcoinreport, prove-of-stake is much better when it comes to scalability than proof-of-work which is why the advancements in question is a big deal for Cardano ADA. Basically, because of it, Cardano is one of the most secure and scalable blockchains on the market, and its security can even rival the one of Bitcoin.Ã¢Â\\x80Â\\x9d',\n",
       " 'Sorry for bad englishWhen where u where bitcon overcome banks?I was in toilet taking the shit, then redit call meBitcoin nice banks badYes.',\n",
       " 'Bitcoin for sure - the other coins mentioned above Ã¢Â\\x80Â\\x94 my own fund and lots of private investments Ã¢Â\\x80Â\\x94 IÃ¢Â\\x80Â\\x99ll keep looking for opportunities in tokenized securities and other exciting projects Overall looking to de-risk Ã¢Â\\x80Â\\x94 buying old school stocks and land ',\n",
       " 'Yes, genesis block. The fact it has the Ã¢Â\\x80Â\\x98second bailout for banksÃ¢Â\\x80Â\\x99 headline in it is very meaningful in my opinion. ItÃ¢Â\\x80Â\\x99s the first block, it represents the first tangible thing that happened to bitcoin.',\n",
       " 'All over the internet, I notice you churlish cretins lauding the supposedly intellectual television program known as Rick and Morty to make yourselves appear more intelligent by extension, as you are ardent watchers of the aforementioned show. However, you piddling planarians only succeed in illustrating how vapid you really are, as Rick and Morty has the intellectual depth of a petri dish. Truly, the most noetic show is neither Rick and Morty, the Big Bang Theory, Jimmy Neutron, nor any other deluge of dri',\n",
       " 'Yes theyÃ¢Â\\x80Â\\x99re hacked donÃ¢Â\\x80Â\\x99t send bitcoin!!Should be obvious I hope. ',\n",
       " \"&gt;That was the moment I wanted to use Bitcoin, when I saw Harriet Tubman on the $20 bill, it's like when you see all the slave movies, why you gotta keep reminding us about slavery?Okay what the fuck Ye\",\n",
       " 'Can we get a video on how Blockstream took over Bitcoin \"development\" and /u/Theymos censored /r/Bitcoin to stifle all constructive discussion leading up to the hardfork for BCH too? Or just this one side of the story?',\n",
       " 'Just installed it - it is confusing at least... and when you make your actual choice if you want bcash or bitcoin you can only chose BCH/BTC, defaulting to BCH. The name of the currency is completely omitted.',\n",
       " \"Hi all!Ryan from PayFair here.A member of our community let me know about this thread so I thought I would jump in and answer any questions you may have.PayFair is a decentralized Escrow platform, think localbitcoin but decentralized and focuses on all crypto rather than just simply bitcoin. Right now, we are pairing 4 different currencies to all crypto however we plan to expand this out substantially along with many more crypto offerings. EDIT: It's getting late here, will be back in a few hours after some\",\n",
       " \"I understand you're angry and you won't be the only one who is angry. The best way to revenge is to do what we can do to make Bitcoin Cash massively successful. Turn that anger into positive energy and harness that energy to grow the Bitcoin Cash ecosystem. The best revenge is massive success. Once Bitcoin Cash has won, all these will be vindicated.\",\n",
       " 'What is it with this Reddit and not understanding the role of a bank? The big banks/credit card companies are first and foremost LENDERS. That is their role. You arenÃ¢Â\\x80Â\\x99t going to replace them with a currency. They LEND currency. The currency doesnÃ¢Â\\x80Â\\x99t matter. This is why Venmo hasnÃ¢Â\\x80Â\\x99t replaced credit cards. How are you gonna get a mortgage through bitcoin? No liability fraud protection? Cash advances for a month? You arenÃ¢Â\\x80Â\\x99t. Bitcoin doesnÃ¢Â\\x80Â\\x99t replace credit cards, it replaces cash. And ca',\n",
       " 'IÃ¢Â\\x80Â\\x99m in agreement. If bitcoin gold, private, diamond or dark had as much support as BCH theyÃ¢Â\\x80Â\\x99d get attention. If litecoin had a real community and were making dev strides theyÃ¢Â\\x80Â\\x99d be trolled. No one is going to waste time attacking nano. Nano is an idea with no real world adoption.BCH is unique. The devs are making strides to scale and better the idea of bitcoin. The adoption is rapid due to the infrastructure already in place making it easy for merchants and users to integrate. The supporters i',\n",
       " 'Man, fuck bitcoin mining.',\n",
       " 'Breaking: Club Penguin bitcoin mining facility exposed. ',\n",
       " 'How is supporting bitcoin a bad thing? ',\n",
       " \"**It's too cheap.**I mean, when I want to show off how much money I can waste on transaction fees, I can't use Bitcoin Cash to show off.  With fees under one cent per transaction, it is just not going to impress people into thinking how wealthy I must be./S (capital sarcasm)edit for formatting\",\n",
       " \"What makes uninformed people believe it's so bad and evil and centralized and a scam is the massive propaganda and smear campaign lead by r/Bitcoin (in particular the mods that censor everything  that's not anti-Bch, pro-Btc) and blockstreams most prominent personalities on twitter.\",\n",
       " \"**It's too reliable.**Compared to other coins, I miss the excitement of watching my wallet every few minutes to see if my transaction will finally confirm.It's like a raffle, where there is so much anticipation hoping my transaction will finally make it into a block.My friends and I would go order coffee then sit around and guess who's transaction will confirm first.  Eve would usually win, since she would resubmit her transaction with a higher fee than the rest of us.  We'd call her out on it, then laugh. \",\n",
       " \"Here's Giacomo at HCPP17: https://www.youtube.com/watch?v=jgwW7XZCKPUAnd on Bitcoin Uncensored: https://www.youtube.com/watch?v=uIWSfMmLGtcI am no /u/kanzure but I'll give combining Giacomo's thread a shot. Someone linked a site that aggregates tweet storms but the formatting is still bad so here it is pieced together:.Ok, here I am. I'll write down some bullet-points. This isn't a rebuttal of your article (no time for that, at least not now): it's just my own list of arguments about what specifically I thi\",\n",
       " '15: Now I\\'d like to get back to a more general topic. I honestly think it\\'s a clear sing of stupidity to fall for the old, typical, standard, obvious trick of populist conspiracy theories! These theories are all very similar, &amp; they all basically go like this: \"the world would be perfect, everything would come for free, w/o any scarcity, any sacrifice, any trade-offs...if not for an evil minority who creates ARTIFICIAL scarcity Ã\\x83Â¹6 trade-offs, all to get some power over us with extremely complex &amp;',\n",
       " 'I just find it ridiculous how people can still associate the words \"fraud\" or \"scam\" or \"Ponzi scheme\" with bitcoin. The technology has clearly proven itself and people use bitcoin to pay for shit. These so called \"analysts\" are complete idiots. No one can predict the movement of this market, especially not cnbc. ',\n",
       " 'You overpaid Bitcoin Cash fees by 1600%. If you are paying a full cent or more, you have overpaid. Your post pretty much sums up why Bitcoin Cash is the only viable option as cash for the entire world.You cannot change the world when each single transaction cost a few dollars. Few months back, people were paying $55 fees on average PER SINGLE TRANSACTION for Bitcoin Core.Forget Bitcoin Core. If we want to change the world, Bitcoin Cash is the only Cash for the entire world.',\n",
       " \"I find Bitcoin maximalists insufferable. Specifically, the ego that only their project has value and that only they have a monopoly on reading the tea leaves. And in this case, if you don't agree, apparently you qualify as stupid. What about the outcomes and possibilities you haven't considered? Which, by the way, grows considerably the more closed-minded you are about a topic. What about the innovation and expertise which can only blossom from having legitimate competition? What about identifying talent an\",\n",
       " 'My grandfather is nearing 90. Was talking to him and he only referred to bitcoin as bitchcoin.Bullish.',\n",
       " 'This post is nonsensical - why has /r/bitcoin devolved into completely irrational \"BITCOIN WILL PREVAIL\" posts? Once upon a time there used to be some meaningful discussion around here. ',\n",
       " 'Yo, that site is running bitcoin mining javascript (i.e. stealing your computer CPU/memory resources, and thus using electricity that you pay for without fair disclosure of their practice).ESET totally freaked out on me when I clicked your link. It scans all javascript and it found \"CoinMinerJS.D\".I don\\'t mind sites that offer a free service doing that. They have to pay bills. The problem is I DO mind them doing it without disclosing the practice up front.',\n",
       " 'Ã¢Â\\x80Â\\x9cWhat would you invest in if you only had $100,000 left?Ã¢Â\\x80Â\\x9dÃ¢Â\\x80Â\\x9cBitcoinÃ¢Â\\x80Â\\x9d',\n",
       " \"Actually no. Since electricity does factor into Bitcoin mining, the efficiency rate is only somewhere around 0.5-1%, so no, you can't use Izuku to mine Bitcoin \",\n",
       " 'SERIOUS:So if you were to give a ballpark number for what you think Bitcoin and Ethereum will be worth by the end of the year, what would it be?OHANIAN: At the end of the year, Bitcoin will be at $20,000. And Ethereum will be at $15,000. Great, now people can call me out if IÃ¢Â\\x80Â\\x99m wrong.',\n",
       " \"I take cash, credit, traveler's checks, bitcoin, food stamps, Amazon gift cards, Dave &amp; Busters tickets, and also.... gum.\",\n",
       " 'Literally faster than a bitcoin transaction',\n",
       " 'Hi All,We wanted to add a quick note about our other favorite app: Memo.**It is truly remarkable what the Memo team and community has accomplished and we wanted to congratulate everyone on an amazing platform and community. Congrats!**This is our attempt at building for the Bitcoin Cash community, because we believe this is the future and truly the best community to be a part of.We will publish the BlockPress Protocol shortly (we just wanted to get the release out asap!) -- it is a protocol that will allow ',\n",
       " 'This is bad for Bitcoin, and my fantasy team',\n",
       " 'Horrible for Bitcoin.',\n",
       " 'ThereÃ¢Â\\x80Â\\x99s a reason why IÃ¢Â\\x80Â\\x99m a holder. IÃ¢Â\\x80Â\\x99m a holder because I now suspend all my common sense and disbelief in what _could_ happen. I learned about bitcoin, invested and turned into a preacher for the technology and possibilities. I handed out paper wallets like a religious person would pamphlets at your door step. That all said, I still sold my holdings for what I thought was a killing. Little did I know what it would be worth today. So, when I see headlines like this today (as I did with Bitcoi',\n",
       " 'They removed Bitcoin payments yet are adding ETH? Guess we know what their portfolio looks like. ',\n",
       " 'I would put all my lunch money in to bitcoin.',\n",
       " \"Says the guy who won't support the peer to peer electronic cash version of bitcoin.\",\n",
       " 'Very speculative because it wonÃ¢Â\\x80Â\\x99t be trading in actual bitcoins any time soon - needs regulator approval as it is stated in the article. Tittle sounds like theyÃ¢Â\\x80Â\\x99ll start trading bitcoins while theyÃ¢Â\\x80Â\\x99ll actually just open up a big gambling table for bitcoin futures, doing a cash settlement and no one ever really touching bitcoins in those deals. Am I wrong?',\n",
       " 'Yes, this is good for bitcoin.',\n",
       " 'Someone explained Bitcoin to me in 2013 but said it was probably nothing.',\n",
       " \"Same with mine.  Bought a gaming laptop.  Stupid me.  There's no such thing.  Everything in there is underpowered.  It's better for me to build a small compact PC with powerful fans and treat that like a gaming console.  In fact, I will do this as soon as bitcoin stops being a thing.\",\n",
       " 'Because Goldman Sachs shorting bitcoin is good for crypto.',\n",
       " 'This. Obligatory I work at an investment bank in NY and cover futures. And tldr: To moon, what we need is more direct investment in the underlier and less in derivative instruments. First things first, this is great news. All around positive for the progress and adoption of both physical and derivative instruments related to crypto. And with that said, yes, we went live on futures on the CME and CBOE. Sweet. And yes, now GS is going to be offering products derived on the price of Bitcoin. The fact is this, ',\n",
       " \"$4 is not a bargain. Let's not stoop as low as bitcoin now. Anything under 10 cents should be our targets. \",\n",
       " 'Wow can you imagine if someone said Bitcoin Cash and then Alex would be like \"ooo no, sorry, Bitcoin Cash is NOT Bitcoin\"',\n",
       " 'Bitcoin is laying the groundwork in the hearts and minds of the masses right now. In due time, they will take the innovations of DLT for granted. Once we are there, the world will be ready for IOTA.Decentralization is a new concept to most people. We are just now understanding the value of personal data. We are just now starting to realize that the world will be automated one day.I think IOTA has the potential to have the highest marketcap someday. But until then, bitcoinÃ¢Â\\x80Â\\x99s success is necessary for IOT',\n",
       " 'The reason why /r/bitcoin hates bcash so much doesn\\'t really have too much to do with the altcoin itself. The hatred stems mainly from the fact that the leader of bcash, Roger Ver, is trying to commandeer the Bitcoin name. He owns bitcoin dot com, /r/btc, the bitcoin twitter handle, and is actively trying to confuse people into thinking that bcash \"is the real bitcoin\". If it wasn\\'t such a blatant act of misdirection, Bitcoin and bcash would get along just fine.',\n",
       " 'Its deja vu all over again. I can still remember all those people who were thinking $3k would be a stretch for bitcoin last year. Network effect, FOMO, market cycles - these things are real. ETH has been consistently doing more volume on its platform than any other coin, more txns/day in the space. The leg up is often unprecedented and once the resistance is breached you will be hearing about ETH from everyone and the mainstream media will pump it like never before Not saying its gonna hit 15k but you cant ',\n",
       " 'Bitcoin. Boy I was wrong...',\n",
       " \"This is a nice post. I would just add that Vechain is gearing up to be the first cryptocurrency with a value detached from bitcoin or the fluctuations of the crypto market as a whole. This will be achieved through mass adoption of the VechainThor platform via enterprise level use. If this occurs it will be unprecedented as it's territory that no crypto has gone into before\",\n",
       " \"I still don't get it. What's the point of Bitcoin? It basically seems like a stock, to buy and sell in order to attempt to make money.\",\n",
       " \"Seriously.  You guys have no idea how much these memes aid BCH.  Without Bitcoin's depiction of BCH as the evil menace they'd be like Bitcoin Gold.  \",\n",
       " \"I'm almost certain what you're seeing is Bitcoin being used as a transaction method, not a currency. There's a difference. Bitcoin is far too volatile to be used as a currency, and it will likely never be a currency. The minute it shows any sign of stabilizing in value, all the people that are holding on to it as an investment will dump it, which will crash the price. \",\n",
       " \"The true identity of [Satoshi Nakamoto](https://en.wikipedia.org/wiki/Satoshi_Nakamoto), the unidentified creator of Bitcoin. The fact that Nakamoto's net worth is in the billions, and no one has made any effort to touch those bitcoins, could mean any number of things, but makes him even more difficult to identify.\",\n",
       " 'This P2P Exchange Paxful is very useful in this bitcoin market....',\n",
       " \"that's called bitcoin *cash*\",\n",
       " '31 people donated.   Yet somehow they had nearly 3,000 \"real\" upvotes across multiple threads screaming for justice.   One of the original threads:   \"[600+ Bitcoin Users Seek Lawsuit against Bitcoin.com...](https://np.reddit.com/r/Bitcoin/comments/8fc4ec/600_bitcoin_users_seek_lawsuit_against_bitcoincom/?st=jgqsr64q&amp;sh=303d1dc2)\"   What happened to the other 569 people?Bitcoin Core group continues to use deception, misinformation, vote brigading, and fake reddit/twitter accounts to harm investors.  Any',\n",
       " 'This is good for bitcoin.',\n",
       " 'So Washington has an incredibly progressive corridor throughout the Puget Sound, but we also have Eastern Washington which is almost completely agriculture, and apparently a bitcoin takeover of Wenatchee. We also have a ton of agriculture throughout the Puget Sound, but they get outweighed by the people in the cities.So we have an incredibly progressive city with a socialist on the city council (Go Sawant!), surrounded by rural areas that can drag the rest of the state down. So we have to have a horrid sale',\n",
       " \"If I'm not mistaken this is an actual picture of a guy who got caught selling these as real bitcoins in NY Edit: [Yup](https://www.huzlers.com/bitcoin-scam-man-arrested-after-making-over-1-million-selling-chuck-e-cheese-tokens-as-bitcoins/) Edit 2: Upon further inspection it was a meme that got out of hand Source: https://www.usatoday.com/story/news/nation-now/2017/12/21/chuck-e-cheese-tokens-sold-bitcoins-thats-not-real-story/973173001/\",\n",
       " 'Finde den Witz gut, der Bitcoin-QR bringt es.Aber bitte Lichtreflexe mit Photoshop Ã\\x83Â¼ben.',\n",
       " \"I guess HODL is biting them in the ass! They couldn't even raise a half of a bitcoin, wow.\",\n",
       " '*Why don\\'t I care much for EOS in the long term?*  There have been plenty of critiques around EOS that focus on technical tradeoffs and possible future collusion among block producers.  [This recent article is my favorite.](https://medium.com/@matteoleibowitz/eos-dont-believe-the-hype-c472b821e4bf)  I won\\'t rehash those here, as my concerns around EOS are more foundational.I\\'ve been around long enough to realize that in non-monopolistic spaces which rely upon on strong network effect for success, having *\"g',\n",
       " ...]"
      ]
     },
     "execution_count": 4,
     "metadata": {},
     "output_type": "execute_result"
    }
   ],
   "source": [
    "sentencesList"
   ]
  },
  {
   "cell_type": "code",
   "execution_count": 4,
   "id": "edaa4972",
   "metadata": {},
   "outputs": [
    {
     "data": {
      "text/html": [
       "<div>\n",
       "<style scoped>\n",
       "    .dataframe tbody tr th:only-of-type {\n",
       "        vertical-align: middle;\n",
       "    }\n",
       "\n",
       "    .dataframe tbody tr th {\n",
       "        vertical-align: top;\n",
       "    }\n",
       "\n",
       "    .dataframe thead th {\n",
       "        text-align: right;\n",
       "    }\n",
       "</style>\n",
       "<table border=\"1\" class=\"dataframe\">\n",
       "  <thead>\n",
       "    <tr style=\"text-align: right;\">\n",
       "      <th></th>\n",
       "      <th>Author</th>\n",
       "      <th>Body</th>\n",
       "      <th>Comment ID</th>\n",
       "      <th>Score</th>\n",
       "    </tr>\n",
       "    <tr>\n",
       "      <th>Publish Date</th>\n",
       "      <th></th>\n",
       "      <th></th>\n",
       "      <th></th>\n",
       "      <th></th>\n",
       "    </tr>\n",
       "  </thead>\n",
       "  <tbody>\n",
       "    <tr>\n",
       "      <th>2018-04-01 09:32:14</th>\n",
       "      <td>kentroccas</td>\n",
       "      <td>Bitcoin will rise in Easter like Jesus himself</td>\n",
       "      <td>dwlscr1</td>\n",
       "      <td>113.0</td>\n",
       "    </tr>\n",
       "    <tr>\n",
       "      <th>2018-04-01 09:36:18</th>\n",
       "      <td>tizzletl</td>\n",
       "      <td>She's going to end up with one of those chad b...</td>\n",
       "      <td>dwlsk7a</td>\n",
       "      <td>112.0</td>\n",
       "    </tr>\n",
       "    <tr>\n",
       "      <th>2018-04-01 09:40:48</th>\n",
       "      <td>oignonne</td>\n",
       "      <td>Man with bitcoin asks how he can ensure his so...</td>\n",
       "      <td>dwlss9p</td>\n",
       "      <td>307.0</td>\n",
       "    </tr>\n",
       "    <tr>\n",
       "      <th>2018-04-01 10:16:38</th>\n",
       "      <td>yParticle</td>\n",
       "      <td>The clocks may lag a bit because they're also ...</td>\n",
       "      <td>dwlukot</td>\n",
       "      <td>170.0</td>\n",
       "    </tr>\n",
       "    <tr>\n",
       "      <th>2018-04-01 11:52:20</th>\n",
       "      <td>MakeTotalDestr0i</td>\n",
       "      <td>The branch of feminism and identity politics t...</td>\n",
       "      <td>dwlzcn6</td>\n",
       "      <td>33.0</td>\n",
       "    </tr>\n",
       "    <tr>\n",
       "      <th>...</th>\n",
       "      <td>...</td>\n",
       "      <td>...</td>\n",
       "      <td>...</td>\n",
       "      <td>...</td>\n",
       "    </tr>\n",
       "    <tr>\n",
       "      <th>2021-10-31 22:13:00</th>\n",
       "      <td>dope_danny</td>\n",
       "      <td>The cryptobros in literal tears going, and i q...</td>\n",
       "      <td>hirdyjo</td>\n",
       "      <td>77.0</td>\n",
       "    </tr>\n",
       "    <tr>\n",
       "      <th>2021-10-31 22:24:14</th>\n",
       "      <td>Taubzi</td>\n",
       "      <td>Aika monta argumenttia, joihin olisi kiva tart...</td>\n",
       "      <td>hirf4w1</td>\n",
       "      <td>120.0</td>\n",
       "    </tr>\n",
       "    <tr>\n",
       "      <th>2021-10-31 22:29:22</th>\n",
       "      <td>ra693425</td>\n",
       "      <td>Imagine bitcoin just shooting straight up all ...</td>\n",
       "      <td>hirfntp</td>\n",
       "      <td>214.0</td>\n",
       "    </tr>\n",
       "    <tr>\n",
       "      <th>2021-10-31 22:59:50</th>\n",
       "      <td>No-Village7980</td>\n",
       "      <td>Lost the keys to 5-6 bitcoin change I had when...</td>\n",
       "      <td>hirj2r2</td>\n",
       "      <td>239.0</td>\n",
       "    </tr>\n",
       "    <tr>\n",
       "      <th>2021-10-31 23:48:49</th>\n",
       "      <td>Dabeast220</td>\n",
       "      <td>Bought 4 bitcoin back in may 2020 but had to s...</td>\n",
       "      <td>hirp660</td>\n",
       "      <td>82.0</td>\n",
       "    </tr>\n",
       "  </tbody>\n",
       "</table>\n",
       "<p>38499 rows × 4 columns</p>\n",
       "</div>"
      ],
      "text/plain": [
       "                               Author  \\\n",
       "Publish Date                            \n",
       "2018-04-01 09:32:14        kentroccas   \n",
       "2018-04-01 09:36:18          tizzletl   \n",
       "2018-04-01 09:40:48          oignonne   \n",
       "2018-04-01 10:16:38         yParticle   \n",
       "2018-04-01 11:52:20  MakeTotalDestr0i   \n",
       "...                               ...   \n",
       "2021-10-31 22:13:00        dope_danny   \n",
       "2021-10-31 22:24:14            Taubzi   \n",
       "2021-10-31 22:29:22          ra693425   \n",
       "2021-10-31 22:59:50    No-Village7980   \n",
       "2021-10-31 23:48:49        Dabeast220   \n",
       "\n",
       "                                                                  Body  \\\n",
       "Publish Date                                                             \n",
       "2018-04-01 09:32:14     Bitcoin will rise in Easter like Jesus himself   \n",
       "2018-04-01 09:36:18  She's going to end up with one of those chad b...   \n",
       "2018-04-01 09:40:48  Man with bitcoin asks how he can ensure his so...   \n",
       "2018-04-01 10:16:38  The clocks may lag a bit because they're also ...   \n",
       "2018-04-01 11:52:20  The branch of feminism and identity politics t...   \n",
       "...                                                                ...   \n",
       "2021-10-31 22:13:00  The cryptobros in literal tears going, and i q...   \n",
       "2021-10-31 22:24:14  Aika monta argumenttia, joihin olisi kiva tart...   \n",
       "2021-10-31 22:29:22  Imagine bitcoin just shooting straight up all ...   \n",
       "2021-10-31 22:59:50  Lost the keys to 5-6 bitcoin change I had when...   \n",
       "2021-10-31 23:48:49  Bought 4 bitcoin back in may 2020 but had to s...   \n",
       "\n",
       "                    Comment ID  Score  \n",
       "Publish Date                           \n",
       "2018-04-01 09:32:14    dwlscr1  113.0  \n",
       "2018-04-01 09:36:18    dwlsk7a  112.0  \n",
       "2018-04-01 09:40:48    dwlss9p  307.0  \n",
       "2018-04-01 10:16:38    dwlukot  170.0  \n",
       "2018-04-01 11:52:20    dwlzcn6   33.0  \n",
       "...                        ...    ...  \n",
       "2021-10-31 22:13:00    hirdyjo   77.0  \n",
       "2021-10-31 22:24:14    hirf4w1  120.0  \n",
       "2021-10-31 22:29:22    hirfntp  214.0  \n",
       "2021-10-31 22:59:50    hirj2r2  239.0  \n",
       "2021-10-31 23:48:49    hirp660   82.0  \n",
       "\n",
       "[38499 rows x 4 columns]"
      ]
     },
     "execution_count": 4,
     "metadata": {},
     "output_type": "execute_result"
    }
   ],
   "source": [
    "comments_df"
   ]
  },
  {
   "cell_type": "code",
   "execution_count": 5,
   "id": "8d24d96e",
   "metadata": {},
   "outputs": [],
   "source": [
    "import pickle\n",
    "from transformers import AutoTokenizer, AutoModelForSequenceClassification\n",
    "  \n",
    "tokenizer = AutoTokenizer.from_pretrained(\"yiyanghkust/finbert-tone\",num_labels=3)\n",
    "\n",
    "model = AutoModelForSequenceClassification.from_pretrained(\"yiyanghkust/finbert-tone\")"
   ]
  },
  {
   "cell_type": "code",
   "execution_count": 7,
   "id": "76da49b1",
   "metadata": {},
   "outputs": [],
   "source": [
    "inputs = tokenizer(sentencesList[0:100], return_tensors=\"pt\", padding=True)\n",
    "outputs = model(**inputs)[0]\n",
    "# これで保存\n",
    "with open(\"model1.pickle\", mode=\"wb\") as f:\n",
    "    pickle.dump(outputs, f)"
   ]
  },
  {
   "cell_type": "code",
   "execution_count": 8,
   "id": "3f860bb1",
   "metadata": {},
   "outputs": [],
   "source": [
    "inputs = tokenizer(sentencesList[100:200], return_tensors=\"pt\", padding=True)\n",
    "outputs = model(**inputs)[0]\n",
    "# これで保存\n",
    "with open(\"model2.pickle\", mode=\"wb\") as f:\n",
    "    pickle.dump(outputs, f)"
   ]
  },
  {
   "cell_type": "code",
   "execution_count": 9,
   "id": "c7c11f73",
   "metadata": {},
   "outputs": [],
   "source": [
    "inputs = tokenizer(sentencesList[200:300], return_tensors=\"pt\", padding=True)\n",
    "outputs = model(**inputs)[0]\n",
    "# これで保存\n",
    "with open(\"model3.pickle\", mode=\"wb\") as f:\n",
    "    pickle.dump(outputs, f)"
   ]
  },
  {
   "cell_type": "code",
   "execution_count": 10,
   "id": "e3b33776",
   "metadata": {},
   "outputs": [],
   "source": [
    "inputs = tokenizer(sentencesList[300:400], return_tensors=\"pt\", padding=True)\n",
    "outputs = model(**inputs)[0]\n",
    "# これで保存\n",
    "with open(\"model4.pickle\", mode=\"wb\") as f:\n",
    "    pickle.dump(outputs, f)"
   ]
  },
  {
   "cell_type": "code",
   "execution_count": 11,
   "id": "b3c67ce7",
   "metadata": {},
   "outputs": [],
   "source": [
    "inputs = tokenizer(sentencesList[400:500], return_tensors=\"pt\", padding=True)\n",
    "outputs = model(**inputs)[0]\n",
    "# これで保存\n",
    "with open(\"model5.pickle\", mode=\"wb\") as f:\n",
    "    pickle.dump(outputs, f)"
   ]
  },
  {
   "cell_type": "code",
   "execution_count": 12,
   "id": "0bc1e222",
   "metadata": {},
   "outputs": [],
   "source": [
    "inputs = tokenizer(sentencesList[500:600], return_tensors=\"pt\", padding=True)\n",
    "outputs = model(**inputs)[0]\n",
    "# これで保存\n",
    "with open(\"model6.pickle\", mode=\"wb\") as f:\n",
    "    pickle.dump(outputs, f)"
   ]
  },
  {
   "cell_type": "code",
   "execution_count": 13,
   "id": "dd001134",
   "metadata": {},
   "outputs": [],
   "source": [
    "inputs = tokenizer(sentencesList[600:700], return_tensors=\"pt\", padding=True)\n",
    "outputs = model(**inputs)[0]\n",
    "# これで保存\n",
    "with open(\"model7.pickle\", mode=\"wb\") as f:\n",
    "    pickle.dump(outputs, f)"
   ]
  },
  {
   "cell_type": "code",
   "execution_count": 14,
   "id": "c7ea00ac",
   "metadata": {},
   "outputs": [],
   "source": [
    "inputs = tokenizer(sentencesList[700:800], return_tensors=\"pt\", padding=True)\n",
    "outputs = model(**inputs)[0]\n",
    "# これで保存\n",
    "with open(\"model8.pickle\", mode=\"wb\") as f:\n",
    "    pickle.dump(outputs, f)"
   ]
  },
  {
   "cell_type": "code",
   "execution_count": 15,
   "id": "2a38d520",
   "metadata": {},
   "outputs": [],
   "source": [
    "inputs = tokenizer(sentencesList[800:900], return_tensors=\"pt\", padding=True)\n",
    "outputs = model(**inputs)[0]\n",
    "# これで保存\n",
    "with open(\"model9.pickle\", mode=\"wb\") as f:\n",
    "    pickle.dump(outputs, f)"
   ]
  },
  {
   "cell_type": "code",
   "execution_count": 16,
   "id": "2a5f25d6",
   "metadata": {},
   "outputs": [],
   "source": [
    "inputs = tokenizer(sentencesList[900:1000], return_tensors=\"pt\", padding=True)\n",
    "outputs = model(**inputs)[0]\n",
    "# これで保存\n",
    "with open(\"model10.pickle\", mode=\"wb\") as f:\n",
    "    pickle.dump(outputs, f)"
   ]
  },
  {
   "cell_type": "code",
   "execution_count": 17,
   "id": "60319809",
   "metadata": {},
   "outputs": [],
   "source": [
    "inputs = tokenizer(sentencesList[1000:1100], return_tensors=\"pt\", padding=True)\n",
    "outputs = model(**inputs)[0]\n",
    "# これで保存\n",
    "with open(\"model11.pickle\", mode=\"wb\") as f:\n",
    "    pickle.dump(outputs, f)"
   ]
  },
  {
   "cell_type": "code",
   "execution_count": 18,
   "id": "018a983b",
   "metadata": {},
   "outputs": [],
   "source": [
    "inputs = tokenizer(sentencesList[1100:1200], return_tensors=\"pt\", padding=True)\n",
    "outputs = model(**inputs)[0]\n",
    "# これで保存\n",
    "with open(\"model12.pickle\", mode=\"wb\") as f:\n",
    "    pickle.dump(outputs, f)"
   ]
  },
  {
   "cell_type": "code",
   "execution_count": 19,
   "id": "10230d4a",
   "metadata": {},
   "outputs": [],
   "source": [
    "inputs = tokenizer(sentencesList[1200:1300], return_tensors=\"pt\", padding=True)\n",
    "outputs = model(**inputs)[0]\n",
    "# これで保存\n",
    "with open(\"model13.pickle\", mode=\"wb\") as f:\n",
    "    pickle.dump(outputs, f)"
   ]
  },
  {
   "cell_type": "code",
   "execution_count": 20,
   "id": "78d87f62",
   "metadata": {},
   "outputs": [],
   "source": [
    "inputs = tokenizer(sentencesList[1300:1400], return_tensors=\"pt\", padding=True)\n",
    "outputs = model(**inputs)[0]\n",
    "# これで保存\n",
    "with open(\"model14.pickle\", mode=\"wb\") as f:\n",
    "    pickle.dump(outputs, f)"
   ]
  },
  {
   "cell_type": "code",
   "execution_count": 21,
   "id": "004c9e45",
   "metadata": {},
   "outputs": [],
   "source": [
    "inputs = tokenizer(sentencesList[1400:1500], return_tensors=\"pt\", padding=True)\n",
    "outputs = model(**inputs)[0]\n",
    "# これで保存\n",
    "with open(\"model15.pickle\", mode=\"wb\") as f:\n",
    "    pickle.dump(outputs, f)"
   ]
  },
  {
   "cell_type": "code",
   "execution_count": 22,
   "id": "e3eedf16",
   "metadata": {},
   "outputs": [],
   "source": [
    "inputs = tokenizer(sentencesList[1500:1600], return_tensors=\"pt\", padding=True)\n",
    "outputs = model(**inputs)[0]\n",
    "# これで保存\n",
    "with open(\"model16.pickle\", mode=\"wb\") as f:\n",
    "    pickle.dump(outputs, f)"
   ]
  },
  {
   "cell_type": "code",
   "execution_count": 23,
   "id": "e477894c",
   "metadata": {},
   "outputs": [],
   "source": [
    "inputs = tokenizer(sentencesList[1600:1700], return_tensors=\"pt\", padding=True)\n",
    "outputs = model(**inputs)[0]\n",
    "# これで保存\n",
    "with open(\"model17.pickle\", mode=\"wb\") as f:\n",
    "    pickle.dump(outputs, f)"
   ]
  },
  {
   "cell_type": "code",
   "execution_count": 24,
   "id": "7b348e55",
   "metadata": {},
   "outputs": [],
   "source": [
    "inputs = tokenizer(sentencesList[1700:1800], return_tensors=\"pt\", padding=True)\n",
    "outputs = model(**inputs)[0]\n",
    "# これで保存\n",
    "with open(\"model18.pickle\", mode=\"wb\") as f:\n",
    "    pickle.dump(outputs, f)"
   ]
  },
  {
   "cell_type": "code",
   "execution_count": 25,
   "id": "1f512791",
   "metadata": {},
   "outputs": [],
   "source": [
    "inputs = tokenizer(sentencesList[1800:1900], return_tensors=\"pt\", padding=True)\n",
    "outputs = model(**inputs)[0]\n",
    "# これで保存\n",
    "with open(\"model19.pickle\", mode=\"wb\") as f:\n",
    "    pickle.dump(outputs, f)"
   ]
  },
  {
   "cell_type": "code",
   "execution_count": 26,
   "id": "e88f74fb",
   "metadata": {},
   "outputs": [],
   "source": [
    "inputs = tokenizer(sentencesList[1900:2000], return_tensors=\"pt\", padding=True)\n",
    "outputs = model(**inputs)[0]\n",
    "# これで保存\n",
    "with open(\"model20.pickle\", mode=\"wb\") as f:\n",
    "    pickle.dump(outputs, f)"
   ]
  },
  {
   "cell_type": "code",
   "execution_count": 27,
   "id": "40ed4160",
   "metadata": {},
   "outputs": [],
   "source": [
    "inputs = tokenizer(sentencesList[2000:2100], return_tensors=\"pt\", padding=True)\n",
    "outputs = model(**inputs)[0]\n",
    "# これで保存\n",
    "with open(\"model21.pickle\", mode=\"wb\") as f:\n",
    "    pickle.dump(outputs, f)"
   ]
  },
  {
   "cell_type": "code",
   "execution_count": 28,
   "id": "774c7a99",
   "metadata": {},
   "outputs": [],
   "source": [
    "inputs = tokenizer(sentencesList[2100:2200], return_tensors=\"pt\", padding=True)\n",
    "outputs = model(**inputs)[0]\n",
    "# これで保存\n",
    "with open(\"model22.pickle\", mode=\"wb\") as f:\n",
    "    pickle.dump(outputs, f)"
   ]
  },
  {
   "cell_type": "code",
   "execution_count": 29,
   "id": "991cf9a5",
   "metadata": {},
   "outputs": [],
   "source": [
    "inputs = tokenizer(sentencesList[2200:2300], return_tensors=\"pt\", padding=True)\n",
    "outputs = model(**inputs)[0]\n",
    "# これで保存\n",
    "with open(\"model23.pickle\", mode=\"wb\") as f:\n",
    "    pickle.dump(outputs, f)"
   ]
  },
  {
   "cell_type": "code",
   "execution_count": 30,
   "id": "48f09d72",
   "metadata": {},
   "outputs": [],
   "source": [
    "inputs = tokenizer(sentencesList[2300:2400], return_tensors=\"pt\", padding=True)\n",
    "outputs = model(**inputs)[0]\n",
    "# これで保存\n",
    "with open(\"model24.pickle\", mode=\"wb\") as f:\n",
    "    pickle.dump(outputs, f)"
   ]
  },
  {
   "cell_type": "code",
   "execution_count": 31,
   "id": "5c61726a",
   "metadata": {},
   "outputs": [],
   "source": [
    "inputs = tokenizer(sentencesList[2400:2500], return_tensors=\"pt\", padding=True)\n",
    "outputs = model(**inputs)[0]\n",
    "# これで保存\n",
    "with open(\"model25.pickle\", mode=\"wb\") as f:\n",
    "    pickle.dump(outputs, f)"
   ]
  },
  {
   "cell_type": "code",
   "execution_count": 32,
   "id": "09b5daec",
   "metadata": {},
   "outputs": [],
   "source": [
    "inputs = tokenizer(sentencesList[2500:2600], return_tensors=\"pt\", padding=True)\n",
    "outputs = model(**inputs)[0]\n",
    "# これで保存\n",
    "with open(\"model26.pickle\", mode=\"wb\") as f:\n",
    "    pickle.dump(outputs, f)"
   ]
  },
  {
   "cell_type": "code",
   "execution_count": 33,
   "id": "ca83236d",
   "metadata": {},
   "outputs": [],
   "source": [
    "inputs = tokenizer(sentencesList[2600:2700], return_tensors=\"pt\", padding=True)\n",
    "outputs = model(**inputs)[0]\n",
    "# これで保存\n",
    "with open(\"model27.pickle\", mode=\"wb\") as f:\n",
    "    pickle.dump(outputs, f)"
   ]
  },
  {
   "cell_type": "code",
   "execution_count": 34,
   "id": "e9c1e801",
   "metadata": {},
   "outputs": [],
   "source": [
    "inputs = tokenizer(sentencesList[2700:2800], return_tensors=\"pt\", padding=True)\n",
    "outputs = model(**inputs)[0]\n",
    "# これで保存\n",
    "with open(\"model28.pickle\", mode=\"wb\") as f:\n",
    "    pickle.dump(outputs, f)"
   ]
  },
  {
   "cell_type": "code",
   "execution_count": 35,
   "id": "eb0ff46c",
   "metadata": {},
   "outputs": [],
   "source": [
    "inputs = tokenizer(sentencesList[2800:2900], return_tensors=\"pt\", padding=True)\n",
    "outputs = model(**inputs)[0]\n",
    "# これで保存\n",
    "with open(\"model29.pickle\", mode=\"wb\") as f:\n",
    "    pickle.dump(outputs, f)"
   ]
  },
  {
   "cell_type": "code",
   "execution_count": 36,
   "id": "783fcaf1",
   "metadata": {},
   "outputs": [],
   "source": [
    "inputs = tokenizer(sentencesList[2900:3000], return_tensors=\"pt\", padding=True)\n",
    "outputs = model(**inputs)[0]\n",
    "# これで保存\n",
    "with open(\"model30.pickle\", mode=\"wb\") as f:\n",
    "    pickle.dump(outputs, f)"
   ]
  },
  {
   "cell_type": "code",
   "execution_count": 37,
   "id": "d630db96",
   "metadata": {},
   "outputs": [],
   "source": [
    "inputs = tokenizer(sentencesList[3000:3100], return_tensors=\"pt\", padding=True)\n",
    "outputs = model(**inputs)[0]\n",
    "# これで保存\n",
    "with open(\"model31.pickle\", mode=\"wb\") as f:\n",
    "    pickle.dump(outputs, f)"
   ]
  },
  {
   "cell_type": "code",
   "execution_count": 38,
   "id": "ba9ceaec",
   "metadata": {},
   "outputs": [],
   "source": [
    "inputs = tokenizer(sentencesList[3100:3200], return_tensors=\"pt\", padding=True)\n",
    "outputs = model(**inputs)[0]\n",
    "# これで保存\n",
    "with open(\"model32.pickle\", mode=\"wb\") as f:\n",
    "    pickle.dump(outputs, f)"
   ]
  },
  {
   "cell_type": "code",
   "execution_count": 39,
   "id": "263ffd07",
   "metadata": {},
   "outputs": [],
   "source": [
    "inputs = tokenizer(sentencesList[3200:3300], return_tensors=\"pt\", padding=True)\n",
    "outputs = model(**inputs)[0]\n",
    "# これで保存\n",
    "with open(\"model33.pickle\", mode=\"wb\") as f:\n",
    "    pickle.dump(outputs, f)"
   ]
  },
  {
   "cell_type": "code",
   "execution_count": 40,
   "id": "cbd564bf",
   "metadata": {},
   "outputs": [],
   "source": [
    "inputs = tokenizer(sentencesList[3300:3400], return_tensors=\"pt\", padding=True)\n",
    "outputs = model(**inputs)[0]\n",
    "# これで保存\n",
    "with open(\"model34.pickle\", mode=\"wb\") as f:\n",
    "    pickle.dump(outputs, f)"
   ]
  },
  {
   "cell_type": "code",
   "execution_count": 41,
   "id": "c28b6129",
   "metadata": {},
   "outputs": [],
   "source": [
    "inputs = tokenizer(sentencesList[3400:3500], return_tensors=\"pt\", padding=True)\n",
    "outputs = model(**inputs)[0]\n",
    "# これで保存\n",
    "with open(\"model35.pickle\", mode=\"wb\") as f:\n",
    "    pickle.dump(outputs, f)"
   ]
  },
  {
   "cell_type": "code",
   "execution_count": 42,
   "id": "35645f15",
   "metadata": {},
   "outputs": [],
   "source": [
    "inputs = tokenizer(sentencesList[3500:3600], return_tensors=\"pt\", padding=True)\n",
    "outputs = model(**inputs)[0]\n",
    "# これで保存\n",
    "with open(\"model36.pickle\", mode=\"wb\") as f:\n",
    "    pickle.dump(outputs, f)"
   ]
  },
  {
   "cell_type": "code",
   "execution_count": 43,
   "id": "00128a24",
   "metadata": {},
   "outputs": [],
   "source": [
    "inputs = tokenizer(sentencesList[3600:3700], return_tensors=\"pt\", padding=True)\n",
    "outputs = model(**inputs)[0]\n",
    "# これで保存\n",
    "with open(\"model37.pickle\", mode=\"wb\") as f:\n",
    "    pickle.dump(outputs, f)"
   ]
  },
  {
   "cell_type": "code",
   "execution_count": 44,
   "id": "6587295a",
   "metadata": {},
   "outputs": [],
   "source": [
    "inputs = tokenizer(sentencesList[3700:3800], return_tensors=\"pt\", padding=True)\n",
    "outputs = model(**inputs)[0]\n",
    "# これで保存\n",
    "with open(\"model38.pickle\", mode=\"wb\") as f:\n",
    "    pickle.dump(outputs, f)"
   ]
  },
  {
   "cell_type": "code",
   "execution_count": 45,
   "id": "bc234c7a",
   "metadata": {},
   "outputs": [],
   "source": [
    "inputs = tokenizer(sentencesList[3800:3900], return_tensors=\"pt\", padding=True)\n",
    "outputs = model(**inputs)[0]\n",
    "# これで保存\n",
    "with open(\"model39.pickle\", mode=\"wb\") as f:\n",
    "    pickle.dump(outputs, f)"
   ]
  },
  {
   "cell_type": "code",
   "execution_count": 46,
   "id": "0e86079e",
   "metadata": {},
   "outputs": [],
   "source": [
    "inputs = tokenizer(sentencesList[3900:4000], return_tensors=\"pt\", padding=True)\n",
    "outputs = model(**inputs)[0]\n",
    "# これで保存\n",
    "with open(\"model40.pickle\", mode=\"wb\") as f:\n",
    "    pickle.dump(outputs, f)"
   ]
  },
  {
   "cell_type": "code",
   "execution_count": 47,
   "id": "05fb015e",
   "metadata": {},
   "outputs": [],
   "source": [
    "inputs = tokenizer(sentencesList[4000:4100], return_tensors=\"pt\", padding=True)\n",
    "outputs = model(**inputs)[0]\n",
    "# これで保存\n",
    "with open(\"model41.pickle\", mode=\"wb\") as f:\n",
    "    pickle.dump(outputs, f)"
   ]
  },
  {
   "cell_type": "code",
   "execution_count": 48,
   "id": "eb262394",
   "metadata": {},
   "outputs": [],
   "source": [
    "inputs = tokenizer(sentencesList[4100:4200], return_tensors=\"pt\", padding=True)\n",
    "outputs = model(**inputs)[0]\n",
    "# これで保存\n",
    "with open(\"model42.pickle\", mode=\"wb\") as f:\n",
    "    pickle.dump(outputs, f)"
   ]
  },
  {
   "cell_type": "code",
   "execution_count": 49,
   "id": "dccc4cfd",
   "metadata": {},
   "outputs": [],
   "source": [
    "inputs = tokenizer(sentencesList[4200:4300], return_tensors=\"pt\", padding=True)\n",
    "outputs = model(**inputs)[0]\n",
    "# これで保存\n",
    "with open(\"model43.pickle\", mode=\"wb\") as f:\n",
    "    pickle.dump(outputs, f)"
   ]
  },
  {
   "cell_type": "code",
   "execution_count": 50,
   "id": "a16757a5",
   "metadata": {},
   "outputs": [],
   "source": [
    "inputs = tokenizer(sentencesList[4300:4400], return_tensors=\"pt\", padding=True)\n",
    "outputs = model(**inputs)[0]\n",
    "# これで保存\n",
    "with open(\"model44.pickle\", mode=\"wb\") as f:\n",
    "    pickle.dump(outputs, f)"
   ]
  },
  {
   "cell_type": "code",
   "execution_count": 51,
   "id": "59d06504",
   "metadata": {},
   "outputs": [],
   "source": [
    "inputs = tokenizer(sentencesList[4400:4500], return_tensors=\"pt\", padding=True)\n",
    "outputs = model(**inputs)[0]\n",
    "# これで保存\n",
    "with open(\"model45.pickle\", mode=\"wb\") as f:\n",
    "    pickle.dump(outputs, f)"
   ]
  },
  {
   "cell_type": "code",
   "execution_count": 53,
   "id": "7dce34e2",
   "metadata": {},
   "outputs": [],
   "source": [
    "inputs = tokenizer(sentencesList[4500:4600], return_tensors=\"pt\", padding=True)\n",
    "outputs = model(**inputs)[0]\n",
    "# これで保存\n",
    "with open(\"model46.pickle\", mode=\"wb\") as f:\n",
    "    pickle.dump(outputs, f)"
   ]
  },
  {
   "cell_type": "code",
   "execution_count": 54,
   "id": "4ecdcfed",
   "metadata": {},
   "outputs": [],
   "source": [
    "inputs = tokenizer(sentencesList[4600:4700], return_tensors=\"pt\", padding=True)\n",
    "outputs = model(**inputs)[0]\n",
    "# これで保存\n",
    "with open(\"model47.pickle\", mode=\"wb\") as f:\n",
    "    pickle.dump(outputs, f)"
   ]
  },
  {
   "cell_type": "code",
   "execution_count": 55,
   "id": "dc2d94b6",
   "metadata": {},
   "outputs": [],
   "source": [
    "inputs = tokenizer(sentencesList[4700:4800], return_tensors=\"pt\", padding=True)\n",
    "outputs = model(**inputs)[0]\n",
    "# これで保存\n",
    "with open(\"model48.pickle\", mode=\"wb\") as f:\n",
    "    pickle.dump(outputs, f)"
   ]
  },
  {
   "cell_type": "code",
   "execution_count": 56,
   "id": "1c88487b",
   "metadata": {},
   "outputs": [],
   "source": [
    "inputs = tokenizer(sentencesList[4800:4900], return_tensors=\"pt\", padding=True)\n",
    "outputs = model(**inputs)[0]\n",
    "# これで保存\n",
    "with open(\"model49.pickle\", mode=\"wb\") as f:\n",
    "    pickle.dump(outputs, f)"
   ]
  },
  {
   "cell_type": "code",
   "execution_count": 57,
   "id": "fb71f5b3",
   "metadata": {},
   "outputs": [],
   "source": [
    "inputs = tokenizer(sentencesList[4900:5000], return_tensors=\"pt\", padding=True)\n",
    "outputs = model(**inputs)[0]\n",
    "# これで保存\n",
    "with open(\"model50.pickle\", mode=\"wb\") as f:\n",
    "    pickle.dump(outputs, f)"
   ]
  },
  {
   "cell_type": "code",
   "execution_count": 58,
   "id": "ae98b535",
   "metadata": {},
   "outputs": [],
   "source": [
    "inputs = tokenizer(sentencesList[5000:5100], return_tensors=\"pt\", padding=True)\n",
    "outputs = model(**inputs)[0]\n",
    "# これで保存\n",
    "with open(\"model51.pickle\", mode=\"wb\") as f:\n",
    "    pickle.dump(outputs, f)"
   ]
  },
  {
   "cell_type": "code",
   "execution_count": 59,
   "id": "f0d6091f",
   "metadata": {},
   "outputs": [],
   "source": [
    "inputs = tokenizer(sentencesList[5100:5200], return_tensors=\"pt\", padding=True)\n",
    "outputs = model(**inputs)[0]\n",
    "# これで保存\n",
    "with open(\"model52.pickle\", mode=\"wb\") as f:\n",
    "    pickle.dump(outputs, f)"
   ]
  },
  {
   "cell_type": "code",
   "execution_count": 60,
   "id": "cad979b5",
   "metadata": {},
   "outputs": [],
   "source": [
    "inputs = tokenizer(sentencesList[5200:5300], return_tensors=\"pt\", padding=True)\n",
    "outputs = model(**inputs)[0]\n",
    "# これで保存\n",
    "with open(\"model53.pickle\", mode=\"wb\") as f:\n",
    "    pickle.dump(outputs, f)"
   ]
  },
  {
   "cell_type": "code",
   "execution_count": 61,
   "id": "9847f691",
   "metadata": {},
   "outputs": [],
   "source": [
    "inputs = tokenizer(sentencesList[5300:5400], return_tensors=\"pt\", padding=True)\n",
    "outputs = model(**inputs)[0]\n",
    "# これで保存\n",
    "with open(\"model54.pickle\", mode=\"wb\") as f:\n",
    "    pickle.dump(outputs, f)"
   ]
  },
  {
   "cell_type": "code",
   "execution_count": 62,
   "id": "bae34cfc",
   "metadata": {},
   "outputs": [],
   "source": [
    "inputs = tokenizer(sentencesList[5400:5500], return_tensors=\"pt\", padding=True)\n",
    "outputs = model(**inputs)[0]\n",
    "# これで保存\n",
    "with open(\"model55.pickle\", mode=\"wb\") as f:\n",
    "    pickle.dump(outputs, f)"
   ]
  },
  {
   "cell_type": "code",
   "execution_count": 63,
   "id": "1e94f90d",
   "metadata": {},
   "outputs": [],
   "source": [
    "inputs = tokenizer(sentencesList[5500:5600], return_tensors=\"pt\", padding=True)\n",
    "outputs = model(**inputs)[0]\n",
    "# これで保存\n",
    "with open(\"model56.pickle\", mode=\"wb\") as f:\n",
    "    pickle.dump(outputs, f)"
   ]
  },
  {
   "cell_type": "code",
   "execution_count": 64,
   "id": "6252799d",
   "metadata": {},
   "outputs": [],
   "source": [
    "inputs = tokenizer(sentencesList[5600:5700], return_tensors=\"pt\", padding=True)\n",
    "outputs = model(**inputs)[0]\n",
    "# これで保存\n",
    "with open(\"model57.pickle\", mode=\"wb\") as f:\n",
    "    pickle.dump(outputs, f)"
   ]
  },
  {
   "cell_type": "code",
   "execution_count": 65,
   "id": "02489f1b",
   "metadata": {},
   "outputs": [],
   "source": [
    "inputs = tokenizer(sentencesList[5700:5800], return_tensors=\"pt\", padding=True)\n",
    "outputs = model(**inputs)[0]\n",
    "# これで保存\n",
    "with open(\"model58.pickle\", mode=\"wb\") as f:\n",
    "    pickle.dump(outputs, f)"
   ]
  },
  {
   "cell_type": "code",
   "execution_count": 66,
   "id": "07a052f1",
   "metadata": {},
   "outputs": [],
   "source": [
    "inputs = tokenizer(sentencesList[5800:5900], return_tensors=\"pt\", padding=True)\n",
    "outputs = model(**inputs)[0]\n",
    "# これで保存\n",
    "with open(\"model59.pickle\", mode=\"wb\") as f:\n",
    "    pickle.dump(outputs, f)"
   ]
  },
  {
   "cell_type": "code",
   "execution_count": 67,
   "id": "a894f94b",
   "metadata": {},
   "outputs": [],
   "source": [
    "inputs = tokenizer(sentencesList[5900:6000], return_tensors=\"pt\", padding=True)\n",
    "outputs = model(**inputs)[0]\n",
    "# これで保存\n",
    "with open(\"model60.pickle\", mode=\"wb\") as f:\n",
    "    pickle.dump(outputs, f)"
   ]
  },
  {
   "cell_type": "code",
   "execution_count": 68,
   "id": "9b33e345",
   "metadata": {},
   "outputs": [],
   "source": [
    "inputs = tokenizer(sentencesList[6000:6100], return_tensors=\"pt\", padding=True)\n",
    "outputs = model(**inputs)[0]\n",
    "# これで保存\n",
    "with open(\"model61.pickle\", mode=\"wb\") as f:\n",
    "    pickle.dump(outputs, f)"
   ]
  },
  {
   "cell_type": "code",
   "execution_count": 69,
   "id": "77841d25",
   "metadata": {},
   "outputs": [],
   "source": [
    "inputs = tokenizer(sentencesList[6100:6200], return_tensors=\"pt\", padding=True)\n",
    "outputs = model(**inputs)[0]\n",
    "# これで保存\n",
    "with open(\"model62.pickle\", mode=\"wb\") as f:\n",
    "    pickle.dump(outputs, f)"
   ]
  },
  {
   "cell_type": "code",
   "execution_count": 70,
   "id": "fac86e4c",
   "metadata": {},
   "outputs": [],
   "source": [
    "inputs = tokenizer(sentencesList[6200:6300], return_tensors=\"pt\", padding=True)\n",
    "outputs = model(**inputs)[0]\n",
    "# これで保存\n",
    "with open(\"model63.pickle\", mode=\"wb\") as f:\n",
    "    pickle.dump(outputs, f)"
   ]
  },
  {
   "cell_type": "code",
   "execution_count": 71,
   "id": "f52c20f3",
   "metadata": {},
   "outputs": [],
   "source": [
    "inputs = tokenizer(sentencesList[6300:6400], return_tensors=\"pt\", padding=True)\n",
    "outputs = model(**inputs)[0]\n",
    "# これで保存\n",
    "with open(\"model64.pickle\", mode=\"wb\") as f:\n",
    "    pickle.dump(outputs, f)"
   ]
  },
  {
   "cell_type": "code",
   "execution_count": 72,
   "id": "5a7adad2",
   "metadata": {},
   "outputs": [],
   "source": [
    "inputs = tokenizer(sentencesList[6400:6500], return_tensors=\"pt\", padding=True)\n",
    "outputs = model(**inputs)[0]\n",
    "# これで保存\n",
    "with open(\"model65.pickle\", mode=\"wb\") as f:\n",
    "    pickle.dump(outputs, f)"
   ]
  },
  {
   "cell_type": "code",
   "execution_count": 73,
   "id": "b3381c3a",
   "metadata": {},
   "outputs": [],
   "source": [
    "inputs = tokenizer(sentencesList[6500:6600], return_tensors=\"pt\", padding=True)\n",
    "outputs = model(**inputs)[0]\n",
    "# これで保存\n",
    "with open(\"model66.pickle\", mode=\"wb\") as f:\n",
    "    pickle.dump(outputs, f)"
   ]
  },
  {
   "cell_type": "code",
   "execution_count": 74,
   "id": "c9ae0bd3",
   "metadata": {},
   "outputs": [],
   "source": [
    "inputs = tokenizer(sentencesList[6600:6700], return_tensors=\"pt\", padding=True)\n",
    "outputs = model(**inputs)[0]\n",
    "# これで保存\n",
    "with open(\"model67.pickle\", mode=\"wb\") as f:\n",
    "    pickle.dump(outputs, f)"
   ]
  },
  {
   "cell_type": "code",
   "execution_count": 75,
   "id": "0e6d6655",
   "metadata": {},
   "outputs": [],
   "source": [
    "inputs = tokenizer(sentencesList[6700:6800], return_tensors=\"pt\", padding=True)\n",
    "outputs = model(**inputs)[0]\n",
    "# これで保存\n",
    "with open(\"model68.pickle\", mode=\"wb\") as f:\n",
    "    pickle.dump(outputs, f)"
   ]
  },
  {
   "cell_type": "code",
   "execution_count": 76,
   "id": "d531ca19",
   "metadata": {},
   "outputs": [],
   "source": [
    "inputs = tokenizer(sentencesList[6800:6900], return_tensors=\"pt\", padding=True)\n",
    "outputs = model(**inputs)[0]\n",
    "# これで保存\n",
    "with open(\"model69.pickle\", mode=\"wb\") as f:\n",
    "    pickle.dump(outputs, f)"
   ]
  },
  {
   "cell_type": "code",
   "execution_count": 77,
   "id": "e9b3f2f6",
   "metadata": {},
   "outputs": [],
   "source": [
    "inputs = tokenizer(sentencesList[6900:7000], return_tensors=\"pt\", padding=True)\n",
    "outputs = model(**inputs)[0]\n",
    "# これで保存\n",
    "with open(\"model70.pickle\", mode=\"wb\") as f:\n",
    "    pickle.dump(outputs, f)"
   ]
  },
  {
   "cell_type": "code",
   "execution_count": 78,
   "id": "9481181d",
   "metadata": {},
   "outputs": [],
   "source": [
    "inputs = tokenizer(sentencesList[7000:7100], return_tensors=\"pt\", padding=True)\n",
    "outputs = model(**inputs)[0]\n",
    "# これで保存\n",
    "with open(\"model71.pickle\", mode=\"wb\") as f:\n",
    "    pickle.dump(outputs, f)"
   ]
  },
  {
   "cell_type": "code",
   "execution_count": 79,
   "id": "0bc76c00",
   "metadata": {},
   "outputs": [],
   "source": [
    "inputs = tokenizer(sentencesList[7100:7200], return_tensors=\"pt\", padding=True)\n",
    "outputs = model(**inputs)[0]\n",
    "# これで保存\n",
    "with open(\"model72.pickle\", mode=\"wb\") as f:\n",
    "    pickle.dump(outputs, f)"
   ]
  },
  {
   "cell_type": "code",
   "execution_count": 80,
   "id": "3807d1c0",
   "metadata": {},
   "outputs": [],
   "source": [
    "inputs = tokenizer(sentencesList[7200:7300], return_tensors=\"pt\", padding=True)\n",
    "outputs = model(**inputs)[0]\n",
    "# これで保存\n",
    "with open(\"model73.pickle\", mode=\"wb\") as f:\n",
    "    pickle.dump(outputs, f)"
   ]
  },
  {
   "cell_type": "code",
   "execution_count": 81,
   "id": "7b11e2b5",
   "metadata": {},
   "outputs": [],
   "source": [
    "inputs = tokenizer(sentencesList[7300:7400], return_tensors=\"pt\", padding=True)\n",
    "outputs = model(**inputs)[0]\n",
    "# これで保存\n",
    "with open(\"model74.pickle\", mode=\"wb\") as f:\n",
    "    pickle.dump(outputs, f)"
   ]
  },
  {
   "cell_type": "code",
   "execution_count": 82,
   "id": "7c327c98",
   "metadata": {},
   "outputs": [],
   "source": [
    "inputs = tokenizer(sentencesList[7400:7500], return_tensors=\"pt\", padding=True)\n",
    "outputs = model(**inputs)[0]\n",
    "# これで保存\n",
    "with open(\"model75.pickle\", mode=\"wb\") as f:\n",
    "    pickle.dump(outputs, f)"
   ]
  },
  {
   "cell_type": "code",
   "execution_count": 83,
   "id": "0617e404",
   "metadata": {},
   "outputs": [],
   "source": [
    "inputs = tokenizer(sentencesList[7500:7600], return_tensors=\"pt\", padding=True)\n",
    "outputs = model(**inputs)[0]\n",
    "# これで保存\n",
    "with open(\"model76.pickle\", mode=\"wb\") as f:\n",
    "    pickle.dump(outputs, f)"
   ]
  },
  {
   "cell_type": "code",
   "execution_count": 84,
   "id": "728a2092",
   "metadata": {},
   "outputs": [],
   "source": [
    "inputs = tokenizer(sentencesList[7600:7700], return_tensors=\"pt\", padding=True)\n",
    "outputs = model(**inputs)[0]\n",
    "# これで保存\n",
    "with open(\"model77.pickle\", mode=\"wb\") as f:\n",
    "    pickle.dump(outputs, f)"
   ]
  },
  {
   "cell_type": "code",
   "execution_count": 85,
   "id": "2162679c",
   "metadata": {},
   "outputs": [],
   "source": [
    "inputs = tokenizer(sentencesList[7700:7800], return_tensors=\"pt\", padding=True)\n",
    "outputs = model(**inputs)[0]\n",
    "# これで保存\n",
    "with open(\"model78.pickle\", mode=\"wb\") as f:\n",
    "    pickle.dump(outputs, f)"
   ]
  },
  {
   "cell_type": "code",
   "execution_count": 86,
   "id": "8328965b",
   "metadata": {},
   "outputs": [],
   "source": [
    "inputs = tokenizer(sentencesList[7800:7900], return_tensors=\"pt\", padding=True)\n",
    "outputs = model(**inputs)[0]\n",
    "# これで保存\n",
    "with open(\"model79.pickle\", mode=\"wb\") as f:\n",
    "    pickle.dump(outputs, f)"
   ]
  },
  {
   "cell_type": "code",
   "execution_count": 87,
   "id": "4e37bcea",
   "metadata": {},
   "outputs": [],
   "source": [
    "inputs = tokenizer(sentencesList[7900:8000], return_tensors=\"pt\", padding=True)\n",
    "outputs = model(**inputs)[0]\n",
    "# これで保存\n",
    "with open(\"model80.pickle\", mode=\"wb\") as f:\n",
    "    pickle.dump(outputs, f)"
   ]
  },
  {
   "cell_type": "code",
   "execution_count": 88,
   "id": "09b041cf",
   "metadata": {},
   "outputs": [],
   "source": [
    "inputs = tokenizer(sentencesList[8000:8100], return_tensors=\"pt\", padding=True)\n",
    "outputs = model(**inputs)[0]\n",
    "# これで保存\n",
    "with open(\"model81.pickle\", mode=\"wb\") as f:\n",
    "    pickle.dump(outputs, f)"
   ]
  },
  {
   "cell_type": "code",
   "execution_count": 89,
   "id": "b9293021",
   "metadata": {},
   "outputs": [],
   "source": [
    "inputs = tokenizer(sentencesList[8100:8200], return_tensors=\"pt\", padding=True)\n",
    "outputs = model(**inputs)[0]\n",
    "# これで保存\n",
    "with open(\"model82.pickle\", mode=\"wb\") as f:\n",
    "    pickle.dump(outputs, f)"
   ]
  },
  {
   "cell_type": "code",
   "execution_count": 90,
   "id": "fc1b131d",
   "metadata": {},
   "outputs": [],
   "source": [
    "inputs = tokenizer(sentencesList[8200:8300], return_tensors=\"pt\", padding=True)\n",
    "outputs = model(**inputs)[0]\n",
    "# これで保存\n",
    "with open(\"model83.pickle\", mode=\"wb\") as f:\n",
    "    pickle.dump(outputs, f)"
   ]
  },
  {
   "cell_type": "code",
   "execution_count": 91,
   "id": "7470efa4",
   "metadata": {},
   "outputs": [],
   "source": [
    "inputs = tokenizer(sentencesList[8300:8400], return_tensors=\"pt\", padding=True)\n",
    "outputs = model(**inputs)[0]\n",
    "# これで保存\n",
    "with open(\"model84.pickle\", mode=\"wb\") as f:\n",
    "    pickle.dump(outputs, f)"
   ]
  },
  {
   "cell_type": "code",
   "execution_count": 92,
   "id": "11d54929",
   "metadata": {},
   "outputs": [],
   "source": [
    "inputs = tokenizer(sentencesList[8400:8500], return_tensors=\"pt\", padding=True)\n",
    "outputs = model(**inputs)[0]\n",
    "# これで保存\n",
    "with open(\"model85.pickle\", mode=\"wb\") as f:\n",
    "    pickle.dump(outputs, f)"
   ]
  },
  {
   "cell_type": "code",
   "execution_count": 93,
   "id": "bc12dbc5",
   "metadata": {},
   "outputs": [],
   "source": [
    "inputs = tokenizer(sentencesList[8500:8600], return_tensors=\"pt\", padding=True)\n",
    "outputs = model(**inputs)[0]\n",
    "# これで保存\n",
    "with open(\"model86.pickle\", mode=\"wb\") as f:\n",
    "    pickle.dump(outputs, f)"
   ]
  },
  {
   "cell_type": "code",
   "execution_count": 94,
   "id": "8c1c5023",
   "metadata": {},
   "outputs": [],
   "source": [
    "inputs = tokenizer(sentencesList[8600:8700], return_tensors=\"pt\", padding=True)\n",
    "outputs = model(**inputs)[0]\n",
    "# これで保存\n",
    "with open(\"model87.pickle\", mode=\"wb\") as f:\n",
    "    pickle.dump(outputs, f)"
   ]
  },
  {
   "cell_type": "code",
   "execution_count": 95,
   "id": "204dc201",
   "metadata": {},
   "outputs": [],
   "source": [
    "inputs = tokenizer(sentencesList[8700:8800], return_tensors=\"pt\", padding=True)\n",
    "outputs = model(**inputs)[0]\n",
    "# これで保存\n",
    "with open(\"model88.pickle\", mode=\"wb\") as f:\n",
    "    pickle.dump(outputs, f)"
   ]
  },
  {
   "cell_type": "code",
   "execution_count": 96,
   "id": "8b4eb67f",
   "metadata": {},
   "outputs": [],
   "source": [
    "inputs = tokenizer(sentencesList[8800:8900], return_tensors=\"pt\", padding=True)\n",
    "outputs = model(**inputs)[0]\n",
    "# これで保存\n",
    "with open(\"model89.pickle\", mode=\"wb\") as f:\n",
    "    pickle.dump(outputs, f)"
   ]
  },
  {
   "cell_type": "code",
   "execution_count": 97,
   "id": "db8fd9bd",
   "metadata": {},
   "outputs": [],
   "source": [
    "inputs = tokenizer(sentencesList[8900:9000], return_tensors=\"pt\", padding=True)\n",
    "outputs = model(**inputs)[0]\n",
    "# これで保存\n",
    "with open(\"model90.pickle\", mode=\"wb\") as f:\n",
    "    pickle.dump(outputs, f)"
   ]
  },
  {
   "cell_type": "code",
   "execution_count": 98,
   "id": "4f27a581",
   "metadata": {},
   "outputs": [],
   "source": [
    "inputs = tokenizer(sentencesList[9000:9100], return_tensors=\"pt\", padding=True)\n",
    "outputs = model(**inputs)[0]\n",
    "# これで保存\n",
    "with open(\"model91.pickle\", mode=\"wb\") as f:\n",
    "    pickle.dump(outputs, f)"
   ]
  },
  {
   "cell_type": "code",
   "execution_count": 99,
   "id": "a1ab08ba",
   "metadata": {},
   "outputs": [],
   "source": [
    "inputs = tokenizer(sentencesList[9100:9200], return_tensors=\"pt\", padding=True)\n",
    "outputs = model(**inputs)[0]\n",
    "# これで保存\n",
    "with open(\"model92.pickle\", mode=\"wb\") as f:\n",
    "    pickle.dump(outputs, f)"
   ]
  },
  {
   "cell_type": "code",
   "execution_count": 100,
   "id": "95402fb0",
   "metadata": {},
   "outputs": [],
   "source": [
    "inputs = tokenizer(sentencesList[9200:9300], return_tensors=\"pt\", padding=True)\n",
    "outputs = model(**inputs)[0]\n",
    "# これで保存\n",
    "with open(\"model93.pickle\", mode=\"wb\") as f:\n",
    "    pickle.dump(outputs, f)"
   ]
  },
  {
   "cell_type": "code",
   "execution_count": 101,
   "id": "19fca128",
   "metadata": {},
   "outputs": [],
   "source": [
    "inputs = tokenizer(sentencesList[9300:9400], return_tensors=\"pt\", padding=True)\n",
    "outputs = model(**inputs)[0]\n",
    "# これで保存\n",
    "with open(\"model94.pickle\", mode=\"wb\") as f:\n",
    "    pickle.dump(outputs, f)"
   ]
  },
  {
   "cell_type": "code",
   "execution_count": 102,
   "id": "ef5cfff2",
   "metadata": {},
   "outputs": [],
   "source": [
    "inputs = tokenizer(sentencesList[9400:9500], return_tensors=\"pt\", padding=True)\n",
    "outputs = model(**inputs)[0]\n",
    "# これで保存\n",
    "with open(\"model95.pickle\", mode=\"wb\") as f:\n",
    "    pickle.dump(outputs, f)"
   ]
  },
  {
   "cell_type": "code",
   "execution_count": 103,
   "id": "e130c600",
   "metadata": {},
   "outputs": [],
   "source": [
    "inputs = tokenizer(sentencesList[9500:9600], return_tensors=\"pt\", padding=True)\n",
    "outputs = model(**inputs)[0]\n",
    "# これで保存\n",
    "with open(\"model96.pickle\", mode=\"wb\") as f:\n",
    "    pickle.dump(outputs, f)"
   ]
  },
  {
   "cell_type": "code",
   "execution_count": 104,
   "id": "6cf25fdc",
   "metadata": {},
   "outputs": [],
   "source": [
    "inputs = tokenizer(sentencesList[9600:9700], return_tensors=\"pt\", padding=True)\n",
    "outputs = model(**inputs)[0]\n",
    "# これで保存\n",
    "with open(\"model97.pickle\", mode=\"wb\") as f:\n",
    "    pickle.dump(outputs, f)"
   ]
  },
  {
   "cell_type": "code",
   "execution_count": 105,
   "id": "3669dfda",
   "metadata": {},
   "outputs": [],
   "source": [
    "inputs = tokenizer(sentencesList[9700:9800], return_tensors=\"pt\", padding=True)\n",
    "outputs = model(**inputs)[0]\n",
    "# これで保存\n",
    "with open(\"model98.pickle\", mode=\"wb\") as f:\n",
    "    pickle.dump(outputs, f)"
   ]
  },
  {
   "cell_type": "code",
   "execution_count": 106,
   "id": "b5d97fd5",
   "metadata": {},
   "outputs": [],
   "source": [
    "inputs = tokenizer(sentencesList[9800:9900], return_tensors=\"pt\", padding=True)\n",
    "outputs = model(**inputs)[0]\n",
    "# これで保存\n",
    "with open(\"model99.pickle\", mode=\"wb\") as f:\n",
    "    pickle.dump(outputs, f)"
   ]
  },
  {
   "cell_type": "code",
   "execution_count": 107,
   "id": "cd25e930",
   "metadata": {},
   "outputs": [],
   "source": [
    "inputs = tokenizer(sentencesList[9900:10000], return_tensors=\"pt\", padding=True)\n",
    "outputs = model(**inputs)[0]\n",
    "# これで保存\n",
    "with open(\"model100.pickle\", mode=\"wb\") as f:\n",
    "    pickle.dump(outputs, f)"
   ]
  },
  {
   "cell_type": "code",
   "execution_count": 108,
   "id": "9d5c0465",
   "metadata": {},
   "outputs": [],
   "source": [
    "inputs = tokenizer(sentencesList[10000:10100], return_tensors=\"pt\", padding=True)\n",
    "outputs = model(**inputs)[0]\n",
    "# これで保存\n",
    "with open(\"model101.pickle\", mode=\"wb\") as f:\n",
    "    pickle.dump(outputs, f)"
   ]
  },
  {
   "cell_type": "code",
   "execution_count": 109,
   "id": "34fd7472",
   "metadata": {},
   "outputs": [],
   "source": [
    "inputs = tokenizer(sentencesList[10100:10200], return_tensors=\"pt\", padding=True)\n",
    "outputs = model(**inputs)[0]\n",
    "# これで保存\n",
    "with open(\"model102.pickle\", mode=\"wb\") as f:\n",
    "    pickle.dump(outputs, f)"
   ]
  },
  {
   "cell_type": "code",
   "execution_count": 110,
   "id": "e6d03072",
   "metadata": {},
   "outputs": [],
   "source": [
    "inputs = tokenizer(sentencesList[10200:10300], return_tensors=\"pt\", padding=True)\n",
    "outputs = model(**inputs)[0]\n",
    "# これで保存\n",
    "with open(\"model103.pickle\", mode=\"wb\") as f:\n",
    "    pickle.dump(outputs, f)"
   ]
  },
  {
   "cell_type": "code",
   "execution_count": 111,
   "id": "df76e577",
   "metadata": {},
   "outputs": [],
   "source": [
    "inputs = tokenizer(sentencesList[10300:10400], return_tensors=\"pt\", padding=True)\n",
    "outputs = model(**inputs)[0]\n",
    "# これで保存\n",
    "with open(\"model104.pickle\", mode=\"wb\") as f:\n",
    "    pickle.dump(outputs, f)"
   ]
  },
  {
   "cell_type": "code",
   "execution_count": 112,
   "id": "f871caf0",
   "metadata": {},
   "outputs": [],
   "source": [
    "inputs = tokenizer(sentencesList[10400:10500], return_tensors=\"pt\", padding=True)\n",
    "outputs = model(**inputs)[0]\n",
    "# これで保存\n",
    "with open(\"model105.pickle\", mode=\"wb\") as f:\n",
    "    pickle.dump(outputs, f)"
   ]
  },
  {
   "cell_type": "code",
   "execution_count": 113,
   "id": "dd18f37f",
   "metadata": {},
   "outputs": [],
   "source": [
    "inputs = tokenizer(sentencesList[10500:10600], return_tensors=\"pt\", padding=True)\n",
    "outputs = model(**inputs)[0]\n",
    "# これで保存\n",
    "with open(\"model106.pickle\", mode=\"wb\") as f:\n",
    "    pickle.dump(outputs, f)"
   ]
  },
  {
   "cell_type": "code",
   "execution_count": 114,
   "id": "f888e219",
   "metadata": {},
   "outputs": [],
   "source": [
    "inputs = tokenizer(sentencesList[10600:10700], return_tensors=\"pt\", padding=True)\n",
    "outputs = model(**inputs)[0]\n",
    "# これで保存\n",
    "with open(\"model107.pickle\", mode=\"wb\") as f:\n",
    "    pickle.dump(outputs, f)"
   ]
  },
  {
   "cell_type": "code",
   "execution_count": 115,
   "id": "0b388bcc",
   "metadata": {},
   "outputs": [],
   "source": [
    "inputs = tokenizer(sentencesList[10700:10800], return_tensors=\"pt\", padding=True)\n",
    "outputs = model(**inputs)[0]\n",
    "# これで保存\n",
    "with open(\"model108.pickle\", mode=\"wb\") as f:\n",
    "    pickle.dump(outputs, f)"
   ]
  },
  {
   "cell_type": "code",
   "execution_count": 116,
   "id": "cc7d70d2",
   "metadata": {},
   "outputs": [],
   "source": [
    "inputs = tokenizer(sentencesList[10800:10900], return_tensors=\"pt\", padding=True)\n",
    "outputs = model(**inputs)[0]\n",
    "# これで保存\n",
    "with open(\"model109.pickle\", mode=\"wb\") as f:\n",
    "    pickle.dump(outputs, f)"
   ]
  },
  {
   "cell_type": "code",
   "execution_count": 117,
   "id": "007bbf09",
   "metadata": {},
   "outputs": [],
   "source": [
    "inputs = tokenizer(sentencesList[10900:11000], return_tensors=\"pt\", padding=True)\n",
    "outputs = model(**inputs)[0]\n",
    "# これで保存\n",
    "with open(\"model110.pickle\", mode=\"wb\") as f:\n",
    "    pickle.dump(outputs, f)"
   ]
  },
  {
   "cell_type": "code",
   "execution_count": 118,
   "id": "5b9414a6",
   "metadata": {},
   "outputs": [],
   "source": [
    "inputs = tokenizer(sentencesList[11000:11100], return_tensors=\"pt\", padding=True)\n",
    "outputs = model(**inputs)[0]\n",
    "# これで保存\n",
    "with open(\"model111.pickle\", mode=\"wb\") as f:\n",
    "    pickle.dump(outputs, f)"
   ]
  },
  {
   "cell_type": "code",
   "execution_count": 119,
   "id": "cda9bf6c",
   "metadata": {},
   "outputs": [],
   "source": [
    "inputs = tokenizer(sentencesList[11100:11200], return_tensors=\"pt\", padding=True)\n",
    "outputs = model(**inputs)[0]\n",
    "# これで保存\n",
    "with open(\"model112.pickle\", mode=\"wb\") as f:\n",
    "    pickle.dump(outputs, f)"
   ]
  },
  {
   "cell_type": "code",
   "execution_count": 120,
   "id": "e812e1a1",
   "metadata": {},
   "outputs": [],
   "source": [
    "inputs = tokenizer(sentencesList[11200:11300], return_tensors=\"pt\", padding=True)\n",
    "outputs = model(**inputs)[0]\n",
    "# これで保存\n",
    "with open(\"model113.pickle\", mode=\"wb\") as f:\n",
    "    pickle.dump(outputs, f)"
   ]
  },
  {
   "cell_type": "code",
   "execution_count": 121,
   "id": "659c8c4f",
   "metadata": {},
   "outputs": [],
   "source": [
    "inputs = tokenizer(sentencesList[11300:11400], return_tensors=\"pt\", padding=True)\n",
    "outputs = model(**inputs)[0]\n",
    "# これで保存\n",
    "with open(\"model114.pickle\", mode=\"wb\") as f:\n",
    "    pickle.dump(outputs, f)"
   ]
  },
  {
   "cell_type": "code",
   "execution_count": 122,
   "id": "a928bc93",
   "metadata": {},
   "outputs": [],
   "source": [
    "inputs = tokenizer(sentencesList[11400:11500], return_tensors=\"pt\", padding=True)\n",
    "outputs = model(**inputs)[0]\n",
    "# これで保存\n",
    "with open(\"model115.pickle\", mode=\"wb\") as f:\n",
    "    pickle.dump(outputs, f)"
   ]
  },
  {
   "cell_type": "code",
   "execution_count": 123,
   "id": "6bdcf632",
   "metadata": {},
   "outputs": [],
   "source": [
    "inputs = tokenizer(sentencesList[11500:11600], return_tensors=\"pt\", padding=True)\n",
    "outputs = model(**inputs)[0]\n",
    "# これで保存\n",
    "with open(\"model116.pickle\", mode=\"wb\") as f:\n",
    "    pickle.dump(outputs, f)"
   ]
  },
  {
   "cell_type": "code",
   "execution_count": 124,
   "id": "842ee9ac",
   "metadata": {},
   "outputs": [],
   "source": [
    "inputs = tokenizer(sentencesList[11600:11700], return_tensors=\"pt\", padding=True)\n",
    "outputs = model(**inputs)[0]\n",
    "# これで保存\n",
    "with open(\"model117.pickle\", mode=\"wb\") as f:\n",
    "    pickle.dump(outputs, f)"
   ]
  },
  {
   "cell_type": "code",
   "execution_count": 125,
   "id": "79ec4a61",
   "metadata": {},
   "outputs": [],
   "source": [
    "inputs = tokenizer(sentencesList[11700:11800], return_tensors=\"pt\", padding=True)\n",
    "outputs = model(**inputs)[0]\n",
    "# これで保存\n",
    "with open(\"model118.pickle\", mode=\"wb\") as f:\n",
    "    pickle.dump(outputs, f)"
   ]
  },
  {
   "cell_type": "code",
   "execution_count": 126,
   "id": "69f02db6",
   "metadata": {},
   "outputs": [],
   "source": [
    "inputs = tokenizer(sentencesList[11800:11900], return_tensors=\"pt\", padding=True)\n",
    "outputs = model(**inputs)[0]\n",
    "# これで保存\n",
    "with open(\"model119.pickle\", mode=\"wb\") as f:\n",
    "    pickle.dump(outputs, f)"
   ]
  },
  {
   "cell_type": "code",
   "execution_count": 127,
   "id": "ca5955ca",
   "metadata": {},
   "outputs": [],
   "source": [
    "inputs = tokenizer(sentencesList[11900:12000], return_tensors=\"pt\", padding=True)\n",
    "outputs = model(**inputs)[0]\n",
    "# これで保存\n",
    "with open(\"model120.pickle\", mode=\"wb\") as f:\n",
    "    pickle.dump(outputs, f)"
   ]
  },
  {
   "cell_type": "code",
   "execution_count": 128,
   "id": "3e0aaea1",
   "metadata": {},
   "outputs": [],
   "source": [
    "inputs = tokenizer(sentencesList[12000:12100], return_tensors=\"pt\", padding=True)\n",
    "outputs = model(**inputs)[0]\n",
    "# これで保存\n",
    "with open(\"model121.pickle\", mode=\"wb\") as f:\n",
    "    pickle.dump(outputs, f)"
   ]
  },
  {
   "cell_type": "code",
   "execution_count": 129,
   "id": "00887a83",
   "metadata": {},
   "outputs": [],
   "source": [
    "inputs = tokenizer(sentencesList[12100:12200], return_tensors=\"pt\", padding=True)\n",
    "outputs = model(**inputs)[0]\n",
    "# これで保存\n",
    "with open(\"model122.pickle\", mode=\"wb\") as f:\n",
    "    pickle.dump(outputs, f)"
   ]
  },
  {
   "cell_type": "code",
   "execution_count": 130,
   "id": "5d729085",
   "metadata": {},
   "outputs": [],
   "source": [
    "inputs = tokenizer(sentencesList[12200:12300], return_tensors=\"pt\", padding=True)\n",
    "outputs = model(**inputs)[0]\n",
    "# これで保存\n",
    "with open(\"model123.pickle\", mode=\"wb\") as f:\n",
    "    pickle.dump(outputs, f)"
   ]
  },
  {
   "cell_type": "code",
   "execution_count": 131,
   "id": "d7eb5597",
   "metadata": {},
   "outputs": [],
   "source": [
    "inputs = tokenizer(sentencesList[12300:12400], return_tensors=\"pt\", padding=True)\n",
    "outputs = model(**inputs)[0]\n",
    "# これで保存\n",
    "with open(\"model124.pickle\", mode=\"wb\") as f:\n",
    "    pickle.dump(outputs, f)"
   ]
  },
  {
   "cell_type": "code",
   "execution_count": 132,
   "id": "3ca65591",
   "metadata": {},
   "outputs": [],
   "source": [
    "inputs = tokenizer(sentencesList[12400:12500], return_tensors=\"pt\", padding=True)\n",
    "outputs = model(**inputs)[0]\n",
    "# これで保存\n",
    "with open(\"model125.pickle\", mode=\"wb\") as f:\n",
    "    pickle.dump(outputs, f)"
   ]
  },
  {
   "cell_type": "code",
   "execution_count": 133,
   "id": "7f6a5a7a",
   "metadata": {},
   "outputs": [],
   "source": [
    "inputs = tokenizer(sentencesList[12500:12600], return_tensors=\"pt\", padding=True)\n",
    "outputs = model(**inputs)[0]\n",
    "# これで保存\n",
    "with open(\"model126.pickle\", mode=\"wb\") as f:\n",
    "    pickle.dump(outputs, f)"
   ]
  },
  {
   "cell_type": "code",
   "execution_count": 134,
   "id": "2da77a31",
   "metadata": {},
   "outputs": [],
   "source": [
    "inputs = tokenizer(sentencesList[12600:12700], return_tensors=\"pt\", padding=True)\n",
    "outputs = model(**inputs)[0]\n",
    "# これで保存\n",
    "with open(\"model127.pickle\", mode=\"wb\") as f:\n",
    "    pickle.dump(outputs, f)"
   ]
  },
  {
   "cell_type": "code",
   "execution_count": 135,
   "id": "5513d173",
   "metadata": {},
   "outputs": [],
   "source": [
    "inputs = tokenizer(sentencesList[12700:12800], return_tensors=\"pt\", padding=True)\n",
    "outputs = model(**inputs)[0]\n",
    "# これで保存\n",
    "with open(\"model128.pickle\", mode=\"wb\") as f:\n",
    "    pickle.dump(outputs, f)"
   ]
  },
  {
   "cell_type": "code",
   "execution_count": 136,
   "id": "feaf9a12",
   "metadata": {},
   "outputs": [],
   "source": [
    "inputs = tokenizer(sentencesList[12800:12900], return_tensors=\"pt\", padding=True)\n",
    "outputs = model(**inputs)[0]\n",
    "# これで保存\n",
    "with open(\"model129.pickle\", mode=\"wb\") as f:\n",
    "    pickle.dump(outputs, f)"
   ]
  },
  {
   "cell_type": "code",
   "execution_count": 137,
   "id": "0fc9192e",
   "metadata": {},
   "outputs": [],
   "source": [
    "inputs = tokenizer(sentencesList[12900:13000], return_tensors=\"pt\", padding=True)\n",
    "outputs = model(**inputs)[0]\n",
    "# これで保存\n",
    "with open(\"model130.pickle\", mode=\"wb\") as f:\n",
    "    pickle.dump(outputs, f)"
   ]
  },
  {
   "cell_type": "code",
   "execution_count": 138,
   "id": "7405bba6",
   "metadata": {},
   "outputs": [],
   "source": [
    "inputs = tokenizer(sentencesList[13000:13100], return_tensors=\"pt\", padding=True)\n",
    "outputs = model(**inputs)[0]\n",
    "# これで保存\n",
    "with open(\"model131.pickle\", mode=\"wb\") as f:\n",
    "    pickle.dump(outputs, f)"
   ]
  },
  {
   "cell_type": "code",
   "execution_count": 139,
   "id": "42577a83",
   "metadata": {},
   "outputs": [],
   "source": [
    "inputs = tokenizer(sentencesList[13100:13200], return_tensors=\"pt\", padding=True)\n",
    "outputs = model(**inputs)[0]\n",
    "# これで保存\n",
    "with open(\"model132.pickle\", mode=\"wb\") as f:\n",
    "    pickle.dump(outputs, f)"
   ]
  },
  {
   "cell_type": "code",
   "execution_count": 140,
   "id": "bbdf3520",
   "metadata": {},
   "outputs": [],
   "source": [
    "inputs = tokenizer(sentencesList[13200:13300], return_tensors=\"pt\", padding=True)\n",
    "outputs = model(**inputs)[0]\n",
    "# これで保存\n",
    "with open(\"model133.pickle\", mode=\"wb\") as f:\n",
    "    pickle.dump(outputs, f)"
   ]
  },
  {
   "cell_type": "code",
   "execution_count": 141,
   "id": "d90759ab",
   "metadata": {},
   "outputs": [],
   "source": [
    "inputs = tokenizer(sentencesList[13300:13400], return_tensors=\"pt\", padding=True)\n",
    "outputs = model(**inputs)[0]\n",
    "# これで保存\n",
    "with open(\"model134.pickle\", mode=\"wb\") as f:\n",
    "    pickle.dump(outputs, f)"
   ]
  },
  {
   "cell_type": "code",
   "execution_count": 142,
   "id": "675c6119",
   "metadata": {},
   "outputs": [],
   "source": [
    "inputs = tokenizer(sentencesList[13400:13500], return_tensors=\"pt\", padding=True)\n",
    "outputs = model(**inputs)[0]\n",
    "# これで保存\n",
    "with open(\"model135.pickle\", mode=\"wb\") as f:\n",
    "    pickle.dump(outputs, f)"
   ]
  },
  {
   "cell_type": "code",
   "execution_count": 143,
   "id": "682ec21f",
   "metadata": {},
   "outputs": [],
   "source": [
    "inputs = tokenizer(sentencesList[13500:13600], return_tensors=\"pt\", padding=True)\n",
    "outputs = model(**inputs)[0]\n",
    "# これで保存\n",
    "with open(\"model136.pickle\", mode=\"wb\") as f:\n",
    "    pickle.dump(outputs, f)"
   ]
  },
  {
   "cell_type": "code",
   "execution_count": 144,
   "id": "f43f85a2",
   "metadata": {},
   "outputs": [],
   "source": [
    "inputs = tokenizer(sentencesList[13600:13700], return_tensors=\"pt\", padding=True)\n",
    "outputs = model(**inputs)[0]\n",
    "# これで保存\n",
    "with open(\"model137.pickle\", mode=\"wb\") as f:\n",
    "    pickle.dump(outputs, f)"
   ]
  },
  {
   "cell_type": "code",
   "execution_count": 145,
   "id": "a44925d0",
   "metadata": {},
   "outputs": [],
   "source": [
    "inputs = tokenizer(sentencesList[13700:13800], return_tensors=\"pt\", padding=True)\n",
    "outputs = model(**inputs)[0]\n",
    "# これで保存\n",
    "with open(\"model138.pickle\", mode=\"wb\") as f:\n",
    "    pickle.dump(outputs, f)"
   ]
  },
  {
   "cell_type": "code",
   "execution_count": 146,
   "id": "fe8a1882",
   "metadata": {},
   "outputs": [],
   "source": [
    "inputs = tokenizer(sentencesList[13800:13900], return_tensors=\"pt\", padding=True)\n",
    "outputs = model(**inputs)[0]\n",
    "# これで保存\n",
    "with open(\"model139.pickle\", mode=\"wb\") as f:\n",
    "    pickle.dump(outputs, f)"
   ]
  },
  {
   "cell_type": "code",
   "execution_count": 147,
   "id": "a673d090",
   "metadata": {},
   "outputs": [],
   "source": [
    "inputs = tokenizer(sentencesList[13900:14000], return_tensors=\"pt\", padding=True)\n",
    "outputs = model(**inputs)[0]\n",
    "# これで保存\n",
    "with open(\"model140.pickle\", mode=\"wb\") as f:\n",
    "    pickle.dump(outputs, f)"
   ]
  },
  {
   "cell_type": "code",
   "execution_count": 148,
   "id": "e22195a0",
   "metadata": {},
   "outputs": [],
   "source": [
    "inputs = tokenizer(sentencesList[14000:14100], return_tensors=\"pt\", padding=True)\n",
    "outputs = model(**inputs)[0]\n",
    "# これで保存\n",
    "with open(\"model141.pickle\", mode=\"wb\") as f:\n",
    "    pickle.dump(outputs, f)"
   ]
  },
  {
   "cell_type": "code",
   "execution_count": 149,
   "id": "6f730270",
   "metadata": {},
   "outputs": [],
   "source": [
    "inputs = tokenizer(sentencesList[14100:14200], return_tensors=\"pt\", padding=True)\n",
    "outputs = model(**inputs)[0]\n",
    "# これで保存\n",
    "with open(\"model142.pickle\", mode=\"wb\") as f:\n",
    "    pickle.dump(outputs, f)"
   ]
  },
  {
   "cell_type": "code",
   "execution_count": 150,
   "id": "fb3da2be",
   "metadata": {},
   "outputs": [],
   "source": [
    "inputs = tokenizer(sentencesList[14200:14300], return_tensors=\"pt\", padding=True)\n",
    "outputs = model(**inputs)[0]\n",
    "# これで保存\n",
    "with open(\"model143.pickle\", mode=\"wb\") as f:\n",
    "    pickle.dump(outputs, f)"
   ]
  },
  {
   "cell_type": "code",
   "execution_count": 151,
   "id": "a3188ce0",
   "metadata": {},
   "outputs": [],
   "source": [
    "inputs = tokenizer(sentencesList[14300:14400], return_tensors=\"pt\", padding=True)\n",
    "outputs = model(**inputs)[0]\n",
    "# これで保存\n",
    "with open(\"model144.pickle\", mode=\"wb\") as f:\n",
    "    pickle.dump(outputs, f)"
   ]
  },
  {
   "cell_type": "code",
   "execution_count": 152,
   "id": "1a984b92",
   "metadata": {},
   "outputs": [],
   "source": [
    "inputs = tokenizer(sentencesList[14400:14500], return_tensors=\"pt\", padding=True)\n",
    "outputs = model(**inputs)[0]\n",
    "# これで保存\n",
    "with open(\"model145.pickle\", mode=\"wb\") as f:\n",
    "    pickle.dump(outputs, f)"
   ]
  },
  {
   "cell_type": "code",
   "execution_count": 153,
   "id": "1c2fc1da",
   "metadata": {},
   "outputs": [],
   "source": [
    "inputs = tokenizer(sentencesList[14500:14600], return_tensors=\"pt\", padding=True)\n",
    "outputs = model(**inputs)[0]\n",
    "# これで保存\n",
    "with open(\"model146.pickle\", mode=\"wb\") as f:\n",
    "    pickle.dump(outputs, f)"
   ]
  },
  {
   "cell_type": "code",
   "execution_count": 154,
   "id": "1586fdb8",
   "metadata": {},
   "outputs": [],
   "source": [
    "inputs = tokenizer(sentencesList[14600:14700], return_tensors=\"pt\", padding=True)\n",
    "outputs = model(**inputs)[0]\n",
    "# これで保存\n",
    "with open(\"model147.pickle\", mode=\"wb\") as f:\n",
    "    pickle.dump(outputs, f)"
   ]
  },
  {
   "cell_type": "code",
   "execution_count": 155,
   "id": "fb19950d",
   "metadata": {},
   "outputs": [],
   "source": [
    "inputs = tokenizer(sentencesList[14700:14800], return_tensors=\"pt\", padding=True)\n",
    "outputs = model(**inputs)[0]\n",
    "# これで保存\n",
    "with open(\"model148.pickle\", mode=\"wb\") as f:\n",
    "    pickle.dump(outputs, f)"
   ]
  },
  {
   "cell_type": "code",
   "execution_count": 156,
   "id": "b06da216",
   "metadata": {},
   "outputs": [],
   "source": [
    "inputs = tokenizer(sentencesList[14800:14900], return_tensors=\"pt\", padding=True)\n",
    "outputs = model(**inputs)[0]\n",
    "# これで保存\n",
    "with open(\"model149.pickle\", mode=\"wb\") as f:\n",
    "    pickle.dump(outputs, f)"
   ]
  },
  {
   "cell_type": "code",
   "execution_count": 157,
   "id": "87bd60bd",
   "metadata": {},
   "outputs": [],
   "source": [
    "inputs = tokenizer(sentencesList[14900:15000], return_tensors=\"pt\", padding=True)\n",
    "outputs = model(**inputs)[0]\n",
    "# これで保存\n",
    "with open(\"model150.pickle\", mode=\"wb\") as f:\n",
    "    pickle.dump(outputs, f)"
   ]
  },
  {
   "cell_type": "code",
   "execution_count": 158,
   "id": "f7640ecc",
   "metadata": {},
   "outputs": [],
   "source": [
    "inputs = tokenizer(sentencesList[15000:15100], return_tensors=\"pt\", padding=True)\n",
    "outputs = model(**inputs)[0]\n",
    "# これで保存\n",
    "with open(\"model151.pickle\", mode=\"wb\") as f:\n",
    "    pickle.dump(outputs, f)"
   ]
  },
  {
   "cell_type": "code",
   "execution_count": 159,
   "id": "5a1be84b",
   "metadata": {},
   "outputs": [],
   "source": [
    "inputs = tokenizer(sentencesList[15100:15200], return_tensors=\"pt\", padding=True)\n",
    "outputs = model(**inputs)[0]\n",
    "# これで保存\n",
    "with open(\"model152.pickle\", mode=\"wb\") as f:\n",
    "    pickle.dump(outputs, f)"
   ]
  },
  {
   "cell_type": "code",
   "execution_count": 160,
   "id": "2080db8c",
   "metadata": {},
   "outputs": [],
   "source": [
    "inputs = tokenizer(sentencesList[15200:15300], return_tensors=\"pt\", padding=True)\n",
    "outputs = model(**inputs)[0]\n",
    "# これで保存\n",
    "with open(\"model153.pickle\", mode=\"wb\") as f:\n",
    "    pickle.dump(outputs, f)"
   ]
  },
  {
   "cell_type": "code",
   "execution_count": 161,
   "id": "dee4b296",
   "metadata": {},
   "outputs": [],
   "source": [
    "inputs = tokenizer(sentencesList[15300:15400], return_tensors=\"pt\", padding=True)\n",
    "outputs = model(**inputs)[0]\n",
    "# これで保存\n",
    "with open(\"model154.pickle\", mode=\"wb\") as f:\n",
    "    pickle.dump(outputs, f)"
   ]
  },
  {
   "cell_type": "code",
   "execution_count": 162,
   "id": "17cd9927",
   "metadata": {},
   "outputs": [],
   "source": [
    "inputs = tokenizer(sentencesList[15400:15500], return_tensors=\"pt\", padding=True)\n",
    "outputs = model(**inputs)[0]\n",
    "# これで保存\n",
    "with open(\"model155.pickle\", mode=\"wb\") as f:\n",
    "    pickle.dump(outputs, f)"
   ]
  },
  {
   "cell_type": "code",
   "execution_count": 163,
   "id": "5425ab6f",
   "metadata": {},
   "outputs": [],
   "source": [
    "inputs = tokenizer(sentencesList[15500:15600], return_tensors=\"pt\", padding=True)\n",
    "outputs = model(**inputs)[0]\n",
    "# これで保存\n",
    "with open(\"model156.pickle\", mode=\"wb\") as f:\n",
    "    pickle.dump(outputs, f)"
   ]
  },
  {
   "cell_type": "code",
   "execution_count": 164,
   "id": "fa24f2af",
   "metadata": {},
   "outputs": [],
   "source": [
    "inputs = tokenizer(sentencesList[15600:15700], return_tensors=\"pt\", padding=True)\n",
    "outputs = model(**inputs)[0]\n",
    "# これで保存\n",
    "with open(\"model157.pickle\", mode=\"wb\") as f:\n",
    "    pickle.dump(outputs, f)"
   ]
  },
  {
   "cell_type": "code",
   "execution_count": 165,
   "id": "fe12ff7c",
   "metadata": {},
   "outputs": [],
   "source": [
    "inputs = tokenizer(sentencesList[15700:15800], return_tensors=\"pt\", padding=True)\n",
    "outputs = model(**inputs)[0]\n",
    "# これで保存\n",
    "with open(\"model158.pickle\", mode=\"wb\") as f:\n",
    "    pickle.dump(outputs, f)"
   ]
  },
  {
   "cell_type": "code",
   "execution_count": 152,
   "id": "d6ef2c9b",
   "metadata": {},
   "outputs": [],
   "source": [
    "inputs = tokenizer(sentencesList[15800:15900], return_tensors=\"pt\", padding=True)\n",
    "outputs = model(**inputs)[0]\n",
    "# これで保存\n",
    "with open(\"model159.pickle\", mode=\"wb\") as f:\n",
    "    pickle.dump(outputs, f)"
   ]
  },
  {
   "cell_type": "code",
   "execution_count": 166,
   "id": "f11250c4",
   "metadata": {},
   "outputs": [],
   "source": [
    "inputs = tokenizer(sentencesList[15900:16000], return_tensors=\"pt\", padding=True)\n",
    "outputs = model(**inputs)[0]\n",
    "# これで保存\n",
    "with open(\"model160.pickle\", mode=\"wb\") as f:\n",
    "    pickle.dump(outputs, f)"
   ]
  },
  {
   "cell_type": "code",
   "execution_count": 167,
   "id": "86ced9c0",
   "metadata": {},
   "outputs": [],
   "source": [
    "inputs = tokenizer(sentencesList[16000:16100], return_tensors=\"pt\", padding=True)\n",
    "outputs = model(**inputs)[0]\n",
    "# これで保存\n",
    "with open(\"model161.pickle\", mode=\"wb\") as f:\n",
    "    pickle.dump(outputs, f)"
   ]
  },
  {
   "cell_type": "code",
   "execution_count": 168,
   "id": "18b1f8e5",
   "metadata": {},
   "outputs": [],
   "source": [
    "inputs = tokenizer(sentencesList[16100:16200], return_tensors=\"pt\", padding=True)\n",
    "outputs = model(**inputs)[0]\n",
    "# これで保存\n",
    "with open(\"model162.pickle\", mode=\"wb\") as f:\n",
    "    pickle.dump(outputs, f)"
   ]
  },
  {
   "cell_type": "code",
   "execution_count": 169,
   "id": "7899f5fd",
   "metadata": {},
   "outputs": [],
   "source": [
    "inputs = tokenizer(sentencesList[16200:16300], return_tensors=\"pt\", padding=True)\n",
    "outputs = model(**inputs)[0]\n",
    "# これで保存\n",
    "with open(\"model163.pickle\", mode=\"wb\") as f:\n",
    "    pickle.dump(outputs, f)"
   ]
  },
  {
   "cell_type": "code",
   "execution_count": 170,
   "id": "98b6f7e0",
   "metadata": {},
   "outputs": [],
   "source": [
    "inputs = tokenizer(sentencesList[16300:16400], return_tensors=\"pt\", padding=True)\n",
    "outputs = model(**inputs)[0]\n",
    "# これで保存\n",
    "with open(\"model164.pickle\", mode=\"wb\") as f:\n",
    "    pickle.dump(outputs, f)"
   ]
  },
  {
   "cell_type": "code",
   "execution_count": 171,
   "id": "40c6408e",
   "metadata": {},
   "outputs": [],
   "source": [
    "inputs = tokenizer(sentencesList[16400:16500], return_tensors=\"pt\", padding=True)\n",
    "outputs = model(**inputs)[0]\n",
    "# これで保存\n",
    "with open(\"model165.pickle\", mode=\"wb\") as f:\n",
    "    pickle.dump(outputs, f)"
   ]
  },
  {
   "cell_type": "code",
   "execution_count": 172,
   "id": "9f643626",
   "metadata": {},
   "outputs": [],
   "source": [
    "inputs = tokenizer(sentencesList[16500:16600], return_tensors=\"pt\", padding=True)\n",
    "outputs = model(**inputs)[0]\n",
    "# これで保存\n",
    "with open(\"model166.pickle\", mode=\"wb\") as f:\n",
    "    pickle.dump(outputs, f)"
   ]
  },
  {
   "cell_type": "code",
   "execution_count": 173,
   "id": "5843f1a2",
   "metadata": {},
   "outputs": [],
   "source": [
    "inputs = tokenizer(sentencesList[16600:16700], return_tensors=\"pt\", padding=True)\n",
    "outputs = model(**inputs)[0]\n",
    "# これで保存\n",
    "with open(\"model167.pickle\", mode=\"wb\") as f:\n",
    "    pickle.dump(outputs, f)"
   ]
  },
  {
   "cell_type": "code",
   "execution_count": 174,
   "id": "ff842f39",
   "metadata": {},
   "outputs": [],
   "source": [
    "inputs = tokenizer(sentencesList[16700:16800], return_tensors=\"pt\", padding=True)\n",
    "outputs = model(**inputs)[0]\n",
    "# これで保存\n",
    "with open(\"model168.pickle\", mode=\"wb\") as f:\n",
    "    pickle.dump(outputs, f)"
   ]
  },
  {
   "cell_type": "code",
   "execution_count": 175,
   "id": "10cedc52",
   "metadata": {},
   "outputs": [],
   "source": [
    "inputs = tokenizer(sentencesList[16800:16900], return_tensors=\"pt\", padding=True)\n",
    "outputs = model(**inputs)[0]\n",
    "# これで保存\n",
    "with open(\"model169.pickle\", mode=\"wb\") as f:\n",
    "    pickle.dump(outputs, f)"
   ]
  },
  {
   "cell_type": "code",
   "execution_count": 176,
   "id": "fd3db213",
   "metadata": {},
   "outputs": [],
   "source": [
    "inputs = tokenizer(sentencesList[16900:17000], return_tensors=\"pt\", padding=True)\n",
    "outputs = model(**inputs)[0]\n",
    "# これで保存\n",
    "with open(\"model170.pickle\", mode=\"wb\") as f:\n",
    "    pickle.dump(outputs, f)"
   ]
  },
  {
   "cell_type": "code",
   "execution_count": 177,
   "id": "13f30769",
   "metadata": {},
   "outputs": [],
   "source": [
    "inputs = tokenizer(sentencesList[17000:17100], return_tensors=\"pt\", padding=True)\n",
    "outputs = model(**inputs)[0]\n",
    "# これで保存\n",
    "with open(\"model171.pickle\", mode=\"wb\") as f:\n",
    "    pickle.dump(outputs, f)"
   ]
  },
  {
   "cell_type": "code",
   "execution_count": 178,
   "id": "0965e7d6",
   "metadata": {},
   "outputs": [],
   "source": [
    "inputs = tokenizer(sentencesList[17100:17200], return_tensors=\"pt\", padding=True)\n",
    "outputs = model(**inputs)[0]\n",
    "# これで保存\n",
    "with open(\"model172.pickle\", mode=\"wb\") as f:\n",
    "    pickle.dump(outputs, f)"
   ]
  },
  {
   "cell_type": "code",
   "execution_count": 179,
   "id": "569320c0",
   "metadata": {},
   "outputs": [],
   "source": [
    "inputs = tokenizer(sentencesList[17200:17300], return_tensors=\"pt\", padding=True)\n",
    "outputs = model(**inputs)[0]\n",
    "# これで保存\n",
    "with open(\"model173.pickle\", mode=\"wb\") as f:\n",
    "    pickle.dump(outputs, f)"
   ]
  },
  {
   "cell_type": "code",
   "execution_count": 180,
   "id": "d815dfeb",
   "metadata": {},
   "outputs": [],
   "source": [
    "inputs = tokenizer(sentencesList[17300:17400], return_tensors=\"pt\", padding=True)\n",
    "outputs = model(**inputs)[0]\n",
    "# これで保存\n",
    "with open(\"model174.pickle\", mode=\"wb\") as f:\n",
    "    pickle.dump(outputs, f)"
   ]
  },
  {
   "cell_type": "code",
   "execution_count": 181,
   "id": "1cbf788b",
   "metadata": {},
   "outputs": [],
   "source": [
    "inputs = tokenizer(sentencesList[17400:17500], return_tensors=\"pt\", padding=True)\n",
    "outputs = model(**inputs)[0]\n",
    "# これで保存\n",
    "with open(\"model175.pickle\", mode=\"wb\") as f:\n",
    "    pickle.dump(outputs, f)"
   ]
  },
  {
   "cell_type": "code",
   "execution_count": 182,
   "id": "8b0af83f",
   "metadata": {},
   "outputs": [],
   "source": [
    "inputs = tokenizer(sentencesList[17500:17600], return_tensors=\"pt\", padding=True)\n",
    "outputs = model(**inputs)[0]\n",
    "# これで保存\n",
    "with open(\"model176.pickle\", mode=\"wb\") as f:\n",
    "    pickle.dump(outputs, f)"
   ]
  },
  {
   "cell_type": "code",
   "execution_count": 183,
   "id": "54b663a1",
   "metadata": {},
   "outputs": [],
   "source": [
    "inputs = tokenizer(sentencesList[17600:17700], return_tensors=\"pt\", padding=True)\n",
    "outputs = model(**inputs)[0]\n",
    "# これで保存\n",
    "with open(\"model177.pickle\", mode=\"wb\") as f:\n",
    "    pickle.dump(outputs, f)"
   ]
  },
  {
   "cell_type": "code",
   "execution_count": 184,
   "id": "08b74381",
   "metadata": {},
   "outputs": [],
   "source": [
    "inputs = tokenizer(sentencesList[17700:17800], return_tensors=\"pt\", padding=True)\n",
    "outputs = model(**inputs)[0]\n",
    "# これで保存\n",
    "with open(\"model178.pickle\", mode=\"wb\") as f:\n",
    "    pickle.dump(outputs, f)"
   ]
  },
  {
   "cell_type": "code",
   "execution_count": 185,
   "id": "8faef43c",
   "metadata": {},
   "outputs": [],
   "source": [
    "inputs = tokenizer(sentencesList[17800:17900], return_tensors=\"pt\", padding=True)\n",
    "outputs = model(**inputs)[0]\n",
    "# これで保存\n",
    "with open(\"model179.pickle\", mode=\"wb\") as f:\n",
    "    pickle.dump(outputs, f)"
   ]
  },
  {
   "cell_type": "code",
   "execution_count": 186,
   "id": "d24132d8",
   "metadata": {},
   "outputs": [],
   "source": [
    "inputs = tokenizer(sentencesList[17900:18000], return_tensors=\"pt\", padding=True)\n",
    "outputs = model(**inputs)[0]\n",
    "# これで保存\n",
    "with open(\"model180.pickle\", mode=\"wb\") as f:\n",
    "    pickle.dump(outputs, f)"
   ]
  },
  {
   "cell_type": "code",
   "execution_count": 187,
   "id": "1e50b853",
   "metadata": {},
   "outputs": [],
   "source": [
    "inputs = tokenizer(sentencesList[18000:18100], return_tensors=\"pt\", padding=True)\n",
    "outputs = model(**inputs)[0]\n",
    "# これで保存\n",
    "with open(\"model181.pickle\", mode=\"wb\") as f:\n",
    "    pickle.dump(outputs, f)"
   ]
  },
  {
   "cell_type": "code",
   "execution_count": 188,
   "id": "42930634",
   "metadata": {},
   "outputs": [],
   "source": [
    "inputs = tokenizer(sentencesList[18100:18200], return_tensors=\"pt\", padding=True)\n",
    "outputs = model(**inputs)[0]\n",
    "# これで保存\n",
    "with open(\"model182.pickle\", mode=\"wb\") as f:\n",
    "    pickle.dump(outputs, f)"
   ]
  },
  {
   "cell_type": "code",
   "execution_count": 189,
   "id": "bf7ae4fa",
   "metadata": {},
   "outputs": [],
   "source": [
    "inputs = tokenizer(sentencesList[18200:18300], return_tensors=\"pt\", padding=True)\n",
    "outputs = model(**inputs)[0]\n",
    "# これで保存\n",
    "with open(\"model183.pickle\", mode=\"wb\") as f:\n",
    "    pickle.dump(outputs, f)"
   ]
  },
  {
   "cell_type": "code",
   "execution_count": 191,
   "id": "9254e539",
   "metadata": {},
   "outputs": [],
   "source": [
    "inputs = tokenizer(sentencesList[18300:18400], return_tensors=\"pt\", padding=True)\n",
    "outputs = model(**inputs)[0]\n",
    "# これで保存\n",
    "with open(\"model184.pickle\", mode=\"wb\") as f:\n",
    "    pickle.dump(outputs, f)"
   ]
  },
  {
   "cell_type": "code",
   "execution_count": 192,
   "id": "6419e624",
   "metadata": {},
   "outputs": [],
   "source": [
    "inputs = tokenizer(sentencesList[18400:18500], return_tensors=\"pt\", padding=True)\n",
    "outputs = model(**inputs)[0]\n",
    "# これで保存\n",
    "with open(\"model185.pickle\", mode=\"wb\") as f:\n",
    "    pickle.dump(outputs, f)"
   ]
  },
  {
   "cell_type": "code",
   "execution_count": 193,
   "id": "b6543b16",
   "metadata": {},
   "outputs": [],
   "source": [
    "inputs = tokenizer(sentencesList[18500:18600], return_tensors=\"pt\", padding=True)\n",
    "outputs = model(**inputs)[0]\n",
    "# これで保存\n",
    "with open(\"model186.pickle\", mode=\"wb\") as f:\n",
    "    pickle.dump(outputs, f)"
   ]
  },
  {
   "cell_type": "code",
   "execution_count": null,
   "id": "f4c6de3d",
   "metadata": {},
   "outputs": [],
   "source": [
    "inputs = tokenizer(sentencesList[18600:18700], return_tensors=\"pt\", padding=True)\n",
    "outputs = model(**inputs)[0]\n",
    "# これで保存\n",
    "with open(\"model187.pickle\", mode=\"wb\") as f:\n",
    "    pickle.dump(outputs, f)"
   ]
  },
  {
   "cell_type": "code",
   "execution_count": null,
   "id": "f6ef6e49",
   "metadata": {},
   "outputs": [],
   "source": [
    "inputs = tokenizer(sentencesList[18700:18800], return_tensors=\"pt\", padding=True)\n",
    "outputs = model(**inputs)[0]\n",
    "# これで保存\n",
    "with open(\"model188.pickle\", mode=\"wb\") as f:\n",
    "    pickle.dump(outputs, f)"
   ]
  },
  {
   "cell_type": "code",
   "execution_count": null,
   "id": "0ba57264",
   "metadata": {},
   "outputs": [],
   "source": [
    "inputs = tokenizer(sentencesList[18800:18900], return_tensors=\"pt\", padding=True)\n",
    "outputs = model(**inputs)[0]\n",
    "# これで保存\n",
    "with open(\"model189.pickle\", mode=\"wb\") as f:\n",
    "    pickle.dump(outputs, f)"
   ]
  },
  {
   "cell_type": "code",
   "execution_count": null,
   "id": "657d10b6",
   "metadata": {},
   "outputs": [],
   "source": [
    "inputs = tokenizer(sentencesList[18900:19000], return_tensors=\"pt\", padding=True)\n",
    "outputs = model(**inputs)[0]\n",
    "# これで保存\n",
    "with open(\"model190.pickle\", mode=\"wb\") as f:\n",
    "    pickle.dump(outputs, f)"
   ]
  },
  {
   "cell_type": "code",
   "execution_count": null,
   "id": "97d6ac8f",
   "metadata": {},
   "outputs": [],
   "source": [
    "inputs = tokenizer(sentencesList[19000:19100], return_tensors=\"pt\", padding=True)\n",
    "outputs = model(**inputs)[0]\n",
    "# これで保存\n",
    "with open(\"model191.pickle\", mode=\"wb\") as f:\n",
    "    pickle.dump(outputs, f)"
   ]
  },
  {
   "cell_type": "code",
   "execution_count": null,
   "id": "75503c55",
   "metadata": {},
   "outputs": [],
   "source": [
    "inputs = tokenizer(sentencesList[19100:19200], return_tensors=\"pt\", padding=True)\n",
    "outputs = model(**inputs)[0]\n",
    "# これで保存\n",
    "with open(\"model192.pickle\", mode=\"wb\") as f:\n",
    "    pickle.dump(outputs, f)"
   ]
  },
  {
   "cell_type": "code",
   "execution_count": null,
   "id": "8a7e4a9b",
   "metadata": {},
   "outputs": [],
   "source": [
    "inputs = tokenizer(sentencesList[19200:19300], return_tensors=\"pt\", padding=True)\n",
    "outputs = model(**inputs)[0]\n",
    "# これで保存\n",
    "with open(\"model193.pickle\", mode=\"wb\") as f:\n",
    "    pickle.dump(outputs, f)"
   ]
  },
  {
   "cell_type": "code",
   "execution_count": null,
   "id": "d11cd06a",
   "metadata": {},
   "outputs": [],
   "source": [
    "inputs = tokenizer(sentencesList[19300:19400], return_tensors=\"pt\", padding=True)\n",
    "outputs = model(**inputs)[0]\n",
    "# これで保存\n",
    "with open(\"model194.pickle\", mode=\"wb\") as f:\n",
    "    pickle.dump(outputs, f)"
   ]
  },
  {
   "cell_type": "code",
   "execution_count": null,
   "id": "68bb8f28",
   "metadata": {},
   "outputs": [],
   "source": [
    "inputs = tokenizer(sentencesList[19400:19500], return_tensors=\"pt\", padding=True)\n",
    "outputs = model(**inputs)[0]\n",
    "# これで保存\n",
    "with open(\"model195.pickle\", mode=\"wb\") as f:\n",
    "    pickle.dump(outputs, f)"
   ]
  },
  {
   "cell_type": "code",
   "execution_count": null,
   "id": "1fc3044d",
   "metadata": {},
   "outputs": [],
   "source": [
    "inputs = tokenizer(sentencesList[19500:19600], return_tensors=\"pt\", padding=True)\n",
    "outputs = model(**inputs)[0]\n",
    "# これで保存\n",
    "with open(\"model196.pickle\", mode=\"wb\") as f:\n",
    "    pickle.dump(outputs, f)"
   ]
  },
  {
   "cell_type": "code",
   "execution_count": null,
   "id": "55c094ae",
   "metadata": {},
   "outputs": [],
   "source": [
    "inputs = tokenizer(sentencesList[19600:19700], return_tensors=\"pt\", padding=True)\n",
    "outputs = model(**inputs)[0]\n",
    "# これで保存\n",
    "with open(\"model197.pickle\", mode=\"wb\") as f:\n",
    "    pickle.dump(outputs, f)"
   ]
  },
  {
   "cell_type": "code",
   "execution_count": null,
   "id": "f6c3c008",
   "metadata": {},
   "outputs": [],
   "source": [
    "inputs = tokenizer(sentencesList[19700:19800], return_tensors=\"pt\", padding=True)\n",
    "outputs = model(**inputs)[0]\n",
    "# これで保存\n",
    "with open(\"model198.pickle\", mode=\"wb\") as f:\n",
    "    pickle.dump(outputs, f)"
   ]
  },
  {
   "cell_type": "code",
   "execution_count": null,
   "id": "248effe7",
   "metadata": {},
   "outputs": [],
   "source": [
    "inputs = tokenizer(sentencesList[19800:19900], return_tensors=\"pt\", padding=True)\n",
    "outputs = model(**inputs)[0]\n",
    "# これで保存\n",
    "with open(\"model199.pickle\", mode=\"wb\") as f:\n",
    "    pickle.dump(outputs, f)"
   ]
  },
  {
   "cell_type": "code",
   "execution_count": null,
   "id": "f753d14c",
   "metadata": {},
   "outputs": [],
   "source": [
    "inputs = tokenizer(sentencesList[19900:20000], return_tensors=\"pt\", padding=True)\n",
    "outputs = model(**inputs)[0]\n",
    "# これで保存\n",
    "with open(\"model200.pickle\", mode=\"wb\") as f:\n",
    "    pickle.dump(outputs, f)"
   ]
  },
  {
   "cell_type": "code",
   "execution_count": null,
   "id": "5665cbbf",
   "metadata": {},
   "outputs": [],
   "source": [
    "inputs = tokenizer(sentencesList[20000:20100], return_tensors=\"pt\", padding=True)\n",
    "outputs = model(**inputs)[0]\n",
    "# これで保存\n",
    "with open(\"model201.pickle\", mode=\"wb\") as f:\n",
    "    pickle.dump(outputs, f)"
   ]
  },
  {
   "cell_type": "code",
   "execution_count": null,
   "id": "7a530a43",
   "metadata": {},
   "outputs": [],
   "source": [
    "inputs = tokenizer(sentencesList[20100:20200], return_tensors=\"pt\", padding=True)\n",
    "outputs = model(**inputs)[0]\n",
    "# これで保存\n",
    "with open(\"model202.pickle\", mode=\"wb\") as f:\n",
    "    pickle.dump(outputs, f)"
   ]
  },
  {
   "cell_type": "code",
   "execution_count": null,
   "id": "323646b8",
   "metadata": {},
   "outputs": [],
   "source": [
    "inputs = tokenizer(sentencesList[20200:20300], return_tensors=\"pt\", padding=True)\n",
    "outputs = model(**inputs)[0]\n",
    "# これで保存\n",
    "with open(\"model203.pickle\", mode=\"wb\") as f:\n",
    "    pickle.dump(outputs, f)"
   ]
  },
  {
   "cell_type": "code",
   "execution_count": null,
   "id": "09e82ff8",
   "metadata": {},
   "outputs": [],
   "source": [
    "inputs = tokenizer(sentencesList[20300:20400], return_tensors=\"pt\", padding=True)\n",
    "outputs = model(**inputs)[0]\n",
    "# これで保存\n",
    "with open(\"model204.pickle\", mode=\"wb\") as f:\n",
    "    pickle.dump(outputs, f)"
   ]
  },
  {
   "cell_type": "code",
   "execution_count": null,
   "id": "bf3ed598",
   "metadata": {},
   "outputs": [],
   "source": [
    "inputs = tokenizer(sentencesList[20400:20500], return_tensors=\"pt\", padding=True)\n",
    "outputs = model(**inputs)[0]\n",
    "# これで保存\n",
    "with open(\"model205.pickle\", mode=\"wb\") as f:\n",
    "    pickle.dump(outputs, f)"
   ]
  },
  {
   "cell_type": "code",
   "execution_count": null,
   "id": "c8e800f4",
   "metadata": {},
   "outputs": [],
   "source": [
    "inputs = tokenizer(sentencesList[20500:20600], return_tensors=\"pt\", padding=True)\n",
    "outputs = model(**inputs)[0]\n",
    "# これで保存\n",
    "with open(\"model206.pickle\", mode=\"wb\") as f:\n",
    "    pickle.dump(outputs, f)"
   ]
  },
  {
   "cell_type": "code",
   "execution_count": null,
   "id": "d40b3a81",
   "metadata": {},
   "outputs": [],
   "source": [
    "inputs = tokenizer(sentencesList[20600:20700], return_tensors=\"pt\", padding=True)\n",
    "outputs = model(**inputs)[0]\n",
    "# これで保存\n",
    "with open(\"model207.pickle\", mode=\"wb\") as f:\n",
    "    pickle.dump(outputs, f)"
   ]
  },
  {
   "cell_type": "code",
   "execution_count": null,
   "id": "368adc34",
   "metadata": {},
   "outputs": [],
   "source": [
    "inputs = tokenizer(sentencesList[20700:20800], return_tensors=\"pt\", padding=True)\n",
    "outputs = model(**inputs)[0]\n",
    "# これで保存\n",
    "with open(\"model208.pickle\", mode=\"wb\") as f:\n",
    "    pickle.dump(outputs, f)"
   ]
  },
  {
   "cell_type": "code",
   "execution_count": null,
   "id": "101195d9",
   "metadata": {},
   "outputs": [],
   "source": [
    "inputs = tokenizer(sentencesList[20800:20900], return_tensors=\"pt\", padding=True)\n",
    "outputs = model(**inputs)[0]\n",
    "# これで保存\n",
    "with open(\"model209.pickle\", mode=\"wb\") as f:\n",
    "    pickle.dump(outputs, f)"
   ]
  },
  {
   "cell_type": "code",
   "execution_count": null,
   "id": "0c630e72",
   "metadata": {},
   "outputs": [],
   "source": [
    "inputs = tokenizer(sentencesList[20900:21000], return_tensors=\"pt\", padding=True)\n",
    "outputs = model(**inputs)[0]\n",
    "# これで保存\n",
    "with open(\"model210.pickle\", mode=\"wb\") as f:\n",
    "    pickle.dump(outputs, f)"
   ]
  },
  {
   "cell_type": "code",
   "execution_count": null,
   "id": "6cddff9d",
   "metadata": {},
   "outputs": [],
   "source": [
    "inputs = tokenizer(sentencesList[21000:21100], return_tensors=\"pt\", padding=True)\n",
    "outputs = model(**inputs)[0]\n",
    "# これで保存\n",
    "with open(\"model211.pickle\", mode=\"wb\") as f:\n",
    "    pickle.dump(outputs, f)"
   ]
  },
  {
   "cell_type": "code",
   "execution_count": null,
   "id": "524be294",
   "metadata": {},
   "outputs": [],
   "source": [
    "inputs = tokenizer(sentencesList[21100:21200], return_tensors=\"pt\", padding=True)\n",
    "outputs = model(**inputs)[0]\n",
    "# これで保存\n",
    "with open(\"model212.pickle\", mode=\"wb\") as f:\n",
    "    pickle.dump(outputs, f)"
   ]
  },
  {
   "cell_type": "code",
   "execution_count": null,
   "id": "4aeebf03",
   "metadata": {},
   "outputs": [],
   "source": [
    "inputs = tokenizer(sentencesList[21200:21300], return_tensors=\"pt\", padding=True)\n",
    "outputs = model(**inputs)[0]\n",
    "# これで保存\n",
    "with open(\"model213.pickle\", mode=\"wb\") as f:\n",
    "    pickle.dump(outputs, f)"
   ]
  },
  {
   "cell_type": "code",
   "execution_count": null,
   "id": "269a2ddc",
   "metadata": {},
   "outputs": [],
   "source": [
    "inputs = tokenizer(sentencesList[21300:21400], return_tensors=\"pt\", padding=True)\n",
    "outputs = model(**inputs)[0]\n",
    "# これで保存\n",
    "with open(\"model214.pickle\", mode=\"wb\") as f:\n",
    "    pickle.dump(outputs, f)"
   ]
  },
  {
   "cell_type": "code",
   "execution_count": null,
   "id": "dbe2d2cf",
   "metadata": {},
   "outputs": [],
   "source": [
    "inputs = tokenizer(sentencesList[21400:21500], return_tensors=\"pt\", padding=True)\n",
    "outputs = model(**inputs)[0]\n",
    "# これで保存\n",
    "with open(\"model215.pickle\", mode=\"wb\") as f:\n",
    "    pickle.dump(outputs, f)"
   ]
  },
  {
   "cell_type": "code",
   "execution_count": null,
   "id": "e8d29b8a",
   "metadata": {},
   "outputs": [],
   "source": [
    "inputs = tokenizer(sentencesList[21500:21600], return_tensors=\"pt\", padding=True)\n",
    "outputs = model(**inputs)[0]\n",
    "# これで保存\n",
    "with open(\"model216.pickle\", mode=\"wb\") as f:\n",
    "    pickle.dump(outputs, f)"
   ]
  },
  {
   "cell_type": "code",
   "execution_count": null,
   "id": "df3a1c9f",
   "metadata": {},
   "outputs": [],
   "source": [
    "inputs = tokenizer(sentencesList[21600:21700], return_tensors=\"pt\", padding=True)\n",
    "outputs = model(**inputs)[0]\n",
    "# これで保存\n",
    "with open(\"model217.pickle\", mode=\"wb\") as f:\n",
    "    pickle.dump(outputs, f)"
   ]
  },
  {
   "cell_type": "code",
   "execution_count": null,
   "id": "6c7671e6",
   "metadata": {},
   "outputs": [],
   "source": [
    "inputs = tokenizer(sentencesList[21700:21800], return_tensors=\"pt\", padding=True)\n",
    "outputs = model(**inputs)[0]\n",
    "# これで保存\n",
    "with open(\"model218.pickle\", mode=\"wb\") as f:\n",
    "    pickle.dump(outputs, f)"
   ]
  },
  {
   "cell_type": "code",
   "execution_count": null,
   "id": "6bdb4aff",
   "metadata": {},
   "outputs": [],
   "source": [
    "inputs = tokenizer(sentencesList[21800:21900], return_tensors=\"pt\", padding=True)\n",
    "outputs = model(**inputs)[0]\n",
    "# これで保存\n",
    "with open(\"model219.pickle\", mode=\"wb\") as f:\n",
    "    pickle.dump(outputs, f)"
   ]
  },
  {
   "cell_type": "code",
   "execution_count": null,
   "id": "55b099a1",
   "metadata": {},
   "outputs": [],
   "source": [
    "inputs = tokenizer(sentencesList[21900:22000], return_tensors=\"pt\", padding=True)\n",
    "outputs = model(**inputs)[0]\n",
    "# これで保存\n",
    "with open(\"model220.pickle\", mode=\"wb\") as f:\n",
    "    pickle.dump(outputs, f)"
   ]
  },
  {
   "cell_type": "code",
   "execution_count": null,
   "id": "bbe63b16",
   "metadata": {},
   "outputs": [],
   "source": [
    "inputs = tokenizer(sentencesList[22000:22100], return_tensors=\"pt\", padding=True)\n",
    "outputs = model(**inputs)[0]\n",
    "# これで保存\n",
    "with open(\"model221.pickle\", mode=\"wb\") as f:\n",
    "    pickle.dump(outputs, f)"
   ]
  },
  {
   "cell_type": "code",
   "execution_count": null,
   "id": "35a1af04",
   "metadata": {},
   "outputs": [],
   "source": [
    "inputs = tokenizer(sentencesList[22100:22200], return_tensors=\"pt\", padding=True)\n",
    "outputs = model(**inputs)[0]\n",
    "# これで保存\n",
    "with open(\"model222.pickle\", mode=\"wb\") as f:\n",
    "    pickle.dump(outputs, f)"
   ]
  },
  {
   "cell_type": "code",
   "execution_count": null,
   "id": "1e132d8a",
   "metadata": {},
   "outputs": [],
   "source": [
    "inputs = tokenizer(sentencesList[22200:22300], return_tensors=\"pt\", padding=True)\n",
    "outputs = model(**inputs)[0]\n",
    "# これで保存\n",
    "with open(\"model223.pickle\", mode=\"wb\") as f:\n",
    "    pickle.dump(outputs, f)"
   ]
  },
  {
   "cell_type": "code",
   "execution_count": null,
   "id": "da0f5403",
   "metadata": {},
   "outputs": [],
   "source": [
    "inputs = tokenizer(sentencesList[22300:22400], return_tensors=\"pt\", padding=True)\n",
    "outputs = model(**inputs)[0]\n",
    "# これで保存\n",
    "with open(\"model224.pickle\", mode=\"wb\") as f:\n",
    "    pickle.dump(outputs, f)"
   ]
  },
  {
   "cell_type": "code",
   "execution_count": null,
   "id": "293370ee",
   "metadata": {},
   "outputs": [],
   "source": [
    "inputs = tokenizer(sentencesList[22400:22500], return_tensors=\"pt\", padding=True)\n",
    "outputs = model(**inputs)[0]\n",
    "# これで保存\n",
    "with open(\"model225.pickle\", mode=\"wb\") as f:\n",
    "    pickle.dump(outputs, f)"
   ]
  },
  {
   "cell_type": "code",
   "execution_count": null,
   "id": "aac106f4",
   "metadata": {},
   "outputs": [],
   "source": [
    "inputs = tokenizer(sentencesList[22500:22600], return_tensors=\"pt\", padding=True)\n",
    "outputs = model(**inputs)[0]\n",
    "# これで保存\n",
    "with open(\"model226.pickle\", mode=\"wb\") as f:\n",
    "    pickle.dump(outputs, f)"
   ]
  },
  {
   "cell_type": "code",
   "execution_count": null,
   "id": "bff94616",
   "metadata": {},
   "outputs": [],
   "source": [
    "inputs = tokenizer(sentencesList[22600:22700], return_tensors=\"pt\", padding=True)\n",
    "outputs = model(**inputs)[0]\n",
    "# これで保存\n",
    "with open(\"model227.pickle\", mode=\"wb\") as f:\n",
    "    pickle.dump(outputs, f)"
   ]
  },
  {
   "cell_type": "code",
   "execution_count": null,
   "id": "7963e0cd",
   "metadata": {},
   "outputs": [],
   "source": [
    "inputs = tokenizer(sentencesList[22700:22800], return_tensors=\"pt\", padding=True)\n",
    "outputs = model(**inputs)[0]\n",
    "# これで保存\n",
    "with open(\"model228.pickle\", mode=\"wb\") as f:\n",
    "    pickle.dump(outputs, f)"
   ]
  },
  {
   "cell_type": "code",
   "execution_count": null,
   "id": "839a0dcb",
   "metadata": {},
   "outputs": [],
   "source": [
    "inputs = tokenizer(sentencesList[22800:22900], return_tensors=\"pt\", padding=True)\n",
    "outputs = model(**inputs)[0]\n",
    "# これで保存\n",
    "with open(\"model229.pickle\", mode=\"wb\") as f:\n",
    "    pickle.dump(outputs, f)"
   ]
  },
  {
   "cell_type": "code",
   "execution_count": null,
   "id": "8f0b28ed",
   "metadata": {},
   "outputs": [],
   "source": [
    "inputs = tokenizer(sentencesList[22900:23000], return_tensors=\"pt\", padding=True)\n",
    "outputs = model(**inputs)[0]\n",
    "# これで保存\n",
    "with open(\"model230.pickle\", mode=\"wb\") as f:\n",
    "    pickle.dump(outputs, f)"
   ]
  },
  {
   "cell_type": "code",
   "execution_count": null,
   "id": "46ae3b64",
   "metadata": {},
   "outputs": [],
   "source": [
    "inputs = tokenizer(sentencesList[23000:23100], return_tensors=\"pt\", padding=True)\n",
    "outputs = model(**inputs)[0]\n",
    "# これで保存\n",
    "with open(\"model231.pickle\", mode=\"wb\") as f:\n",
    "    pickle.dump(outputs, f)"
   ]
  },
  {
   "cell_type": "code",
   "execution_count": null,
   "id": "e4a74cb5",
   "metadata": {},
   "outputs": [],
   "source": [
    "inputs = tokenizer(sentencesList[23100:23200], return_tensors=\"pt\", padding=True)\n",
    "outputs = model(**inputs)[0]\n",
    "# これで保存\n",
    "with open(\"model232.pickle\", mode=\"wb\") as f:\n",
    "    pickle.dump(outputs, f)"
   ]
  },
  {
   "cell_type": "code",
   "execution_count": null,
   "id": "f6240314",
   "metadata": {},
   "outputs": [],
   "source": [
    "inputs = tokenizer(sentencesList[23200:23300], return_tensors=\"pt\", padding=True)\n",
    "outputs = model(**inputs)[0]\n",
    "# これで保存\n",
    "with open(\"model233.pickle\", mode=\"wb\") as f:\n",
    "    pickle.dump(outputs, f)"
   ]
  },
  {
   "cell_type": "code",
   "execution_count": null,
   "id": "1ee399cf",
   "metadata": {},
   "outputs": [],
   "source": [
    "inputs = tokenizer(sentencesList[23300:23400], return_tensors=\"pt\", padding=True)\n",
    "outputs = model(**inputs)[0]\n",
    "# これで保存\n",
    "with open(\"model234.pickle\", mode=\"wb\") as f:\n",
    "    pickle.dump(outputs, f)"
   ]
  },
  {
   "cell_type": "code",
   "execution_count": null,
   "id": "4f69358c",
   "metadata": {},
   "outputs": [],
   "source": [
    "inputs = tokenizer(sentencesList[23400:23500], return_tensors=\"pt\", padding=True)\n",
    "outputs = model(**inputs)[0]\n",
    "# これで保存\n",
    "with open(\"model235.pickle\", mode=\"wb\") as f:\n",
    "    pickle.dump(outputs, f)"
   ]
  },
  {
   "cell_type": "code",
   "execution_count": null,
   "id": "5059a235",
   "metadata": {},
   "outputs": [],
   "source": [
    "inputs = tokenizer(sentencesList[23500:23600], return_tensors=\"pt\", padding=True)\n",
    "outputs = model(**inputs)[0]\n",
    "# これで保存\n",
    "with open(\"model236.pickle\", mode=\"wb\") as f:\n",
    "    pickle.dump(outputs, f)"
   ]
  },
  {
   "cell_type": "code",
   "execution_count": null,
   "id": "c9e13e55",
   "metadata": {},
   "outputs": [],
   "source": [
    "inputs = tokenizer(sentencesList[23600:23700], return_tensors=\"pt\", padding=True)\n",
    "outputs = model(**inputs)[0]\n",
    "# これで保存\n",
    "with open(\"model237.pickle\", mode=\"wb\") as f:\n",
    "    pickle.dump(outputs, f)"
   ]
  },
  {
   "cell_type": "code",
   "execution_count": null,
   "id": "2673d70e",
   "metadata": {},
   "outputs": [],
   "source": [
    "inputs = tokenizer(sentencesList[23700:23800], return_tensors=\"pt\", padding=True)\n",
    "outputs = model(**inputs)[0]\n",
    "# これで保存\n",
    "with open(\"model238.pickle\", mode=\"wb\") as f:\n",
    "    pickle.dump(outputs, f)"
   ]
  },
  {
   "cell_type": "code",
   "execution_count": null,
   "id": "718c99ac",
   "metadata": {},
   "outputs": [],
   "source": [
    "inputs = tokenizer(sentencesList[23800:23900], return_tensors=\"pt\", padding=True)\n",
    "outputs = model(**inputs)[0]\n",
    "# これで保存\n",
    "with open(\"model239.pickle\", mode=\"wb\") as f:\n",
    "    pickle.dump(outputs, f)"
   ]
  },
  {
   "cell_type": "code",
   "execution_count": null,
   "id": "4834311f",
   "metadata": {},
   "outputs": [],
   "source": [
    "inputs = tokenizer(sentencesList[23900:24000], return_tensors=\"pt\", padding=True)\n",
    "outputs = model(**inputs)[0]\n",
    "# これで保存\n",
    "with open(\"model240.pickle\", mode=\"wb\") as f:\n",
    "    pickle.dump(outputs, f)"
   ]
  },
  {
   "cell_type": "code",
   "execution_count": 6,
   "id": "3fa74775",
   "metadata": {},
   "outputs": [],
   "source": [
    "inputs = tokenizer(sentencesList[24000:24100], return_tensors=\"pt\", padding=True)\n",
    "outputs = model(**inputs)[0]\n",
    "# これで保存\n",
    "with open(\"model241.pickle\", mode=\"wb\") as f:\n",
    "    pickle.dump(outputs, f)"
   ]
  },
  {
   "cell_type": "code",
   "execution_count": 7,
   "id": "33678eae",
   "metadata": {},
   "outputs": [],
   "source": [
    "inputs = tokenizer(sentencesList[24100:24200], return_tensors=\"pt\", padding=True)\n",
    "outputs = model(**inputs)[0]\n",
    "# これで保存\n",
    "with open(\"model242.pickle\", mode=\"wb\") as f:\n",
    "    pickle.dump(outputs, f)"
   ]
  },
  {
   "cell_type": "code",
   "execution_count": 8,
   "id": "a3c5436b",
   "metadata": {},
   "outputs": [],
   "source": [
    "inputs = tokenizer(sentencesList[24200:24300], return_tensors=\"pt\", padding=True)\n",
    "outputs = model(**inputs)[0]\n",
    "# これで保存\n",
    "with open(\"model243.pickle\", mode=\"wb\") as f:\n",
    "    pickle.dump(outputs, f)"
   ]
  },
  {
   "cell_type": "code",
   "execution_count": 9,
   "id": "7ce152bf",
   "metadata": {},
   "outputs": [],
   "source": [
    "inputs = tokenizer(sentencesList[24300:24400], return_tensors=\"pt\", padding=True)\n",
    "outputs = model(**inputs)[0]\n",
    "# これで保存\n",
    "with open(\"model244.pickle\", mode=\"wb\") as f:\n",
    "    pickle.dump(outputs, f)"
   ]
  },
  {
   "cell_type": "code",
   "execution_count": 10,
   "id": "a23658a4",
   "metadata": {},
   "outputs": [],
   "source": [
    "inputs = tokenizer(sentencesList[24400:24500], return_tensors=\"pt\", padding=True)\n",
    "outputs = model(**inputs)[0]\n",
    "# これで保存\n",
    "with open(\"model245.pickle\", mode=\"wb\") as f:\n",
    "    pickle.dump(outputs, f)"
   ]
  },
  {
   "cell_type": "code",
   "execution_count": 11,
   "id": "525eada7",
   "metadata": {},
   "outputs": [],
   "source": [
    "inputs = tokenizer(sentencesList[24500:24600], return_tensors=\"pt\", padding=True)\n",
    "outputs = model(**inputs)[0]\n",
    "# これで保存\n",
    "with open(\"model246.pickle\", mode=\"wb\") as f:\n",
    "    pickle.dump(outputs, f)"
   ]
  },
  {
   "cell_type": "code",
   "execution_count": 12,
   "id": "9b187a1e",
   "metadata": {},
   "outputs": [],
   "source": [
    "inputs = tokenizer(sentencesList[24600:24700], return_tensors=\"pt\", padding=True)\n",
    "outputs = model(**inputs)[0]\n",
    "# これで保存\n",
    "with open(\"model247.pickle\", mode=\"wb\") as f:\n",
    "    pickle.dump(outputs, f)"
   ]
  },
  {
   "cell_type": "code",
   "execution_count": 13,
   "id": "4318b6a5",
   "metadata": {},
   "outputs": [],
   "source": [
    "inputs = tokenizer(sentencesList[24700:24800], return_tensors=\"pt\", padding=True)\n",
    "outputs = model(**inputs)[0]\n",
    "# これで保存\n",
    "with open(\"model248.pickle\", mode=\"wb\") as f:\n",
    "    pickle.dump(outputs, f)"
   ]
  },
  {
   "cell_type": "code",
   "execution_count": 14,
   "id": "0a225b44",
   "metadata": {},
   "outputs": [],
   "source": [
    "inputs = tokenizer(sentencesList[24800:24900], return_tensors=\"pt\", padding=True)\n",
    "outputs = model(**inputs)[0]\n",
    "# これで保存\n",
    "with open(\"model249.pickle\", mode=\"wb\") as f:\n",
    "    pickle.dump(outputs, f)"
   ]
  },
  {
   "cell_type": "code",
   "execution_count": 15,
   "id": "34e3f187",
   "metadata": {},
   "outputs": [],
   "source": [
    "inputs = tokenizer(sentencesList[24900:25000], return_tensors=\"pt\", padding=True)\n",
    "outputs = model(**inputs)[0]\n",
    "# これで保存\n",
    "with open(\"model250.pickle\", mode=\"wb\") as f:\n",
    "    pickle.dump(outputs, f)"
   ]
  },
  {
   "cell_type": "code",
   "execution_count": 16,
   "id": "d982afde",
   "metadata": {},
   "outputs": [],
   "source": [
    "inputs = tokenizer(sentencesList[25000:25100], return_tensors=\"pt\", padding=True)\n",
    "outputs = model(**inputs)[0]\n",
    "# これで保存\n",
    "with open(\"model251.pickle\", mode=\"wb\") as f:\n",
    "    pickle.dump(outputs, f)"
   ]
  },
  {
   "cell_type": "code",
   "execution_count": 17,
   "id": "dce9ea94",
   "metadata": {},
   "outputs": [],
   "source": [
    "inputs = tokenizer(sentencesList[25100:25200], return_tensors=\"pt\", padding=True)\n",
    "outputs = model(**inputs)[0]\n",
    "# これで保存\n",
    "with open(\"model252.pickle\", mode=\"wb\") as f:\n",
    "    pickle.dump(outputs, f)"
   ]
  },
  {
   "cell_type": "code",
   "execution_count": 18,
   "id": "6ce2ed3f",
   "metadata": {},
   "outputs": [],
   "source": [
    "inputs = tokenizer(sentencesList[25200:25300], return_tensors=\"pt\", padding=True)\n",
    "outputs = model(**inputs)[0]\n",
    "# これで保存\n",
    "with open(\"model253.pickle\", mode=\"wb\") as f:\n",
    "    pickle.dump(outputs, f)"
   ]
  },
  {
   "cell_type": "code",
   "execution_count": 19,
   "id": "44f42078",
   "metadata": {},
   "outputs": [],
   "source": [
    "inputs = tokenizer(sentencesList[25300:25400], return_tensors=\"pt\", padding=True)\n",
    "outputs = model(**inputs)[0]\n",
    "# これで保存\n",
    "with open(\"model254.pickle\", mode=\"wb\") as f:\n",
    "    pickle.dump(outputs, f)"
   ]
  },
  {
   "cell_type": "code",
   "execution_count": 20,
   "id": "5a04c72d",
   "metadata": {},
   "outputs": [],
   "source": [
    "inputs = tokenizer(sentencesList[25400:25500], return_tensors=\"pt\", padding=True)\n",
    "outputs = model(**inputs)[0]\n",
    "# これで保存\n",
    "with open(\"model255.pickle\", mode=\"wb\") as f:\n",
    "    pickle.dump(outputs, f)"
   ]
  },
  {
   "cell_type": "code",
   "execution_count": 21,
   "id": "40d1f7dc",
   "metadata": {},
   "outputs": [],
   "source": [
    "inputs = tokenizer(sentencesList[25500:25600], return_tensors=\"pt\", padding=True)\n",
    "outputs = model(**inputs)[0]\n",
    "# これで保存\n",
    "with open(\"model256.pickle\", mode=\"wb\") as f:\n",
    "    pickle.dump(outputs, f)"
   ]
  },
  {
   "cell_type": "code",
   "execution_count": 22,
   "id": "3decde9d",
   "metadata": {},
   "outputs": [],
   "source": [
    "inputs = tokenizer(sentencesList[25600:25700], return_tensors=\"pt\", padding=True)\n",
    "outputs = model(**inputs)[0]\n",
    "# これで保存\n",
    "with open(\"model257.pickle\", mode=\"wb\") as f:\n",
    "    pickle.dump(outputs, f)"
   ]
  },
  {
   "cell_type": "code",
   "execution_count": 23,
   "id": "c3920388",
   "metadata": {},
   "outputs": [],
   "source": [
    "inputs = tokenizer(sentencesList[25700:25800], return_tensors=\"pt\", padding=True)\n",
    "outputs = model(**inputs)[0]\n",
    "# これで保存\n",
    "with open(\"model258.pickle\", mode=\"wb\") as f:\n",
    "    pickle.dump(outputs, f)"
   ]
  },
  {
   "cell_type": "code",
   "execution_count": 24,
   "id": "10a7f5c3",
   "metadata": {},
   "outputs": [],
   "source": [
    "inputs = tokenizer(sentencesList[25800:25900], return_tensors=\"pt\", padding=True)\n",
    "outputs = model(**inputs)[0]\n",
    "# これで保存\n",
    "with open(\"model259.pickle\", mode=\"wb\") as f:\n",
    "    pickle.dump(outputs, f)"
   ]
  },
  {
   "cell_type": "code",
   "execution_count": 25,
   "id": "78e90c5e",
   "metadata": {},
   "outputs": [],
   "source": [
    "inputs = tokenizer(sentencesList[25900:26000], return_tensors=\"pt\", padding=True)\n",
    "outputs = model(**inputs)[0]\n",
    "# これで保存\n",
    "with open(\"model260.pickle\", mode=\"wb\") as f:\n",
    "    pickle.dump(outputs, f)"
   ]
  },
  {
   "cell_type": "code",
   "execution_count": 26,
   "id": "9ff4ab3f",
   "metadata": {},
   "outputs": [],
   "source": [
    "inputs = tokenizer(sentencesList[26000:26100], return_tensors=\"pt\", padding=True)\n",
    "outputs = model(**inputs)[0]\n",
    "# これで保存\n",
    "with open(\"model261.pickle\", mode=\"wb\") as f:\n",
    "    pickle.dump(outputs, f)"
   ]
  },
  {
   "cell_type": "code",
   "execution_count": 27,
   "id": "d4cdf780",
   "metadata": {},
   "outputs": [],
   "source": [
    "inputs = tokenizer(sentencesList[26100:26200], return_tensors=\"pt\", padding=True)\n",
    "outputs = model(**inputs)[0]\n",
    "# これで保存\n",
    "with open(\"model262.pickle\", mode=\"wb\") as f:\n",
    "    pickle.dump(outputs, f)"
   ]
  },
  {
   "cell_type": "code",
   "execution_count": 28,
   "id": "edc0677d",
   "metadata": {},
   "outputs": [],
   "source": [
    "inputs = tokenizer(sentencesList[26200:26300], return_tensors=\"pt\", padding=True)\n",
    "outputs = model(**inputs)[0]\n",
    "# これで保存\n",
    "with open(\"model263.pickle\", mode=\"wb\") as f:\n",
    "    pickle.dump(outputs, f)"
   ]
  },
  {
   "cell_type": "code",
   "execution_count": 29,
   "id": "ecb8d4bf",
   "metadata": {},
   "outputs": [],
   "source": [
    "inputs = tokenizer(sentencesList[26300:26400], return_tensors=\"pt\", padding=True)\n",
    "outputs = model(**inputs)[0]\n",
    "# これで保存\n",
    "with open(\"model264.pickle\", mode=\"wb\") as f:\n",
    "    pickle.dump(outputs, f)"
   ]
  },
  {
   "cell_type": "code",
   "execution_count": 30,
   "id": "da8b4bb7",
   "metadata": {},
   "outputs": [],
   "source": [
    "inputs = tokenizer(sentencesList[26400:26500], return_tensors=\"pt\", padding=True)\n",
    "outputs = model(**inputs)[0]\n",
    "# これで保存\n",
    "with open(\"model265.pickle\", mode=\"wb\") as f:\n",
    "    pickle.dump(outputs, f)"
   ]
  },
  {
   "cell_type": "code",
   "execution_count": 31,
   "id": "2d2b57c8",
   "metadata": {},
   "outputs": [],
   "source": [
    "inputs = tokenizer(sentencesList[26500:26600], return_tensors=\"pt\", padding=True)\n",
    "outputs = model(**inputs)[0]\n",
    "# これで保存\n",
    "with open(\"model266.pickle\", mode=\"wb\") as f:\n",
    "    pickle.dump(outputs, f)"
   ]
  },
  {
   "cell_type": "code",
   "execution_count": 32,
   "id": "14ff096f",
   "metadata": {},
   "outputs": [],
   "source": [
    "inputs = tokenizer(sentencesList[26600:26700], return_tensors=\"pt\", padding=True)\n",
    "outputs = model(**inputs)[0]\n",
    "# これで保存\n",
    "with open(\"model267.pickle\", mode=\"wb\") as f:\n",
    "    pickle.dump(outputs, f)"
   ]
  },
  {
   "cell_type": "code",
   "execution_count": 33,
   "id": "b12588a9",
   "metadata": {},
   "outputs": [],
   "source": [
    "inputs = tokenizer(sentencesList[26700:26800], return_tensors=\"pt\", padding=True)\n",
    "outputs = model(**inputs)[0]\n",
    "# これで保存\n",
    "with open(\"model268.pickle\", mode=\"wb\") as f:\n",
    "    pickle.dump(outputs, f)"
   ]
  },
  {
   "cell_type": "code",
   "execution_count": 34,
   "id": "65bcb57d",
   "metadata": {},
   "outputs": [],
   "source": [
    "inputs = tokenizer(sentencesList[26800:26900], return_tensors=\"pt\", padding=True)\n",
    "outputs = model(**inputs)[0]\n",
    "# これで保存\n",
    "with open(\"model269.pickle\", mode=\"wb\") as f:\n",
    "    pickle.dump(outputs, f)"
   ]
  },
  {
   "cell_type": "code",
   "execution_count": 35,
   "id": "8a6a8c15",
   "metadata": {},
   "outputs": [],
   "source": [
    "inputs = tokenizer(sentencesList[26900:27000], return_tensors=\"pt\", padding=True)\n",
    "outputs = model(**inputs)[0]\n",
    "# これで保存\n",
    "with open(\"model270.pickle\", mode=\"wb\") as f:\n",
    "    pickle.dump(outputs, f)"
   ]
  },
  {
   "cell_type": "code",
   "execution_count": 36,
   "id": "9f87487f",
   "metadata": {},
   "outputs": [],
   "source": [
    "inputs = tokenizer(sentencesList[27000:27100], return_tensors=\"pt\", padding=True)\n",
    "outputs = model(**inputs)[0]\n",
    "# これで保存\n",
    "with open(\"model271.pickle\", mode=\"wb\") as f:\n",
    "    pickle.dump(outputs, f)"
   ]
  },
  {
   "cell_type": "code",
   "execution_count": 37,
   "id": "ef11c9bc",
   "metadata": {},
   "outputs": [],
   "source": [
    "inputs = tokenizer(sentencesList[27100:27200], return_tensors=\"pt\", padding=True)\n",
    "outputs = model(**inputs)[0]\n",
    "# これで保存\n",
    "with open(\"model272.pickle\", mode=\"wb\") as f:\n",
    "    pickle.dump(outputs, f)"
   ]
  },
  {
   "cell_type": "code",
   "execution_count": 38,
   "id": "cf09b132",
   "metadata": {},
   "outputs": [],
   "source": [
    "inputs = tokenizer(sentencesList[27200:27300], return_tensors=\"pt\", padding=True)\n",
    "outputs = model(**inputs)[0]\n",
    "# これで保存\n",
    "with open(\"model273.pickle\", mode=\"wb\") as f:\n",
    "    pickle.dump(outputs, f)"
   ]
  },
  {
   "cell_type": "code",
   "execution_count": 39,
   "id": "ccb8e626",
   "metadata": {},
   "outputs": [],
   "source": [
    "inputs = tokenizer(sentencesList[27300:27400], return_tensors=\"pt\", padding=True)\n",
    "outputs = model(**inputs)[0]\n",
    "# これで保存\n",
    "with open(\"model274.pickle\", mode=\"wb\") as f:\n",
    "    pickle.dump(outputs, f)"
   ]
  },
  {
   "cell_type": "code",
   "execution_count": 40,
   "id": "61adc1be",
   "metadata": {},
   "outputs": [],
   "source": [
    "inputs = tokenizer(sentencesList[27400:27500], return_tensors=\"pt\", padding=True)\n",
    "outputs = model(**inputs)[0]\n",
    "# これで保存\n",
    "with open(\"model275.pickle\", mode=\"wb\") as f:\n",
    "    pickle.dump(outputs, f)"
   ]
  },
  {
   "cell_type": "code",
   "execution_count": 41,
   "id": "1728b0cc",
   "metadata": {},
   "outputs": [],
   "source": [
    "inputs = tokenizer(sentencesList[27500:27600], return_tensors=\"pt\", padding=True)\n",
    "outputs = model(**inputs)[0]\n",
    "# これで保存\n",
    "with open(\"model276.pickle\", mode=\"wb\") as f:\n",
    "    pickle.dump(outputs, f)"
   ]
  },
  {
   "cell_type": "code",
   "execution_count": 42,
   "id": "db5e4209",
   "metadata": {},
   "outputs": [],
   "source": [
    "inputs = tokenizer(sentencesList[27600:27700], return_tensors=\"pt\", padding=True)\n",
    "outputs = model(**inputs)[0]\n",
    "# これで保存\n",
    "with open(\"model277.pickle\", mode=\"wb\") as f:\n",
    "    pickle.dump(outputs, f)"
   ]
  },
  {
   "cell_type": "code",
   "execution_count": 43,
   "id": "faca6231",
   "metadata": {},
   "outputs": [],
   "source": [
    "inputs = tokenizer(sentencesList[27700:27800], return_tensors=\"pt\", padding=True)\n",
    "outputs = model(**inputs)[0]\n",
    "# これで保存\n",
    "with open(\"model278.pickle\", mode=\"wb\") as f:\n",
    "    pickle.dump(outputs, f)"
   ]
  },
  {
   "cell_type": "code",
   "execution_count": 44,
   "id": "df0c63c1",
   "metadata": {},
   "outputs": [],
   "source": [
    "inputs = tokenizer(sentencesList[27800:27900], return_tensors=\"pt\", padding=True)\n",
    "outputs = model(**inputs)[0]\n",
    "# これで保存\n",
    "with open(\"model279.pickle\", mode=\"wb\") as f:\n",
    "    pickle.dump(outputs, f)"
   ]
  },
  {
   "cell_type": "code",
   "execution_count": 45,
   "id": "1a3be5af",
   "metadata": {},
   "outputs": [],
   "source": [
    "inputs = tokenizer(sentencesList[27900:28000], return_tensors=\"pt\", padding=True)\n",
    "outputs = model(**inputs)[0]\n",
    "# これで保存\n",
    "with open(\"model280.pickle\", mode=\"wb\") as f:\n",
    "    pickle.dump(outputs, f)"
   ]
  },
  {
   "cell_type": "code",
   "execution_count": 46,
   "id": "19cf944e",
   "metadata": {},
   "outputs": [],
   "source": [
    "inputs = tokenizer(sentencesList[28000:28100], return_tensors=\"pt\", padding=True)\n",
    "outputs = model(**inputs)[0]\n",
    "# これで保存\n",
    "with open(\"model281.pickle\", mode=\"wb\") as f:\n",
    "    pickle.dump(outputs, f)"
   ]
  },
  {
   "cell_type": "code",
   "execution_count": 47,
   "id": "21401247",
   "metadata": {},
   "outputs": [],
   "source": [
    "inputs = tokenizer(sentencesList[28100:28200], return_tensors=\"pt\", padding=True)\n",
    "outputs = model(**inputs)[0]\n",
    "# これで保存\n",
    "with open(\"model282.pickle\", mode=\"wb\") as f:\n",
    "    pickle.dump(outputs, f)"
   ]
  },
  {
   "cell_type": "code",
   "execution_count": 48,
   "id": "f7bf9578",
   "metadata": {},
   "outputs": [],
   "source": [
    "inputs = tokenizer(sentencesList[28200:28300], return_tensors=\"pt\", padding=True)\n",
    "outputs = model(**inputs)[0]\n",
    "# これで保存\n",
    "with open(\"model283.pickle\", mode=\"wb\") as f:\n",
    "    pickle.dump(outputs, f)"
   ]
  },
  {
   "cell_type": "code",
   "execution_count": 49,
   "id": "ac18b578",
   "metadata": {},
   "outputs": [],
   "source": [
    "inputs = tokenizer(sentencesList[28300:28400], return_tensors=\"pt\", padding=True)\n",
    "outputs = model(**inputs)[0]\n",
    "# これで保存\n",
    "with open(\"model284.pickle\", mode=\"wb\") as f:\n",
    "    pickle.dump(outputs, f)"
   ]
  },
  {
   "cell_type": "code",
   "execution_count": 50,
   "id": "e726a95e",
   "metadata": {},
   "outputs": [],
   "source": [
    "inputs = tokenizer(sentencesList[28400:28500], return_tensors=\"pt\", padding=True)\n",
    "outputs = model(**inputs)[0]\n",
    "# これで保存\n",
    "with open(\"model285.pickle\", mode=\"wb\") as f:\n",
    "    pickle.dump(outputs, f)"
   ]
  },
  {
   "cell_type": "code",
   "execution_count": 51,
   "id": "88cbee6c",
   "metadata": {},
   "outputs": [],
   "source": [
    "inputs = tokenizer(sentencesList[28500:28600], return_tensors=\"pt\", padding=True)\n",
    "outputs = model(**inputs)[0]\n",
    "# これで保存\n",
    "with open(\"model286.pickle\", mode=\"wb\") as f:\n",
    "    pickle.dump(outputs, f)"
   ]
  },
  {
   "cell_type": "code",
   "execution_count": 52,
   "id": "f4850d71",
   "metadata": {},
   "outputs": [],
   "source": [
    "inputs = tokenizer(sentencesList[28600:28700], return_tensors=\"pt\", padding=True)\n",
    "outputs = model(**inputs)[0]\n",
    "# これで保存\n",
    "with open(\"model287.pickle\", mode=\"wb\") as f:\n",
    "    pickle.dump(outputs, f)"
   ]
  },
  {
   "cell_type": "code",
   "execution_count": 53,
   "id": "da1e494d",
   "metadata": {},
   "outputs": [],
   "source": [
    "inputs = tokenizer(sentencesList[28700:28800], return_tensors=\"pt\", padding=True)\n",
    "outputs = model(**inputs)[0]\n",
    "# これで保存\n",
    "with open(\"model288.pickle\", mode=\"wb\") as f:\n",
    "    pickle.dump(outputs, f)"
   ]
  },
  {
   "cell_type": "code",
   "execution_count": 54,
   "id": "998f19a7",
   "metadata": {},
   "outputs": [],
   "source": [
    "inputs = tokenizer(sentencesList[28800:28900], return_tensors=\"pt\", padding=True)\n",
    "outputs = model(**inputs)[0]\n",
    "# これで保存\n",
    "with open(\"model289.pickle\", mode=\"wb\") as f:\n",
    "    pickle.dump(outputs, f)"
   ]
  },
  {
   "cell_type": "code",
   "execution_count": 55,
   "id": "44aed5e3",
   "metadata": {},
   "outputs": [],
   "source": [
    "inputs = tokenizer(sentencesList[28900:29000], return_tensors=\"pt\", padding=True)\n",
    "outputs = model(**inputs)[0]\n",
    "# これで保存\n",
    "with open(\"model290.pickle\", mode=\"wb\") as f:\n",
    "    pickle.dump(outputs, f)"
   ]
  },
  {
   "cell_type": "code",
   "execution_count": 56,
   "id": "4372a0b7",
   "metadata": {},
   "outputs": [],
   "source": [
    "inputs = tokenizer(sentencesList[29000:29100], return_tensors=\"pt\", padding=True)\n",
    "outputs = model(**inputs)[0]\n",
    "# これで保存\n",
    "with open(\"model291.pickle\", mode=\"wb\") as f:\n",
    "    pickle.dump(outputs, f)"
   ]
  },
  {
   "cell_type": "code",
   "execution_count": 57,
   "id": "5fd214c0",
   "metadata": {},
   "outputs": [],
   "source": [
    "inputs = tokenizer(sentencesList[29100:29200], return_tensors=\"pt\", padding=True)\n",
    "outputs = model(**inputs)[0]\n",
    "# これで保存\n",
    "with open(\"model292.pickle\", mode=\"wb\") as f:\n",
    "    pickle.dump(outputs, f)"
   ]
  },
  {
   "cell_type": "code",
   "execution_count": 58,
   "id": "790c0fa8",
   "metadata": {},
   "outputs": [],
   "source": [
    "inputs = tokenizer(sentencesList[29200:29300], return_tensors=\"pt\", padding=True)\n",
    "outputs = model(**inputs)[0]\n",
    "# これで保存\n",
    "with open(\"model293.pickle\", mode=\"wb\") as f:\n",
    "    pickle.dump(outputs, f)"
   ]
  },
  {
   "cell_type": "code",
   "execution_count": 59,
   "id": "c05929ea",
   "metadata": {},
   "outputs": [],
   "source": [
    "inputs = tokenizer(sentencesList[29300:29400], return_tensors=\"pt\", padding=True)\n",
    "outputs = model(**inputs)[0]\n",
    "# これで保存\n",
    "with open(\"model294.pickle\", mode=\"wb\") as f:\n",
    "    pickle.dump(outputs, f)"
   ]
  },
  {
   "cell_type": "code",
   "execution_count": 60,
   "id": "856231a6",
   "metadata": {},
   "outputs": [],
   "source": [
    "inputs = tokenizer(sentencesList[29400:29500], return_tensors=\"pt\", padding=True)\n",
    "outputs = model(**inputs)[0]\n",
    "# これで保存\n",
    "with open(\"model295.pickle\", mode=\"wb\") as f:\n",
    "    pickle.dump(outputs, f)"
   ]
  },
  {
   "cell_type": "code",
   "execution_count": 61,
   "id": "8bc4dbec",
   "metadata": {},
   "outputs": [],
   "source": [
    "inputs = tokenizer(sentencesList[29500:29600], return_tensors=\"pt\", padding=True)\n",
    "outputs = model(**inputs)[0]\n",
    "# これで保存\n",
    "with open(\"model296.pickle\", mode=\"wb\") as f:\n",
    "    pickle.dump(outputs, f)"
   ]
  },
  {
   "cell_type": "code",
   "execution_count": 62,
   "id": "111bc3b1",
   "metadata": {},
   "outputs": [],
   "source": [
    "inputs = tokenizer(sentencesList[29600:29700], return_tensors=\"pt\", padding=True)\n",
    "outputs = model(**inputs)[0]\n",
    "# これで保存\n",
    "with open(\"model297.pickle\", mode=\"wb\") as f:\n",
    "    pickle.dump(outputs, f)"
   ]
  },
  {
   "cell_type": "code",
   "execution_count": 63,
   "id": "42c214f9",
   "metadata": {},
   "outputs": [],
   "source": [
    "inputs = tokenizer(sentencesList[29700:29800], return_tensors=\"pt\", padding=True)\n",
    "outputs = model(**inputs)[0]\n",
    "# これで保存\n",
    "with open(\"model298.pickle\", mode=\"wb\") as f:\n",
    "    pickle.dump(outputs, f)"
   ]
  },
  {
   "cell_type": "code",
   "execution_count": 64,
   "id": "d4cb76dc",
   "metadata": {},
   "outputs": [],
   "source": [
    "inputs = tokenizer(sentencesList[29800:29900], return_tensors=\"pt\", padding=True)\n",
    "outputs = model(**inputs)[0]\n",
    "# これで保存\n",
    "with open(\"model299.pickle\", mode=\"wb\") as f:\n",
    "    pickle.dump(outputs, f)"
   ]
  },
  {
   "cell_type": "code",
   "execution_count": 65,
   "id": "82bdf9f4",
   "metadata": {},
   "outputs": [],
   "source": [
    "inputs = tokenizer(sentencesList[29900:30000], return_tensors=\"pt\", padding=True)\n",
    "outputs = model(**inputs)[0]\n",
    "# これで保存\n",
    "with open(\"model300.pickle\", mode=\"wb\") as f:\n",
    "    pickle.dump(outputs, f)"
   ]
  },
  {
   "cell_type": "code",
   "execution_count": 66,
   "id": "356d257f",
   "metadata": {},
   "outputs": [],
   "source": [
    "inputs = tokenizer(sentencesList[30000:30100], return_tensors=\"pt\", padding=True)\n",
    "outputs = model(**inputs)[0]\n",
    "# これで保存\n",
    "with open(\"model301.pickle\", mode=\"wb\") as f:\n",
    "    pickle.dump(outputs, f)"
   ]
  },
  {
   "cell_type": "code",
   "execution_count": 67,
   "id": "68135f77",
   "metadata": {},
   "outputs": [],
   "source": [
    "inputs = tokenizer(sentencesList[30100:30200], return_tensors=\"pt\", padding=True)\n",
    "outputs = model(**inputs)[0]\n",
    "# これで保存\n",
    "with open(\"model302.pickle\", mode=\"wb\") as f:\n",
    "    pickle.dump(outputs, f)"
   ]
  },
  {
   "cell_type": "code",
   "execution_count": 68,
   "id": "d53334af",
   "metadata": {},
   "outputs": [],
   "source": [
    "inputs = tokenizer(sentencesList[30200:30300], return_tensors=\"pt\", padding=True)\n",
    "outputs = model(**inputs)[0]\n",
    "# これで保存\n",
    "with open(\"model303.pickle\", mode=\"wb\") as f:\n",
    "    pickle.dump(outputs, f)"
   ]
  },
  {
   "cell_type": "code",
   "execution_count": 69,
   "id": "7ededb7e",
   "metadata": {},
   "outputs": [],
   "source": [
    "inputs = tokenizer(sentencesList[30300:30400], return_tensors=\"pt\", padding=True)\n",
    "outputs = model(**inputs)[0]\n",
    "# これで保存\n",
    "with open(\"model304.pickle\", mode=\"wb\") as f:\n",
    "    pickle.dump(outputs, f)"
   ]
  },
  {
   "cell_type": "code",
   "execution_count": 70,
   "id": "034e6475",
   "metadata": {},
   "outputs": [],
   "source": [
    "inputs = tokenizer(sentencesList[30400:30500], return_tensors=\"pt\", padding=True)\n",
    "outputs = model(**inputs)[0]\n",
    "# これで保存\n",
    "with open(\"model305.pickle\", mode=\"wb\") as f:\n",
    "    pickle.dump(outputs, f)"
   ]
  },
  {
   "cell_type": "code",
   "execution_count": 71,
   "id": "3fd71b69",
   "metadata": {},
   "outputs": [],
   "source": [
    "inputs = tokenizer(sentencesList[30500:30600], return_tensors=\"pt\", padding=True)\n",
    "outputs = model(**inputs)[0]\n",
    "# これで保存\n",
    "with open(\"model306.pickle\", mode=\"wb\") as f:\n",
    "    pickle.dump(outputs, f)"
   ]
  },
  {
   "cell_type": "code",
   "execution_count": 72,
   "id": "6ebb7e6e",
   "metadata": {},
   "outputs": [],
   "source": [
    "inputs = tokenizer(sentencesList[30600:30700], return_tensors=\"pt\", padding=True)\n",
    "outputs = model(**inputs)[0]\n",
    "# これで保存\n",
    "with open(\"model307.pickle\", mode=\"wb\") as f:\n",
    "    pickle.dump(outputs, f)"
   ]
  },
  {
   "cell_type": "code",
   "execution_count": 73,
   "id": "88d9af63",
   "metadata": {},
   "outputs": [],
   "source": [
    "inputs = tokenizer(sentencesList[30700:30800], return_tensors=\"pt\", padding=True)\n",
    "outputs = model(**inputs)[0]\n",
    "# これで保存\n",
    "with open(\"model308.pickle\", mode=\"wb\") as f:\n",
    "    pickle.dump(outputs, f)"
   ]
  },
  {
   "cell_type": "code",
   "execution_count": 74,
   "id": "215f144c",
   "metadata": {},
   "outputs": [],
   "source": [
    "inputs = tokenizer(sentencesList[30800:30900], return_tensors=\"pt\", padding=True)\n",
    "outputs = model(**inputs)[0]\n",
    "# これで保存\n",
    "with open(\"model309.pickle\", mode=\"wb\") as f:\n",
    "    pickle.dump(outputs, f)"
   ]
  },
  {
   "cell_type": "code",
   "execution_count": 75,
   "id": "f3665b17",
   "metadata": {},
   "outputs": [],
   "source": [
    "inputs = tokenizer(sentencesList[30900:31000], return_tensors=\"pt\", padding=True)\n",
    "outputs = model(**inputs)[0]\n",
    "# これで保存\n",
    "with open(\"model310.pickle\", mode=\"wb\") as f:\n",
    "    pickle.dump(outputs, f)"
   ]
  },
  {
   "cell_type": "code",
   "execution_count": 76,
   "id": "87cc1a5a",
   "metadata": {},
   "outputs": [],
   "source": [
    "inputs = tokenizer(sentencesList[31000:31100], return_tensors=\"pt\", padding=True)\n",
    "outputs = model(**inputs)[0]\n",
    "# これで保存\n",
    "with open(\"model311.pickle\", mode=\"wb\") as f:\n",
    "    pickle.dump(outputs, f)"
   ]
  },
  {
   "cell_type": "code",
   "execution_count": 77,
   "id": "a90ff847",
   "metadata": {},
   "outputs": [],
   "source": [
    "inputs = tokenizer(sentencesList[31100:31200], return_tensors=\"pt\", padding=True)\n",
    "outputs = model(**inputs)[0]\n",
    "# これで保存\n",
    "with open(\"model312.pickle\", mode=\"wb\") as f:\n",
    "    pickle.dump(outputs, f)"
   ]
  },
  {
   "cell_type": "code",
   "execution_count": 78,
   "id": "b05e0731",
   "metadata": {},
   "outputs": [],
   "source": [
    "inputs = tokenizer(sentencesList[31200:31300], return_tensors=\"pt\", padding=True)\n",
    "outputs = model(**inputs)[0]\n",
    "# これで保存\n",
    "with open(\"model313.pickle\", mode=\"wb\") as f:\n",
    "    pickle.dump(outputs, f)"
   ]
  },
  {
   "cell_type": "code",
   "execution_count": 79,
   "id": "0b7062f3",
   "metadata": {},
   "outputs": [],
   "source": [
    "inputs = tokenizer(sentencesList[31300:31400], return_tensors=\"pt\", padding=True)\n",
    "outputs = model(**inputs)[0]\n",
    "# これで保存\n",
    "with open(\"model314.pickle\", mode=\"wb\") as f:\n",
    "    pickle.dump(outputs, f)"
   ]
  },
  {
   "cell_type": "code",
   "execution_count": 80,
   "id": "5c57b315",
   "metadata": {},
   "outputs": [],
   "source": [
    "inputs = tokenizer(sentencesList[31400:31500], return_tensors=\"pt\", padding=True)\n",
    "outputs = model(**inputs)[0]\n",
    "# これで保存\n",
    "with open(\"model315.pickle\", mode=\"wb\") as f:\n",
    "    pickle.dump(outputs, f)"
   ]
  },
  {
   "cell_type": "code",
   "execution_count": 81,
   "id": "df5d6cec",
   "metadata": {},
   "outputs": [],
   "source": [
    "inputs = tokenizer(sentencesList[31500:31600], return_tensors=\"pt\", padding=True)\n",
    "outputs = model(**inputs)[0]\n",
    "# これで保存\n",
    "with open(\"model316.pickle\", mode=\"wb\") as f:\n",
    "    pickle.dump(outputs, f)"
   ]
  },
  {
   "cell_type": "code",
   "execution_count": 82,
   "id": "84c1e4e3",
   "metadata": {},
   "outputs": [],
   "source": [
    "inputs = tokenizer(sentencesList[31600:31700], return_tensors=\"pt\", padding=True)\n",
    "outputs = model(**inputs)[0]\n",
    "# これで保存\n",
    "with open(\"model317.pickle\", mode=\"wb\") as f:\n",
    "    pickle.dump(outputs, f)"
   ]
  },
  {
   "cell_type": "code",
   "execution_count": 83,
   "id": "50ce4e98",
   "metadata": {},
   "outputs": [],
   "source": [
    "inputs = tokenizer(sentencesList[31700:31800], return_tensors=\"pt\", padding=True)\n",
    "outputs = model(**inputs)[0]\n",
    "# これで保存\n",
    "with open(\"model318.pickle\", mode=\"wb\") as f:\n",
    "    pickle.dump(outputs, f)"
   ]
  },
  {
   "cell_type": "code",
   "execution_count": 84,
   "id": "b4994f6e",
   "metadata": {},
   "outputs": [],
   "source": [
    "inputs = tokenizer(sentencesList[31800:31900], return_tensors=\"pt\", padding=True)\n",
    "outputs = model(**inputs)[0]\n",
    "# これで保存\n",
    "with open(\"model319.pickle\", mode=\"wb\") as f:\n",
    "    pickle.dump(outputs, f)"
   ]
  },
  {
   "cell_type": "code",
   "execution_count": 85,
   "id": "0ed04f63",
   "metadata": {},
   "outputs": [],
   "source": [
    "inputs = tokenizer(sentencesList[31900:32000], return_tensors=\"pt\", padding=True)\n",
    "outputs = model(**inputs)[0]\n",
    "# これで保存\n",
    "with open(\"model320.pickle\", mode=\"wb\") as f:\n",
    "    pickle.dump(outputs, f)"
   ]
  },
  {
   "cell_type": "code",
   "execution_count": 86,
   "id": "0fc46a53",
   "metadata": {},
   "outputs": [],
   "source": [
    "inputs = tokenizer(sentencesList[32000:32100], return_tensors=\"pt\", padding=True)\n",
    "outputs = model(**inputs)[0]\n",
    "# これで保存\n",
    "with open(\"model321.pickle\", mode=\"wb\") as f:\n",
    "    pickle.dump(outputs, f)"
   ]
  },
  {
   "cell_type": "code",
   "execution_count": 87,
   "id": "ebd4865e",
   "metadata": {},
   "outputs": [],
   "source": [
    "inputs = tokenizer(sentencesList[32100:32200], return_tensors=\"pt\", padding=True)\n",
    "outputs = model(**inputs)[0]\n",
    "# これで保存\n",
    "with open(\"model322.pickle\", mode=\"wb\") as f:\n",
    "    pickle.dump(outputs, f)"
   ]
  },
  {
   "cell_type": "code",
   "execution_count": 88,
   "id": "50f05d53",
   "metadata": {},
   "outputs": [],
   "source": [
    "inputs = tokenizer(sentencesList[32200:32300], return_tensors=\"pt\", padding=True)\n",
    "outputs = model(**inputs)[0]\n",
    "# これで保存\n",
    "with open(\"model323.pickle\", mode=\"wb\") as f:\n",
    "    pickle.dump(outputs, f)"
   ]
  },
  {
   "cell_type": "code",
   "execution_count": 89,
   "id": "4ce5ad52",
   "metadata": {},
   "outputs": [],
   "source": [
    "inputs = tokenizer(sentencesList[32300:32400], return_tensors=\"pt\", padding=True)\n",
    "outputs = model(**inputs)[0]\n",
    "# これで保存\n",
    "with open(\"model324.pickle\", mode=\"wb\") as f:\n",
    "    pickle.dump(outputs, f)"
   ]
  },
  {
   "cell_type": "code",
   "execution_count": 90,
   "id": "c243a685",
   "metadata": {},
   "outputs": [],
   "source": [
    "inputs = tokenizer(sentencesList[32400:32500], return_tensors=\"pt\", padding=True)\n",
    "outputs = model(**inputs)[0]\n",
    "# これで保存\n",
    "with open(\"model325.pickle\", mode=\"wb\") as f:\n",
    "    pickle.dump(outputs, f)"
   ]
  },
  {
   "cell_type": "code",
   "execution_count": 91,
   "id": "2190d11f",
   "metadata": {},
   "outputs": [],
   "source": [
    "inputs = tokenizer(sentencesList[32500:32600], return_tensors=\"pt\", padding=True)\n",
    "outputs = model(**inputs)[0]\n",
    "# これで保存\n",
    "with open(\"model326.pickle\", mode=\"wb\") as f:\n",
    "    pickle.dump(outputs, f)"
   ]
  },
  {
   "cell_type": "code",
   "execution_count": 92,
   "id": "17dc2c77",
   "metadata": {},
   "outputs": [],
   "source": [
    "inputs = tokenizer(sentencesList[32600:32700], return_tensors=\"pt\", padding=True)\n",
    "outputs = model(**inputs)[0]\n",
    "# これで保存\n",
    "with open(\"model327.pickle\", mode=\"wb\") as f:\n",
    "    pickle.dump(outputs, f)"
   ]
  },
  {
   "cell_type": "code",
   "execution_count": 93,
   "id": "2a673ce8",
   "metadata": {},
   "outputs": [],
   "source": [
    "inputs = tokenizer(sentencesList[32700: 32800], return_tensors=\"pt\", padding=True)\n",
    "outputs = model(**inputs)[0]\n",
    "# これで保存\n",
    "with open(\"model328.pickle\", mode=\"wb\") as f:\n",
    "    pickle.dump(outputs, f)"
   ]
  },
  {
   "cell_type": "code",
   "execution_count": 94,
   "id": "67a7ed62",
   "metadata": {},
   "outputs": [],
   "source": [
    "inputs = tokenizer(sentencesList[32800:32900], return_tensors=\"pt\", padding=True)\n",
    "outputs = model(**inputs)[0]\n",
    "# これで保存\n",
    "with open(\"model329.pickle\", mode=\"wb\") as f:\n",
    "    pickle.dump(outputs, f)"
   ]
  },
  {
   "cell_type": "code",
   "execution_count": 95,
   "id": "c47f506a",
   "metadata": {},
   "outputs": [],
   "source": [
    "inputs = tokenizer(sentencesList[32900:33000], return_tensors=\"pt\", padding=True)\n",
    "outputs = model(**inputs)[0]\n",
    "# これで保存\n",
    "with open(\"model330.pickle\", mode=\"wb\") as f:\n",
    "    pickle.dump(outputs, f)"
   ]
  },
  {
   "cell_type": "code",
   "execution_count": 96,
   "id": "674a15a3",
   "metadata": {},
   "outputs": [],
   "source": [
    "inputs = tokenizer(sentencesList[33000:33100], return_tensors=\"pt\", padding=True)\n",
    "outputs = model(**inputs)[0]\n",
    "# これで保存\n",
    "with open(\"model331.pickle\", mode=\"wb\") as f:\n",
    "    pickle.dump(outputs, f)"
   ]
  },
  {
   "cell_type": "code",
   "execution_count": 97,
   "id": "c8ada1b4",
   "metadata": {},
   "outputs": [],
   "source": [
    "inputs = tokenizer(sentencesList[33100:33200], return_tensors=\"pt\", padding=True)\n",
    "outputs = model(**inputs)[0]\n",
    "# これで保存\n",
    "with open(\"model332.pickle\", mode=\"wb\") as f:\n",
    "    pickle.dump(outputs, f)"
   ]
  },
  {
   "cell_type": "code",
   "execution_count": 98,
   "id": "3c149806",
   "metadata": {},
   "outputs": [],
   "source": [
    "inputs = tokenizer(sentencesList[33200:33300], return_tensors=\"pt\", padding=True)\n",
    "outputs = model(**inputs)[0]\n",
    "# これで保存\n",
    "with open(\"model333.pickle\", mode=\"wb\") as f:\n",
    "    pickle.dump(outputs, f)"
   ]
  },
  {
   "cell_type": "code",
   "execution_count": 99,
   "id": "0303c359",
   "metadata": {},
   "outputs": [],
   "source": [
    "inputs = tokenizer(sentencesList[33300:33400], return_tensors=\"pt\", padding=True)\n",
    "outputs = model(**inputs)[0]\n",
    "# これで保存\n",
    "with open(\"model334.pickle\", mode=\"wb\") as f:\n",
    "    pickle.dump(outputs, f)"
   ]
  },
  {
   "cell_type": "code",
   "execution_count": 100,
   "id": "bcda7253",
   "metadata": {},
   "outputs": [],
   "source": [
    "inputs = tokenizer(sentencesList[33400:33500], return_tensors=\"pt\", padding=True)\n",
    "outputs = model(**inputs)[0]\n",
    "# これで保存\n",
    "with open(\"model335.pickle\", mode=\"wb\") as f:\n",
    "    pickle.dump(outputs, f)"
   ]
  },
  {
   "cell_type": "code",
   "execution_count": 102,
   "id": "796aa822",
   "metadata": {},
   "outputs": [],
   "source": [
    "inputs = tokenizer(sentencesList[33500:33600], return_tensors=\"pt\", padding=True)\n",
    "outputs = model(**inputs)[0]\n",
    "# これで保存\n",
    "with open(\"model336.pickle\", mode=\"wb\") as f:\n",
    "    pickle.dump(outputs, f)"
   ]
  },
  {
   "cell_type": "code",
   "execution_count": 101,
   "id": "1753ac8b",
   "metadata": {},
   "outputs": [],
   "source": [
    "inputs = tokenizer(sentencesList[33600:33700], return_tensors=\"pt\", padding=True)\n",
    "outputs = model(**inputs)[0]\n",
    "# これで保存\n",
    "with open(\"model337.pickle\", mode=\"wb\") as f:\n",
    "    pickle.dump(outputs, f)"
   ]
  },
  {
   "cell_type": "code",
   "execution_count": 103,
   "id": "fc9e05ad",
   "metadata": {},
   "outputs": [],
   "source": [
    "inputs = tokenizer(sentencesList[33700:33800], return_tensors=\"pt\", padding=True)\n",
    "outputs = model(**inputs)[0]\n",
    "# これで保存\n",
    "with open(\"model338.pickle\", mode=\"wb\") as f:\n",
    "    pickle.dump(outputs, f)"
   ]
  },
  {
   "cell_type": "code",
   "execution_count": 104,
   "id": "48fe8327",
   "metadata": {},
   "outputs": [],
   "source": [
    "inputs = tokenizer(sentencesList[33800:33900], return_tensors=\"pt\", padding=True)\n",
    "outputs = model(**inputs)[0]\n",
    "# これで保存\n",
    "with open(\"model339.pickle\", mode=\"wb\") as f:\n",
    "    pickle.dump(outputs, f)"
   ]
  },
  {
   "cell_type": "code",
   "execution_count": 105,
   "id": "b2e1535f",
   "metadata": {},
   "outputs": [],
   "source": [
    "inputs = tokenizer(sentencesList[33900:34000], return_tensors=\"pt\", padding=True)\n",
    "outputs = model(**inputs)[0]\n",
    "# これで保存\n",
    "with open(\"model340.pickle\", mode=\"wb\") as f:\n",
    "    pickle.dump(outputs, f)"
   ]
  },
  {
   "cell_type": "code",
   "execution_count": 106,
   "id": "c2887723",
   "metadata": {},
   "outputs": [],
   "source": [
    "inputs = tokenizer(sentencesList[34000:34100], return_tensors=\"pt\", padding=True)\n",
    "outputs = model(**inputs)[0]\n",
    "# これで保存\n",
    "with open(\"model341.pickle\", mode=\"wb\") as f:\n",
    "    pickle.dump(outputs, f)"
   ]
  },
  {
   "cell_type": "code",
   "execution_count": 107,
   "id": "b8f810ca",
   "metadata": {},
   "outputs": [],
   "source": [
    "inputs = tokenizer(sentencesList[34100:34200], return_tensors=\"pt\", padding=True)\n",
    "outputs = model(**inputs)[0]\n",
    "# これで保存\n",
    "with open(\"model342.pickle\", mode=\"wb\") as f:\n",
    "    pickle.dump(outputs, f)"
   ]
  },
  {
   "cell_type": "code",
   "execution_count": 108,
   "id": "9d1c2bb4",
   "metadata": {},
   "outputs": [],
   "source": [
    "inputs = tokenizer(sentencesList[34200:34300], return_tensors=\"pt\", padding=True)\n",
    "outputs = model(**inputs)[0]\n",
    "# これで保存\n",
    "with open(\"model343.pickle\", mode=\"wb\") as f:\n",
    "    pickle.dump(outputs, f)"
   ]
  },
  {
   "cell_type": "code",
   "execution_count": 109,
   "id": "785d4df2",
   "metadata": {},
   "outputs": [],
   "source": [
    "inputs = tokenizer(sentencesList[34300:34400], return_tensors=\"pt\", padding=True)\n",
    "outputs = model(**inputs)[0]\n",
    "# これで保存\n",
    "with open(\"model344.pickle\", mode=\"wb\") as f:\n",
    "    pickle.dump(outputs, f)"
   ]
  },
  {
   "cell_type": "code",
   "execution_count": 110,
   "id": "2e793a8b",
   "metadata": {},
   "outputs": [],
   "source": [
    "inputs = tokenizer(sentencesList[34400:34500], return_tensors=\"pt\", padding=True)\n",
    "outputs = model(**inputs)[0]\n",
    "# これで保存\n",
    "with open(\"model345.pickle\", mode=\"wb\") as f:\n",
    "    pickle.dump(outputs, f)"
   ]
  },
  {
   "cell_type": "code",
   "execution_count": 111,
   "id": "934ed442",
   "metadata": {},
   "outputs": [],
   "source": [
    "inputs = tokenizer(sentencesList[34500:34600], return_tensors=\"pt\", padding=True)\n",
    "outputs = model(**inputs)[0]\n",
    "# これで保存\n",
    "with open(\"model346.pickle\", mode=\"wb\") as f:\n",
    "    pickle.dump(outputs, f)"
   ]
  },
  {
   "cell_type": "code",
   "execution_count": 112,
   "id": "9d1c2bb4",
   "metadata": {},
   "outputs": [],
   "source": [
    "inputs = tokenizer(sentencesList[34600:34700], return_tensors=\"pt\", padding=True)\n",
    "outputs = model(**inputs)[0]\n",
    "# これで保存\n",
    "with open(\"model347.pickle\", mode=\"wb\") as f:\n",
    "    pickle.dump(outputs, f)"
   ]
  },
  {
   "cell_type": "code",
   "execution_count": 113,
   "id": "9d1c2bb4",
   "metadata": {},
   "outputs": [],
   "source": [
    "inputs = tokenizer(sentencesList[34700:34800], return_tensors=\"pt\", padding=True)\n",
    "outputs = model(**inputs)[0]\n",
    "# これで保存\n",
    "with open(\"model348.pickle\", mode=\"wb\") as f:\n",
    "    pickle.dump(outputs, f)"
   ]
  },
  {
   "cell_type": "code",
   "execution_count": 114,
   "id": "9d1c2bb4",
   "metadata": {},
   "outputs": [],
   "source": [
    "inputs = tokenizer(sentencesList[34800:34900], return_tensors=\"pt\", padding=True)\n",
    "outputs = model(**inputs)[0]\n",
    "# これで保存\n",
    "with open(\"model349.pickle\", mode=\"wb\") as f:\n",
    "    pickle.dump(outputs, f)"
   ]
  },
  {
   "cell_type": "code",
   "execution_count": 115,
   "id": "9d1c2bb4",
   "metadata": {},
   "outputs": [],
   "source": [
    "inputs = tokenizer(sentencesList[34900:35000], return_tensors=\"pt\", padding=True)\n",
    "outputs = model(**inputs)[0]\n",
    "# これで保存\n",
    "with open(\"model350.pickle\", mode=\"wb\") as f:\n",
    "    pickle.dump(outputs, f)"
   ]
  },
  {
   "cell_type": "code",
   "execution_count": 116,
   "id": "9d1c2bb4",
   "metadata": {},
   "outputs": [],
   "source": [
    "inputs = tokenizer(sentencesList[35000:35100], return_tensors=\"pt\", padding=True)\n",
    "outputs = model(**inputs)[0]\n",
    "# これで保存\n",
    "with open(\"model351.pickle\", mode=\"wb\") as f:\n",
    "    pickle.dump(outputs, f)"
   ]
  },
  {
   "cell_type": "code",
   "execution_count": 117,
   "id": "9d1c2bb4",
   "metadata": {},
   "outputs": [],
   "source": [
    "inputs = tokenizer(sentencesList[35100:35200], return_tensors=\"pt\", padding=True)\n",
    "outputs = model(**inputs)[0]\n",
    "# これで保存\n",
    "with open(\"model352.pickle\", mode=\"wb\") as f:\n",
    "    pickle.dump(outputs, f)"
   ]
  },
  {
   "cell_type": "code",
   "execution_count": 118,
   "id": "9d1c2bb4",
   "metadata": {},
   "outputs": [],
   "source": [
    "inputs = tokenizer(sentencesList[35200:35300], return_tensors=\"pt\", padding=True)\n",
    "outputs = model(**inputs)[0]\n",
    "# これで保存\n",
    "with open(\"model353.pickle\", mode=\"wb\") as f:\n",
    "    pickle.dump(outputs, f)"
   ]
  },
  {
   "cell_type": "code",
   "execution_count": 119,
   "id": "9d1c2bb4",
   "metadata": {},
   "outputs": [],
   "source": [
    "inputs = tokenizer(sentencesList[35300:35400], return_tensors=\"pt\", padding=True)\n",
    "outputs = model(**inputs)[0]\n",
    "# これで保存\n",
    "with open(\"model354.pickle\", mode=\"wb\") as f:\n",
    "    pickle.dump(outputs, f)"
   ]
  },
  {
   "cell_type": "code",
   "execution_count": 120,
   "id": "9d1c2bb4",
   "metadata": {},
   "outputs": [],
   "source": [
    "inputs = tokenizer(sentencesList[35400:35500], return_tensors=\"pt\", padding=True)\n",
    "outputs = model(**inputs)[0]\n",
    "# これで保存\n",
    "with open(\"model355.pickle\", mode=\"wb\") as f:\n",
    "    pickle.dump(outputs, f)"
   ]
  },
  {
   "cell_type": "code",
   "execution_count": 121,
   "id": "9d1c2bb4",
   "metadata": {},
   "outputs": [],
   "source": [
    "inputs = tokenizer(sentencesList[35500:35600], return_tensors=\"pt\", padding=True)\n",
    "outputs = model(**inputs)[0]\n",
    "# これで保存\n",
    "with open(\"model356.pickle\", mode=\"wb\") as f:\n",
    "    pickle.dump(outputs, f)"
   ]
  },
  {
   "cell_type": "code",
   "execution_count": 122,
   "id": "9d1c2bb4",
   "metadata": {},
   "outputs": [],
   "source": [
    "inputs = tokenizer(sentencesList[35600:35700], return_tensors=\"pt\", padding=True)\n",
    "outputs = model(**inputs)[0]\n",
    "# これで保存\n",
    "with open(\"model357.pickle\", mode=\"wb\") as f:\n",
    "    pickle.dump(outputs, f)"
   ]
  },
  {
   "cell_type": "code",
   "execution_count": 123,
   "id": "9d1c2bb4",
   "metadata": {},
   "outputs": [],
   "source": [
    "inputs = tokenizer(sentencesList[35700:35800], return_tensors=\"pt\", padding=True)\n",
    "outputs = model(**inputs)[0]\n",
    "# これで保存\n",
    "with open(\"model358.pickle\", mode=\"wb\") as f:\n",
    "    pickle.dump(outputs, f)"
   ]
  },
  {
   "cell_type": "code",
   "execution_count": 124,
   "id": "9d1c2bb4",
   "metadata": {},
   "outputs": [],
   "source": [
    "inputs = tokenizer(sentencesList[35800:35900], return_tensors=\"pt\", padding=True)\n",
    "outputs = model(**inputs)[0]\n",
    "# これで保存\n",
    "with open(\"model359.pickle\", mode=\"wb\") as f:\n",
    "    pickle.dump(outputs, f)"
   ]
  },
  {
   "cell_type": "code",
   "execution_count": 125,
   "id": "9d1c2bb4",
   "metadata": {},
   "outputs": [],
   "source": [
    "inputs = tokenizer(sentencesList[35900:36000], return_tensors=\"pt\", padding=True)\n",
    "outputs = model(**inputs)[0]\n",
    "# これで保存\n",
    "with open(\"model360.pickle\", mode=\"wb\") as f:\n",
    "    pickle.dump(outputs, f)"
   ]
  },
  {
   "cell_type": "code",
   "execution_count": 126,
   "id": "9d1c2bb4",
   "metadata": {},
   "outputs": [],
   "source": [
    "inputs = tokenizer(sentencesList[36000:36100], return_tensors=\"pt\", padding=True)\n",
    "outputs = model(**inputs)[0]\n",
    "# これで保存\n",
    "with open(\"model361.pickle\", mode=\"wb\") as f:\n",
    "    pickle.dump(outputs, f)"
   ]
  },
  {
   "cell_type": "code",
   "execution_count": 127,
   "id": "9d1c2bb4",
   "metadata": {},
   "outputs": [],
   "source": [
    "inputs = tokenizer(sentencesList[36100:36200], return_tensors=\"pt\", padding=True)\n",
    "outputs = model(**inputs)[0]\n",
    "# これで保存\n",
    "with open(\"model362.pickle\", mode=\"wb\") as f:\n",
    "    pickle.dump(outputs, f)"
   ]
  },
  {
   "cell_type": "code",
   "execution_count": 128,
   "id": "9d1c2bb4",
   "metadata": {},
   "outputs": [],
   "source": [
    "inputs = tokenizer(sentencesList[36200:36300], return_tensors=\"pt\", padding=True)\n",
    "outputs = model(**inputs)[0]\n",
    "# これで保存\n",
    "with open(\"model363.pickle\", mode=\"wb\") as f:\n",
    "    pickle.dump(outputs, f)"
   ]
  },
  {
   "cell_type": "code",
   "execution_count": 129,
   "id": "9d1c2bb4",
   "metadata": {},
   "outputs": [],
   "source": [
    "inputs = tokenizer(sentencesList[36300:36400], return_tensors=\"pt\", padding=True)\n",
    "outputs = model(**inputs)[0]\n",
    "# これで保存\n",
    "with open(\"model364.pickle\", mode=\"wb\") as f:\n",
    "    pickle.dump(outputs, f)"
   ]
  },
  {
   "cell_type": "code",
   "execution_count": 130,
   "id": "9d1c2bb4",
   "metadata": {},
   "outputs": [],
   "source": [
    "inputs = tokenizer(sentencesList[36400:36500], return_tensors=\"pt\", padding=True)\n",
    "outputs = model(**inputs)[0]\n",
    "# これで保存\n",
    "with open(\"model365.pickle\", mode=\"wb\") as f:\n",
    "    pickle.dump(outputs, f)"
   ]
  },
  {
   "cell_type": "code",
   "execution_count": 131,
   "id": "9d1c2bb4",
   "metadata": {},
   "outputs": [],
   "source": [
    "inputs = tokenizer(sentencesList[36500:36600], return_tensors=\"pt\", padding=True)\n",
    "outputs = model(**inputs)[0]\n",
    "# これで保存\n",
    "with open(\"model366.pickle\", mode=\"wb\") as f:\n",
    "    pickle.dump(outputs, f)"
   ]
  },
  {
   "cell_type": "code",
   "execution_count": 132,
   "id": "9d1c2bb4",
   "metadata": {},
   "outputs": [],
   "source": [
    "inputs = tokenizer(sentencesList[36600:36700], return_tensors=\"pt\", padding=True)\n",
    "outputs = model(**inputs)[0]\n",
    "# これで保存\n",
    "with open(\"model367.pickle\", mode=\"wb\") as f:\n",
    "    pickle.dump(outputs, f)"
   ]
  },
  {
   "cell_type": "code",
   "execution_count": 133,
   "id": "9d1c2bb4",
   "metadata": {},
   "outputs": [],
   "source": [
    "inputs = tokenizer(sentencesList[36700:36800], return_tensors=\"pt\", padding=True)\n",
    "outputs = model(**inputs)[0]\n",
    "# これで保存\n",
    "with open(\"model368.pickle\", mode=\"wb\") as f:\n",
    "    pickle.dump(outputs, f)"
   ]
  },
  {
   "cell_type": "code",
   "execution_count": 134,
   "id": "9d1c2bb4",
   "metadata": {},
   "outputs": [],
   "source": [
    "inputs = tokenizer(sentencesList[36800:36900], return_tensors=\"pt\", padding=True)\n",
    "outputs = model(**inputs)[0]\n",
    "# これで保存\n",
    "with open(\"model369.pickle\", mode=\"wb\") as f:\n",
    "    pickle.dump(outputs, f)"
   ]
  },
  {
   "cell_type": "code",
   "execution_count": 135,
   "id": "9d1c2bb4",
   "metadata": {},
   "outputs": [],
   "source": [
    "inputs = tokenizer(sentencesList[36900:37000], return_tensors=\"pt\", padding=True)\n",
    "outputs = model(**inputs)[0]\n",
    "# これで保存\n",
    "with open(\"model370.pickle\", mode=\"wb\") as f:\n",
    "    pickle.dump(outputs, f)"
   ]
  },
  {
   "cell_type": "code",
   "execution_count": 136,
   "id": "9d1c2bb4",
   "metadata": {},
   "outputs": [],
   "source": [
    "inputs = tokenizer(sentencesList[37000:37100], return_tensors=\"pt\", padding=True)\n",
    "outputs = model(**inputs)[0]\n",
    "# これで保存\n",
    "with open(\"model371.pickle\", mode=\"wb\") as f:\n",
    "    pickle.dump(outputs, f)"
   ]
  },
  {
   "cell_type": "code",
   "execution_count": 137,
   "id": "9d1c2bb4",
   "metadata": {},
   "outputs": [],
   "source": [
    "inputs = tokenizer(sentencesList[37100:37200], return_tensors=\"pt\", padding=True)\n",
    "outputs = model(**inputs)[0]\n",
    "# これで保存\n",
    "with open(\"model372.pickle\", mode=\"wb\") as f:\n",
    "    pickle.dump(outputs, f)"
   ]
  },
  {
   "cell_type": "code",
   "execution_count": 138,
   "id": "9d1c2bb4",
   "metadata": {},
   "outputs": [],
   "source": [
    "inputs = tokenizer(sentencesList[37200:37300], return_tensors=\"pt\", padding=True)\n",
    "outputs = model(**inputs)[0]\n",
    "# これで保存\n",
    "with open(\"model373.pickle\", mode=\"wb\") as f:\n",
    "    pickle.dump(outputs, f)"
   ]
  },
  {
   "cell_type": "code",
   "execution_count": 139,
   "id": "9d1c2bb4",
   "metadata": {},
   "outputs": [],
   "source": [
    "inputs = tokenizer(sentencesList[37300:37400], return_tensors=\"pt\", padding=True)\n",
    "outputs = model(**inputs)[0]\n",
    "# これで保存\n",
    "with open(\"model374.pickle\", mode=\"wb\") as f:\n",
    "    pickle.dump(outputs, f)"
   ]
  },
  {
   "cell_type": "code",
   "execution_count": 140,
   "id": "9d1c2bb4",
   "metadata": {},
   "outputs": [],
   "source": [
    "inputs = tokenizer(sentencesList[37400:37500], return_tensors=\"pt\", padding=True)\n",
    "outputs = model(**inputs)[0]\n",
    "# これで保存\n",
    "with open(\"model375.pickle\", mode=\"wb\") as f:\n",
    "    pickle.dump(outputs, f)"
   ]
  },
  {
   "cell_type": "code",
   "execution_count": 141,
   "id": "9d1c2bb4",
   "metadata": {},
   "outputs": [],
   "source": [
    "inputs = tokenizer(sentencesList[37500:37600], return_tensors=\"pt\", padding=True)\n",
    "outputs = model(**inputs)[0]\n",
    "# これで保存\n",
    "with open(\"model376.pickle\", mode=\"wb\") as f:\n",
    "    pickle.dump(outputs, f)"
   ]
  },
  {
   "cell_type": "code",
   "execution_count": 142,
   "id": "9d1c2bb4",
   "metadata": {},
   "outputs": [],
   "source": [
    "inputs = tokenizer(sentencesList[37600:37700], return_tensors=\"pt\", padding=True)\n",
    "outputs = model(**inputs)[0]\n",
    "# これで保存\n",
    "with open(\"model377.pickle\", mode=\"wb\") as f:\n",
    "    pickle.dump(outputs, f)"
   ]
  },
  {
   "cell_type": "code",
   "execution_count": 143,
   "id": "9d1c2bb4",
   "metadata": {},
   "outputs": [],
   "source": [
    "inputs = tokenizer(sentencesList[37700:37800], return_tensors=\"pt\", padding=True)\n",
    "outputs = model(**inputs)[0]\n",
    "# これで保存\n",
    "with open(\"model378.pickle\", mode=\"wb\") as f:\n",
    "    pickle.dump(outputs, f)"
   ]
  },
  {
   "cell_type": "code",
   "execution_count": 144,
   "id": "9d1c2bb4",
   "metadata": {},
   "outputs": [],
   "source": [
    "inputs = tokenizer(sentencesList[37800:37900], return_tensors=\"pt\", padding=True)\n",
    "outputs = model(**inputs)[0]\n",
    "# これで保存\n",
    "with open(\"model379.pickle\", mode=\"wb\") as f:\n",
    "    pickle.dump(outputs, f)"
   ]
  },
  {
   "cell_type": "code",
   "execution_count": 145,
   "id": "9d1c2bb4",
   "metadata": {},
   "outputs": [],
   "source": [
    "inputs = tokenizer(sentencesList[37900:38000], return_tensors=\"pt\", padding=True)\n",
    "outputs = model(**inputs)[0]\n",
    "# これで保存\n",
    "with open(\"model380.pickle\", mode=\"wb\") as f:\n",
    "    pickle.dump(outputs, f)"
   ]
  },
  {
   "cell_type": "code",
   "execution_count": 146,
   "id": "9d1c2bb4",
   "metadata": {},
   "outputs": [],
   "source": [
    "inputs = tokenizer(sentencesList[38000:38100], return_tensors=\"pt\", padding=True)\n",
    "outputs = model(**inputs)[0]\n",
    "# これで保存\n",
    "with open(\"model381.pickle\", mode=\"wb\") as f:\n",
    "    pickle.dump(outputs, f)"
   ]
  },
  {
   "cell_type": "code",
   "execution_count": 147,
   "id": "9d1c2bb4",
   "metadata": {},
   "outputs": [],
   "source": [
    "inputs = tokenizer(sentencesList[38100:38200], return_tensors=\"pt\", padding=True)\n",
    "outputs = model(**inputs)[0]\n",
    "# これで保存\n",
    "with open(\"model382.pickle\", mode=\"wb\") as f:\n",
    "    pickle.dump(outputs, f)"
   ]
  },
  {
   "cell_type": "code",
   "execution_count": 148,
   "id": "9d1c2bb4",
   "metadata": {},
   "outputs": [],
   "source": [
    "inputs = tokenizer(sentencesList[38200:38300], return_tensors=\"pt\", padding=True)\n",
    "outputs = model(**inputs)[0]\n",
    "# これで保存\n",
    "with open(\"model383.pickle\", mode=\"wb\") as f:\n",
    "    pickle.dump(outputs, f)"
   ]
  },
  {
   "cell_type": "code",
   "execution_count": 149,
   "id": "9d1c2bb4",
   "metadata": {},
   "outputs": [],
   "source": [
    "inputs = tokenizer(sentencesList[38300:38400], return_tensors=\"pt\", padding=True)\n",
    "outputs = model(**inputs)[0]\n",
    "# これで保存\n",
    "with open(\"model384.pickle\", mode=\"wb\") as f:\n",
    "    pickle.dump(outputs, f)"
   ]
  },
  {
   "cell_type": "code",
   "execution_count": 150,
   "id": "9d1c2bb4",
   "metadata": {},
   "outputs": [],
   "source": [
    "inputs = tokenizer(sentencesList[38400:], return_tensors=\"pt\", padding=True)\n",
    "outputs = model(**inputs)[0]\n",
    "# これで保存\n",
    "with open(\"model385.pickle\", mode=\"wb\") as f:\n",
    "    pickle.dump(outputs, f)"
   ]
  },
  {
   "cell_type": "code",
   "execution_count": 4,
   "id": "750cf071",
   "metadata": {},
   "outputs": [],
   "source": [
    "import pickle\n",
    "import numpy as np\n",
    "d = {}\n",
    "sentiment=[]\n",
    "# これでポジねが分析\n",
    "labels = {0:'neutral', 1:'positive',2:'negative'}\n",
    "# これで読み込み\n",
    "for num in range(1, 386):\n",
    "    filename=\"model\"+str(num)+\".pickle\"\n",
    "    with open(filename, mode=\"rb\") as f:\n",
    "        d = pickle.load(f)\n",
    "    for idx in range(0,len(d)):\n",
    "        sentiment.append(labels[np.argmax(d.detach().numpy()[idx])])\n",
    "    "
   ]
  },
  {
   "cell_type": "code",
   "execution_count": 154,
   "id": "5b3db856",
   "metadata": {},
   "outputs": [],
   "source": [
    "with open(\"AllSentimentList.pickle\", mode=\"wb\") as f:\n",
    "    pickle.dump(sentiment, f)"
   ]
  },
  {
   "cell_type": "code",
   "execution_count": 5,
   "id": "f5673932",
   "metadata": {},
   "outputs": [],
   "source": [
    "for i in range(0,len(sentiment)):\n",
    "    if sentiment[i]=='positive':\n",
    "        sentiment[i]=1\n",
    "    elif sentiment[i]=='neutral':\n",
    "        sentiment[i]=0\n",
    "    else:\n",
    "        sentiment[i]=-1"
   ]
  },
  {
   "cell_type": "code",
   "execution_count": 6,
   "id": "868a01b1",
   "metadata": {},
   "outputs": [],
   "source": [
    "comments_df['sentiment']=sentiment"
   ]
  },
  {
   "cell_type": "code",
   "execution_count": 7,
   "id": "272f973e",
   "metadata": {},
   "outputs": [],
   "source": [
    "comments_df.to_csv(\"AllDate.csv\",index=False)"
   ]
  }
 ],
 "metadata": {
  "kernelspec": {
   "display_name": "Python 3 (ipykernel)",
   "language": "python",
   "name": "python3"
  },
  "language_info": {
   "codemirror_mode": {
    "name": "ipython",
    "version": 3
   },
   "file_extension": ".py",
   "mimetype": "text/x-python",
   "name": "python",
   "nbconvert_exporter": "python",
   "pygments_lexer": "ipython3",
   "version": "3.9.4"
  }
 },
 "nbformat": 4,
 "nbformat_minor": 5
}
