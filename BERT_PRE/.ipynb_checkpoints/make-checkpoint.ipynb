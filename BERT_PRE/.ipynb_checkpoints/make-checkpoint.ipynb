{
 "cells": [
  {
   "cell_type": "code",
   "execution_count": 1,
   "id": "a2225565",
   "metadata": {},
   "outputs": [],
   "source": [
    "import pandas as pd\n",
    "import glob\n",
    "csv_files='/Users/manbubble/Downloads/RedditAnalize/BERT_PRE/SentimentDateMax.csv'\n",
    "df=pd.read_csv(csv_files,encoding=\"ISO-8859-1\")"
   ]
  },
  {
   "cell_type": "code",
   "execution_count": 3,
   "id": "79ca18f9",
   "metadata": {},
   "outputs": [],
   "source": [
    "sentiment=[]\n",
    "for i in range(0,len(df)):\n",
    "    if df.iat[i,4]=='positive':\n",
    "        sentiment.append(1)\n",
    "    elif df.iat[i,4]=='neutral':\n",
    "        sentiment.append(0)\n",
    "    else:\n",
    "        sentiment.append(-1)"
   ]
  },
  {
   "cell_type": "code",
   "execution_count": 4,
   "id": "18521d00",
   "metadata": {},
   "outputs": [],
   "source": [
    "df['sentimentScore']=sentiment"
   ]
  },
  {
   "cell_type": "code",
   "execution_count": 5,
   "id": "c0467cc4",
   "metadata": {},
   "outputs": [],
   "source": [
    "df.to_csv(\"score.csv\",index=True)"
   ]
  },
  {
   "cell_type": "code",
   "execution_count": 6,
   "id": "fcff1359",
   "metadata": {},
   "outputs": [],
   "source": [
    "csv_files2=\"/Users/manbubble/Downloads/RedditAnalize/Garch/Bitcoin Historical Data - Investing.com.csv\"\n",
    "df2=pd.read_csv(csv_files2,encoding=\"ISO-8859-1\")"
   ]
  },
  {
   "cell_type": "code",
   "execution_count": 7,
   "id": "4fa42b18",
   "metadata": {},
   "outputs": [],
   "source": [
    "for i in range(0,len(df2)):\n",
    "    price =df2.iat[i,1]\n",
    "    price=price.replace(\",\",\"\")\n",
    "    df2.iat[i,1]=float(price)"
   ]
  },
  {
   "cell_type": "code",
   "execution_count": 9,
   "id": "d07b0687",
   "metadata": {},
   "outputs": [
    {
     "data": {
      "text/html": [
       "<div>\n",
       "<style scoped>\n",
       "    .dataframe tbody tr th:only-of-type {\n",
       "        vertical-align: middle;\n",
       "    }\n",
       "\n",
       "    .dataframe tbody tr th {\n",
       "        vertical-align: top;\n",
       "    }\n",
       "\n",
       "    .dataframe thead th {\n",
       "        text-align: right;\n",
       "    }\n",
       "</style>\n",
       "<table border=\"1\" class=\"dataframe\">\n",
       "  <thead>\n",
       "    <tr style=\"text-align: right;\">\n",
       "      <th></th>\n",
       "      <th>ï»¿\"Date\"</th>\n",
       "      <th>Price</th>\n",
       "      <th>Open</th>\n",
       "      <th>High</th>\n",
       "      <th>Low</th>\n",
       "      <th>Vol.</th>\n",
       "      <th>Change %</th>\n",
       "    </tr>\n",
       "  </thead>\n",
       "  <tbody>\n",
       "    <tr>\n",
       "      <th>0</th>\n",
       "      <td>Oct 31, 2021</td>\n",
       "      <td>61309.6</td>\n",
       "      <td>61,842.2</td>\n",
       "      <td>62,393.7</td>\n",
       "      <td>60,005.7</td>\n",
       "      <td>50.06K</td>\n",
       "      <td>-0.86%</td>\n",
       "    </tr>\n",
       "    <tr>\n",
       "      <th>1</th>\n",
       "      <td>Oct 30, 2021</td>\n",
       "      <td>61840.1</td>\n",
       "      <td>62,245.0</td>\n",
       "      <td>62,338.5</td>\n",
       "      <td>60,786.0</td>\n",
       "      <td>40.51K</td>\n",
       "      <td>-0.65%</td>\n",
       "    </tr>\n",
       "    <tr>\n",
       "      <th>2</th>\n",
       "      <td>Oct 29, 2021</td>\n",
       "      <td>62242.8</td>\n",
       "      <td>60,579.9</td>\n",
       "      <td>62,952.2</td>\n",
       "      <td>60,322.2</td>\n",
       "      <td>63.39K</td>\n",
       "      <td>2.74%</td>\n",
       "    </tr>\n",
       "    <tr>\n",
       "      <th>3</th>\n",
       "      <td>Oct 28, 2021</td>\n",
       "      <td>60582.5</td>\n",
       "      <td>58,437.2</td>\n",
       "      <td>62,251.3</td>\n",
       "      <td>58,128.1</td>\n",
       "      <td>88.47K</td>\n",
       "      <td>3.67%</td>\n",
       "    </tr>\n",
       "    <tr>\n",
       "      <th>4</th>\n",
       "      <td>Oct 27, 2021</td>\n",
       "      <td>58438.1</td>\n",
       "      <td>60,312.5</td>\n",
       "      <td>61,452.9</td>\n",
       "      <td>58,112.6</td>\n",
       "      <td>88.11K</td>\n",
       "      <td>-3.11%</td>\n",
       "    </tr>\n",
       "  </tbody>\n",
       "</table>\n",
       "</div>"
      ],
      "text/plain": [
       "      ï»¿\"Date\"    Price      Open      High       Low    Vol. Change %\n",
       "0  Oct 31, 2021  61309.6  61,842.2  62,393.7  60,005.7  50.06K   -0.86%\n",
       "1  Oct 30, 2021  61840.1  62,245.0  62,338.5  60,786.0  40.51K   -0.65%\n",
       "2  Oct 29, 2021  62242.8  60,579.9  62,952.2  60,322.2  63.39K    2.74%\n",
       "3  Oct 28, 2021  60582.5  58,437.2  62,251.3  58,128.1  88.47K    3.67%\n",
       "4  Oct 27, 2021  58438.1  60,312.5  61,452.9  58,112.6  88.11K   -3.11%"
      ]
     },
     "execution_count": 9,
     "metadata": {},
     "output_type": "execute_result"
    }
   ],
   "source": [
    "df2.head()"
   ]
  },
  {
   "cell_type": "code",
   "execution_count": 11,
   "id": "1c177dda",
   "metadata": {},
   "outputs": [],
   "source": [
    "df2.to_csv(\"HistBitcoin.csv\",index=True)"
   ]
  },
  {
   "cell_type": "code",
   "execution_count": null,
   "id": "707fc035",
   "metadata": {},
   "outputs": [],
   "source": []
  }
 ],
 "metadata": {
  "kernelspec": {
   "display_name": "Python 3 (ipykernel)",
   "language": "python",
   "name": "python3"
  },
  "language_info": {
   "codemirror_mode": {
    "name": "ipython",
    "version": 3
   },
   "file_extension": ".py",
   "mimetype": "text/x-python",
   "name": "python",
   "nbconvert_exporter": "python",
   "pygments_lexer": "ipython3",
   "version": "3.9.4"
  }
 },
 "nbformat": 4,
 "nbformat_minor": 5
}
