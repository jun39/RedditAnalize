{
 "cells": [
  {
   "cell_type": "code",
   "execution_count": 1,
   "id": "f2ef0233",
   "metadata": {},
   "outputs": [],
   "source": [
    "from transformers import pipeline\n",
    "import pandas as pd"
   ]
  },
  {
   "cell_type": "code",
   "execution_count": 4,
   "id": "bb0afb15",
   "metadata": {},
   "outputs": [
    {
     "name": "stdout",
     "output_type": "stream",
     "text": [
      "    Comment ID                Author  Score  \\\n",
      "0      d1ltla1          hennogarvie1     87   \n",
      "1      d1lsyco                  ydtm     62   \n",
      "2      d1kr3qz  MatrixManAtYrService     47   \n",
      "3      d1lsnl5            KiyoTakeru     26   \n",
      "4      d1kv6kg         redlightsaber     26   \n",
      "..         ...                   ...    ...   \n",
      "894    d2n77t6                 mzial     10   \n",
      "895    d2na6wd       Future_Prophecy     10   \n",
      "896    d2mrhke           ForgingIron     10   \n",
      "897    d2msn0w          ZipTheZipper     10   \n",
      "898    d2n5rwz         manginahunter     10   \n",
      "\n",
      "                                                  Body         Publish Date  \n",
      "0    My Acestream: 9d1f2cf0afbd2531327997aece3cf4fd...  2016-04-01 23:48:43  \n",
      "1    I think that /u/nullc and /u/adam3us should pr...  2016-04-01 23:32:53  \n",
      "2    7th greatest market capitalisation: https://co...  2016-04-01 03:32:16  \n",
      "3                             Bitcoin mining software.  2016-04-01 23:25:18  \n",
      "4    Well, because thinblocks (in any implementatio...  2016-04-01 04:58:49  \n",
      "..                                                 ...                  ...  \n",
      "894  You still haven't defined spam. What's unsolic...  2016-04-30 19:45:40  \n",
      "895  Ver is quickly making himself irrelevant to Bi...  2016-04-30 22:26:42  \n",
      "896  I like some of Bernie's policies, but I really...  2016-04-30 09:06:49  \n",
      "897  That is just about the last place I'd expect t...  2016-04-30 09:37:43  \n",
      "898  I send 0 fee from wallet to wallet and it conf...  2016-04-30 18:02:42  \n",
      "\n",
      "[899 rows x 5 columns]\n"
     ]
    }
   ],
   "source": [
    "file='/Users/manbubble/Downloads/RedditAnalize/BERT_PRE/April2016size30.csv'\n",
    "comments_df=pd.read_csv(file)\n",
    "print(comments_df)"
   ]
  },
  {
   "cell_type": "code",
   "execution_count": 6,
   "id": "6ab10dba",
   "metadata": {},
   "outputs": [
    {
     "data": {
      "text/plain": [
       "'Well, because thinblocks (in any implementation), are actually a real protocol improvement, while the relay network is a differemt piece of software which isn\\'t really bitcoin. \\n\\nAnd given that the #1 reason given for not raising the cap right now is \"decentralisation!\", I guess I\\'m just surprised people are citing the relay network as a reason for why thin blocks shouldn\\'t be implemented.\\n\\nWell, but of course a centralised solution is more efficient, just like PayPal doesn\\'t use the amount of computing power and electricity that the bitcoin network does. But that\\'s not really something bitcoin is supposed to be willing to compromise, is it?'"
      ]
     },
     "execution_count": 6,
     "metadata": {},
     "output_type": "execute_result"
    }
   ],
   "source": [
    "comments_df.iat[4,3]"
   ]
  },
  {
   "cell_type": "code",
   "execution_count": 10,
   "id": "ee85e445",
   "metadata": {},
   "outputs": [],
   "source": [
    "df_4_3=comments_df.iat[4,3].replace('\\n','')"
   ]
  },
  {
   "cell_type": "code",
   "execution_count": 15,
   "id": "64d79a89",
   "metadata": {},
   "outputs": [
    {
     "data": {
      "text/plain": [
       "'Well, because thinblocks (in any implementation), are actually a real protocol improvement, while the relay network is a differemt piece of software which isn\\'t really bitcoin. And given that the #1 reason given for not raising the cap right now is \"decentralisation!\", I guess I\\'m just surprised people are citing the relay network as a reason for why thin blocks shouldn\\'t be implemented.Well, but of course a centralised solution is more efficient, just like PayPal doesn\\'t use the amount of computing power and electricity that the bitcoin network does. But that\\'s not really something bitcoin is supposed to be willing to compromise, is it?'"
      ]
     },
     "execution_count": 15,
     "metadata": {},
     "output_type": "execute_result"
    }
   ],
   "source": [
    "df_4_3.replace('\\'','')"
   ]
  },
  {
   "cell_type": "code",
   "execution_count": null,
   "id": "a33ac31a",
   "metadata": {},
   "outputs": [],
   "source": []
  }
 ],
 "metadata": {
  "kernelspec": {
   "display_name": "Python 3 (ipykernel)",
   "language": "python",
   "name": "python3"
  },
  "language_info": {
   "codemirror_mode": {
    "name": "ipython",
    "version": 3
   },
   "file_extension": ".py",
   "mimetype": "text/x-python",
   "name": "python",
   "nbconvert_exporter": "python",
   "pygments_lexer": "ipython3",
   "version": "3.9.4"
  }
 },
 "nbformat": 4,
 "nbformat_minor": 5
}
