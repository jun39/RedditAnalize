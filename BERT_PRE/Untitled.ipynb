{
 "cells": [
  {
   "cell_type": "code",
   "execution_count": 1,
   "id": "16e82975",
   "metadata": {},
   "outputs": [],
   "source": [
    "from transformers import pipeline\n",
    "import pandas as pd\n",
    "# とりあえず事前学習のやつで感情指数作って解析してみる garchとか"
   ]
  },
  {
   "cell_type": "code",
   "execution_count": 2,
   "id": "4f2f2693",
   "metadata": {},
   "outputs": [
    {
     "name": "stdout",
     "output_type": "stream",
     "text": [
      "    Comment ID                Author  Score  \\\n",
      "0      d1ltla1          hennogarvie1     87   \n",
      "1      d1lsyco                  ydtm     62   \n",
      "2      d1kr3qz  MatrixManAtYrService     47   \n",
      "3      d1lsnl5            KiyoTakeru     26   \n",
      "4      d1kv6kg         redlightsaber     26   \n",
      "..         ...                   ...    ...   \n",
      "894    d2n77t6                 mzial     10   \n",
      "895    d2na6wd       Future_Prophecy     10   \n",
      "896    d2mrhke           ForgingIron     10   \n",
      "897    d2msn0w          ZipTheZipper     10   \n",
      "898    d2n5rwz         manginahunter     10   \n",
      "\n",
      "                                                  Body         Publish Date  \n",
      "0    My Acestream: 9d1f2cf0afbd2531327997aece3cf4fd...  2016-04-01 23:48:43  \n",
      "1    I think that /u/nullc and /u/adam3us should pr...  2016-04-01 23:32:53  \n",
      "2    7th greatest market capitalisation: https://co...  2016-04-01 03:32:16  \n",
      "3                             Bitcoin mining software.  2016-04-01 23:25:18  \n",
      "4    Well, because thinblocks (in any implementatio...  2016-04-01 04:58:49  \n",
      "..                                                 ...                  ...  \n",
      "894  You still haven't defined spam. What's unsolic...  2016-04-30 19:45:40  \n",
      "895  Ver is quickly making himself irrelevant to Bi...  2016-04-30 22:26:42  \n",
      "896  I like some of Bernie's policies, but I really...  2016-04-30 09:06:49  \n",
      "897  That is just about the last place I'd expect t...  2016-04-30 09:37:43  \n",
      "898  I send 0 fee from wallet to wallet and it conf...  2016-04-30 18:02:42  \n",
      "\n",
      "[899 rows x 5 columns]\n"
     ]
    }
   ],
   "source": [
    "file='/Users/manbubble/Downloads/RedditAnalize/BERT_PRE/April2016size30.csv'\n",
    "comments_df=pd.read_csv(file)\n",
    "print(comments_df)"
   ]
  },
  {
   "cell_type": "code",
   "execution_count": 3,
   "id": "9b53899d",
   "metadata": {},
   "outputs": [
    {
     "data": {
      "text/plain": [
       "'Well, because thinblocks (in any implementation), are actually a real protocol improvement, while the relay network is a differemt piece of software which isn\\'t really bitcoin. \\n\\nAnd given that the #1 reason given for not raising the cap right now is \"decentralisation!\", I guess I\\'m just surprised people are citing the relay network as a reason for why thin blocks shouldn\\'t be implemented.\\n\\nWell, but of course a centralised solution is more efficient, just like PayPal doesn\\'t use the amount of computing power and electricity that the bitcoin network does. But that\\'s not really something bitcoin is supposed to be willing to compromise, is it?'"
      ]
     },
     "execution_count": 3,
     "metadata": {},
     "output_type": "execute_result"
    }
   ],
   "source": [
    "comments_df.iat[4,3]"
   ]
  },
  {
   "cell_type": "code",
   "execution_count": 4,
   "id": "79a21d9e",
   "metadata": {},
   "outputs": [],
   "source": [
    "df_4_3=comments_df.iat[4,3].replace('\\n','')"
   ]
  },
  {
   "cell_type": "code",
   "execution_count": 5,
   "id": "e26b2893",
   "metadata": {},
   "outputs": [
    {
     "name": "stderr",
     "output_type": "stream",
     "text": [
      "No model was supplied, defaulted to distilbert-base-uncased-finetuned-sst-2-english (https://huggingface.co/distilbert-base-uncased-finetuned-sst-2-english)\n"
     ]
    },
    {
     "data": {
      "application/vnd.jupyter.widget-view+json": {
       "model_id": "412c0e5ac9c34bee94bceacfe51ef35b",
       "version_major": 2,
       "version_minor": 0
      },
      "text/plain": [
       "Downloading:   0%|          | 0.00/629 [00:00<?, ?B/s]"
      ]
     },
     "metadata": {},
     "output_type": "display_data"
    },
    {
     "data": {
      "application/vnd.jupyter.widget-view+json": {
       "model_id": "f6de7d3b5618407cac987080f18351d6",
       "version_major": 2,
       "version_minor": 0
      },
      "text/plain": [
       "Downloading:   0%|          | 0.00/255M [00:00<?, ?B/s]"
      ]
     },
     "metadata": {},
     "output_type": "display_data"
    },
    {
     "data": {
      "application/vnd.jupyter.widget-view+json": {
       "model_id": "1976109f0c5c4939bc73fc7a3ccb58c5",
       "version_major": 2,
       "version_minor": 0
      },
      "text/plain": [
       "Downloading:   0%|          | 0.00/48.0 [00:00<?, ?B/s]"
      ]
     },
     "metadata": {},
     "output_type": "display_data"
    },
    {
     "data": {
      "application/vnd.jupyter.widget-view+json": {
       "model_id": "6ba966129f6b4c7b9ca7022c23ecfe59",
       "version_major": 2,
       "version_minor": 0
      },
      "text/plain": [
       "Downloading:   0%|          | 0.00/226k [00:00<?, ?B/s]"
      ]
     },
     "metadata": {},
     "output_type": "display_data"
    }
   ],
   "source": [
    "classifier = pipeline('sentiment-analysis')"
   ]
  },
  {
   "cell_type": "code",
   "execution_count": 6,
   "id": "aefe8d3d",
   "metadata": {},
   "outputs": [
    {
     "data": {
      "text/plain": [
       "[{'label': 'NEGATIVE', 'score': 0.9941974878311157}]"
      ]
     },
     "execution_count": 6,
     "metadata": {},
     "output_type": "execute_result"
    }
   ],
   "source": [
    "classifier(df_4_3)"
   ]
  },
  {
   "cell_type": "code",
   "execution_count": null,
   "id": "4442b00b",
   "metadata": {},
   "outputs": [],
   "source": []
  }
 ],
 "metadata": {
  "kernelspec": {
   "display_name": "Python 3 (ipykernel)",
   "language": "python",
   "name": "python3"
  },
  "language_info": {
   "codemirror_mode": {
    "name": "ipython",
    "version": 3
   },
   "file_extension": ".py",
   "mimetype": "text/x-python",
   "name": "python",
   "nbconvert_exporter": "python",
   "pygments_lexer": "ipython3",
   "version": "3.9.4"
  }
 },
 "nbformat": 4,
 "nbformat_minor": 5
}
