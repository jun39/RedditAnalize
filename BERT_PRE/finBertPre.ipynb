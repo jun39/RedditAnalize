{
 "cells": [
  {
   "cell_type": "code",
   "execution_count": 1,
   "id": "c00b483f",
   "metadata": {},
   "outputs": [],
   "source": [
    "import pandas as pd\n",
    "import glob"
   ]
  },
  {
   "cell_type": "code",
   "execution_count": 2,
   "id": "45d9c777",
   "metadata": {},
   "outputs": [
    {
     "data": {
      "text/plain": [
       "'I have two sons about that age, IÃ¢Â\\x80Â\\x99m going to have to post them investing in theyÃ¢Â\\x80Â\\x99re first gold or silver or bitcoin.'"
      ]
     },
     "execution_count": 2,
     "metadata": {},
     "output_type": "execute_result"
    }
   ],
   "source": [
    "csv_files='/Users/manbubble/Downloads/RedditAnalize/2021Oct_2018April/2021Oct2018April.csv'\n",
    "\n",
    "comments_df=pd.read_csv(csv_files,encoding=\"ISO-8859-1\")\n",
    "comments_df.iat[30000,1]"
   ]
  },
  {
   "cell_type": "code",
   "execution_count": 3,
   "id": "9570a24f",
   "metadata": {},
   "outputs": [],
   "source": [
    "comments_df=comments_df[0:38499]\n",
    "# 38499以下のやつはへんなやつだからいらない"
   ]
  },
  {
   "cell_type": "code",
   "execution_count": 4,
   "id": "b2280624",
   "metadata": {},
   "outputs": [],
   "source": [
    "comments_df['Publish Date'] = pd.to_datetime(comments_df['Publish Date'])\n",
    "comments_df.set_index('Publish Date',inplace=True)"
   ]
  },
  {
   "cell_type": "code",
   "execution_count": 5,
   "id": "88806231",
   "metadata": {},
   "outputs": [],
   "source": [
    "dateMax=comments_df.resample('D').max()"
   ]
  },
  {
   "cell_type": "code",
   "execution_count": 6,
   "id": "2b7f2d01",
   "metadata": {},
   "outputs": [
    {
     "data": {
      "text/html": [
       "<div>\n",
       "<style scoped>\n",
       "    .dataframe tbody tr th:only-of-type {\n",
       "        vertical-align: middle;\n",
       "    }\n",
       "\n",
       "    .dataframe tbody tr th {\n",
       "        vertical-align: top;\n",
       "    }\n",
       "\n",
       "    .dataframe thead th {\n",
       "        text-align: right;\n",
       "    }\n",
       "</style>\n",
       "<table border=\"1\" class=\"dataframe\">\n",
       "  <thead>\n",
       "    <tr style=\"text-align: right;\">\n",
       "      <th></th>\n",
       "      <th>Author</th>\n",
       "      <th>Body</th>\n",
       "      <th>Comment ID</th>\n",
       "      <th>Score</th>\n",
       "    </tr>\n",
       "    <tr>\n",
       "      <th>Publish Date</th>\n",
       "      <th></th>\n",
       "      <th></th>\n",
       "      <th></th>\n",
       "      <th></th>\n",
       "    </tr>\n",
       "  </thead>\n",
       "  <tbody>\n",
       "    <tr>\n",
       "      <th>2018-04-01</th>\n",
       "      <td>yParticle</td>\n",
       "      <td>nah it's one of them new-fangled ones, gotta p...</td>\n",
       "      <td>dwmnglp</td>\n",
       "      <td>541.0</td>\n",
       "    </tr>\n",
       "    <tr>\n",
       "      <th>2018-04-02</th>\n",
       "      <td>voluntaryistmitch</td>\n",
       "      <td>You should be free to make irreversible moneta...</td>\n",
       "      <td>dwoc9w8</td>\n",
       "      <td>289.0</td>\n",
       "    </tr>\n",
       "    <tr>\n",
       "      <th>2018-04-03</th>\n",
       "      <td>xanhugh</td>\n",
       "      <td>at this point, investing in bitcoin is probabl...</td>\n",
       "      <td>dwq9c0v</td>\n",
       "      <td>738.0</td>\n",
       "    </tr>\n",
       "    <tr>\n",
       "      <th>2018-04-04</th>\n",
       "      <td>xyzTr1LL</td>\n",
       "      <td>Ã¢ÂÂI get blood clots if I donÃ¢ÂÂt explai...</td>\n",
       "      <td>dwsn8d1</td>\n",
       "      <td>1414.0</td>\n",
       "    </tr>\n",
       "    <tr>\n",
       "      <th>2018-04-05</th>\n",
       "      <td>vizualb</td>\n",
       "      <td>lol\\n\\n1) start a fake website\\n\\n2) Collect m...</td>\n",
       "      <td>dwuq5rq</td>\n",
       "      <td>555.0</td>\n",
       "    </tr>\n",
       "    <tr>\n",
       "      <th>...</th>\n",
       "      <td>...</td>\n",
       "      <td>...</td>\n",
       "      <td>...</td>\n",
       "      <td>...</td>\n",
       "    </tr>\n",
       "    <tr>\n",
       "      <th>2021-10-27</th>\n",
       "      <td>xd_melchior</td>\n",
       "      <td>r/technology hates Bitcoin so much itÃ¢ÂÂs g...</td>\n",
       "      <td>hi8zca3</td>\n",
       "      <td>6107.0</td>\n",
       "    </tr>\n",
       "    <tr>\n",
       "      <th>2021-10-28</th>\n",
       "      <td>timbojimbojones</td>\n",
       "      <td>tldr; A Bitcoin miner received 50 BTC on May 1...</td>\n",
       "      <td>hidogvr</td>\n",
       "      <td>982.0</td>\n",
       "    </tr>\n",
       "    <tr>\n",
       "      <th>2021-10-29</th>\n",
       "      <td>veggiecrunchwrap</td>\n",
       "      <td>they use a TON of energy. like a lot. bitcoin ...</td>\n",
       "      <td>hiiefxs</td>\n",
       "      <td>703.0</td>\n",
       "    </tr>\n",
       "    <tr>\n",
       "      <th>2021-10-30</th>\n",
       "      <td>xmlify</td>\n",
       "      <td>u/buttfarm69, u/jsmar18, u/bye_triangle\\n\\nbit...</td>\n",
       "      <td>hin43dn</td>\n",
       "      <td>1148.0</td>\n",
       "    </tr>\n",
       "    <tr>\n",
       "      <th>2021-10-31</th>\n",
       "      <td>rapsacw62</td>\n",
       "      <td>u sure ur not a bitcoin miner ?</td>\n",
       "      <td>hirp660</td>\n",
       "      <td>1203.0</td>\n",
       "    </tr>\n",
       "  </tbody>\n",
       "</table>\n",
       "<p>1310 rows × 4 columns</p>\n",
       "</div>"
      ],
      "text/plain": [
       "                         Author  \\\n",
       "Publish Date                      \n",
       "2018-04-01            yParticle   \n",
       "2018-04-02    voluntaryistmitch   \n",
       "2018-04-03              xanhugh   \n",
       "2018-04-04             xyzTr1LL   \n",
       "2018-04-05              vizualb   \n",
       "...                         ...   \n",
       "2021-10-27          xd_melchior   \n",
       "2021-10-28      timbojimbojones   \n",
       "2021-10-29     veggiecrunchwrap   \n",
       "2021-10-30               xmlify   \n",
       "2021-10-31            rapsacw62   \n",
       "\n",
       "                                                           Body Comment ID  \\\n",
       "Publish Date                                                                 \n",
       "2018-04-01    nah it's one of them new-fangled ones, gotta p...    dwmnglp   \n",
       "2018-04-02    You should be free to make irreversible moneta...    dwoc9w8   \n",
       "2018-04-03    at this point, investing in bitcoin is probabl...    dwq9c0v   \n",
       "2018-04-04    Ã¢ÂÂI get blood clots if I donÃ¢ÂÂt explai...    dwsn8d1   \n",
       "2018-04-05    lol\\n\\n1) start a fake website\\n\\n2) Collect m...    dwuq5rq   \n",
       "...                                                         ...        ...   \n",
       "2021-10-27    r/technology hates Bitcoin so much itÃ¢ÂÂs g...    hi8zca3   \n",
       "2021-10-28    tldr; A Bitcoin miner received 50 BTC on May 1...    hidogvr   \n",
       "2021-10-29    they use a TON of energy. like a lot. bitcoin ...    hiiefxs   \n",
       "2021-10-30    u/buttfarm69, u/jsmar18, u/bye_triangle\\n\\nbit...    hin43dn   \n",
       "2021-10-31                      u sure ur not a bitcoin miner ?    hirp660   \n",
       "\n",
       "               Score  \n",
       "Publish Date          \n",
       "2018-04-01     541.0  \n",
       "2018-04-02     289.0  \n",
       "2018-04-03     738.0  \n",
       "2018-04-04    1414.0  \n",
       "2018-04-05     555.0  \n",
       "...              ...  \n",
       "2021-10-27    6107.0  \n",
       "2021-10-28     982.0  \n",
       "2021-10-29     703.0  \n",
       "2021-10-30    1148.0  \n",
       "2021-10-31    1203.0  \n",
       "\n",
       "[1310 rows x 4 columns]"
      ]
     },
     "execution_count": 6,
     "metadata": {},
     "output_type": "execute_result"
    }
   ],
   "source": [
    "dateMax"
   ]
  },
  {
   "cell_type": "code",
   "execution_count": 10,
   "id": "a93de5a3",
   "metadata": {},
   "outputs": [
    {
     "data": {
      "text/plain": [
       "'Ã¢Â\\x80Â\\x9cI get blood clots if I donÃ¢Â\\x80Â\\x99t explain Bitcoin to a woman.Ã¢Â\\x80Â\\x9d  Had me crying at my desk. Lol.'"
      ]
     },
     "execution_count": 10,
     "metadata": {},
     "output_type": "execute_result"
    }
   ],
   "source": [
    "dateMax.iat[3,1]"
   ]
  },
  {
   "cell_type": "code",
   "execution_count": 7,
   "id": "bb70c0b4",
   "metadata": {},
   "outputs": [],
   "source": [
    "# datemaxのやつ\n",
    "import numpy as np\n",
    "sentencesList=[]\n",
    "for i in range(0,len(dateMax)):\n",
    "    string=str(dateMax.iat[i,1])\n",
    "    string=string.replace('\\n','')\n",
    "    string=string[0:512]\n",
    "    sentencesList.append(string)"
   ]
  },
  {
   "cell_type": "code",
   "execution_count": 8,
   "id": "3d3a42d1",
   "metadata": {},
   "outputs": [],
   "source": [
    "import pickle\n",
    "from transformers import AutoTokenizer, AutoModelForSequenceClassification\n",
    "  \n",
    "tokenizer = AutoTokenizer.from_pretrained(\"yiyanghkust/finbert-tone\",num_labels=3)\n",
    "\n",
    "model = AutoModelForSequenceClassification.from_pretrained(\"yiyanghkust/finbert-tone\")"
   ]
  },
  {
   "cell_type": "code",
   "execution_count": null,
   "id": "34c9bfed",
   "metadata": {},
   "outputs": [],
   "source": [
    "inputsMax = tokenizer(sentencesList, return_tensors=\"pt\", padding=True)\n",
    "outputsMax = model(**inputsMax)[0]\n",
    "# これで保存\n",
    "with open(\"Maxmodel.pickle\", mode=\"wb\") as f:\n",
    "    pickle.dump(outputsMax, f)"
   ]
  },
  {
   "cell_type": "code",
   "execution_count": null,
   "id": "6b34c7aa",
   "metadata": {},
   "outputs": [],
   "source": [
    "d = {}\n",
    "# これで読み込み\n",
    "with open(\"Maxmodel..pickle\", mode=\"rb\") as f:\n",
    "    d = pickle.load(f)"
   ]
  },
  {
   "cell_type": "code",
   "execution_count": null,
   "id": "49053b86",
   "metadata": {},
   "outputs": [],
   "source": [
    "sentiment=[]\n",
    "# これでポジねが分析\n",
    "labels = {0:'neutral', 1:'positive',2:'negative'}\n",
    "for idx, sent in enumerate(sentencesList):\n",
    "    sentiment.append(labels[np.argmax(d.detach().numpy()[idx])])\n",
    "\n",
    "# 100個で１分くらいかかる\n",
    "# dがモデルのアウトプット"
   ]
  },
  {
   "cell_type": "code",
   "execution_count": null,
   "id": "01e2badf",
   "metadata": {},
   "outputs": [],
   "source": [
    "sentiment"
   ]
  },
  {
   "cell_type": "code",
   "execution_count": 5,
   "id": "761680b5",
   "metadata": {},
   "outputs": [],
   "source": [
    "import numpy as np\n",
    "sentencesList=[]\n",
    "for i in range(0,len(comments_df)):\n",
    "    string=str(comments_df.iat[i,1])\n",
    "    string=string.replace('\\n','')\n",
    "    string=string[0:512]\n",
    "    sentencesList.append(string)"
   ]
  },
  {
   "cell_type": "code",
   "execution_count": 6,
   "id": "7a995860",
   "metadata": {},
   "outputs": [],
   "source": [
    "inputs = tokenizer(sentencesList[0:10], return_tensors=\"pt\", padding=True)\n",
    "outputs = model(**inputs)[0]\n"
   ]
  },
  {
   "cell_type": "code",
   "execution_count": 7,
   "id": "63f3cb0f",
   "metadata": {},
   "outputs": [],
   "source": [
    "import pickle\n",
    "# これで保存\n",
    "with open(\"sample.pickle\", mode=\"wb\") as f:\n",
    "    pickle.dump(outputs, f)"
   ]
  },
  {
   "cell_type": "code",
   "execution_count": 8,
   "id": "02f1a234",
   "metadata": {},
   "outputs": [],
   "source": [
    "d = {}\n",
    "# これで読み込み\n",
    "with open(\"sample.pickle\", mode=\"rb\") as f:\n",
    "    d = pickle.load(f)"
   ]
  },
  {
   "cell_type": "code",
   "execution_count": 9,
   "id": "f53e8105",
   "metadata": {},
   "outputs": [],
   "source": [
    "sentiment=[]\n",
    "# これでポジねが分析\n",
    "labels = {0:'neutral', 1:'positive',2:'negative'}\n",
    "for idx, sent in enumerate(sentencesList[0:10]):\n",
    "    sentiment.append(labels[np.argmax(d.detach().numpy()[idx])])\n",
    "\n",
    "# 100個で１分くらいかかる\n",
    "# dがモデルのアウトプット"
   ]
  },
  {
   "cell_type": "code",
   "execution_count": 10,
   "id": "1405419e",
   "metadata": {},
   "outputs": [
    {
     "data": {
      "text/plain": [
       "['neutral',\n",
       " 'neutral',\n",
       " 'neutral',\n",
       " 'neutral',\n",
       " 'neutral',\n",
       " 'positive',\n",
       " 'neutral',\n",
       " 'neutral',\n",
       " 'neutral',\n",
       " 'neutral']"
      ]
     },
     "execution_count": 10,
     "metadata": {},
     "output_type": "execute_result"
    }
   ],
   "source": [
    "sentiment"
   ]
  },
  {
   "cell_type": "code",
   "execution_count": 12,
   "id": "47232d5b",
   "metadata": {},
   "outputs": [
    {
     "ename": "ValueError",
     "evalue": "Length of values (20) does not match length of index (38283)",
     "output_type": "error",
     "traceback": [
      "\u001b[0;31m---------------------------------------------------------------------------\u001b[0m",
      "\u001b[0;31mValueError\u001b[0m                                Traceback (most recent call last)",
      "\u001b[0;32m/var/folders/82/60v49wn11l51dmpxrl2yk7m80000gn/T/ipykernel_77886/1486981758.py\u001b[0m in \u001b[0;36m<module>\u001b[0;34m\u001b[0m\n\u001b[0;32m----> 1\u001b[0;31m \u001b[0mcomments_df\u001b[0m\u001b[0;34m[\u001b[0m\u001b[0;34m'sentiment'\u001b[0m\u001b[0;34m]\u001b[0m\u001b[0;34m=\u001b[0m\u001b[0msentiment\u001b[0m\u001b[0;34m\u001b[0m\u001b[0;34m\u001b[0m\u001b[0m\n\u001b[0m",
      "\u001b[0;32m/usr/local/lib/python3.9/site-packages/pandas/core/frame.py\u001b[0m in \u001b[0;36m__setitem__\u001b[0;34m(self, key, value)\u001b[0m\n\u001b[1;32m   3610\u001b[0m         \u001b[0;32melse\u001b[0m\u001b[0;34m:\u001b[0m\u001b[0;34m\u001b[0m\u001b[0;34m\u001b[0m\u001b[0m\n\u001b[1;32m   3611\u001b[0m             \u001b[0;31m# set column\u001b[0m\u001b[0;34m\u001b[0m\u001b[0;34m\u001b[0m\u001b[0;34m\u001b[0m\u001b[0m\n\u001b[0;32m-> 3612\u001b[0;31m             \u001b[0mself\u001b[0m\u001b[0;34m.\u001b[0m\u001b[0m_set_item\u001b[0m\u001b[0;34m(\u001b[0m\u001b[0mkey\u001b[0m\u001b[0;34m,\u001b[0m \u001b[0mvalue\u001b[0m\u001b[0;34m)\u001b[0m\u001b[0;34m\u001b[0m\u001b[0;34m\u001b[0m\u001b[0m\n\u001b[0m\u001b[1;32m   3613\u001b[0m \u001b[0;34m\u001b[0m\u001b[0m\n\u001b[1;32m   3614\u001b[0m     \u001b[0;32mdef\u001b[0m \u001b[0m_setitem_slice\u001b[0m\u001b[0;34m(\u001b[0m\u001b[0mself\u001b[0m\u001b[0;34m,\u001b[0m \u001b[0mkey\u001b[0m\u001b[0;34m:\u001b[0m \u001b[0mslice\u001b[0m\u001b[0;34m,\u001b[0m \u001b[0mvalue\u001b[0m\u001b[0;34m)\u001b[0m\u001b[0;34m:\u001b[0m\u001b[0;34m\u001b[0m\u001b[0;34m\u001b[0m\u001b[0m\n",
      "\u001b[0;32m/usr/local/lib/python3.9/site-packages/pandas/core/frame.py\u001b[0m in \u001b[0;36m_set_item\u001b[0;34m(self, key, value)\u001b[0m\n\u001b[1;32m   3782\u001b[0m         \u001b[0mensure\u001b[0m \u001b[0mhomogeneity\u001b[0m\u001b[0;34m.\u001b[0m\u001b[0;34m\u001b[0m\u001b[0;34m\u001b[0m\u001b[0m\n\u001b[1;32m   3783\u001b[0m         \"\"\"\n\u001b[0;32m-> 3784\u001b[0;31m         \u001b[0mvalue\u001b[0m \u001b[0;34m=\u001b[0m \u001b[0mself\u001b[0m\u001b[0;34m.\u001b[0m\u001b[0m_sanitize_column\u001b[0m\u001b[0;34m(\u001b[0m\u001b[0mvalue\u001b[0m\u001b[0;34m)\u001b[0m\u001b[0;34m\u001b[0m\u001b[0;34m\u001b[0m\u001b[0m\n\u001b[0m\u001b[1;32m   3785\u001b[0m \u001b[0;34m\u001b[0m\u001b[0m\n\u001b[1;32m   3786\u001b[0m         if (\n",
      "\u001b[0;32m/usr/local/lib/python3.9/site-packages/pandas/core/frame.py\u001b[0m in \u001b[0;36m_sanitize_column\u001b[0;34m(self, value)\u001b[0m\n\u001b[1;32m   4507\u001b[0m \u001b[0;34m\u001b[0m\u001b[0m\n\u001b[1;32m   4508\u001b[0m         \u001b[0;32mif\u001b[0m \u001b[0mis_list_like\u001b[0m\u001b[0;34m(\u001b[0m\u001b[0mvalue\u001b[0m\u001b[0;34m)\u001b[0m\u001b[0;34m:\u001b[0m\u001b[0;34m\u001b[0m\u001b[0;34m\u001b[0m\u001b[0m\n\u001b[0;32m-> 4509\u001b[0;31m             \u001b[0mcom\u001b[0m\u001b[0;34m.\u001b[0m\u001b[0mrequire_length_match\u001b[0m\u001b[0;34m(\u001b[0m\u001b[0mvalue\u001b[0m\u001b[0;34m,\u001b[0m \u001b[0mself\u001b[0m\u001b[0;34m.\u001b[0m\u001b[0mindex\u001b[0m\u001b[0;34m)\u001b[0m\u001b[0;34m\u001b[0m\u001b[0;34m\u001b[0m\u001b[0m\n\u001b[0m\u001b[1;32m   4510\u001b[0m         \u001b[0;32mreturn\u001b[0m \u001b[0msanitize_array\u001b[0m\u001b[0;34m(\u001b[0m\u001b[0mvalue\u001b[0m\u001b[0;34m,\u001b[0m \u001b[0mself\u001b[0m\u001b[0;34m.\u001b[0m\u001b[0mindex\u001b[0m\u001b[0;34m,\u001b[0m \u001b[0mcopy\u001b[0m\u001b[0;34m=\u001b[0m\u001b[0;32mTrue\u001b[0m\u001b[0;34m,\u001b[0m \u001b[0mallow_2d\u001b[0m\u001b[0;34m=\u001b[0m\u001b[0;32mTrue\u001b[0m\u001b[0;34m)\u001b[0m\u001b[0;34m\u001b[0m\u001b[0;34m\u001b[0m\u001b[0m\n\u001b[1;32m   4511\u001b[0m \u001b[0;34m\u001b[0m\u001b[0m\n",
      "\u001b[0;32m/usr/local/lib/python3.9/site-packages/pandas/core/common.py\u001b[0m in \u001b[0;36mrequire_length_match\u001b[0;34m(data, index)\u001b[0m\n\u001b[1;32m    529\u001b[0m     \"\"\"\n\u001b[1;32m    530\u001b[0m     \u001b[0;32mif\u001b[0m \u001b[0mlen\u001b[0m\u001b[0;34m(\u001b[0m\u001b[0mdata\u001b[0m\u001b[0;34m)\u001b[0m \u001b[0;34m!=\u001b[0m \u001b[0mlen\u001b[0m\u001b[0;34m(\u001b[0m\u001b[0mindex\u001b[0m\u001b[0;34m)\u001b[0m\u001b[0;34m:\u001b[0m\u001b[0;34m\u001b[0m\u001b[0;34m\u001b[0m\u001b[0m\n\u001b[0;32m--> 531\u001b[0;31m         raise ValueError(\n\u001b[0m\u001b[1;32m    532\u001b[0m             \u001b[0;34m\"Length of values \"\u001b[0m\u001b[0;34m\u001b[0m\u001b[0;34m\u001b[0m\u001b[0m\n\u001b[1;32m    533\u001b[0m             \u001b[0;34mf\"({len(data)}) \"\u001b[0m\u001b[0;34m\u001b[0m\u001b[0;34m\u001b[0m\u001b[0m\n",
      "\u001b[0;31mValueError\u001b[0m: Length of values (20) does not match length of index (38283)"
     ]
    }
   ],
   "source": [
    "comments_df['sentiment']=sentiment"
   ]
  },
  {
   "cell_type": "code",
   "execution_count": null,
   "id": "110fde19",
   "metadata": {},
   "outputs": [],
   "source": []
  }
 ],
 "metadata": {
  "kernelspec": {
   "display_name": "Python 3 (ipykernel)",
   "language": "python",
   "name": "python3"
  },
  "language_info": {
   "codemirror_mode": {
    "name": "ipython",
    "version": 3
   },
   "file_extension": ".py",
   "mimetype": "text/x-python",
   "name": "python",
   "nbconvert_exporter": "python",
   "pygments_lexer": "ipython3",
   "version": "3.9.4"
  }
 },
 "nbformat": 4,
 "nbformat_minor": 5
}
